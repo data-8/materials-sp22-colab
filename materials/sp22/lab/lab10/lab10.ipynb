{
 "cells": [
  {
   "cell_type": "code",
   "execution_count": null,
   "id": "b522ba43",
   "metadata": {
    "deletable": false,
    "editable": false
   },
   "outputs": [],
   "source": [
    "from google.colab import drive\n",
    "drive.mount('/content/gdrive', force_remount=True)\n",
    "\n",
    "!mkdir -p '/content/gdrive/My Drive/colab-materials-data8-notebooks/'\n",
    "!git clone https://github.com/data-8/materials-sp22-colab '/content/gdrive/My Drive/colab-materials-data8-notebooks/materials-sp22-colab/'\n",
    "\n",
    "%pip install otter-grader==4.3.1\n",
    "%cd /content/gdrive/MyDrive/colab-materials-data8-notebooks/materials-sp22-colab/materials/sp22/lab/lab10/\n",
    "# Initialize Otter\n",
    "import otter\n",
    "grader = otter.Notebook(\"lab10.ipynb\")"
   ]
  },
  {
   "cell_type": "markdown",
   "id": "74b5d762",
   "metadata": {},
   "source": [
    "# Lab 10: Conditional Probability\n",
    "Welcome to Lab 10!\n",
    "\n",
    "This lab is an introduction to conditional probabilities.  \n",
    "\n",
    "The lab includes a visualization called an *icon array*. It's meant to be an instructional part of the lab to help build intuitions about conditional probability.  These visualizations do not appear in the textbook and will not appear on any exam.\n",
    "\n",
    "\n",
    "**Submission**: Once you\u2019re finished, run all cells besides the last one, select File > Save Notebook, and then execute the final cell. Then submit the downloaded zip file, that includes your notebook,  according to your instructor's directions.\n",
    "\n",
    "*This content is protected and may not be shared, uploaded, or distributed.*"
   ]
  },
  {
   "cell_type": "code",
   "execution_count": null,
   "id": "7eb8ea0b",
   "metadata": {
    "execution": {
     "iopub.execute_input": "2022-04-26T09:18:35.397341Z",
     "iopub.status.busy": "2022-04-26T09:18:35.396941Z",
     "iopub.status.idle": "2022-04-26T09:18:37.075751Z",
     "shell.execute_reply": "2022-04-26T09:18:37.074833Z"
    }
   },
   "outputs": [],
   "source": [
    "# Run this cell to set up the notebook, but please don't change it.\n",
    "\n",
    "# These lines import the Numpy and Datascience modules.\n",
    "import numpy as np\n",
    "from datascience import *\n",
    "\n",
    "# These lines do some fancy plotting magic.\n",
    "import matplotlib\n",
    "%matplotlib inline\n",
    "import matplotlib.pyplot as plt\n",
    "plt.style.use('fivethirtyeight')\n",
    "import warnings\n",
    "warnings.simplefilter('ignore')\n",
    "\n",
    "# This line loads the visualization code for this lab.\n",
    "import visualizations\n",
    "\n",
    "import d8error"
   ]
  },
  {
   "cell_type": "markdown",
   "id": "75438bed",
   "metadata": {},
   "source": [
    "# 1. What is conditional probability good for?\n",
    "\n",
    "Suppose we have a known population, like all dogs in California.  So far, we've seen three ways of *predicting* something about an individual in that population, given incomplete knowledge about the identity of the individual:\n",
    "\n",
    "* If we know nothing about the individual dog, we could predict that its speed is the *average* or *median* of all the speeds in the population.\n",
    "* If we know the dog's height but not its speed, we could use *linear regression* to predict its speed from its height.  The resulting prediction is still imperfect, but it might be more accurate than the population average.\n",
    "* If we know the dog's breed, height, and age, we could use *nearest-neighbor classification* to predict its speed by comparing it to a collection of dogs with known speed.\n",
    "\n",
    "\n",
    "We can also compute conditional probabilities to make predictions about individuals or events. This technique is different from the previous methods we\u2019ve examined because \n",
    "\n",
    "1. our prediction for each outcome is described by a probability, and \n",
    "2. each probability can be exactly calculated from assumptions, as opposed to estimated from data."
   ]
  },
  {
   "cell_type": "markdown",
   "id": "d1c372e4",
   "metadata": {},
   "source": [
    "# 2. Icon arrays\n",
    "Parts 3 and 4 of this lab work with a more complex example about disease, but first, let's start with a simple example.\n",
    "\n",
    "Imagine you and Samantha are playing a game in which you are given a marble and tasked to determine the marble's texture and size. You don't know anything about the marble you're given, but you know that Samantha drew it **uniformly at random** from a bag that contained the following marbles:\n",
    "* 4 large shiny marbles,\n",
    "* 1 large dull marble,\n",
    "* 6 small shiny marbles,\n",
    "* 2 small dull marbles."
   ]
  },
  {
   "cell_type": "markdown",
   "id": "2284a8bc",
   "metadata": {},
   "source": [
    "**Question 2.0.1.** Knowing only what we've told you so far, what's the probability that the marble you're given was a large shiny marble?\n"
   ]
  },
  {
   "cell_type": "code",
   "execution_count": null,
   "id": "e4667ab1",
   "metadata": {
    "deletable": false,
    "execution": {
     "iopub.execute_input": "2022-04-26T09:18:37.080456Z",
     "iopub.status.busy": "2022-04-26T09:18:37.080205Z",
     "iopub.status.idle": "2022-04-26T09:18:37.084713Z",
     "shell.execute_reply": "2022-04-26T09:18:37.083778Z"
    },
    "tags": []
   },
   "outputs": [],
   "source": [
    "probability_large_shiny = ..."
   ]
  },
  {
   "cell_type": "code",
   "execution_count": null,
   "id": "76625272",
   "metadata": {
    "deletable": false,
    "editable": false
   },
   "outputs": [],
   "source": [
    "grader.check(\"q2_0_1\")"
   ]
  },
  {
   "cell_type": "markdown",
   "id": "8b2e351a",
   "metadata": {},
   "source": [
    "Here's a table with those marbles:"
   ]
  },
  {
   "cell_type": "code",
   "execution_count": null,
   "id": "0c8eb27c",
   "metadata": {
    "execution": {
     "iopub.execute_input": "2022-04-26T09:18:37.112221Z",
     "iopub.status.busy": "2022-04-26T09:18:37.111417Z",
     "iopub.status.idle": "2022-04-26T09:18:37.122472Z",
     "shell.execute_reply": "2022-04-26T09:18:37.121585Z"
    }
   },
   "outputs": [],
   "source": [
    "marbles = Table.read_table(\"marbles.csv\")\n",
    "marbles.show()"
   ]
  },
  {
   "cell_type": "markdown",
   "id": "98fc7f68",
   "metadata": {},
   "source": [
    "Here are the counts of each type of marble in a pivot table."
   ]
  },
  {
   "cell_type": "code",
   "execution_count": null,
   "id": "54b5c0e2",
   "metadata": {
    "execution": {
     "iopub.execute_input": "2022-04-26T09:18:37.125900Z",
     "iopub.status.busy": "2022-04-26T09:18:37.125676Z",
     "iopub.status.idle": "2022-04-26T09:18:37.133616Z",
     "shell.execute_reply": "2022-04-26T09:18:37.132823Z"
    }
   },
   "outputs": [],
   "source": [
    "marbles.pivot('surface', 'size')"
   ]
  },
  {
   "cell_type": "markdown",
   "id": "f78fed41",
   "metadata": {},
   "source": [
    "Here are all the different combinations of surface and size, with the count for each surface-size combination. Each type of marble appears in its own row."
   ]
  },
  {
   "cell_type": "code",
   "execution_count": null,
   "id": "73e6e2c7",
   "metadata": {
    "execution": {
     "iopub.execute_input": "2022-04-26T09:18:37.155476Z",
     "iopub.status.busy": "2022-04-26T09:18:37.155144Z",
     "iopub.status.idle": "2022-04-26T09:18:37.162049Z",
     "shell.execute_reply": "2022-04-26T09:18:37.161338Z"
    }
   },
   "outputs": [],
   "source": [
    "marbles.group(['surface', 'size'])"
   ]
  },
  {
   "cell_type": "markdown",
   "id": "096db920",
   "metadata": {},
   "source": [
    "We've included some code to display something called an *icon array*.  The functions in the cell below create icon arrays from various kinds of tables. Don't worry about understanding the code; just run this cell.\n",
    "\n",
    "**NOTE:** You may ignore the the y-axis labels. Just remember that each box represents 1 marble. "
   ]
  },
  {
   "cell_type": "code",
   "execution_count": null,
   "id": "0dfbd58d",
   "metadata": {
    "execution": {
     "iopub.execute_input": "2022-04-26T09:18:37.166565Z",
     "iopub.status.busy": "2022-04-26T09:18:37.166334Z",
     "iopub.status.idle": "2022-04-26T09:18:37.172110Z",
     "shell.execute_reply": "2022-04-26T09:18:37.171384Z"
    }
   },
   "outputs": [],
   "source": [
    "# Run this cell.\n",
    "\n",
    "#######################################################################\n",
    "# The functions you'll need to actually use are in here.  Each is a\n",
    "# way of making an icon array from a differently-formatted table.\n",
    "#######################################################################\n",
    "\n",
    "def display_icon_array(table, groups, individuals_name):\n",
    "    \"\"\"\n",
    "    Given a table and some columns to group it on, displays an icon array\n",
    "    of the groups.\n",
    "    \n",
    "    groups should be an array of labels of columns in table.\n",
    "    \n",
    "    individuals_name is your name for the individual rows of table.\n",
    "    For example, if we're talking about a population of people,\n",
    "    individuals_name should be \"people\".\n",
    "    \n",
    "    For example:\n",
    "    \n",
    "    display_icon_array(marbles, [\"surface\", \"size\"], \"marbles\")\n",
    "    \"\"\"\n",
    "    display_grouped_icon_array(table.group(groups), individuals_name)\n",
    "\n",
    "def display_grouped_icon_array(grouped_data, individuals_name):\n",
    "    \"\"\"\n",
    "    Given a table with counts for data grouped by 1 or more categories,\n",
    "    displays an icon array of the groups represented in the table.\n",
    "    \n",
    "    grouped_data should be a table of frequencies or counts, such as\n",
    "    a table created by calling the groups method on some table.\n",
    "    \n",
    "    individuals_name is your name for the individual members of the\n",
    "    dataset.  For example, if we're talking about a population of\n",
    "    people, individuals_name should be \"people\".\n",
    "    \n",
    "    For example:\n",
    "    \n",
    "    display_grouped_icon_array(marbles.group([\"surface\", \"size\"]), \"marbles\")\n",
    "    \"\"\"\n",
    "    visualizations.display_combinations(grouped_data, individuals_name=individuals_name)\n",
    "\n",
    "def display_crosstab_icon_array(crosstabulation, x_label, individuals_name):\n",
    "    \"\"\"\n",
    "    Given a crosstabulation table, displays an icon array of the groups\n",
    "    represented in the table.\n",
    "    \n",
    "    crosstabulation should be a table of frequencies or counts created by\n",
    "    calling pivot on some table.\n",
    "    \n",
    "    x_label should be the label of the categories listed as columns (on\n",
    "    the \"x axis\" when the crosstabulation table is printed).\n",
    "    \n",
    "    individuals_name is your name for the individual members of the\n",
    "    dataset.  For example, if we're talking about a population of\n",
    "    people, individuals_name should be \"people\".\n",
    "    \n",
    "    For example:\n",
    "    \n",
    "    display_crosstab_icon_array(marbles.pivot(\"surface\", \"size\"), \"surface\", \"marbles\")\n",
    "    \"\"\"\n",
    "    display_grouped_icon_array(visualizations.pivot_table_to_groups(crosstabulation, x_label), individuals_name)"
   ]
  },
  {
   "cell_type": "markdown",
   "id": "3a478f2c",
   "metadata": {},
   "source": [
    "Here's an icon array of all the marbles, grouped by surface and size:"
   ]
  },
  {
   "cell_type": "code",
   "execution_count": null,
   "id": "eb15f816",
   "metadata": {
    "execution": {
     "iopub.execute_input": "2022-04-26T09:18:37.175958Z",
     "iopub.status.busy": "2022-04-26T09:18:37.175722Z",
     "iopub.status.idle": "2022-04-26T09:18:37.531356Z",
     "shell.execute_reply": "2022-04-26T09:18:37.530513Z"
    },
    "scrolled": true
   },
   "outputs": [],
   "source": [
    "# Run this cell.\n",
    "display_grouped_icon_array(marbles.group([\"surface\", \"size\"]), \"marble(s)\")"
   ]
  },
  {
   "cell_type": "markdown",
   "id": "cac1d4c3",
   "metadata": {},
   "source": [
    "You should imagine that the marble you've been given was selected by a random draw from these 13 icons.\n",
    "\n",
    "The following is an icon array of the marbles, grouped **only by their surface (shiny/dull)**."
   ]
  },
  {
   "cell_type": "code",
   "execution_count": null,
   "id": "d43d9309",
   "metadata": {
    "execution": {
     "iopub.execute_input": "2022-04-26T09:18:37.534741Z",
     "iopub.status.busy": "2022-04-26T09:18:37.534203Z",
     "iopub.status.idle": "2022-04-26T09:18:37.843891Z",
     "shell.execute_reply": "2022-04-26T09:18:37.842912Z"
    }
   },
   "outputs": [],
   "source": [
    "display_grouped_icon_array(marbles.group(\"surface\"), \"marble(s)\")"
   ]
  },
  {
   "cell_type": "markdown",
   "id": "e374d43d",
   "metadata": {},
   "source": [
    "Knowing nothing else about the marble, it's equally likely to be any of the marbles depicted above; this is because we've assumed that the marble is selected **uniformly at random** from the bag.\n",
    "\n",
    "**Question 2.0.2.** What's the probability that you've been given a shiny marble?  Calculate this by hand (using Python for arithmetic) by looking at your icon array.\n"
   ]
  },
  {
   "cell_type": "code",
   "execution_count": null,
   "id": "248c4fb9",
   "metadata": {
    "deletable": false,
    "execution": {
     "iopub.execute_input": "2022-04-26T09:18:37.847523Z",
     "iopub.status.busy": "2022-04-26T09:18:37.847272Z",
     "iopub.status.idle": "2022-04-26T09:18:37.850928Z",
     "shell.execute_reply": "2022-04-26T09:18:37.850222Z"
    },
    "tags": []
   },
   "outputs": [],
   "source": [
    "probability_shiny = ..."
   ]
  },
  {
   "cell_type": "code",
   "execution_count": null,
   "id": "8d820bd6",
   "metadata": {
    "deletable": false,
    "editable": false
   },
   "outputs": [],
   "source": [
    "grader.check(\"q2_0_2\")"
   ]
  },
  {
   "cell_type": "markdown",
   "id": "72047147",
   "metadata": {},
   "source": [
    "## 2.1. Conditional probability\n",
    "\n",
    "Suppose you overhear Samantha say that you were given a large marble. Does this somehow change the chance that your marble is shiny?  Let's find out.\n",
    "\n",
    "Go back to the full icon array, displayed below for convenience."
   ]
  },
  {
   "cell_type": "code",
   "execution_count": null,
   "id": "251c7a88",
   "metadata": {
    "execution": {
     "iopub.execute_input": "2022-04-26T09:18:37.866617Z",
     "iopub.status.busy": "2022-04-26T09:18:37.865890Z",
     "iopub.status.idle": "2022-04-26T09:18:38.204088Z",
     "shell.execute_reply": "2022-04-26T09:18:38.203311Z"
    }
   },
   "outputs": [],
   "source": [
    "display_grouped_icon_array(marbles.group([\"surface\", \"size\"]), \"marble(s)\")"
   ]
  },
  {
   "cell_type": "markdown",
   "id": "9ccb21e4",
   "metadata": {},
   "source": [
    "In question 2.0.2, we assumed that the marble you were given was equally likely to be any of the marbles, simply because we didn't know any better.  That's why we looked at all the marbles to compute the probability that your marble was shiny.\n",
    "\n",
    "But assuming that you've been given a large marble, we can eliminate some of these possibilities. In particular, you can't have been given a small shiny marble or a small dull marble.\n",
    "\n",
    "You're still equally likely to have been given any of the remaining marbles, because you don't know any other information.  So here's an icon array of those remaining possibilities:"
   ]
  },
  {
   "cell_type": "code",
   "execution_count": null,
   "id": "19faad49",
   "metadata": {
    "execution": {
     "iopub.execute_input": "2022-04-26T09:18:38.207245Z",
     "iopub.status.busy": "2022-04-26T09:18:38.207005Z",
     "iopub.status.idle": "2022-04-26T09:18:38.477812Z",
     "shell.execute_reply": "2022-04-26T09:18:38.477031Z"
    }
   },
   "outputs": [],
   "source": [
    "# Just run this cell.\n",
    "display_grouped_icon_array(marbles.where(\"size\", \"large\").group(\"surface\"), \"large marble(s)\")"
   ]
  },
  {
   "cell_type": "markdown",
   "id": "9b26b915",
   "metadata": {},
   "source": [
    "**Question 2.1.1.** What's the probability Samantha gives you a shiny marble, knowing that she gave you a large marble? \n",
    "\n",
    "*Hint: Use the icon array.*\n"
   ]
  },
  {
   "cell_type": "code",
   "execution_count": null,
   "id": "ccc3ed7f",
   "metadata": {
    "deletable": false,
    "execution": {
     "iopub.execute_input": "2022-04-26T09:18:38.481133Z",
     "iopub.status.busy": "2022-04-26T09:18:38.480910Z",
     "iopub.status.idle": "2022-04-26T09:18:38.485172Z",
     "shell.execute_reply": "2022-04-26T09:18:38.484307Z"
    },
    "tags": []
   },
   "outputs": [],
   "source": [
    "probability_shiny_given_large = ..."
   ]
  },
  {
   "cell_type": "code",
   "execution_count": null,
   "id": "e440bb86",
   "metadata": {
    "deletable": false,
    "editable": false
   },
   "outputs": [],
   "source": [
    "grader.check(\"q2_1_1\")"
   ]
  },
  {
   "cell_type": "markdown",
   "id": "159244e5",
   "metadata": {},
   "source": [
    "You should have found that this is different from the probability that Samantha gave you a shiny marble, given no size information, which you computed earlier.  The distribution of surfaces among the large marbles is a little different from the distribution of surfaces among all the marbles."
   ]
  },
  {
   "cell_type": "code",
   "execution_count": null,
   "id": "c4ecc6f1",
   "metadata": {
    "execution": {
     "iopub.execute_input": "2022-04-26T09:18:38.498383Z",
     "iopub.status.busy": "2022-04-26T09:18:38.498116Z",
     "iopub.status.idle": "2022-04-26T09:18:38.793100Z",
     "shell.execute_reply": "2022-04-26T09:18:38.792424Z"
    }
   },
   "outputs": [],
   "source": [
    "# Run this cell to display the icon array. Then fill answer the next question.\n",
    "display_grouped_icon_array(marbles.where(\"surface\", \"shiny\").group(\"size\"), \"shiny marble(s)\")"
   ]
  },
  {
   "cell_type": "markdown",
   "id": "e8511aa0",
   "metadata": {},
   "source": [
    "**Question 2.1.2.** Suppose instead Samantha had said she gave you a **shiny** marble (hooray!). What's the probability that the marble given to you is large? \n",
    "\n",
    "Run the code cell above to display the icon array, then assign `probability_large_given_shiny` to the appropriate value."
   ]
  },
  {
   "cell_type": "code",
   "execution_count": null,
   "id": "081506c1",
   "metadata": {
    "execution": {
     "iopub.execute_input": "2022-04-26T09:18:38.796702Z",
     "iopub.status.busy": "2022-04-26T09:18:38.796432Z",
     "iopub.status.idle": "2022-04-26T09:18:38.800379Z",
     "shell.execute_reply": "2022-04-26T09:18:38.799616Z"
    },
    "tags": []
   },
   "outputs": [],
   "source": [
    "probability_large_given_shiny = ..."
   ]
  },
  {
   "cell_type": "code",
   "execution_count": null,
   "id": "6ef8b00c",
   "metadata": {
    "deletable": false,
    "editable": false
   },
   "outputs": [],
   "source": [
    "grader.check(\"q2_1_2\")"
   ]
  },
  {
   "cell_type": "markdown",
   "id": "d6673d56",
   "metadata": {},
   "source": [
    "**Question 2.1.3.** Can you answer the previous two questions just by looking at the full icon array?  (You can run the cell below to see it again.)\n",
    "\n",
    "*Hint:* Check out [Ch 18.2](https://inferentialthinking.com/chapters/18/2/Making_Decisions.html) for a refresher on how to use Bayes' Rule."
   ]
  },
  {
   "cell_type": "code",
   "execution_count": null,
   "id": "e0f160a0",
   "metadata": {
    "execution": {
     "iopub.execute_input": "2022-04-26T09:18:38.813812Z",
     "iopub.status.busy": "2022-04-26T09:18:38.813018Z",
     "iopub.status.idle": "2022-04-26T09:18:39.193788Z",
     "shell.execute_reply": "2022-04-26T09:18:39.192972Z"
    }
   },
   "outputs": [],
   "source": [
    "# Just run this cell.  The next cell is where you should write your answer.\n",
    "display_grouped_icon_array(marbles.group([\"surface\", \"size\"]), \"marble(s)\")"
   ]
  },
  {
   "cell_type": "markdown",
   "id": "f7fe4aff",
   "metadata": {},
   "source": [
    "If you can, how? If not, why not? Check with your lab peers or a staff member to see if you are on the right track. \n"
   ]
  },
  {
   "cell_type": "markdown",
   "id": "dc779d76",
   "metadata": {},
   "source": [
    "_Type your answer here, replacing this text._"
   ]
  },
  {
   "cell_type": "markdown",
   "id": "ba68d27e",
   "metadata": {},
   "source": [
    "# 3. Cancer screening\n",
    "Hopefully the icon arrays from the previous portion helped you build intuition for why conditional probabilities can be helpful. Now, let\u2019s look at a real life application.\n",
    "\n",
    "### Background\n",
    "Medical testing is very important, especially for cancer. A basic cancer screening involves looking for cancer before a person has any symptoms. \n",
    "\n",
    "Cancer screening is not 100% reliable, and it can have errors. There are cases in which someone without cancer or with a benign tumor sees a positive test result. There are also cases where someone with cancer can receive a negative result. (\u201cPositive\u201d implies an indication of cancer in this context.) The first case, called a false positive, could cause anxiety for a patient and lead to further testing that may be risky and involve unnecessary radiation. In the second case, called a false negative, a person would not receive the necessary information and possible treatment for their condition.\n",
    "\n",
    "Conditional probability can provide insight into the accuracy of initial cancer tests. For example, you can compute the chance that a person has cancer given the results of a diagnostic test by combining information from different probability distributions. You\u2019ll see that the chance Person X does have cancer even if they receive a positive result is not necessarily 100%.\n",
    "\n",
    "It is important to note that conditional probabilities offer just one line of insight to understanding a test result and that this statistical approach does not take into account important factors like heredity or environment that come to affect a person\u2019s health and diagnoses. The [Centers for Disease Control and Prevention](https://www.cdc.gov/cancer/dcpc/prevention/screening.htm) (CDC) recommends getting preventative cancer screenings, and one should always consult a doctor if they are concerned about their health. "
   ]
  },
  {
   "cell_type": "markdown",
   "id": "03864e23",
   "metadata": {},
   "source": [
    "## 3.1. Basic cancer statistics\n",
    "\n",
    "Note: All of the following statistics are made up and don\u2019t necessarily reflect the actual state of the world.\n",
    "\n",
    "\n",
    "Suppose that in a representative group of 10,000 people who are tested for cancer (\"representative\" meaning that the frequencies of different events are the same as the frequencies in the whole population):\n",
    "1. 100 people have cancer.\n",
    "2. Among the 100 people that have cancer, 90 have positive results on a cancer test and 10 have negative results.  (So 10 people receive false negative results.)\n",
    "3. The other 9,900 people don't have cancer.\n",
    "4. Among these 9,900 people, 198 have positive results on a cancer test and the other 9,702 have negative results.  (So 198 see \"false positive\" results.)\n",
    "\n",
    "Below we've generated a table with data from these 10,000 hypothetical people.\n",
    "\n",
    "*Note: These statistics are made up and don\u2019t necessarily reflect the actual state of the world.*"
   ]
  },
  {
   "cell_type": "code",
   "execution_count": null,
   "id": "adb13e90",
   "metadata": {
    "execution": {
     "iopub.execute_input": "2022-04-26T09:18:39.198993Z",
     "iopub.status.busy": "2022-04-26T09:18:39.198226Z",
     "iopub.status.idle": "2022-04-26T09:18:39.205634Z",
     "shell.execute_reply": "2022-04-26T09:18:39.204759Z"
    }
   },
   "outputs": [],
   "source": [
    "people = Table().with_columns(\n",
    "    \"status\", [\"cancer\", \"cancer\", \"no cancer\", \"no cancer\"],\n",
    "    \"test status\", [\"positive\", \"negative\", \"positive\", \"negative\"],\n",
    "    \"count\", [90, 10, 198, 9702])\n",
    "people"
   ]
  },
  {
   "cell_type": "markdown",
   "id": "08c6ac56",
   "metadata": {},
   "source": [
    "One way to visualize this dataset is with a contingency table, which you've seen before.\n",
    "\n",
    "**Question 3.1.1.** Using the `people` table defined above, create a contingency table that looks like this:\n",
    "\n",
    "|status|negative|positive|\n",
    "|-|-|-|\n",
    "|cancer|||\n",
    "|no cancer||||\n",
    "\n",
    "...with the **count** of each group filled in, according to what we've told you above.  The counts in the 4 boxes should sum to 10,000.\n"
   ]
  },
  {
   "cell_type": "code",
   "execution_count": null,
   "id": "2ede38a8",
   "metadata": {
    "deletable": false,
    "execution": {
     "iopub.execute_input": "2022-04-26T09:18:39.209761Z",
     "iopub.status.busy": "2022-04-26T09:18:39.209494Z",
     "iopub.status.idle": "2022-04-26T09:18:39.217191Z",
     "shell.execute_reply": "2022-04-26T09:18:39.216349Z"
    },
    "scrolled": true,
    "tags": []
   },
   "outputs": [],
   "source": [
    "cancer = ...\n",
    "cancer"
   ]
  },
  {
   "cell_type": "code",
   "execution_count": null,
   "id": "ced23ac4",
   "metadata": {
    "deletable": false,
    "editable": false
   },
   "outputs": [],
   "source": [
    "grader.check(\"q3_1_1\")"
   ]
  },
  {
   "cell_type": "markdown",
   "id": "0b4f1c64",
   "metadata": {},
   "source": [
    "Here is the `people` data in an icon array."
   ]
  },
  {
   "cell_type": "code",
   "execution_count": null,
   "id": "315af48c",
   "metadata": {
    "execution": {
     "iopub.execute_input": "2022-04-26T09:18:39.269860Z",
     "iopub.status.busy": "2022-04-26T09:18:39.269073Z",
     "iopub.status.idle": "2022-04-26T09:18:39.787427Z",
     "shell.execute_reply": "2022-04-26T09:18:39.786144Z"
    }
   },
   "outputs": [],
   "source": [
    "display_grouped_icon_array(people, \"people who've taken a cancer test\")"
   ]
  },
  {
   "cell_type": "markdown",
   "id": "b2a4e7e1",
   "metadata": {},
   "source": [
    "Now let's think about how you can use this kind of information when Person X is tested for cancer.\n",
    "\n",
    "Before you know any information about Person X, you could imagine Person X as a **uniform random sample** of one of the 10,000 people in this imaginary population of people who have been tested.\n",
    "\n",
    "What's the chance that Person X has cancer, knowing nothing else about them?  It's $\\frac{100}{10000}$, or 1%.  We can see that more directly with this icon array:"
   ]
  },
  {
   "cell_type": "code",
   "execution_count": null,
   "id": "09c1cde0",
   "metadata": {
    "execution": {
     "iopub.execute_input": "2022-04-26T09:18:39.792440Z",
     "iopub.status.busy": "2022-04-26T09:18:39.792033Z",
     "iopub.status.idle": "2022-04-26T09:18:40.390826Z",
     "shell.execute_reply": "2022-04-26T09:18:40.390070Z"
    }
   },
   "outputs": [],
   "source": [
    "by_health = people.select(0, 2).group(0, sum).relabeled(1, 'count')\n",
    "display_grouped_icon_array(by_health, \"people who've taken a cancer test\")"
   ]
  },
  {
   "cell_type": "markdown",
   "id": "8a8ac50c",
   "metadata": {},
   "source": [
    "**Question 3.1.2.** What's the chance that Person X has a positive test result, knowing nothing else about them?\n",
    "Run the next code cell to display an icon array, then assign `probability_positive_test` to this value."
   ]
  },
  {
   "cell_type": "code",
   "execution_count": null,
   "id": "bf71385d",
   "metadata": {
    "deletable": false,
    "execution": {
     "iopub.execute_input": "2022-04-26T09:18:40.394132Z",
     "iopub.status.busy": "2022-04-26T09:18:40.393915Z",
     "iopub.status.idle": "2022-04-26T09:18:40.846100Z",
     "shell.execute_reply": "2022-04-26T09:18:40.845321Z"
    },
    "tags": []
   },
   "outputs": [],
   "source": [
    "# Run this cell first to display an icon array. Then fill in the probability of a positive test result in the last line.\n",
    "by_test = people.select(1, 2).group(0, sum).relabeled(1, 'count')\n",
    "display_grouped_icon_array(by_test, \"people who've taken a cancer test\")\n",
    "\n",
    "# Now fill in the probability of a positive test result\n",
    "probability_positive_test = ..."
   ]
  },
  {
   "cell_type": "markdown",
   "id": "23977184",
   "metadata": {},
   "source": [
    "## 3.2. Interpreting test results\n",
    "Suppose Person X has a positive test result.  This means that you can now narrow them down to being part of just one of the two following groups:\n",
    "1. The people with cancer who have a positive test result.\n",
    "2. The people without cancer who have a positive test result.\n",
    "\n",
    "Here's an icon array for those two groups:"
   ]
  },
  {
   "cell_type": "code",
   "execution_count": null,
   "id": "fa9ef0d8",
   "metadata": {
    "execution": {
     "iopub.execute_input": "2022-04-26T09:18:40.863147Z",
     "iopub.status.busy": "2022-04-26T09:18:40.862926Z",
     "iopub.status.idle": "2022-04-26T09:18:41.263725Z",
     "shell.execute_reply": "2022-04-26T09:18:41.262724Z"
    }
   },
   "outputs": [],
   "source": [
    "# Just run this cell.\n",
    "display_grouped_icon_array(people.where(\"test status\", are.equal_to(\"positive\")).drop(1), \"people who have a positive test result\")"
   ]
  },
  {
   "cell_type": "markdown",
   "id": "5005de0a",
   "metadata": {},
   "source": [
    "The *conditional probability* that Person X **has cancer given their positive test result** is the chance that they're in the first group (cancer), assuming they have a positive test result.\n",
    "\n",
    "**Question 3.2.1.** Eyeballing the icon array above, is the conditional probability that Person X has cancer **given their positive test result** closest to:\n",
    "\n",
    "1. $\\displaystyle\\frac{9}{10}$\n",
    "\n",
    "2. $\\displaystyle\\frac{2}{3}$\n",
    "\n",
    "3. $\\displaystyle\\frac{1}{2}$\n",
    "\n",
    "4. $\\displaystyle\\frac{1}{3}$\n",
    "\n",
    "5. $\\displaystyle\\frac{1}{100}$\n",
    "\n",
    "\n",
    "Assign `rough_prob_cancer_given_positive` to an integer corresponding to your answer.\n"
   ]
  },
  {
   "cell_type": "code",
   "execution_count": null,
   "id": "bc4fdc67",
   "metadata": {
    "deletable": false,
    "execution": {
     "iopub.execute_input": "2022-04-26T09:18:41.267963Z",
     "iopub.status.busy": "2022-04-26T09:18:41.267296Z",
     "iopub.status.idle": "2022-04-26T09:18:41.271171Z",
     "shell.execute_reply": "2022-04-26T09:18:41.270462Z"
    },
    "tags": []
   },
   "outputs": [],
   "source": [
    "# Set this to either 1, 2, 3, 4, or 5 corresponding to the correct probability.\n",
    "rough_prob_cancer_given_positive = ..."
   ]
  },
  {
   "cell_type": "code",
   "execution_count": null,
   "id": "5cad33eb",
   "metadata": {
    "deletable": false,
    "editable": false
   },
   "outputs": [],
   "source": [
    "grader.check(\"q3_2_1\")"
   ]
  },
  {
   "cell_type": "markdown",
   "id": "c9c1b9a1",
   "metadata": {},
   "source": [
    "**Question 3.2.2.** Now write code to calculate that probability exactly, using the original contingency table you wrote (the `cancer` table).\n",
    "\n",
    "Run the next code cell to see the `cancer` table, then fill in `prob_cancer_given_positive` with your code.\n"
   ]
  },
  {
   "cell_type": "code",
   "execution_count": null,
   "id": "733dce01",
   "metadata": {
    "deletable": false,
    "execution": {
     "iopub.execute_input": "2022-04-26T09:18:41.283665Z",
     "iopub.status.busy": "2022-04-26T09:18:41.283346Z",
     "iopub.status.idle": "2022-04-26T09:18:41.292548Z",
     "shell.execute_reply": "2022-04-26T09:18:41.291633Z"
    },
    "tags": []
   },
   "outputs": [],
   "source": [
    "# Run this cell first to see the cancer table. Then fill in the next line of this cell.\n",
    "cancer.show()\n",
    "\n",
    "prob_cancer_given_positive = ...\n",
    "\n",
    "print('Probability of cancer given positive test result: {}'.format(prob_cancer_given_positive))"
   ]
  },
  {
   "cell_type": "code",
   "execution_count": null,
   "id": "dea75fb1",
   "metadata": {
    "deletable": false,
    "editable": false
   },
   "outputs": [],
   "source": [
    "grader.check(\"q3_2_2\")"
   ]
  },
  {
   "cell_type": "markdown",
   "id": "aaf5579c",
   "metadata": {},
   "source": [
    "**Question 3.2.3.** Look at the full icon array again.  Using that, how would you compute the conditional probability of cancer given a positive test?\n",
    "\n",
    "Run the next code cell to see the full icon array. \n"
   ]
  },
  {
   "cell_type": "markdown",
   "id": "6a1fb142",
   "metadata": {},
   "source": [
    "_Type your answer here, replacing this text._"
   ]
  },
  {
   "cell_type": "code",
   "execution_count": null,
   "id": "d375b035",
   "metadata": {
    "execution": {
     "iopub.execute_input": "2022-04-26T09:18:41.307081Z",
     "iopub.status.busy": "2022-04-26T09:18:41.306790Z",
     "iopub.status.idle": "2022-04-26T09:18:41.818878Z",
     "shell.execute_reply": "2022-04-26T09:18:41.818019Z"
    }
   },
   "outputs": [],
   "source": [
    "# The full icon array is given here for your convenience.\n",
    "# Write your answer in the previous cell.\n",
    "display_grouped_icon_array(people, \"people who've taken a cancer test\")"
   ]
  },
  {
   "cell_type": "markdown",
   "id": "bf00d8ed",
   "metadata": {},
   "source": [
    "**Question 3.2.4.** Is your answer to question 3.2.2 larger than the overall proportion of people in the population who have cancer (given as 1% in 3.1.1)?  Does that make sense? Check with your peers or a staff member to see if you have the right idea. \n"
   ]
  },
  {
   "cell_type": "markdown",
   "id": "33efc433",
   "metadata": {},
   "source": [
    "_Type your answer here, replacing this text._"
   ]
  },
  {
   "cell_type": "markdown",
   "id": "0c862d54",
   "metadata": {},
   "source": [
    "# 4. A Subjective Prior\n",
    "\n",
    "Being right isn\u2019t always satisfying. Classifying a Positive patient as not having cancer still seems somehow wrong, for such an accurate test. In this section, we'll take a deeper look at the basis of our probability calculation: the assumption of randomness.\n",
    "\n",
    "Our assumption was that a randomly chosen person was tested from our population of 10,000 individuals. This doesn\u2019t happen in reality. People go in to get tested because they think they might have the disease, or because their doctor thinks they might have the disease. People getting tested are not randomly chosen members of the population.\n",
    "\n",
    "That is why our intuition about people getting tested was not fitting well with the answer that we got. In **Question 3.2.2**, we calculated that the probability of cancer given a positive test result was **0.3125**, or **31.25%**. This seems unusually low, especially given what we know about the efficacy of cancer screenings. We were imagining a realistic situation of a patient going in to get tested because there was some reason for them to do so, whereas the calculation was based on a randomly chosen person being tested.\n",
    "\n",
    "So let\u2019s redo our calculation under the more realistic assumption that the patient is getting tested because the doctor thinks there\u2019s a chance the patient has the disease and compare the two probabilities.\n",
    "\n",
    "**Aside:** For more information about Part 4 of this lab, check out [Section 18.2.2](https://inferentialthinking.com/chapters/18/2/Making_Decisions.html#a-subjective-prior) from the textbook."
   ]
  },
  {
   "cell_type": "markdown",
   "id": "39866e73",
   "metadata": {},
   "source": [
    "## 4.1. A New Look at the Population\n",
    "Suppose now that our population of 10,000 inviduals takes into account the fact that choosing to take a medical test is not done at random; there must be some motive for an individual to take one. Thus, our modified population has the following properties:\n",
    "1. 1,000 people have cancer.\n",
    "1. Among the 1,000 people that have cancer, 900 have positive results on a cancer test and 100 have negative results. \n",
    "3. The other 9,000 people don't have cancer.\n",
    "4. Among these 9,000 people, 180 have positive results on a cancer test and the other 8,820 have negative results.  (So 180 see \"false positive\" results.)\n",
    "\n",
    "Below we've generated a population table called `people_new` and a contingency table with data from these 10,000 hypothetical people called `cancer_new`."
   ]
  },
  {
   "cell_type": "code",
   "execution_count": null,
   "id": "2f6fadf2",
   "metadata": {
    "execution": {
     "iopub.execute_input": "2022-04-26T09:18:41.822273Z",
     "iopub.status.busy": "2022-04-26T09:18:41.822062Z",
     "iopub.status.idle": "2022-04-26T09:18:41.829236Z",
     "shell.execute_reply": "2022-04-26T09:18:41.828547Z"
    }
   },
   "outputs": [],
   "source": [
    "# Just run this cell to load the table\n",
    "people_new = Table().with_columns(\n",
    "    \"status\", [\"cancer\", \"cancer\", \"no cancer\", \"no cancer\"],\n",
    "    \"test status\", [\"positive\", \"negative\", \"positive\", \"negative\"],\n",
    "    \"count\", [900, 100, 180, 8820])\n",
    "people_new"
   ]
  },
  {
   "cell_type": "code",
   "execution_count": null,
   "id": "6a336c34",
   "metadata": {
    "execution": {
     "iopub.execute_input": "2022-04-26T09:18:41.832204Z",
     "iopub.status.busy": "2022-04-26T09:18:41.831989Z",
     "iopub.status.idle": "2022-04-26T09:18:41.839132Z",
     "shell.execute_reply": "2022-04-26T09:18:41.838438Z"
    }
   },
   "outputs": [],
   "source": [
    "# Just run this cell to load the table\n",
    "cancer_new = Table().with_columns(\n",
    "    \"status\", [\"cancer\", \"no cancer\"],\n",
    "    \"negative\", [100, 8820],\n",
    "    \"positive\", [900, 180])\n",
    "cancer_new"
   ]
  },
  {
   "cell_type": "markdown",
   "id": "b60a239b",
   "metadata": {},
   "source": [
    "As before, we can present the data above in an icon array. Here is the `people_new` data in such a format."
   ]
  },
  {
   "cell_type": "code",
   "execution_count": null,
   "id": "051b6e1f",
   "metadata": {
    "execution": {
     "iopub.execute_input": "2022-04-26T09:18:41.856055Z",
     "iopub.status.busy": "2022-04-26T09:18:41.855755Z",
     "iopub.status.idle": "2022-04-26T09:18:42.320202Z",
     "shell.execute_reply": "2022-04-26T09:18:42.319377Z"
    }
   },
   "outputs": [],
   "source": [
    "display_grouped_icon_array(people_new, \"people who've taken a cancer test\")"
   ]
  },
  {
   "cell_type": "markdown",
   "id": "2929f286",
   "metadata": {},
   "source": [
    "## 4.2. Interpretation and Comparison\n",
    "As in Part 3, let's suppose Person X has a positive test result.  This means that you can now narrow them down to being part of just one of the two following groups:\n",
    "1. The people with cancer who have a positive test result.\n",
    "2. The people without cancer who have a positive test result.\n",
    "\n",
    "Just as we did in Part 3 of this lab, here's an icon array for those two groups:"
   ]
  },
  {
   "cell_type": "code",
   "execution_count": null,
   "id": "48a80b95",
   "metadata": {
    "execution": {
     "iopub.execute_input": "2022-04-26T09:18:42.323487Z",
     "iopub.status.busy": "2022-04-26T09:18:42.323259Z",
     "iopub.status.idle": "2022-04-26T09:18:42.766081Z",
     "shell.execute_reply": "2022-04-26T09:18:42.765098Z"
    }
   },
   "outputs": [],
   "source": [
    "# Just run this cell.\n",
    "display_grouped_icon_array(people_new.where(\"test status\", are.equal_to(\"positive\")).drop(1), \"people who have a positive test result\")"
   ]
  },
  {
   "cell_type": "markdown",
   "id": "22630ae7",
   "metadata": {},
   "source": [
    "**Question 4.2.1.** Using the new contingency table, `cancer_new`, that was provided at the beginning of this section, write code to calculate the exact probability that an individual has cancer given that they've received a positive test result.\n",
    "\n",
    "Run the next code cell to see the `cancer_new` table, then fill in `prob_cancer_given_positive_new` with your code.\n"
   ]
  },
  {
   "cell_type": "code",
   "execution_count": null,
   "id": "c8d23b8b",
   "metadata": {
    "deletable": false,
    "execution": {
     "iopub.execute_input": "2022-04-26T09:18:42.769649Z",
     "iopub.status.busy": "2022-04-26T09:18:42.769357Z",
     "iopub.status.idle": "2022-04-26T09:18:42.776996Z",
     "shell.execute_reply": "2022-04-26T09:18:42.775997Z"
    },
    "tags": []
   },
   "outputs": [],
   "source": [
    "# Run this cell first to see the cancer_new table. Then fill in the next line of this cell.\n",
    "cancer_new.show()\n",
    "\n",
    "prob_cancer_given_positive_new = ...\n",
    "\n",
    "print(f'Probability of cancer given positive test result: {prob_cancer_given_positive_new}')"
   ]
  },
  {
   "cell_type": "code",
   "execution_count": null,
   "id": "65afea17",
   "metadata": {
    "deletable": false,
    "editable": false
   },
   "outputs": [],
   "source": [
    "grader.check(\"q4_2_1\")"
   ]
  },
  {
   "cell_type": "markdown",
   "id": "ee997677",
   "metadata": {},
   "source": [
    "**Question 4.2.2.** How does your probability in 3.2.2 compare to your answer from 4.2.1? Does that make sense? Check with your peers or a staff member to see if you have the right idea. \n"
   ]
  },
  {
   "cell_type": "markdown",
   "id": "76d1452d",
   "metadata": {},
   "source": [
    "_Type your answer here, replacing this text._"
   ]
  },
  {
   "cell_type": "markdown",
   "id": "ed5d0d29",
   "metadata": {},
   "source": [
    "## 5. Submission\n",
    "\n",
    "<img src=\"harley.jpeg\" alt=\"drawing\" width=\"300\"/>\n",
    "\n",
    "We've come full circle! Harley welcomed you to Data 8, and he's here again to send you off. Woof!\n",
    "\n",
    "Congrats, you're done with the final lab!\n",
    "\n",
    "**Important submission steps:** \n",
    "1. Run the tests and verify that they all pass.\n",
    "2. Choose **Save Notebook** from the **File** menu, then **run the final cell**. \n",
    "3. Click the link to download the zip file.\n",
    "4. Then submit the zip file to the corresponding assignment according to your instructor's directions. \n",
    "\n",
    "**It is your responsibility to make sure your work is saved before running the last cell.**"
   ]
  },
  {
   "cell_type": "markdown",
   "id": "dbc8c7b0",
   "metadata": {
    "deletable": false,
    "editable": false
   },
   "source": [
    "## Submission\n",
    "\n",
    "Make sure you have run all cells in your notebook in order before running the cell below, so that all images/graphs appear in the output. The cell below will generate a zip file for you to submit. **Please save before exporting!**"
   ]
  },
  {
   "cell_type": "code",
   "execution_count": null,
   "id": "2325bae8",
   "metadata": {
    "deletable": false,
    "editable": false
   },
   "outputs": [],
   "source": [
    "# Save your notebook first, then run this cell to export your submission.\n",
    "grader.export(pdf=False, run_tests=True)"
   ]
  },
  {
   "cell_type": "markdown",
   "id": "8c77e79f",
   "metadata": {},
   "source": [
    " "
   ]
  }
 ],
 "metadata": {
  "kernelspec": {
   "display_name": "Python 3",
   "language": "python",
   "name": "python3"
  },
  "language_info": {
   "codemirror_mode": {
    "name": "ipython",
    "version": 3
   },
   "file_extension": ".py",
   "mimetype": "text/x-python",
   "name": "python",
   "nbconvert_exporter": "python",
   "pygments_lexer": "ipython3",
   "version": "3.9.10"
  },
  "otter": {
   "OK_FORMAT": true,
   "tests": {
    "q2_0_1": {
     "name": "q2_0_1",
     "points": null,
     "suites": [
      {
       "cases": [
        {
         "code": ">>> 0 < probability_large_shiny < 1 \nTrue",
         "hidden": false,
         "locked": false
        },
        {
         "code": ">>> \n>>> import hashlib \n>>> def get_hash(num):\n...     \"\"\"Helper function for assessing correctness.\"\"\"\n...     return hashlib.md5(str(num).encode()).hexdigest()\n>>> \n>>> get_hash(np.round(probability_large_shiny, 3))\n'8404599d79837400f000c64a4fa1cc0e'",
         "hidden": false,
         "locked": false
        }
       ],
       "scored": true,
       "setup": "",
       "teardown": "",
       "type": "doctest"
      }
     ]
    },
    "q2_0_2": {
     "name": "q2_0_2",
     "points": null,
     "suites": [
      {
       "cases": [
        {
         "code": ">>> import hashlib \n>>> def get_hash(num):\n...     \"\"\"Helper function for assessing correctness.\"\"\"\n...     return hashlib.md5(str(num).encode()).hexdigest()\n>>> \n>>> get_hash(np.round(probability_shiny, 3))\n'a83a7d5356406fb9bdbb4d93697cee38'",
         "hidden": false,
         "locked": false
        }
       ],
       "scored": true,
       "setup": "",
       "teardown": "",
       "type": "doctest"
      }
     ]
    },
    "q2_1_1": {
     "name": "q2_1_1",
     "points": null,
     "suites": [
      {
       "cases": [
        {
         "code": ">>> \n>>> import hashlib \n>>> def get_hash(num):\n...     \"\"\"Helper function for assessing correctness.\"\"\"\n...     return hashlib.md5(str(num).encode()).hexdigest()\n>>> \n>>> get_hash(np.round(probability_shiny_given_large, 3))\n'57eeec0a6974ecb4e9fcf68fab052f7b'",
         "hidden": false,
         "locked": false
        }
       ],
       "scored": true,
       "setup": "",
       "teardown": "",
       "type": "doctest"
      }
     ]
    },
    "q2_1_2": {
     "name": "q2_1_2",
     "points": null,
     "suites": [
      {
       "cases": [
        {
         "code": ">>> \n>>> import hashlib \n>>> def get_hash(num):\n...     \"\"\"Helper function for assessing correctness.\"\"\"\n...     return hashlib.md5(str(num).encode()).hexdigest()\n>>> \n>>> get_hash(np.round(probability_large_given_shiny, 3))\n'54fbf38cf649866815e0fefc46a1f6c7'",
         "hidden": false,
         "locked": false
        }
       ],
       "scored": true,
       "setup": "",
       "teardown": "",
       "type": "doctest"
      }
     ]
    },
    "q3_1_1": {
     "name": "q3_1_1",
     "points": null,
     "suites": [
      {
       "cases": [
        {
         "code": ">>> sum(cancer.column(1)) == 9712\nTrue",
         "hidden": false,
         "locked": false
        },
        {
         "code": ">>> sum(cancer.column(2)) == 288\nTrue",
         "hidden": false,
         "locked": false
        },
        {
         "code": ">>> cancer\nstatus    | negative | positive\ncancer    | 10       | 90\nno cancer | 9702     | 198",
         "hidden": false,
         "locked": false
        }
       ],
       "scored": true,
       "setup": "",
       "teardown": "",
       "type": "doctest"
      }
     ]
    },
    "q3_2_1": {
     "name": "q3_2_1",
     "points": null,
     "suites": [
      {
       "cases": [
        {
         "code": ">>> \n>>> import hashlib \n>>> def get_hash(num):\n...     \"\"\"Helper function for assessing correctness.\"\"\"\n...     return hashlib.md5(str(num).encode()).hexdigest()\n>>> \n>>> get_hash(int(rough_prob_cancer_given_positive))\n'a87ff679a2f3e71d9181a67b7542122c'",
         "hidden": false,
         "locked": false
        }
       ],
       "scored": true,
       "setup": "",
       "teardown": "",
       "type": "doctest"
      }
     ]
    },
    "q3_2_2": {
     "name": "q3_2_2",
     "points": null,
     "suites": [
      {
       "cases": [
        {
         "code": ">>> \n>>> import hashlib \n>>> def get_hash(num):\n...     \"\"\"Helper function for assessing correctness.\"\"\"\n...     return hashlib.md5(str(num).encode()).hexdigest()\n>>> \n>>> get_hash(np.round(prob_cancer_given_positive, 4))\n'15432ad172f7f319fe502e6337b3f549'",
         "hidden": false,
         "locked": false
        }
       ],
       "scored": true,
       "setup": "",
       "teardown": "",
       "type": "doctest"
      }
     ]
    },
    "q4_2_1": {
     "name": "q4_2_1",
     "points": null,
     "suites": [
      {
       "cases": [
        {
         "code": ">>> \n>>> import hashlib \n>>> def get_hash(num):\n...     \"\"\"Helper function for assessing correctness.\"\"\"\n...     return hashlib.md5(str(num).encode()).hexdigest()\n>>> \n>>> get_hash(np.round(prob_cancer_given_positive_new, 4))\n'4f59b3fd6f5001542919c239391a3278'",
         "hidden": false,
         "locked": false
        }
       ],
       "scored": true,
       "setup": "",
       "teardown": "",
       "type": "doctest"
      }
     ]
    }
   }
  }
 },
 "nbformat": 4,
 "nbformat_minor": 5
}
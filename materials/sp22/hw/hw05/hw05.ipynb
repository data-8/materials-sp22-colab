{
 "cells": [
  {
   "cell_type": "code",
   "execution_count": null,
   "id": "0924dead",
   "metadata": {
    "deletable": false,
    "editable": false
   },
   "outputs": [],
   "source": [
    "from google.colab import drive\n",
    "drive.mount('/content/gdrive', force_remount=True)\n",
    "\n",
    "!mkdir -p '/content/gdrive/My Drive/colab-materials-data8-notebooks/'\n",
    "!git clone https://github.com/data-8/materials-sp22-colab '/content/gdrive/My Drive/colab-materials-data8-notebooks/materials-sp22-colab/'\n",
    "\n",
    "%pip install otter-grader==4.3.1\n",
    "%cd /content/gdrive/MyDrive/colab-materials-data8-notebooks/materials-sp22-colab/materials/sp22/hw/hw05/\n",
    "# Initialize Otter\n",
    "import otter\n",
    "grader = otter.Notebook(\"hw05.ipynb\")"
   ]
  },
  {
   "cell_type": "markdown",
   "id": "0ffc8dd1",
   "metadata": {},
   "source": [
    "# Homework 5: Applying Functions and Iteration\n",
    "\n",
    "Please complete this notebook by filling in the cells provided. Before you begin, execute the previous cell to load the provided tests."
   ]
  },
  {
   "cell_type": "markdown",
   "id": "513d611b",
   "metadata": {},
   "source": [
    "**Helpful Resource:**\n",
    "- [Python Reference](http://data8.org/sp22/python-reference.html): Cheat sheet of helpful array & table methods used in Data 8!\n",
    "\n",
    "**Recommended Readings**: \n",
    "\n",
    "* [Tabular Thinking Guide](https://drive.google.com/file/d/13HaWu4rrjeowEOs6S_vaQGM3GremzXQ3/view?usp=sharing)\n",
    "* [Applying Functions](https://www.inferentialthinking.com/chapters/08/1/Applying_a_Function_to_a_Column.html)\n",
    "* [Conditionals](https://www.inferentialthinking.com/chapters/09/1/Conditional_Statements.html)\n",
    "* [Iteration](https://www.inferentialthinking.com/chapters/09/2/Iteration.html)"
   ]
  },
  {
   "cell_type": "markdown",
   "id": "14b2ded8",
   "metadata": {},
   "source": [
    "Please complete this notebook by filling in the cells provided. Before you begin, execute the following cell to setup the notebook by importing some helpful libraries. Each time you start your server, you will need to execute this cell again.\n",
    "\n",
    "For all problems that you must write explanations and sentences for, you **must** provide your answer in the designated space. **Moreover, throughout this homework and all future ones, please be sure to not re-assign variables throughout the notebook!** For example, if you use `max_temperature` in your answer to one question, do not reassign it later on. Otherwise, you will fail tests that you thought you were passing previously!\n",
    "\n",
    "\n",
    "**Note: This homework has hidden tests on it. That means even though the tests may say 100% passed, it doesn't mean your final grade will be 100%. We will be running more tests for correctness once everyone turns in the homework.**\n",
    "\n",
    "\n",
    "Directly sharing answers is not okay, but discussing problems with the course staff or with other students is encouraged. \n",
    "\n",
    "You should start early so that you have time to get help if you're stuck."
   ]
  },
  {
   "cell_type": "markdown",
   "id": "09297bc0",
   "metadata": {},
   "source": [
    "## 1. 2021 Cal Football Season"
   ]
  },
  {
   "cell_type": "code",
   "execution_count": null,
   "id": "b866741d",
   "metadata": {
    "execution": {
     "iopub.execute_input": "2022-02-16T22:50:19.972612Z",
     "iopub.status.busy": "2022-02-16T22:50:19.971675Z",
     "iopub.status.idle": "2022-02-16T22:50:21.473863Z",
     "shell.execute_reply": "2022-02-16T22:50:21.474499Z"
    }
   },
   "outputs": [],
   "source": [
    "# Run this cell to set up the notebook, but please don't change it.\n",
    "\n",
    "# These lines import the numpy and datascience modules.\n",
    "import numpy as np\n",
    "from datascience import *\n",
    "import d8error\n",
    "import warnings\n",
    "warnings.simplefilter('ignore', FutureWarning)"
   ]
  },
  {
   "cell_type": "markdown",
   "id": "50e14c62",
   "metadata": {},
   "source": [
    "James is trying to analyze how well the Cal football team performed in the 2021 season. A football game is divided into four periods, called quarters. The number of points Cal scored in each quarter and the number of points their opponent scored in each quarter are stored in a table called `cal_fb.csv`."
   ]
  },
  {
   "cell_type": "code",
   "execution_count": null,
   "id": "8ad2f355",
   "metadata": {
    "deletable": false,
    "editable": false,
    "execution": {
     "iopub.execute_input": "2022-02-16T22:50:21.480807Z",
     "iopub.status.busy": "2022-02-16T22:50:21.480011Z",
     "iopub.status.idle": "2022-02-16T22:50:21.493856Z",
     "shell.execute_reply": "2022-02-16T22:50:21.493248Z"
    }
   },
   "outputs": [],
   "source": [
    "# Just run this cell\n",
    "# Read in the cal_fb csv file\n",
    "games = Table().read_table(\"cal_fb.csv\")\n",
    "games.show()"
   ]
  },
  {
   "cell_type": "markdown",
   "id": "759877c6",
   "metadata": {},
   "source": [
    "Let's start by finding the total points each team scored in a game.\n",
    "\n",
    "**Question 1.** Write a function called `sum_scores`.  It should take four arguments, where each argument represents integers corresponding to the team's score for each quarter. It should return the team's total score for that game. **(20 Points)**\n",
    "\n",
    "*Note:* Don't overthink this question!\n",
    "\n"
   ]
  },
  {
   "cell_type": "code",
   "execution_count": null,
   "id": "3457724d",
   "metadata": {
    "execution": {
     "iopub.execute_input": "2022-02-16T22:50:21.500140Z",
     "iopub.status.busy": "2022-02-16T22:50:21.499476Z",
     "iopub.status.idle": "2022-02-16T22:50:21.503043Z",
     "shell.execute_reply": "2022-02-16T22:50:21.502615Z"
    },
    "tags": []
   },
   "outputs": [],
   "source": [
    "def sum_scores(...):\n",
    "    '''Returns the total score calculated by adding up the score of each quarter'''\n",
    "    ...\n",
    "\n",
    "sum_scores(14, 7, 3, 0) #DO NOT CHANGE THIS LINE"
   ]
  },
  {
   "cell_type": "code",
   "execution_count": null,
   "id": "60101231",
   "metadata": {
    "deletable": false,
    "editable": false
   },
   "outputs": [],
   "source": [
    "grader.check(\"q1_1\")"
   ]
  },
  {
   "cell_type": "markdown",
   "id": "b6f50187",
   "metadata": {},
   "source": [
    "**Question 2.** Create a new table `final_scores` with three columns in this *specific* order: `Opponent`, `Cal Score`, `Opponent Score`. You will have to create the `Cal Score` and `Opponent Score` columns. Use the function `sum_scores` you just defined in the previous question for this problem. **(20 Points)**\n",
    "\n",
    "*Hint:* If you want to apply a function that takes in multiple arguments, you can pass multiple column names as arguments in `tbl.apply()`. The column values will be passed into the corresponding arguments of the function. Take a look at the Python Reference Sheet and Lecture 13's demo for syntax.\n",
    "\n",
    "*Note:* If you\u2019re running into issues creating `final_scores`, check that `cal_scores` and `opponent_scores` output what you want. \n"
   ]
  },
  {
   "cell_type": "code",
   "execution_count": null,
   "id": "0ec7ac99",
   "metadata": {
    "execution": {
     "iopub.execute_input": "2022-02-16T22:50:21.528539Z",
     "iopub.status.busy": "2022-02-16T22:50:21.527939Z",
     "iopub.status.idle": "2022-02-16T22:50:21.532020Z",
     "shell.execute_reply": "2022-02-16T22:50:21.531493Z"
    },
    "tags": []
   },
   "outputs": [],
   "source": [
    "cal_scores = ...\n",
    "opponent_scores = ...\n",
    "final_scores = ...\n",
    "final_scores"
   ]
  },
  {
   "cell_type": "code",
   "execution_count": null,
   "id": "0ec4fc65",
   "metadata": {
    "deletable": false,
    "editable": false
   },
   "outputs": [],
   "source": [
    "grader.check(\"q1_2\")"
   ]
  },
  {
   "cell_type": "markdown",
   "id": "d5b6ec35",
   "metadata": {},
   "source": [
    "We can get specific row objects from a table. You can use `tbl.row(n)` to get the `n`th row of a table. `row.item(\"column_name\")` will allow you to select the element that corresponds to `column_name` in a particular row. Here's an example:"
   ]
  },
  {
   "cell_type": "code",
   "execution_count": null,
   "id": "bd262ae5",
   "metadata": {
    "deletable": false,
    "editable": false,
    "execution": {
     "iopub.execute_input": "2022-02-16T22:50:21.589149Z",
     "iopub.status.busy": "2022-02-16T22:50:21.588621Z",
     "iopub.status.idle": "2022-02-16T22:50:21.592001Z",
     "shell.execute_reply": "2022-02-16T22:50:21.591581Z"
    }
   },
   "outputs": [],
   "source": [
    "# Just run this cell\n",
    "# We got the Axe!\n",
    "games.row(9)"
   ]
  },
  {
   "cell_type": "code",
   "execution_count": null,
   "id": "bb7b8cc5",
   "metadata": {
    "deletable": false,
    "editable": false,
    "execution": {
     "iopub.execute_input": "2022-02-16T22:50:21.597067Z",
     "iopub.status.busy": "2022-02-16T22:50:21.596590Z",
     "iopub.status.idle": "2022-02-16T22:50:21.600251Z",
     "shell.execute_reply": "2022-02-16T22:50:21.599728Z"
    }
   },
   "outputs": [],
   "source": [
    "# Just run this cell\n",
    "games.row(9).item(\"Cal 4Q\")"
   ]
  },
  {
   "cell_type": "markdown",
   "id": "c3f5a854",
   "metadata": {},
   "source": [
    "**Question 3.** We want to see for a particular game whether or not Cal lost. Write a function called `did_cal_lose`.  It should take one argument: a **row object** from the `final_scores` table. It should return either `True` if Cal's score was less than the Opponent's score, and `False` otherwise. **(20 Points)**\n",
    "\n",
    "*Note 1*: \"Row object\" means a row from the table that contains all the data for that specific row. It is **not** the index of a row. Do not try and call `final_scores.row(row)` inside of the function.\n",
    "\n",
    "*Note 2*: If you're still confused by row objects, try printing out `final_scores.row(1)` in a new cell to visually see what it looks like! This piece of code is pulling out the row object located at index 1 of the `final_scores` table and returning it. When you display it in a cell, you'll see that it is not located within a table, but is instead a standalone row object!\n"
   ]
  },
  {
   "cell_type": "code",
   "execution_count": null,
   "id": "1794598c",
   "metadata": {
    "execution": {
     "iopub.execute_input": "2022-02-16T22:50:21.606018Z",
     "iopub.status.busy": "2022-02-16T22:50:21.605432Z",
     "iopub.status.idle": "2022-02-16T22:50:21.608945Z",
     "shell.execute_reply": "2022-02-16T22:50:21.608474Z"
    },
    "tags": []
   },
   "outputs": [],
   "source": [
    "def did_cal_lose(row):\n",
    "    ...\n",
    "\n",
    "did_cal_lose(final_scores.row(1)) #DO NOT CHANGE THIS LINE"
   ]
  },
  {
   "cell_type": "code",
   "execution_count": null,
   "id": "e1ac9da9",
   "metadata": {
    "deletable": false,
    "editable": false
   },
   "outputs": [],
   "source": [
    "grader.check(\"q1_3\")"
   ]
  },
  {
   "cell_type": "markdown",
   "id": "1b7defbd",
   "metadata": {},
   "source": [
    "**Question 4.** James wants to see how Cal did against every opponent during the 2021 season. Using the `final_scores` table:\n",
    "\n",
    "1. Assign `results` to an array of `True` and `False` values that correspond to whether or not Cal lost.\n",
    "2. Add the `results` array to the `final_scores` table in a column named `Results`, and assign this to `final_scores_with_results`.\n",
    "3. Then, respectively assign the number of wins and losses Cal had to `cal_wins` and `cal_losses`.\n",
    "\n",
    "**(20 Points)**\n",
    "\n",
    "*Hint 1*: `True` and `False` are **not** strings. What data type are they?\n",
    "\n",
    "*Hint 2*: `tbl.num_rows` might be helpful too.\n",
    "\n",
    "*Hint 3*: When you only pass a function name and no column labels through `tbl.apply()`, the function gets applied to every row in `tbl`.\n",
    "\n"
   ]
  },
  {
   "cell_type": "code",
   "execution_count": null,
   "id": "36c52c2a",
   "metadata": {
    "execution": {
     "iopub.execute_input": "2022-02-16T22:50:21.640543Z",
     "iopub.status.busy": "2022-02-16T22:50:21.640001Z",
     "iopub.status.idle": "2022-02-16T22:50:21.643598Z",
     "shell.execute_reply": "2022-02-16T22:50:21.642863Z"
    },
    "tags": []
   },
   "outputs": [],
   "source": [
    "results = ...\n",
    "final_scores_with_results = ...\n",
    "cal_losses = ...\n",
    "cal_wins = ...\n",
    "\n",
    "# Don't delete or edit the following line:\n",
    "print(f\"In the 2021 Season, Cal Football won {cal_wins} games and lost {cal_losses} games. Go Bears! \ud83d\udc3b\")"
   ]
  },
  {
   "cell_type": "code",
   "execution_count": null,
   "id": "970d8e9a",
   "metadata": {
    "deletable": false,
    "editable": false
   },
   "outputs": [],
   "source": [
    "grader.check(\"q1_4\")"
   ]
  },
  {
   "cell_type": "markdown",
   "id": "fbf58ba5",
   "metadata": {},
   "source": [
    "**Question 5:** Sometimes in football the two teams are equally matched and the game is quite close. Other times, it is a blowout, where the winning team wins by a large margin of victory. Let's define a **big win** to be a game in which the winning team won by more than 10 points.\n",
    "\n",
    "Use your `final_scores` table to assign `big_wins` to an array of team names that Cal had big wins against during the 2021 football season. You may find the `is_big_win` function defined below helpful to you! **(20 Points)**\n"
   ]
  },
  {
   "cell_type": "code",
   "execution_count": null,
   "id": "c405cf88",
   "metadata": {
    "execution": {
     "iopub.execute_input": "2022-02-16T22:50:21.720329Z",
     "iopub.status.busy": "2022-02-16T22:50:21.719719Z",
     "iopub.status.idle": "2022-02-16T22:50:21.722589Z",
     "shell.execute_reply": "2022-02-16T22:50:21.722968Z"
    },
    "tags": []
   },
   "outputs": [],
   "source": [
    "def is_big_win(row):\n",
    "    '''Return a boolean to describe whether or not a game (row) is a big win'''\n",
    "    score_diff = row.item(\"Cal Score\") - row.item(\"Opponent Score\")\n",
    "    \n",
    "    if score_diff > 10:\n",
    "        return True\n",
    "    else:\n",
    "        return False\n",
    "\n",
    "big_wins = make_array()\n",
    "\n",
    "for row in final_scores.rows: # This will help us iterate through rows of final_scores table\n",
    "    opponent = ...\n",
    "    if ...: # You should use the function defined above!\n",
    "        big_wins = np.append(big_wins, opponent) # Do not change this line - Adds character to the end of some_string\n",
    "big_wins"
   ]
  },
  {
   "cell_type": "code",
   "execution_count": null,
   "id": "e45d1c18",
   "metadata": {
    "deletable": false,
    "editable": false
   },
   "outputs": [],
   "source": [
    "grader.check(\"q1_5\")"
   ]
  },
  {
   "cell_type": "markdown",
   "id": "9a08fdf5",
   "metadata": {},
   "source": [
    "You're done with the required section of Homework 5! Continue on to the optional section for some more practice with iterations and for loops.\n",
    "\n",
    "Make sure to **run the submit cell located at the bottom of this notebook.**"
   ]
  },
  {
   "cell_type": "markdown",
   "id": "6ccf86a1",
   "metadata": {},
   "source": [
    "## 2. Unrolling Loops (Optional)"
   ]
  },
  {
   "cell_type": "markdown",
   "id": "9f562b7f",
   "metadata": {},
   "source": [
    "**This section of HW5 is optional. Do it for your own practice, but it will not be incorporated into the final grading!**\n",
    "\n",
    "\"Unrolling\" a `for` loop means to manually write out all the code that it executes.  The result is code that does the same thing as the loop, but without the structure of the loop.  For example, for the following loop:\n",
    "\n",
    "    for num in np.arange(3):\n",
    "        print(\"The number is\", num)\n",
    "\n",
    "The unrolled version would look like this:\n",
    "\n",
    "    print(\"The number is\", 0)\n",
    "    print(\"The number is\", 1)\n",
    "    print(\"The number is\", 2)\n",
    "\n",
    "\n",
    "Unrolling a `for` loop is a great way to understand what the loop is doing during each step. In this exercise, you'll practice unrolling a `for` loop.\n",
    "\n",
    "\n",
    "In the question below, write code that does the same thing as the given code, but with any `for` loops unrolled.  It's a good idea to run both your answer and the original code to verify that they do the same thing.  (Of course, if the code does something random, you'll get a different random outcome than the original code!)"
   ]
  },
  {
   "cell_type": "markdown",
   "id": "d01f3148",
   "metadata": {},
   "source": [
    "**Optional Question 1.** Unroll the code below."
   ]
  },
  {
   "cell_type": "code",
   "execution_count": null,
   "id": "e1c02220",
   "metadata": {
    "execution": {
     "iopub.execute_input": "2022-02-16T22:50:21.751270Z",
     "iopub.status.busy": "2022-02-16T22:50:21.750621Z",
     "iopub.status.idle": "2022-02-16T22:50:21.787773Z",
     "shell.execute_reply": "2022-02-16T22:50:21.787271Z"
    },
    "tags": []
   },
   "outputs": [],
   "source": [
    "for joke_iteration in np.arange(3):\n",
    "    print(\"Knock, knock.\")\n",
    "    print(\"Who's there?\")\n",
    "    print(\"Banana.\")\n",
    "    print(\"Banana who?\")\n",
    "print(\"Knock, knock.\")\n",
    "print(\"Who's there?\")\n",
    "print(\"Orange.\")\n",
    "print(\"Orange who?\")\n",
    "print(\"Orange you glad I didn't say banana?\")"
   ]
  },
  {
   "cell_type": "code",
   "execution_count": null,
   "id": "68189ee1",
   "metadata": {
    "execution": {
     "iopub.execute_input": "2022-02-16T22:50:21.794285Z",
     "iopub.status.busy": "2022-02-16T22:50:21.793534Z",
     "iopub.status.idle": "2022-02-16T22:50:21.799135Z",
     "shell.execute_reply": "2022-02-16T22:50:21.798688Z"
    },
    "for_assignment_type": "solution"
   },
   "outputs": [],
   "source": [
    "\"\"\" # BEGIN PROMPT\n",
    "...\n",
    "\"\"\"; # END PROMPT\n",
    "# BEGIN SOLUTION NO PROMPT\n",
    "print(\"Knock, knock.\")\n",
    "print(\"Who's there?\")\n",
    "print(\"Banana.\")\n",
    "print(\"Banana who?\")\n",
    "print(\"Knock, knock.\")\n",
    "print(\"Who's there?\")\n",
    "print(\"Banana.\")\n",
    "print(\"Banana who?\")\n",
    "print(\"Knock, knock.\")\n",
    "print(\"Who's there?\")\n",
    "print(\"Banana.\")\n",
    "print(\"Banana who?\")\n",
    "print(\"Knock, knock.\")\n",
    "print(\"Who's there?\")\n",
    "print(\"Orange.\")\n",
    "print(\"Orange who?\")\n",
    "print(\"Orange you glad I didn't say banana?\")\n",
    "# END SOLUTION"
   ]
  },
  {
   "cell_type": "markdown",
   "id": "4a42d818",
   "metadata": {},
   "source": [
    "Congratulations, you are done with Homework 5!\n",
    "\n",
    "**Important submission steps:** \n",
    "1. Run the tests and verify that they all pass.\n",
    "2. Choose **Save Notebook** from the **File** menu, then **run the final cell**. \n",
    "3. Click the link to download the zip file.\n",
    "4. Then submit the zip file to the corresponding assignment according to your instructor's directions. \n",
    "\n",
    "**It is your responsibility to make sure your work is saved before running the last cell.** "
   ]
  },
  {
   "cell_type": "markdown",
   "id": "9bdb19dc",
   "metadata": {
    "deletable": false,
    "editable": false
   },
   "source": [
    "## Submission\n",
    "\n",
    "Make sure you have run all cells in your notebook in order before running the cell below, so that all images/graphs appear in the output. The cell below will generate a zip file for you to submit. **Please save before exporting!**"
   ]
  },
  {
   "cell_type": "code",
   "execution_count": null,
   "id": "6c81d92c",
   "metadata": {
    "deletable": false,
    "editable": false
   },
   "outputs": [],
   "source": [
    "# Save your notebook first, then run this cell to export your submission.\n",
    "grader.export(pdf=False, run_tests=True)"
   ]
  },
  {
   "cell_type": "markdown",
   "id": "144a876e",
   "metadata": {},
   "source": [
    " "
   ]
  }
 ],
 "metadata": {
  "kernelspec": {
   "display_name": "Python 3 (ipykernel)",
   "language": "python",
   "name": "python3"
  },
  "language_info": {
   "codemirror_mode": {
    "name": "ipython",
    "version": 3
   },
   "file_extension": ".py",
   "mimetype": "text/x-python",
   "name": "python",
   "nbconvert_exporter": "python",
   "pygments_lexer": "ipython3",
   "version": "3.9.9"
  },
  "otter": {
   "OK_FORMAT": true,
   "tests": {
    "q1_1": {
     "name": "q1_1",
     "points": [
      10,
      10
     ],
     "suites": [
      {
       "cases": [
        {
         "code": ">>> sum_scores(2, 3, 6, 1)\n12",
         "hidden": false,
         "locked": false
        },
        {
         "code": ">>> sum_scores(-2,3,5,-10)\n-4",
         "hidden": false,
         "locked": false
        }
       ],
       "scored": true,
       "setup": "",
       "teardown": "",
       "type": "doctest"
      }
     ]
    },
    "q1_2": {
     "name": "q1_2",
     "points": [
      0,
      0
     ],
     "suites": [
      {
       "cases": [
        {
         "code": ">>> final_scores.num_columns\n3",
         "hidden": false,
         "locked": false
        },
        {
         "code": ">>> set(['Opponent', 'Cal Score', 'Opponent Score']) == set(final_scores.labels)\nTrue",
         "hidden": false,
         "locked": false
        }
       ],
       "scored": true,
       "setup": "",
       "teardown": "",
       "type": "doctest"
      }
     ]
    },
    "q1_3": {
     "name": "q1_3",
     "points": [
      0,
      10
     ],
     "suites": [
      {
       "cases": [
        {
         "code": ">>> 'did_cal_lose' in globals()\nTrue",
         "hidden": false,
         "locked": false
        },
        {
         "code": ">>> did_cal_lose(final_scores.row(1))\nTrue",
         "hidden": false,
         "locked": false
        }
       ],
       "scored": true,
       "setup": "",
       "teardown": "",
       "type": "doctest"
      }
     ]
    },
    "q1_4": {
     "name": "q1_4",
     "points": [
      0,
      0
     ],
     "suites": [
      {
       "cases": [
        {
         "code": ">>> 0 <= cal_wins <= 10\nTrue",
         "hidden": false,
         "locked": false
        },
        {
         "code": ">>> 0 <= cal_losses <= 10\nTrue",
         "hidden": false,
         "locked": false
        }
       ],
       "scored": true,
       "setup": "",
       "teardown": "",
       "type": "doctest"
      }
     ]
    },
    "q1_5": {
     "name": "q1_5",
     "points": [
      5,
      5
     ],
     "suites": [
      {
       "cases": [
        {
         "code": ">>> is_big_win(final_scores.row(2)) is True\nTrue",
         "hidden": false,
         "locked": false
        },
        {
         "code": ">>> # Make sure big_wins is an array.\n>>> import numpy as np\n>>> type(big_wins) == np.ndarray\nTrue",
         "hidden": false,
         "locked": false
        }
       ],
       "scored": true,
       "setup": "",
       "teardown": "",
       "type": "doctest"
      }
     ]
    }
   }
  }
 },
 "nbformat": 4,
 "nbformat_minor": 5
}
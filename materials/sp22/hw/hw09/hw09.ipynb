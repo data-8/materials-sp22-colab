{
 "cells": [
  {
   "cell_type": "code",
   "execution_count": null,
   "id": "c13fa0c0",
   "metadata": {
    "deletable": false,
    "editable": false
   },
   "outputs": [],
   "source": [
    "from google.colab import drive\n",
    "drive.mount('/content/gdrive', force_remount=True)\n",
    "\n",
    "!mkdir -p '/content/gdrive/My Drive/colab-materials-data8-notebooks/'\n",
    "!git clone https://github.com/data-8/materials-sp22-colab '/content/gdrive/My Drive/colab-materials-data8-notebooks/materials-sp22-colab/'\n",
    "\n",
    "%pip install otter-grader==4.3.1\n",
    "%cd /content/gdrive/MyDrive/colab-materials-data8-notebooks/materials-sp22-colab/materials/sp22/hw/hw09/\n",
    "# Initialize Otter\n",
    "import otter\n",
    "grader = otter.Notebook(\"hw09.ipynb\")"
   ]
  },
  {
   "cell_type": "markdown",
   "id": "2a08aa38",
   "metadata": {},
   "source": [
    "# Homework 9: Sample Sizes and Confidence Intervals"
   ]
  },
  {
   "cell_type": "markdown",
   "id": "b3d94d07",
   "metadata": {},
   "source": [
    "**Helpful Resource:**\n",
    "\n",
    "- [Python Reference](http://data8.org/sp22/python-reference.html): Cheat sheet of helpful array & table methods used in Data 8!\n",
    "\n",
    "**Recommended Readings**: \n",
    "\n",
    "* [Estimation](https://inferentialthinking.com/chapters/13/Estimation.html)\n",
    "* [Why the Mean Matters](https://inferentialthinking.com/chapters/14/Why_the_Mean_Matters.html)"
   ]
  },
  {
   "cell_type": "markdown",
   "id": "f9e118da",
   "metadata": {},
   "source": [
    "Please complete this notebook by filling in the cells provided. Before you begin, execute the following cell to setup the notebook by importing some helpful libraries. Each time you start your server, you will need to execute this cell again.\n",
    "\n",
    "For all problems that you must write explanations and sentences for, you **must** provide your answer in the designated space. **Moreover, throughout this homework and all future ones, please be sure to not re-assign variables throughout the notebook!** For example, if you use `max_temperature` in your answer to one question, do not reassign it later on. Otherwise, you will fail tests that you thought you were passing previously!\n",
    "\n",
    "\n",
    "**Note: This homework has hidden tests on it. That means even though the tests may say 100% passed, it doesn't mean your final grade will be 100%. We will be running more tests for correctness once everyone turns in the homework.**\n",
    "\n",
    "\n",
    "Directly sharing answers is not okay, but discussing problems with the course staff or with other students is encouraged. \n",
    "\n",
    "You should start early so that you have time to get help if you're stuck."
   ]
  },
  {
   "cell_type": "code",
   "execution_count": null,
   "id": "0da8d162",
   "metadata": {
    "execution": {
     "iopub.execute_input": "2022-03-31T07:51:20.039914Z",
     "iopub.status.busy": "2022-03-31T07:51:20.039629Z",
     "iopub.status.idle": "2022-03-31T07:51:21.455818Z",
     "shell.execute_reply": "2022-03-31T07:51:21.455028Z"
    }
   },
   "outputs": [],
   "source": [
    "# Don't change this cell; just run it. \n",
    "\n",
    "import numpy as np\n",
    "from datascience import *\n",
    "\n",
    "# These lines do some fancy plotting magic.\",\n",
    "import matplotlib\n",
    "%matplotlib inline\n",
    "import matplotlib.pyplot as plt\n",
    "plt.style.use('fivethirtyeight')\n",
    "import warnings\n",
    "warnings.simplefilter('ignore', FutureWarning)"
   ]
  },
  {
   "cell_type": "markdown",
   "id": "36d2a0aa",
   "metadata": {},
   "source": [
    "## 1. Bounding the Tail of a Distribution\n",
    "\n",
    "A community has an average age of 45 years with a standard deviation of 5 years.\n",
    "\n",
    "In each part below, fill in the blank with a percent that makes the statement true **without further assumptions**, and explain your answer.\n",
    "\n",
    "*Note:* No credit will be given for loose bounds such as \"at least 0%\" or \"at most 100%\". Give the best answer that is possible with the information given."
   ]
  },
  {
   "cell_type": "markdown",
   "id": "279572a8",
   "metadata": {},
   "source": [
    "<!-- BEGIN QUESTION -->\n",
    "\n",
    "**Question 1.1.** At least _______% of the people are between 25 and 65 years old. **(6 Points)**\n"
   ]
  },
  {
   "cell_type": "markdown",
   "id": "487de793",
   "metadata": {},
   "source": [
    "_Type your answer here, replacing this text._"
   ]
  },
  {
   "cell_type": "markdown",
   "id": "d0db14bf",
   "metadata": {},
   "source": [
    "<!-- END QUESTION -->\n",
    "\n",
    "<!-- BEGIN QUESTION -->\n",
    "\n",
    "**Question 1.2.** At most _______% of the people have ages that are not in the range 25 years to 65 years. **(6 Points)**\n"
   ]
  },
  {
   "cell_type": "markdown",
   "id": "ce66d8b4",
   "metadata": {},
   "source": [
    "_Type your answer here, replacing this text._"
   ]
  },
  {
   "cell_type": "markdown",
   "id": "3369e236",
   "metadata": {},
   "source": [
    "<!-- END QUESTION -->\n",
    "\n",
    "<!-- BEGIN QUESTION -->\n",
    "\n",
    "**Question 1.3.** At most _______% of the people are more than 65 years old. **(6 Points)**\n",
    "\n",
    "*Hint:* If you're stuck, try thinking about what the distribution may look like in this case.\n"
   ]
  },
  {
   "cell_type": "markdown",
   "id": "06e6ee3d",
   "metadata": {},
   "source": [
    "_Type your answer here, replacing this text._"
   ]
  },
  {
   "cell_type": "markdown",
   "id": "99e598c0",
   "metadata": {},
   "source": [
    "<!-- END QUESTION -->\n",
    "\n",
    "## 2. Sample Size and Confidence Level\n",
    "\n",
    "A data science class at the large Data 8 University wants to estimate the percent of Facebook users among students at the school. To do this, they need to take a random sample of students. You can assume that their method of sampling is equivalent to drawing at random with replacement from students at the school.\n",
    "\n",
    "***Please review [Section 14.6](https://inferentialthinking.com/chapters/14/6/Choosing_a_Sample_Size.html#) of the textbook before proceeding with this section. Your work will go much faster that way!***"
   ]
  },
  {
   "cell_type": "markdown",
   "id": "c53a3ee7",
   "metadata": {},
   "source": [
    "**Question 2.1.** Assign `smallest` to the smallest number of students they should sample to ensure that a **95%** confidence interval for the parameter has a width of no more than 6% from left end to right end. **(6 points)**\n",
    "\n",
    "*Hint:* How can our data be represented to show if a student in the sample is a Facebook user? Given this, what assumptions can we make for the SD of the population? [Section 14.6](https://inferentialthinking.com/chapters/14/6/Choosing_a_Sample_Size.html#) might be helpful!\n",
    "\n",
    "*Note:* While the true smallest sample size would have to be an integer, please leave your answer in decimal format for the sake of our tests.\n"
   ]
  },
  {
   "cell_type": "code",
   "execution_count": null,
   "id": "046be14f",
   "metadata": {
    "execution": {
     "iopub.execute_input": "2022-03-31T07:51:21.459968Z",
     "iopub.status.busy": "2022-03-31T07:51:21.459741Z",
     "iopub.status.idle": "2022-03-31T07:51:21.466213Z",
     "shell.execute_reply": "2022-03-31T07:51:21.465532Z"
    },
    "tags": []
   },
   "outputs": [],
   "source": [
    "smallest = ...\n",
    "smallest"
   ]
  },
  {
   "cell_type": "code",
   "execution_count": null,
   "id": "662e1a3a",
   "metadata": {
    "deletable": false,
    "editable": false
   },
   "outputs": [],
   "source": [
    "grader.check(\"q2_1\")"
   ]
  },
  {
   "cell_type": "markdown",
   "id": "8c5e421a",
   "metadata": {},
   "source": [
    "<!-- BEGIN QUESTION -->\n",
    "\n",
    "**Question 2.2.** Suppose the data science class decides to construct a 90% confidence interval instead of a 95% confidence interval, but they still require that the width of the interval is no more than 6% from left end to right end. Will they need the same sample size as in 2.1? Pick the right answer and explain further without calculation. **(6 Points)**\n",
    "\n",
    "1. Yes, they must use the same sample size.\n",
    "2. No, a smaller sample size will work.\n",
    "3. No, they will need a bigger sample.\n"
   ]
  },
  {
   "cell_type": "markdown",
   "id": "b3647954",
   "metadata": {},
   "source": [
    "_Type your answer here, replacing this text._"
   ]
  },
  {
   "cell_type": "markdown",
   "id": "c6ba4dc0",
   "metadata": {},
   "source": [
    "<!-- END QUESTION -->\n",
    "\n",
    "**Question 2.3.** The professor tells the class that a 90% confidence interval for the parameter is constructed exactly like a 95% confidence interval, except that you have to go only 1.65 SDs on either side of the estimate (\u00b11.65) instead of 2 SDs on either side (\u00b12). Assign `smallest_num` to the smallest number of students they should sample to ensure that a **90%** confidence interval for the parameter has a width of no more than 6% from left end to right end. **(6 points)**\n",
    "\n",
    "*Note:* While the true smallest sample size would have to be an integer, please leave your answer in decimal format for the sake of our tests.\n"
   ]
  },
  {
   "cell_type": "code",
   "execution_count": null,
   "id": "27121be8",
   "metadata": {
    "execution": {
     "iopub.execute_input": "2022-03-31T07:51:21.487624Z",
     "iopub.status.busy": "2022-03-31T07:51:21.487428Z",
     "iopub.status.idle": "2022-03-31T07:51:21.491671Z",
     "shell.execute_reply": "2022-03-31T07:51:21.491149Z"
    },
    "tags": []
   },
   "outputs": [],
   "source": [
    "smallest_num = ...\n",
    "smallest_num"
   ]
  },
  {
   "cell_type": "code",
   "execution_count": null,
   "id": "6c57c1c2",
   "metadata": {
    "deletable": false,
    "editable": false
   },
   "outputs": [],
   "source": [
    "grader.check(\"q2_3\")"
   ]
  },
  {
   "cell_type": "markdown",
   "id": "19127145",
   "metadata": {},
   "source": [
    "For this next exercise, please consult [Section 14.3.4](https://inferentialthinking.com/chapters/14/3/SD_and_the_Normal_Curve.html#the-standard-normal-cdf) of the textbook for similar examples.\n",
    "\n",
    "The students are curious about how the professor came up with the value 1.65 in Question 2.3. She says she ran the following two code cells. The first one calls the `datascience` library function `plot_normal_cdf`, which displays the proportion that is at most the specified number of SDs above average under the normal curve plotted with standard units on the horizontal axis. You can find the documentation [here](http://data8.org/datascience/util.html#datascience.util.plot_normal_cdf).\n",
    "\n",
    "*Note:* The acronym `cdf` stands for `cumulative distribution function`. It measures the proportion to the left of a specified point under a probability histogram."
   ]
  },
  {
   "cell_type": "code",
   "execution_count": null,
   "id": "8e126eab",
   "metadata": {
    "execution": {
     "iopub.execute_input": "2022-03-31T07:51:21.508257Z",
     "iopub.status.busy": "2022-03-31T07:51:21.508045Z",
     "iopub.status.idle": "2022-03-31T07:51:21.942839Z",
     "shell.execute_reply": "2022-03-31T07:51:21.942128Z"
    }
   },
   "outputs": [],
   "source": [
    "plot_normal_cdf(1.65)"
   ]
  },
  {
   "cell_type": "markdown",
   "id": "2a238282",
   "metadata": {},
   "source": [
    "To run the second cell, the professor had to first import a Python library for probability and statistics:"
   ]
  },
  {
   "cell_type": "code",
   "execution_count": null,
   "id": "4f32b14a",
   "metadata": {
    "execution": {
     "iopub.execute_input": "2022-03-31T07:51:21.946387Z",
     "iopub.status.busy": "2022-03-31T07:51:21.945746Z",
     "iopub.status.idle": "2022-03-31T07:51:21.949406Z",
     "shell.execute_reply": "2022-03-31T07:51:21.948604Z"
    }
   },
   "outputs": [],
   "source": [
    "# Just run this cell\n",
    "from scipy import stats"
   ]
  },
  {
   "cell_type": "markdown",
   "id": "d5c11c54",
   "metadata": {},
   "source": [
    "Then she used the `norm.cdf` method in the library to find the gold proportion above."
   ]
  },
  {
   "cell_type": "code",
   "execution_count": null,
   "id": "0fa2a50c",
   "metadata": {
    "execution": {
     "iopub.execute_input": "2022-03-31T07:51:21.952739Z",
     "iopub.status.busy": "2022-03-31T07:51:21.952229Z",
     "iopub.status.idle": "2022-03-31T07:51:21.957224Z",
     "shell.execute_reply": "2022-03-31T07:51:21.956624Z"
    }
   },
   "outputs": [],
   "source": [
    "# Just run this cell\n",
    "stats.norm.cdf(1.65)"
   ]
  },
  {
   "cell_type": "markdown",
   "id": "56c620a7",
   "metadata": {},
   "source": [
    "*Note*: You do not need to understand how the `scipy` library or how to use the method yourself."
   ]
  },
  {
   "cell_type": "markdown",
   "id": "c485a5aa",
   "metadata": {},
   "source": [
    "<!-- BEGIN QUESTION -->\n",
    "\n",
    "**Question 2.4.** This shows that the percentage in a normal distribution that is at most 1.65 SDs above average is about **95%**. Explain why 1.65 is the right number of SDs to use when constructing a **90%** confidence interval. **(6 Points)**\n"
   ]
  },
  {
   "cell_type": "markdown",
   "id": "3144ea68",
   "metadata": {},
   "source": [
    "_Type your answer here, replacing this text._"
   ]
  },
  {
   "cell_type": "markdown",
   "id": "14acfd4e",
   "metadata": {},
   "source": [
    "<!-- END QUESTION -->\n",
    "\n"
   ]
  },
  {
   "cell_type": "code",
   "execution_count": null,
   "id": "1f76e4c5",
   "metadata": {
    "execution": {
     "iopub.execute_input": "2022-03-31T07:51:21.960089Z",
     "iopub.status.busy": "2022-03-31T07:51:21.959795Z",
     "iopub.status.idle": "2022-03-31T07:51:21.964749Z",
     "shell.execute_reply": "2022-03-31T07:51:21.964094Z"
    }
   },
   "outputs": [],
   "source": [
    "# Just run this cell, do not change it.\n",
    "stats.norm.cdf(2.33)"
   ]
  },
  {
   "cell_type": "markdown",
   "id": "76889aec",
   "metadata": {},
   "source": [
    "**Question 2.5.** The cell above shows that the proportion that is at most 2.33 SDs above average in a normal distribution is 99%. Assign `option` to the right option to fill in the blank: **(6 points)**\n",
    "\n",
    "If you start at the estimate and go 2.33 SDs on either side, then you will get a _______% confidence interval for the parameter.\n",
    "\n",
    "1. 99.5\n",
    "2. 99\n",
    "3. 98.5\n",
    "4. 98\n",
    "\n"
   ]
  },
  {
   "cell_type": "code",
   "execution_count": null,
   "id": "c0d37af6",
   "metadata": {
    "execution": {
     "iopub.execute_input": "2022-03-31T07:51:21.981433Z",
     "iopub.status.busy": "2022-03-31T07:51:21.980754Z",
     "iopub.status.idle": "2022-03-31T07:51:21.985506Z",
     "shell.execute_reply": "2022-03-31T07:51:21.984809Z"
    },
    "tags": []
   },
   "outputs": [],
   "source": [
    "option = ...\n",
    "option"
   ]
  },
  {
   "cell_type": "code",
   "execution_count": null,
   "id": "07841cf6",
   "metadata": {
    "deletable": false,
    "editable": false
   },
   "outputs": [],
   "source": [
    "grader.check(\"q2_5\")"
   ]
  },
  {
   "cell_type": "markdown",
   "id": "3ce61049",
   "metadata": {},
   "source": [
    "## 3. Polling and the Normal Distribution"
   ]
  },
  {
   "cell_type": "code",
   "execution_count": null,
   "id": "4b18b778",
   "metadata": {
    "ExecuteTime": {
     "end_time": "2018-03-20T04:34:23.368185Z",
     "start_time": "2018-03-20T04:34:20.823771Z"
    },
    "execution": {
     "iopub.execute_input": "2022-03-31T07:51:22.002027Z",
     "iopub.status.busy": "2022-03-31T07:51:22.001803Z",
     "iopub.status.idle": "2022-03-31T07:51:22.007374Z",
     "shell.execute_reply": "2022-03-31T07:51:22.006738Z"
    }
   },
   "outputs": [],
   "source": [
    "# Don't change this cell; just run it. \n",
    "\n",
    "import numpy as np\n",
    "from datascience import *\n",
    "\n",
    "# These lines do some fancy plotting magic.\",\n",
    "import matplotlib\n",
    "%matplotlib inline\n",
    "import matplotlib.pyplot as plt\n",
    "plt.style.use('fivethirtyeight')\n",
    "import warnings\n",
    "warnings.simplefilter('ignore', FutureWarning)"
   ]
  },
  {
   "cell_type": "markdown",
   "id": "479a2007",
   "metadata": {},
   "source": [
    "Michelle is a statistical consultant, and she works for a group that supports Proposition 68 (which would mandate labeling of all horizontal and vertical axes) called Yes on 68.  They want to know how many Californians will vote for the proposition.\n",
    "\n",
    "Michelle polls a uniform random sample of all California voters, and she finds that 210 of the 400 sampled voters will vote in favor of the proposition. We have provided a table for you below which has 3 columns: the first two columns are identical to `sample`. The third column contains the proportion of total voters that chose each option."
   ]
  },
  {
   "cell_type": "code",
   "execution_count": null,
   "id": "979b1dec",
   "metadata": {
    "ExecuteTime": {
     "end_time": "2018-03-20T04:34:23.388186Z",
     "start_time": "2018-03-20T04:34:23.372185Z"
    },
    "deletable": false,
    "execution": {
     "iopub.execute_input": "2022-03-31T07:51:22.009883Z",
     "iopub.status.busy": "2022-03-31T07:51:22.009698Z",
     "iopub.status.idle": "2022-03-31T07:51:22.015818Z",
     "shell.execute_reply": "2022-03-31T07:51:22.015246Z"
    },
    "manual_problem_id": "sample_with_proportions"
   },
   "outputs": [],
   "source": [
    "sample = Table().with_columns(\n",
    "    \"Vote\",  make_array(\"Yes\", \"No\"),\n",
    "    \"Count\", make_array(210,   190))\n",
    "\n",
    "sample_size = sum(sample.column(\"Count\"))\n",
    "sample_with_proportions = sample.with_column(\"Proportion\", sample.column(\"Count\") / sample_size)\n",
    "sample_with_proportions"
   ]
  },
  {
   "cell_type": "markdown",
   "id": "a85eb4e0",
   "metadata": {},
   "source": [
    "**Question 3.1.** Michelle wants to use 10,000 bootstrap resamples to compute a confidence interval for the proportion of all California voters who will vote Yes.  \n",
    "\n",
    "Fill in the next cell to simulate an empirical distribution of Yes proportions. Use bootstrap resampling to simulate 10,000 election outcomes, and assign `resample_yes_proportions` to contain the Yes proportion of each bootstrap resample. Then, visualize `resample_yes_proportions` with a histogram. **You should see a bell shaped curve centered near the proportion of Yes in the original sample.** **(6 points)**\n",
    "\n",
    "*Hint:* `sample_proportions` may be useful here!\n"
   ]
  },
  {
   "cell_type": "code",
   "execution_count": null,
   "id": "505829b0",
   "metadata": {
    "ExecuteTime": {
     "end_time": "2018-03-20T04:35:22.190065Z",
     "start_time": "2018-03-20T04:35:21.777769Z"
    },
    "deletable": false,
    "execution": {
     "iopub.execute_input": "2022-03-31T07:51:22.018480Z",
     "iopub.status.busy": "2022-03-31T07:51:22.018291Z",
     "iopub.status.idle": "2022-03-31T07:51:22.526779Z",
     "shell.execute_reply": "2022-03-31T07:51:22.526038Z"
    },
    "manual_problem_id": "resample_yes_proportions",
    "tags": []
   },
   "outputs": [],
   "source": [
    "resample_yes_proportions = make_array()\n",
    "for i in np.arange(10000):\n",
    "    resample = ...\n",
    "    resample_yes_proportions = ...\n",
    "Table().with_column(\"Resample Yes proportion\", resample_yes_proportions).hist(bins=np.arange(.2, .8, .01))"
   ]
  },
  {
   "cell_type": "code",
   "execution_count": null,
   "id": "1ef4b138",
   "metadata": {
    "deletable": false,
    "editable": false
   },
   "outputs": [],
   "source": [
    "grader.check(\"q3_1\")"
   ]
  },
  {
   "cell_type": "markdown",
   "id": "a6af09be",
   "metadata": {},
   "source": [
    "<!-- BEGIN QUESTION -->\n",
    "\n",
    "**Question 3.2.** Why does the Central Limit Theorem (CLT) apply in this situation, and how does it explain the distribution we see above? **(6 points)**\n"
   ]
  },
  {
   "cell_type": "markdown",
   "id": "269cd830",
   "metadata": {},
   "source": [
    "_Type your answer here, replacing this text._"
   ]
  },
  {
   "cell_type": "markdown",
   "id": "203ae693",
   "metadata": {},
   "source": [
    "<!-- END QUESTION -->\n",
    "\n",
    "In a population whose members are 0 and 1, there is a simple formula for the **standard deviation of that population**:\n",
    "\n",
    "$$\\text{standard deviation of population} = \\sqrt{(\\text{proportion of 0s}) \\times (\\text{proportion of 1s})}$$\n",
    "\n",
    "(Figuring out this formula, starting from the definition of the standard deviation, is an fun exercise for those who enjoy algebra.)"
   ]
  },
  {
   "cell_type": "markdown",
   "id": "5bc49dd5",
   "metadata": {},
   "source": [
    "**Question 3.3.** Using only the Central Limit Theorem and the numbers of Yes and No voters in our sample of 400, *algebraically* compute the predicted standard deviation of the `resample_yes_proportions` array. Assign this number to `approximate_sd`. **Do not access the data in `resample_yes_proportions` in any way.** **(6 points)**\n",
    "\n",
    "Remember that the standard deviation of the sample means can be computed from the population SD and the size of the sample (the formula above might be helpful). If we do not know the population SD, we can use the sample SD as a reasonable approximation in its place. [This section](https://inferentialthinking.com/chapters/14/5/Variability_of_the_Sample_Mean.html#the-sd-of-all-the-sample-means) of the textbook also may be helpful.\n"
   ]
  },
  {
   "cell_type": "code",
   "execution_count": null,
   "id": "04706fe1",
   "metadata": {
    "ExecuteTime": {
     "end_time": "2018-03-20T04:35:33.660846Z",
     "start_time": "2018-03-20T04:35:33.652810Z"
    },
    "deletable": false,
    "execution": {
     "iopub.execute_input": "2022-03-31T07:51:22.548498Z",
     "iopub.status.busy": "2022-03-31T07:51:22.547840Z",
     "iopub.status.idle": "2022-03-31T07:51:22.553529Z",
     "shell.execute_reply": "2022-03-31T07:51:22.552853Z"
    },
    "manual_problem_id": "approximate_sd",
    "tags": []
   },
   "outputs": [],
   "source": [
    "approx_pop_sd = ...\n",
    "approximate_sd = ...\n",
    "approximate_sd"
   ]
  },
  {
   "cell_type": "code",
   "execution_count": null,
   "id": "513ad0ef",
   "metadata": {
    "deletable": false,
    "editable": false
   },
   "outputs": [],
   "source": [
    "grader.check(\"q3_3\")"
   ]
  },
  {
   "cell_type": "markdown",
   "id": "6e0394d2",
   "metadata": {},
   "source": [
    "**Question 3.4.** Compute the standard deviation of the array `resample_yes_proportions`, which will act as an approximation to the true SD of the possible sample proportions. This will help verify whether your answer to question 3.3 is approximately correct. **(6 points)**\n"
   ]
  },
  {
   "cell_type": "code",
   "execution_count": null,
   "id": "d9339ff8",
   "metadata": {
    "ExecuteTime": {
     "end_time": "2018-03-20T04:35:34.753988Z",
     "start_time": "2018-03-20T04:35:34.745953Z"
    },
    "deletable": false,
    "execution": {
     "iopub.execute_input": "2022-03-31T07:51:22.593367Z",
     "iopub.status.busy": "2022-03-31T07:51:22.593118Z",
     "iopub.status.idle": "2022-03-31T07:51:22.598680Z",
     "shell.execute_reply": "2022-03-31T07:51:22.598082Z"
    },
    "manual_problem_id": "exact_sd",
    "tags": []
   },
   "outputs": [],
   "source": [
    "exact_sd = ...\n",
    "exact_sd"
   ]
  },
  {
   "cell_type": "code",
   "execution_count": null,
   "id": "4bf40f96",
   "metadata": {
    "deletable": false,
    "editable": false
   },
   "outputs": [],
   "source": [
    "grader.check(\"q3_4\")"
   ]
  },
  {
   "cell_type": "markdown",
   "id": "0b881bb7",
   "metadata": {},
   "source": [
    "**Question 3.5.** **Again, without accessing `resample_yes_proportions` in any way**, compute an approximate 95% confidence interval for the proportion of Yes voters in California. **(6 points)**\n",
    "\n",
    "The cell below draws your interval as a red bar below the histogram of `resample_yes_proportions`; use that to verify that your answer looks right.\n",
    "\n",
    "*Hint:* How many SDs corresponds to 95% of the distribution promised by the CLT? Recall the discussion in the textbook [here](https://inferentialthinking.com/chapters/14/3/SD_and_the_Normal_Curve.html).\n",
    "\n",
    "*Hint:* The `approximate_sd` variable you previously defined may be helpful!\n"
   ]
  },
  {
   "cell_type": "code",
   "execution_count": null,
   "id": "90273bb5",
   "metadata": {
    "ExecuteTime": {
     "end_time": "2018-03-20T04:35:42.572582Z",
     "start_time": "2018-03-20T04:35:42.560545Z"
    },
    "deletable": false,
    "execution": {
     "iopub.execute_input": "2022-03-31T07:51:22.616458Z",
     "iopub.status.busy": "2022-03-31T07:51:22.616257Z",
     "iopub.status.idle": "2022-03-31T07:51:22.620975Z",
     "shell.execute_reply": "2022-03-31T07:51:22.620228Z"
    },
    "manual_problem_id": "ci_without_data",
    "tags": []
   },
   "outputs": [],
   "source": [
    "lower_limit = ...\n",
    "upper_limit = ...\n",
    "print('lower:', lower_limit, 'upper:', upper_limit)"
   ]
  },
  {
   "cell_type": "code",
   "execution_count": null,
   "id": "d382c6f6",
   "metadata": {
    "deletable": false,
    "editable": false
   },
   "outputs": [],
   "source": [
    "grader.check(\"q3_5\")"
   ]
  },
  {
   "cell_type": "code",
   "execution_count": null,
   "id": "5b5fbd26",
   "metadata": {
    "deletable": false,
    "editable": false,
    "execution": {
     "iopub.execute_input": "2022-03-31T07:51:22.646169Z",
     "iopub.status.busy": "2022-03-31T07:51:22.645942Z",
     "iopub.status.idle": "2022-03-31T07:51:23.029199Z",
     "shell.execute_reply": "2022-03-31T07:51:23.028329Z"
    }
   },
   "outputs": [],
   "source": [
    "# Run this cell to plot your confidence interval.\n",
    "Table().with_column(\"Resample Yes proportion\", resample_yes_proportions).hist(bins=np.arange(.2, .8, .01))\n",
    "plt.plot(make_array(lower_limit, upper_limit), make_array(0, 0), c='r', lw=10);"
   ]
  },
  {
   "cell_type": "markdown",
   "id": "89723b89",
   "metadata": {},
   "source": [
    "<div class=\"hide\">\\pagebreak</div>\n",
    "Your confidence interval should overlap the number 0.5.  That means we can't be very sure whether Proposition 68 is winning, even though the sample Yes proportion is a bit above 0.5.\n",
    "\n",
    "The Yes on 68 campaign really needs to know whether they're winning.  It's impossible to be absolutely sure without polling the whole population, but they'd be okay if the standard deviation of the sample mean were only 0.005.  They ask Michelle to run a new poll with a sample size that's large enough to achieve that.  (Polling is expensive, so the sample also shouldn't be bigger than necessary.)\n",
    "\n",
    "Michelle consults Chapter 14 of your textbook.  Instead of making the conservative assumption that the population standard deviation is 0.5 (coding Yes voters as 1 and No voters as 0), she decides to assume that it's equal to the standard deviation of the sample,\n",
    "\n",
    "$$\\sqrt{(\\text{Yes proportion in the sample}) \\times (\\text{No proportion in the sample})}.$$\n",
    "\n",
    "Under that assumption, Michelle decides that a sample of 9,975 would suffice."
   ]
  },
  {
   "cell_type": "markdown",
   "id": "fcdb4087",
   "metadata": {},
   "source": [
    "**Question 3.6.** Does Michelle's sample size achieve the desired standard deviation of sample means? What SD would you achieve with a smaller sample size? A higher sample size?\n",
    "\n",
    "To explore this, first compute the SD of sample means obtained by using Michelle's sample size. **(6 points)**\n"
   ]
  },
  {
   "cell_type": "code",
   "execution_count": null,
   "id": "7dff8d6e",
   "metadata": {
    "ExecuteTime": {
     "end_time": "2018-03-20T04:35:45.882794Z",
     "start_time": "2018-03-20T04:35:45.870760Z"
    },
    "deletable": false,
    "execution": {
     "iopub.execute_input": "2022-03-31T07:51:23.032801Z",
     "iopub.status.busy": "2022-03-31T07:51:23.032579Z",
     "iopub.status.idle": "2022-03-31T07:51:23.038119Z",
     "shell.execute_reply": "2022-03-31T07:51:23.037353Z"
    },
    "manual_problem_id": "michelle_sample_mean_sd",
    "scrolled": true,
    "tags": []
   },
   "outputs": [],
   "source": [
    "estimated_population_sd = ...\n",
    "michelle_sample_size = ...\n",
    "michelle_sample_mean_sd = ...\n",
    "print(\"With Michelle's sample size, you would predict a sample mean SD of %f.\" % michelle_sample_mean_sd)"
   ]
  },
  {
   "cell_type": "code",
   "execution_count": null,
   "id": "641276bd",
   "metadata": {
    "deletable": false,
    "editable": false
   },
   "outputs": [],
   "source": [
    "grader.check(\"q3_6\")"
   ]
  },
  {
   "cell_type": "markdown",
   "id": "3f2bf96a",
   "metadata": {},
   "source": [
    "**Question 3.7.** Next, compute the SD of sample means that you would get from a smaller sample size. Ideally, you should pick a number that is significantly smaller, but any sample size smaller than Michelle's will do. **(5 points)**\n"
   ]
  },
  {
   "cell_type": "code",
   "execution_count": null,
   "id": "98419e45",
   "metadata": {
    "ExecuteTime": {
     "end_time": "2018-03-20T04:35:47.010246Z",
     "start_time": "2018-03-20T04:35:47.002724Z"
    },
    "deletable": false,
    "execution": {
     "iopub.execute_input": "2022-03-31T07:51:23.090325Z",
     "iopub.status.busy": "2022-03-31T07:51:23.090060Z",
     "iopub.status.idle": "2022-03-31T07:51:23.095558Z",
     "shell.execute_reply": "2022-03-31T07:51:23.094729Z"
    },
    "manual_problem_id": "smaller_sample_size",
    "tags": []
   },
   "outputs": [],
   "source": [
    "smaller_sample_size = ...\n",
    "smaller_sample_mean_sd = ...\n",
    "print(\"With this smaller sample size, you would predict a sample mean SD of %f\" % smaller_sample_mean_sd)"
   ]
  },
  {
   "cell_type": "code",
   "execution_count": null,
   "id": "63dd72d6",
   "metadata": {
    "deletable": false,
    "editable": false
   },
   "outputs": [],
   "source": [
    "grader.check(\"q3_7\")"
   ]
  },
  {
   "cell_type": "markdown",
   "id": "fc9bb325",
   "metadata": {},
   "source": [
    "**Question 3.8.** Finally, compute the SD of sample means that you would get from a larger sample size. Here, a number that is significantly larger would make any difference more obvious, but any sample size larger than Michelle's will do. **(5 points)**\n",
    "\n"
   ]
  },
  {
   "cell_type": "code",
   "execution_count": null,
   "id": "08df2d52",
   "metadata": {
    "ExecuteTime": {
     "end_time": "2018-03-20T04:35:48.098047Z",
     "start_time": "2018-03-20T04:35:48.089414Z"
    },
    "deletable": false,
    "execution": {
     "iopub.execute_input": "2022-03-31T07:51:23.114512Z",
     "iopub.status.busy": "2022-03-31T07:51:23.114289Z",
     "iopub.status.idle": "2022-03-31T07:51:23.118941Z",
     "shell.execute_reply": "2022-03-31T07:51:23.118241Z"
    },
    "manual_problem_id": "larger_sample_mean_sd",
    "tags": []
   },
   "outputs": [],
   "source": [
    "larger_sample_size = ...\n",
    "larger_sample_mean_sd = ...\n",
    "print(\"With this larger sample size, you would predict a sample mean SD of %f\" % larger_sample_mean_sd)"
   ]
  },
  {
   "cell_type": "code",
   "execution_count": null,
   "id": "7aba829e",
   "metadata": {
    "deletable": false,
    "editable": false
   },
   "outputs": [],
   "source": [
    "grader.check(\"q3_8\")"
   ]
  },
  {
   "cell_type": "markdown",
   "id": "bdb23c19",
   "metadata": {},
   "source": [
    "**Question 3.9.** Based off of this, was Michelle's sample size approximately the minimum sufficient sample, given her assumption that the sample SD is the same as the population SD? Assign `min_sufficient` to `True` if 9,975 was indeed approximately the minimum sufficient sample, and `False` if it wasn't. **(4 points)**\n"
   ]
  },
  {
   "cell_type": "code",
   "execution_count": null,
   "id": "f0a8b4ba",
   "metadata": {
    "ExecuteTime": {
     "end_time": "2018-03-20T04:35:49.134092Z",
     "start_time": "2018-03-20T04:35:49.126066Z"
    },
    "deletable": false,
    "execution": {
     "iopub.execute_input": "2022-03-31T07:51:23.137161Z",
     "iopub.status.busy": "2022-03-31T07:51:23.136495Z",
     "iopub.status.idle": "2022-03-31T07:51:23.141040Z",
     "shell.execute_reply": "2022-03-31T07:51:23.140466Z"
    },
    "manual_problem_id": "min_sufficient",
    "tags": []
   },
   "outputs": [],
   "source": [
    "min_sufficient = ...\n",
    "min_sufficient"
   ]
  },
  {
   "cell_type": "code",
   "execution_count": null,
   "id": "dc4d0b49",
   "metadata": {
    "deletable": false,
    "editable": false
   },
   "outputs": [],
   "source": [
    "grader.check(\"q3_9\")"
   ]
  },
  {
   "cell_type": "markdown",
   "id": "bc25f05a",
   "metadata": {},
   "source": [
    "## 4. Mid-Semester Survey\n",
    "\n",
    "Once you have submitted, please also take the time to complete the Mid-Semester Survey! We\n",
    "really appreciate your honest feedback and it helps us improve the course!\n",
    "\n",
    "The Mid-Semester survey is linked here: https://forms.gle/mg3E97WckJsiM5xa8"
   ]
  },
  {
   "cell_type": "markdown",
   "id": "123159b8",
   "metadata": {},
   "source": [
    "**Question 4.1.** Fill out the mid-semester survey linked above. Once you have submitted, a secret word will be displayed. Set `secret_word` to the secret string at the end of the form. **(2 points)**\n",
    "\n"
   ]
  },
  {
   "cell_type": "code",
   "execution_count": null,
   "id": "9f5400a8",
   "metadata": {
    "execution": {
     "iopub.execute_input": "2022-03-31T07:51:23.192595Z",
     "iopub.status.busy": "2022-03-31T07:51:23.192349Z",
     "iopub.status.idle": "2022-03-31T07:51:23.196011Z",
     "shell.execute_reply": "2022-03-31T07:51:23.195355Z"
    },
    "tags": []
   },
   "outputs": [],
   "source": [
    "secret_word = ..."
   ]
  },
  {
   "cell_type": "code",
   "execution_count": null,
   "id": "5d7900aa",
   "metadata": {
    "deletable": false,
    "editable": false
   },
   "outputs": [],
   "source": [
    "grader.check(\"q4_1\")"
   ]
  },
  {
   "cell_type": "markdown",
   "id": "d0053c25",
   "metadata": {},
   "source": [
    "You're done with Homework 9!  \n",
    "\n",
    "**Important submission steps:** \n",
    "1. Run the tests and verify that they all pass.\n",
    "2. Choose **Save Notebook** from the **File** menu, then **run the final cell**. \n",
    "3. Click the link to download the zip file.\n",
    "4. Then submit the zip file to the corresponding assignment according to your instructor's directions. \n",
    "\n",
    "**It is your responsibility to make sure your work is saved before running the last cell.**"
   ]
  },
  {
   "cell_type": "markdown",
   "id": "ba6f63e4",
   "metadata": {
    "deletable": false,
    "editable": false
   },
   "source": [
    "## Submission\n",
    "\n",
    "Make sure you have run all cells in your notebook in order before running the cell below, so that all images/graphs appear in the output. The cell below will generate a zip file for you to submit. **Please save before exporting!**"
   ]
  },
  {
   "cell_type": "code",
   "execution_count": null,
   "id": "ec9c1f2f",
   "metadata": {
    "deletable": false,
    "editable": false
   },
   "outputs": [],
   "source": [
    "# Save your notebook first, then run this cell to export your submission.\n",
    "grader.export(pdf=False, run_tests=True)"
   ]
  },
  {
   "cell_type": "markdown",
   "id": "3134e0cb",
   "metadata": {},
   "source": [
    " "
   ]
  }
 ],
 "metadata": {
  "kernelspec": {
   "display_name": "Python 3 (ipykernel)",
   "language": "python",
   "name": "python3"
  },
  "language_info": {
   "codemirror_mode": {
    "name": "ipython",
    "version": 3
   },
   "file_extension": ".py",
   "mimetype": "text/x-python",
   "name": "python",
   "nbconvert_exporter": "python",
   "pygments_lexer": "ipython3",
   "version": "3.9.10"
  },
  "otter": {
   "OK_FORMAT": true,
   "tests": {
    "q2_1": {
     "name": "q2_1",
     "points": [
      0
     ],
     "suites": [
      {
       "cases": [
        {
         "code": ">>> 1100 <= smallest <= 1150\nTrue",
         "hidden": false,
         "locked": false
        }
       ],
       "scored": true,
       "setup": "",
       "teardown": "",
       "type": "doctest"
      }
     ]
    },
    "q2_3": {
     "name": "q2_3",
     "points": [
      0
     ],
     "suites": [
      {
       "cases": [
        {
         "code": ">>> 700 <= smallest_num <= 800\nTrue",
         "hidden": false,
         "locked": false
        }
       ],
       "scored": true,
       "setup": "",
       "teardown": "",
       "type": "doctest"
      }
     ]
    },
    "q2_5": {
     "name": "q2_5",
     "points": [
      0
     ],
     "suites": [
      {
       "cases": [
        {
         "code": ">>> type(option) == int\nTrue",
         "hidden": false,
         "locked": false
        }
       ],
       "scored": true,
       "setup": "",
       "teardown": "",
       "type": "doctest"
      }
     ]
    },
    "q3_1": {
     "name": "q3_1",
     "points": [
      1,
      5
     ],
     "suites": [
      {
       "cases": [
        {
         "code": ">>> len(resample_yes_proportions) == 10000\nTrue",
         "hidden": false,
         "locked": false
        },
        {
         "code": ">>> abs(np.mean(resample_yes_proportions) - .525) < .025 and np.std(resample_yes_proportions) < .08\nTrue",
         "hidden": false,
         "locked": false
        }
       ],
       "scored": true,
       "setup": "",
       "teardown": "",
       "type": "doctest"
      }
     ]
    },
    "q3_3": {
     "name": "q3_3",
     "points": [
      0
     ],
     "suites": [
      {
       "cases": [
        {
         "code": ">>> approximate_sd < 0.025\nTrue",
         "hidden": false,
         "locked": false
        }
       ],
       "scored": true,
       "setup": "",
       "teardown": "",
       "type": "doctest"
      }
     ]
    },
    "q3_4": {
     "name": "q3_4",
     "points": [
      0
     ],
     "suites": [
      {
       "cases": [
        {
         "code": ">>> exact_sd < 0.05\nTrue",
         "hidden": false,
         "locked": false
        }
       ],
       "scored": true,
       "setup": "",
       "teardown": "",
       "type": "doctest"
      }
     ]
    },
    "q3_5": {
     "name": "q3_5",
     "points": [
      0
     ],
     "suites": [
      {
       "cases": [
        {
         "code": ">>> 0.4 <= lower_limit < upper_limit <= 0.7\nTrue",
         "hidden": false,
         "locked": false
        }
       ],
       "scored": true,
       "setup": "",
       "teardown": "",
       "type": "doctest"
      }
     ]
    },
    "q3_6": {
     "name": "q3_6",
     "points": [
      0
     ],
     "suites": [
      {
       "cases": [
        {
         "code": ">>> type(michelle_sample_size) == int\nTrue",
         "hidden": false,
         "locked": false
        }
       ],
       "scored": true,
       "setup": "",
       "teardown": "",
       "type": "doctest"
      }
     ]
    },
    "q3_7": {
     "name": "q3_7",
     "points": [
      1
     ],
     "suites": [
      {
       "cases": [
        {
         "code": ">>> smaller_sample_size < michelle_sample_size\nTrue",
         "hidden": false,
         "locked": false
        }
       ],
       "scored": true,
       "setup": "",
       "teardown": "",
       "type": "doctest"
      }
     ]
    },
    "q3_8": {
     "name": "q3_8",
     "points": [
      1
     ],
     "suites": [
      {
       "cases": [
        {
         "code": ">>> larger_sample_size > michelle_sample_size\nTrue",
         "hidden": false,
         "locked": false
        }
       ],
       "scored": true,
       "setup": "",
       "teardown": "",
       "type": "doctest"
      }
     ]
    },
    "q3_9": {
     "name": "q3_9",
     "points": [
      0
     ],
     "suites": [
      {
       "cases": [
        {
         "code": ">>> min_sufficient or not min_sufficient \nTrue",
         "hidden": false,
         "locked": false
        }
       ],
       "scored": true,
       "setup": "",
       "teardown": "",
       "type": "doctest"
      }
     ]
    },
    "q4_1": {
     "name": "q4_1",
     "points": [
      0
     ],
     "suites": [
      {
       "cases": [
        {
         "code": ">>> # Make sure secret_word is assigned to a string!\n>>> type(secret_word) == str\nTrue",
         "hidden": false,
         "locked": false
        }
       ],
       "scored": true,
       "setup": "",
       "teardown": "",
       "type": "doctest"
      }
     ]
    }
   }
  }
 },
 "nbformat": 4,
 "nbformat_minor": 5
}
{
 "cells": [
  {
   "cell_type": "code",
   "execution_count": null,
   "id": "2621724c",
   "metadata": {
    "deletable": false,
    "editable": false
   },
   "outputs": [],
   "source": [
    "from google.colab import drive\n",
    "drive.mount('/content/gdrive', force_remount=True)\n",
    "\n",
    "!mkdir -p '/content/gdrive/My Drive/colab-materials-data8-notebooks/'\n",
    "!git clone https://github.com/data-8/materials-sp22-colab '/content/gdrive/My Drive/colab-materials-data8-notebooks/materials-sp22-colab/'\n",
    "\n",
    "%pip install otter-grader==4.3.1\n",
    "%cd /content/gdrive/MyDrive/colab-materials-data8-notebooks/materials-sp22-colab/materials/sp22/hw/hw12/\n",
    "# Initialize Otter\n",
    "import otter\n",
    "grader = otter.Notebook(\"hw12.ipynb\")"
   ]
  },
  {
   "cell_type": "markdown",
   "id": "50d39c2f",
   "metadata": {},
   "source": [
    "# Homework 12: Classification"
   ]
  },
  {
   "cell_type": "markdown",
   "id": "47c4df97",
   "metadata": {},
   "source": [
    "**Helpful Resource:**\n",
    "\n",
    "- [Python Reference](http://data8.org/sp22/python-reference.html): Cheat sheet of helpful array & table methods used in Data 8!\n",
    "\n",
    "**Recommended Reading**: \n",
    "\n",
    "* [Classification](https://www.inferentialthinking.com/chapters/17/Classification.html)"
   ]
  },
  {
   "cell_type": "markdown",
   "id": "4220719a",
   "metadata": {},
   "source": [
    "Please complete this notebook by filling in the cells provided. Before you begin, execute the following cell to setup the notebook by importing some helpful libraries. Each time you start your server, you will need to execute this cell again.\n",
    "\n",
    "For all problems that you must write explanations and sentences for, you **must** provide your answer in the designated space. **Moreover, throughout this homework and all future ones, please be sure to not re-assign variables throughout the notebook!** For example, if you use `max_temperature` in your answer to one question, do not reassign it later on. Otherwise, you will fail tests that you thought you were passing previously!\n",
    "\n",
    "\n",
    "**Note: This homework has hidden tests on it. That means even though the tests may say 100% passed, it doesn't mean your final grade will be 100%. We will be running more tests for correctness once everyone turns in the homework.**\n",
    "\n",
    "\n",
    "Directly sharing answers is not okay, but discussing problems with the course staff or with other students is encouraged. \n",
    "\n",
    "You should start early so that you have time to get help if you're stuck."
   ]
  },
  {
   "cell_type": "code",
   "execution_count": null,
   "id": "8a62d3bf",
   "metadata": {
    "execution": {
     "iopub.execute_input": "2022-04-22T03:48:26.317486Z",
     "iopub.status.busy": "2022-04-22T03:48:26.316855Z",
     "iopub.status.idle": "2022-04-22T03:48:27.876568Z",
     "shell.execute_reply": "2022-04-22T03:48:27.875794Z"
    }
   },
   "outputs": [],
   "source": [
    "# Don't change this cell; just run it. \n",
    "\n",
    "import numpy as np\n",
    "from datascience import *\n",
    "import d8error\n",
    "\n",
    "# These lines do some fancy plotting magic\n",
    "import matplotlib\n",
    "%matplotlib inline\n",
    "import matplotlib.pyplot as plt\n",
    "plt.style.use('fivethirtyeight')\n",
    "import warnings\n",
    "warnings.simplefilter('ignore')\n",
    "from datetime import datetime"
   ]
  },
  {
   "cell_type": "markdown",
   "id": "47bdb37a",
   "metadata": {},
   "source": [
    "## 1. Bay Area School Coordinates with Classification"
   ]
  },
  {
   "cell_type": "markdown",
   "id": "b3a5a487",
   "metadata": {},
   "source": [
    "Welcome to Homework 12! This homework is about k-Nearest Neighbors classification (k-NN). Since this topic is covered in depth in Project 3, the purpose of this homework is to reinforce the basics of this method. You can and should reuse a lot of code that you wrote for Project 3 for this homework, or use code from this homework on Project 3!"
   ]
  },
  {
   "cell_type": "markdown",
   "id": "b03f66db",
   "metadata": {},
   "source": [
    "### Our Dearest Neighbors"
   ]
  },
  {
   "cell_type": "markdown",
   "id": "37373dd1",
   "metadata": {},
   "source": [
    "Carol is trying classify students as either attendees of UC Berkeley or as attendees of Stanford University. To classify the students, Carol has access to the coordinates of the location they live during the school year. First, load in the `coordinates` table."
   ]
  },
  {
   "cell_type": "code",
   "execution_count": null,
   "id": "986ba20a",
   "metadata": {
    "deletable": false,
    "editable": false,
    "execution": {
     "iopub.execute_input": "2022-04-22T03:48:27.880760Z",
     "iopub.status.busy": "2022-04-22T03:48:27.880058Z",
     "iopub.status.idle": "2022-04-22T03:48:27.891430Z",
     "shell.execute_reply": "2022-04-22T03:48:27.890664Z"
    }
   },
   "outputs": [],
   "source": [
    "# Just run this cell!\n",
    "coordinates = Table.read_table('coordinates.csv')\n",
    "coordinates.show(5)"
   ]
  },
  {
   "cell_type": "markdown",
   "id": "affb1f3e",
   "metadata": {},
   "source": [
    "As usual, let's investigate our data visually before performing any kind of numerical analysis."
   ]
  },
  {
   "cell_type": "code",
   "execution_count": null,
   "id": "09ad23a8",
   "metadata": {
    "deletable": false,
    "editable": false,
    "execution": {
     "iopub.execute_input": "2022-04-22T03:48:27.894250Z",
     "iopub.status.busy": "2022-04-22T03:48:27.894059Z",
     "iopub.status.idle": "2022-04-22T03:48:28.186074Z",
     "shell.execute_reply": "2022-04-22T03:48:28.185423Z"
    }
   },
   "outputs": [],
   "source": [
    "# Just run this cell!\n",
    "coordinates.scatter(\"longitude\", \"latitude\", group=\"school\")"
   ]
  },
  {
   "cell_type": "markdown",
   "id": "13235fdd",
   "metadata": {},
   "source": [
    "The locations of the points on this scatter plot might be familiar - run the following cell to see what they correspond to."
   ]
  },
  {
   "cell_type": "code",
   "execution_count": null,
   "id": "73f8e39b",
   "metadata": {
    "deletable": false,
    "editable": false,
    "execution": {
     "iopub.execute_input": "2022-04-22T03:48:28.189525Z",
     "iopub.status.busy": "2022-04-22T03:48:28.188901Z",
     "iopub.status.idle": "2022-04-22T03:48:28.354199Z",
     "shell.execute_reply": "2022-04-22T03:48:28.353411Z"
    },
    "scrolled": true
   },
   "outputs": [],
   "source": [
    "# Just run this cell!\n",
    "colors = {\"Berkeley\":\"blue\", \"Stanford\":\"red\"}\n",
    "t = Table().with_columns(\"lat\", coordinates.column(0), \n",
    "                                      \"lon\", coordinates.column(1), \n",
    "                                      \"color\", coordinates.apply(colors.get, 2)\n",
    "                        )\n",
    "Circle.map_table(t, radius=5, fill_opacity=1)"
   ]
  },
  {
   "cell_type": "markdown",
   "id": "43c3da19",
   "metadata": {},
   "source": [
    "**Question 1.1.** Let's begin implementing the k-Nearest Neighbors algorithm. Define the `distance` function, which takes in two arguments: an array of numerical features (`arr1`), and a different array of numerical features (`arr2`). The function should return the [Euclidean distance](https://en.wikipedia.org/wiki/Euclidean_distance) between the two arrays. Euclidean distance is often referred to as the straight-line distance formula that you may have learned previously. **(10 points)**\n",
    "\n"
   ]
  },
  {
   "cell_type": "code",
   "execution_count": null,
   "id": "18592a9e",
   "metadata": {
    "deletable": false,
    "execution": {
     "iopub.execute_input": "2022-04-22T03:48:28.358207Z",
     "iopub.status.busy": "2022-04-22T03:48:28.358004Z",
     "iopub.status.idle": "2022-04-22T03:48:28.364652Z",
     "shell.execute_reply": "2022-04-22T03:48:28.363883Z"
    },
    "tags": []
   },
   "outputs": [],
   "source": [
    "def distance(arr1, arr2):\n",
    "    ...\n",
    "\n",
    "# Don't change/delete the code below in this cell\n",
    "distance_example = distance(make_array(1, 2, 3), make_array(4, 5, 6))\n",
    "distance_example"
   ]
  },
  {
   "cell_type": "code",
   "execution_count": null,
   "id": "0ae04090",
   "metadata": {
    "deletable": false,
    "editable": false
   },
   "outputs": [],
   "source": [
    "grader.check(\"q1_1\")"
   ]
  },
  {
   "cell_type": "markdown",
   "id": "dfbd08a8",
   "metadata": {},
   "source": [
    "### Splitting the Dataset\n",
    "We'll do two different kinds of things with the `coordinates` dataset:\n",
    "\n",
    "1. We'll build a classifier using coordinates for which we know the associated label; this will teach it to recognize labels of similar coordinate values. This process is known as *training*.\n",
    "2. We'll evaluate or *test* the accuracy of the classifier we build on data we haven't seen before.\n",
    "\n",
    "As discussed in [Section 17.2](https://inferentialthinking.com/chapters/17/2/Training_and_Testing.html#training-and-testing), we want to use separate datasets for training and testing. As such, we split up our one dataset into two."
   ]
  },
  {
   "cell_type": "markdown",
   "id": "5c7070dc",
   "metadata": {},
   "source": [
    "**Question 1.2.** Next, let's split our dataset into a training set and a test set. Since `coordinates` has 100 rows, let's create a training set with the first 75 rows and a test set with the remaining 25 rows. Remember that assignment to each group should be random, so we should shuffle the table first. **(10 points)**\n",
    "\n",
    "*Hint:* As a first step we can shuffle all the rows, then use the `tbl.take` function to split up the rows for each table.\n"
   ]
  },
  {
   "cell_type": "code",
   "execution_count": null,
   "id": "361cb488",
   "metadata": {
    "execution": {
     "iopub.execute_input": "2022-04-22T03:48:28.384271Z",
     "iopub.status.busy": "2022-04-22T03:48:28.383615Z",
     "iopub.status.idle": "2022-04-22T03:48:28.394265Z",
     "shell.execute_reply": "2022-04-22T03:48:28.393546Z"
    },
    "for_assignment_type": "solution",
    "tags": []
   },
   "outputs": [],
   "source": [
    "shuffled_table = ...\n",
    "train = ...\n",
    "test = ...\n",
    "\n",
    "print(\"Training set:\\t\",   train.num_rows, \"examples\")\n",
    "print(\"Test set:\\t\",       test.num_rows, \"examples\")\n",
    "train.show(5), test.show(5);"
   ]
  },
  {
   "cell_type": "code",
   "execution_count": null,
   "id": "144c862e",
   "metadata": {
    "deletable": false,
    "editable": false
   },
   "outputs": [],
   "source": [
    "grader.check(\"q1_2\")"
   ]
  },
  {
   "cell_type": "markdown",
   "id": "df7c8c3b",
   "metadata": {},
   "source": [
    "**Question 1.3.** Assign `features` to an array of column names (strings) of the features from the `coordinates` table. **(10 points)**\n",
    "\n",
    "*Hint:* Which of the column names in the `coordinates` table are the features, and which of the column names correspond to the class we're trying to predict?\n",
    "\n",
    "*Hint*: No need to modify any tables, just manually create an array of the feature names!\n"
   ]
  },
  {
   "cell_type": "code",
   "execution_count": null,
   "id": "4477433b",
   "metadata": {
    "deletable": false,
    "execution": {
     "iopub.execute_input": "2022-04-22T03:48:28.445646Z",
     "iopub.status.busy": "2022-04-22T03:48:28.445435Z",
     "iopub.status.idle": "2022-04-22T03:48:28.450471Z",
     "shell.execute_reply": "2022-04-22T03:48:28.449817Z"
    },
    "tags": []
   },
   "outputs": [],
   "source": [
    "features = ...\n",
    "features"
   ]
  },
  {
   "cell_type": "code",
   "execution_count": null,
   "id": "e19a2b9c",
   "metadata": {
    "deletable": false,
    "editable": false
   },
   "outputs": [],
   "source": [
    "grader.check(\"q1_3\")"
   ]
  },
  {
   "cell_type": "markdown",
   "id": "8b5720fe",
   "metadata": {},
   "source": [
    "**Question 1.4.** Now define the `classify` function. This function should take in a `test_row` from a table like `test` and classify in using the k-Nearest Neighbors based on the correct `features` and the data in `train`. A refresher on k-Nearest Neighbors can be found [here](https://www.inferentialthinking.com/chapters/17/4/Implementing_the_Classifier.html). **(10 points)**\n",
    "\n",
    "\n",
    "*Hint 1:* The `distance` function we defined earlier takes in arrays as input, so use the `row_to_array` function we defined for you to convert rows to arrays of features.\n",
    "\n",
    "*Hint 2:* The skeleton code we provided iterates through each row in the training set.\n"
   ]
  },
  {
   "cell_type": "code",
   "execution_count": null,
   "id": "3b6a0518",
   "metadata": {
    "deletable": false,
    "execution": {
     "iopub.execute_input": "2022-04-22T03:48:28.468750Z",
     "iopub.status.busy": "2022-04-22T03:48:28.468512Z",
     "iopub.status.idle": "2022-04-22T03:48:28.484987Z",
     "shell.execute_reply": "2022-04-22T03:48:28.484004Z"
    },
    "manual_grade": true,
    "manual_problem_id": "sign_lang_2",
    "tags": []
   },
   "outputs": [],
   "source": [
    "def row_to_array(row, features):\n",
    "    \"\"\"Converts a row to an array of its features.\"\"\"\n",
    "    arr = make_array()\n",
    "    for feature in features:\n",
    "        arr = np.append(arr, row.item(feature))\n",
    "    return arr\n",
    "\n",
    "def classify(test_row, k, train):\n",
    "    test_row_features_array = row_to_array(test_row, features)\n",
    "    distances = make_array()\n",
    "    for train_row in train.rows:\n",
    "        train_row_features_array = ...\n",
    "        row_distance = ...\n",
    "        distances = ...\n",
    "    train_with_distances = ...\n",
    "    nearest_neighbors = ...\n",
    "    most_common_label = ...\n",
    "    ...\n",
    "\n",
    "# Don't modify/delete the code below\n",
    "first_test = classify(test.row(0), 5, train)\n",
    "first_test"
   ]
  },
  {
   "cell_type": "code",
   "execution_count": null,
   "id": "d616a0eb",
   "metadata": {
    "deletable": false,
    "editable": false
   },
   "outputs": [],
   "source": [
    "grader.check(\"q1_4\")"
   ]
  },
  {
   "cell_type": "markdown",
   "id": "69514db7",
   "metadata": {},
   "source": [
    "<div class=\"hide\">\\pagebreak</div>\n",
    "\n",
    "**Question 1.5.** Define the function `three_classify` that takes a `row` from `test` as an argument and classifies the row based on using 3-Nearest Neighbors. Use this function to find the `accuracy` of a 3-NN classifier on the `test` set. `accuracy` should be a proportion (not a percentage) of the schools that were correctly predicted. **(10 points)**\n",
    "\n",
    "\n",
    "*Hint:* You should be using a function you just created!\n",
    "\n",
    "*Note:* Usually before using a classifier on a test set, we'd classify first on a \"validation\" set, which we then can modify our training set again if need be, before actually testing on the test set. You don\u2019t need to do that for this question, but you will learn about this more in Data 100.\n"
   ]
  },
  {
   "cell_type": "code",
   "execution_count": null,
   "id": "6e59d69c",
   "metadata": {
    "deletable": false,
    "execution": {
     "iopub.execute_input": "2022-04-22T03:48:28.542685Z",
     "iopub.status.busy": "2022-04-22T03:48:28.542175Z",
     "iopub.status.idle": "2022-04-22T03:48:28.644268Z",
     "shell.execute_reply": "2022-04-22T03:48:28.643367Z"
    },
    "manual_grade": true,
    "manual_problem_id": "sign_lang_3",
    "tags": []
   },
   "outputs": [],
   "source": [
    "def three_classify(row):\n",
    "    ...\n",
    "\n",
    "test_with_prediction = ...\n",
    "labels_correct = ...\n",
    "accuracy = ...\n",
    "accuracy"
   ]
  },
  {
   "cell_type": "code",
   "execution_count": null,
   "id": "b0fbfb6a",
   "metadata": {
    "deletable": false,
    "editable": false
   },
   "outputs": [],
   "source": [
    "grader.check(\"q1_5\")"
   ]
  },
  {
   "cell_type": "markdown",
   "id": "ec6dc116",
   "metadata": {},
   "source": [
    "**Question 1.6.** There are 77 rows of Berkeley students and 23 rows of Stanford students in the `coordinates` table. If we used the entire `coordinates` table as the training set, what is the smallest value of k that would ensure that a k-Nearest Neighbor classifier would *always* predict Berkeley as the class? Assign the value to `k`. **(10 points)**\n"
   ]
  },
  {
   "cell_type": "code",
   "execution_count": null,
   "id": "ac4d2b29",
   "metadata": {
    "execution": {
     "iopub.execute_input": "2022-04-22T03:48:28.681884Z",
     "iopub.status.busy": "2022-04-22T03:48:28.681029Z",
     "iopub.status.idle": "2022-04-22T03:48:28.686863Z",
     "shell.execute_reply": "2022-04-22T03:48:28.686015Z"
    },
    "tags": []
   },
   "outputs": [],
   "source": [
    "k = ...\n",
    "k"
   ]
  },
  {
   "cell_type": "code",
   "execution_count": null,
   "id": "67e1656f",
   "metadata": {
    "deletable": false,
    "editable": false
   },
   "outputs": [],
   "source": [
    "grader.check(\"q1_6\")"
   ]
  },
  {
   "cell_type": "markdown",
   "id": "cf531a5c",
   "metadata": {},
   "source": [
    "<!-- BEGIN QUESTION -->\n",
    "\n",
    "**Question 1.7.** Why do we divide our data into a training and test set? What is the point of a test set, and why do we only want to use the test set once? Explain your answer in 3 sentences or less. **(10 points)**\n",
    "\n",
    "*Hint:* Check out this [section](https://inferentialthinking.com/chapters/17/2/Training_and_Testing.html) in the textbook.\n"
   ]
  },
  {
   "cell_type": "markdown",
   "id": "fe1c31ae",
   "metadata": {},
   "source": [
    "_Type your answer here, replacing this text._"
   ]
  },
  {
   "cell_type": "markdown",
   "id": "2598465f",
   "metadata": {},
   "source": [
    "<!-- END QUESTION -->\n",
    "\n",
    "<!-- BEGIN QUESTION -->\n",
    "\n",
    "**Question 1.8.** Why do we use an odd-numbered `k` in k-NN? Explain. **(10 points)**\n"
   ]
  },
  {
   "cell_type": "markdown",
   "id": "d7eefcce",
   "metadata": {},
   "source": [
    "_Type your answer here, replacing this text._"
   ]
  },
  {
   "cell_type": "markdown",
   "id": "b03bcc4d",
   "metadata": {},
   "source": [
    "<!-- END QUESTION -->\n",
    "\n",
    "**Question 1.9.0. Setup**\n",
    "\n",
    "Thomas has devised a scheme for splitting up the test and training set. For each row from `coordinates`:\n",
    "- Rows for Stanford students have a 50% chance of being placed in the training set and 50% chance of being placed in the test set.  \n",
    "- Rows for Berkeley students have a 80% chance of being placed in the training set and 20% chance of being placed in the test set.  \n",
    "\n",
    "\n",
    "*Hint 1:* Remember that there are 77 Berkeley students and 23 Stanford students in coordinates.  \n",
    "\n",
    "*Hint 2:* Thomas' last name is Bayes. (So [18.1](https://inferentialthinking.com/chapters/18/1/More_Likely_than_Not_Binary_Classifier.html#bayes-rule) from the textbook may be helpful here!)\n",
    "\n",
    "*Hint 3:* The following tree diagram may be helpful in Questions 1.9.1 and 1.9.2!\n",
    "\n",
    "<img src=\"tree_diagram.png\" width=\"450\">"
   ]
  },
  {
   "cell_type": "markdown",
   "id": "c0c92b1f",
   "metadata": {},
   "source": [
    "**Question 1.9.1.** Given that a row is in the test set, what is the probability that it corresponds to a Stanford student? Assign that probability to `prob_furd`. **(10 points)**\n"
   ]
  },
  {
   "cell_type": "code",
   "execution_count": null,
   "id": "c37d4aaf",
   "metadata": {
    "execution": {
     "iopub.execute_input": "2022-04-22T03:48:28.733723Z",
     "iopub.status.busy": "2022-04-22T03:48:28.733486Z",
     "iopub.status.idle": "2022-04-22T03:48:28.738978Z",
     "shell.execute_reply": "2022-04-22T03:48:28.738071Z"
    },
    "tags": []
   },
   "outputs": [],
   "source": [
    "prob_furd = ...\n",
    "prob_furd"
   ]
  },
  {
   "cell_type": "code",
   "execution_count": null,
   "id": "40a4e9e5",
   "metadata": {
    "deletable": false,
    "editable": false
   },
   "outputs": [],
   "source": [
    "grader.check(\"q1_9_1\")"
   ]
  },
  {
   "cell_type": "markdown",
   "id": "02c2e642",
   "metadata": {},
   "source": [
    "**Question 1.9.2.** Given that a row is Stanford, what is the probability that the student is in the test set? Assign that probability to `prob_test`. **(10 points)**\n"
   ]
  },
  {
   "cell_type": "code",
   "execution_count": null,
   "id": "f8cb6888",
   "metadata": {
    "execution": {
     "iopub.execute_input": "2022-04-22T03:48:28.766714Z",
     "iopub.status.busy": "2022-04-22T03:48:28.766188Z",
     "iopub.status.idle": "2022-04-22T03:48:28.771730Z",
     "shell.execute_reply": "2022-04-22T03:48:28.770892Z"
    },
    "tags": []
   },
   "outputs": [],
   "source": [
    "prob_test = ...\n",
    "prob_test"
   ]
  },
  {
   "cell_type": "code",
   "execution_count": null,
   "id": "b80bb861",
   "metadata": {
    "deletable": false,
    "editable": false
   },
   "outputs": [],
   "source": [
    "grader.check(\"q1_9_2\")"
   ]
  },
  {
   "cell_type": "markdown",
   "id": "136ade14",
   "metadata": {},
   "source": [
    "## (OPTIONAL, NOT IN SCOPE): k-NN for Non-Binary Classification"
   ]
  },
  {
   "cell_type": "markdown",
   "id": "23c38146",
   "metadata": {
    "deletable": false
   },
   "source": [
    "**THIS IS NOT IN SCOPE**. There are no autograder tests for this or code for you to write. It just relies on the function `classify` in Question 1.4. Go ahead and read through this section and run the following cells!\n",
    "\n",
    "In this class, we have taught you how to use the k-NN algorithm to classify data as one of two classes. However, much of the data you will encounter in the real world will not fall nicely into one of two categories. \n",
    "\n",
    "**How can we classify data with non-binary classes?** It turns out we can still use k-NN! That is, we find the distance between a point and all its neighbors, find the nearest neighbors, and take a majority vote among the neighbors to determine this point's class. \n",
    "\n",
    "The only difference is that now the neighboring points have more than two possible classes. This does introduce difficulty because now we have no way of guaranteeing that we will not encounter ties between classes. In the case that we do encounter a tie, we can just arbitrarily choose one of the classes.\n",
    "\n",
    "In fact, you don't even have to modify the code you wrote before at all to enable multi-class classification!"
   ]
  },
  {
   "cell_type": "markdown",
   "id": "86b676cb",
   "metadata": {
    "deletable": false,
    "editable": false
   },
   "source": [
    "Let's add some more data to our train table, this time for another class of students, students at San Jose Community College (SJCC)."
   ]
  },
  {
   "cell_type": "code",
   "execution_count": null,
   "id": "d63502a4",
   "metadata": {
    "deletable": false,
    "editable": false,
    "execution": {
     "iopub.execute_input": "2022-04-22T03:48:28.835112Z",
     "iopub.status.busy": "2022-04-22T03:48:28.834447Z",
     "iopub.status.idle": "2022-04-22T03:48:28.840404Z",
     "shell.execute_reply": "2022-04-22T03:48:28.839725Z"
    }
   },
   "outputs": [],
   "source": [
    "coordinates_multi = coordinates.with_rows([\n",
    "                              [37.304346, -121.915401, \"SJCC\"],\n",
    "                              [37.316275, -121.913879, \"SJCC\"],\n",
    "                              [37.409435, -121.951379, \"SJCC\"],\n",
    "                              [37.349387, -121.960771, \"SJCC\"],\n",
    "                              [37.329083, -121.928479, \"SJCC\"],\n",
    "                              [37.313017, -121.866730, \"SJCC\"],\n",
    "                              [37.346525, -121.894767, \"SJCC\"],\n",
    "                              [37.364157, -121.955717, \"SJCC\"],\n",
    "                              [37.383362, -121.925776, \"SJCC\"],\n",
    "                              [37.329545, -121.880639, \"SJCC\"]                             \n",
    "])"
   ]
  },
  {
   "cell_type": "code",
   "execution_count": null,
   "id": "d7d66460",
   "metadata": {
    "deletable": false,
    "editable": false,
    "execution": {
     "iopub.execute_input": "2022-04-22T03:48:28.843393Z",
     "iopub.status.busy": "2022-04-22T03:48:28.843193Z",
     "iopub.status.idle": "2022-04-22T03:48:28.854557Z",
     "shell.execute_reply": "2022-04-22T03:48:28.853968Z"
    }
   },
   "outputs": [],
   "source": [
    "classify(coordinates_multi.row(0), 5, coordinates_multi)"
   ]
  },
  {
   "cell_type": "code",
   "execution_count": null,
   "id": "9b021367",
   "metadata": {
    "deletable": false,
    "editable": false,
    "execution": {
     "iopub.execute_input": "2022-04-22T03:48:28.857931Z",
     "iopub.status.busy": "2022-04-22T03:48:28.857326Z",
     "iopub.status.idle": "2022-04-22T03:48:28.869333Z",
     "shell.execute_reply": "2022-04-22T03:48:28.868530Z"
    }
   },
   "outputs": [],
   "source": [
    "classify(coordinates_multi.row(91), 5, coordinates_multi)"
   ]
  },
  {
   "cell_type": "code",
   "execution_count": null,
   "id": "59e59301",
   "metadata": {
    "deletable": false,
    "editable": false,
    "execution": {
     "iopub.execute_input": "2022-04-22T03:48:28.872869Z",
     "iopub.status.busy": "2022-04-22T03:48:28.872188Z",
     "iopub.status.idle": "2022-04-22T03:48:28.882637Z",
     "shell.execute_reply": "2022-04-22T03:48:28.881904Z"
    }
   },
   "outputs": [],
   "source": [
    "classify(coordinates_multi.row(105), 5, coordinates_multi)"
   ]
  },
  {
   "cell_type": "markdown",
   "id": "ecc392b5",
   "metadata": {},
   "source": [
    "Our classifier can classify rows as belonging to one of three classes!\n",
    "\n",
    "Classification is one of the most important fields in statistics, data science, and machine learning. There are thousands of different classification algorithms and modifications of algorithms! There are many that you'll learn if you continue down the path of becoming a data scientist!"
   ]
  },
  {
   "cell_type": "markdown",
   "id": "5d58cf2a",
   "metadata": {},
   "source": [
    "You're all done with Homework 12! :,)\n",
    "\n",
    "**Important submission steps:** \n",
    "1. Run the tests and verify that they all pass.\n",
    "2. Choose **Save Notebook** from the **File** menu, then **run the final cell**. \n",
    "3. Click the link to download the zip file.\n",
    "4. Then submit the zip file to the corresponding assignment according to your instructor's directions. \n",
    "\n",
    "**It is your responsibility to make sure your work is saved before running the last cell.**"
   ]
  },
  {
   "cell_type": "markdown",
   "id": "594eb6ab",
   "metadata": {
    "deletable": false,
    "editable": false
   },
   "source": [
    "## Submission\n",
    "\n",
    "Make sure you have run all cells in your notebook in order before running the cell below, so that all images/graphs appear in the output. The cell below will generate a zip file for you to submit. **Please save before exporting!**"
   ]
  },
  {
   "cell_type": "code",
   "execution_count": null,
   "id": "bec18322",
   "metadata": {
    "deletable": false,
    "editable": false
   },
   "outputs": [],
   "source": [
    "# Save your notebook first, then run this cell to export your submission.\n",
    "grader.export(pdf=False, run_tests=True)"
   ]
  },
  {
   "cell_type": "markdown",
   "id": "a28b7c95",
   "metadata": {},
   "source": [
    " "
   ]
  }
 ],
 "metadata": {
  "kernelspec": {
   "display_name": "Python 3",
   "language": "python",
   "name": "python3"
  },
  "language_info": {
   "codemirror_mode": {
    "name": "ipython",
    "version": 3
   },
   "file_extension": ".py",
   "mimetype": "text/x-python",
   "name": "python",
   "nbconvert_exporter": "python",
   "pygments_lexer": "ipython3",
   "version": "3.9.10"
  },
  "otter": {
   "OK_FORMAT": true,
   "tests": {
    "q1_1": {
     "name": "q1_1",
     "points": [
      0
     ],
     "suites": [
      {
       "cases": [
        {
         "code": ">>> type(distance_example) in set([float, np.float32, np.float64])\nTrue",
         "hidden": false,
         "locked": false
        }
       ],
       "scored": true,
       "setup": "",
       "teardown": "",
       "type": "doctest"
      }
     ]
    },
    "q1_2": {
     "name": "q1_2",
     "points": [
      0,
      0
     ],
     "suites": [
      {
       "cases": [
        {
         "code": ">>> # Double check that you have the correct number of rows for the `train` table.\n>>> train.num_rows == 75\nTrue",
         "hidden": false,
         "locked": false
        },
        {
         "code": ">>> # Double check that you have the correct number of rows for the `test` table.\n>>> test.num_rows == 25\nTrue",
         "hidden": false,
         "locked": false
        }
       ],
       "scored": true,
       "setup": "",
       "teardown": "",
       "type": "doctest"
      }
     ]
    },
    "q1_3": {
     "name": "q1_3",
     "points": [
      0
     ],
     "suites": [
      {
       "cases": [
        {
         "code": ">>> type(features) == np.ndarray\nTrue",
         "hidden": false,
         "locked": false
        }
       ],
       "scored": true,
       "setup": "",
       "teardown": "",
       "type": "doctest"
      }
     ]
    },
    "q1_4": {
     "name": "q1_4",
     "points": [
      0
     ],
     "suites": [
      {
       "cases": [
        {
         "code": ">>> type(first_test) == str or type(first_test) == np.str_\nTrue",
         "hidden": false,
         "locked": false
        }
       ],
       "scored": true,
       "setup": "",
       "teardown": "",
       "type": "doctest"
      }
     ]
    },
    "q1_5": {
     "name": "q1_5",
     "points": [
      4
     ],
     "suites": [
      {
       "cases": [
        {
         "code": ">>> sorted_coordinates = coordinates.sort(\"school\")\n>>> classify(sorted_coordinates.row(29), 3, train) == three_classify(sorted_coordinates.row(29))\nTrue",
         "hidden": false,
         "locked": false
        }
       ],
       "scored": true,
       "setup": "",
       "teardown": "",
       "type": "doctest"
      }
     ]
    },
    "q1_6": {
     "name": "q1_6",
     "points": [
      0
     ],
     "suites": [
      {
       "cases": [
        {
         "code": ">>> # `k` should be an int\n>>> type(k) == int\nTrue",
         "hidden": false,
         "locked": false
        }
       ],
       "scored": true,
       "setup": "",
       "teardown": "",
       "type": "doctest"
      }
     ]
    },
    "q1_9_1": {
     "name": "q1_9_1",
     "points": [
      0,
      0
     ],
     "suites": [
      {
       "cases": [
        {
         "code": ">>> type(prob_furd) in set([float, np.float32, np.float64])\nTrue",
         "hidden": false,
         "locked": false
        },
        {
         "code": ">>> # Should be a decimal, not a percentage\n>>> 0 <= prob_furd <= 1\nTrue",
         "hidden": false,
         "locked": false
        }
       ],
       "scored": true,
       "setup": "",
       "teardown": "",
       "type": "doctest"
      }
     ]
    },
    "q1_9_2": {
     "name": "q1_9_2",
     "points": [
      0,
      0
     ],
     "suites": [
      {
       "cases": [
        {
         "code": ">>> type(prob_test) in set([float, np.float32, np.float64])\nTrue",
         "hidden": false,
         "locked": false
        },
        {
         "code": ">>> # Should be a decimal, not a percentage\n>>> 0 <= prob_test <= 1\nTrue",
         "hidden": false,
         "locked": false
        }
       ],
       "scored": true,
       "setup": "",
       "teardown": "",
       "type": "doctest"
      }
     ]
    }
   }
  }
 },
 "nbformat": 4,
 "nbformat_minor": 5
}
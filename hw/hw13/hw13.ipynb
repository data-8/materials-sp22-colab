{
 "cells": [
  {
   "cell_type": "markdown",
   "id": "9201700d-b742-4c11-9b71-538e5b815691",
   "metadata": {},
   "source": [
    "# Homework 13: End-of-Semester Evaluations"
   ]
  },
  {
   "cell_type": "markdown",
   "id": "0056a992-f88e-49e3-bfa1-3530938ce31b",
   "metadata": {},
   "source": [
    "This homework will not count towards the 20% Homeworks category in final grade calculations. **Instead, if at least 80% of students (i.e. ~1,300 students) complete Homework 13, all students who completed the homework will earn 2 extra credit points on the final exam.**\n",
    "\n",
    "You will not need to submit anything to Gradescope for Homework 13.\n",
    "\n",
    "**Deadline:**\n",
    "\n",
    "This assignment is due Thursday, 5/5 at 11:59pm PT. Late work will not be accepted as per the [policies](http://data8.org/sp22/policies.html) page."
   ]
  },
  {
   "cell_type": "markdown",
   "id": "5043ea02-ab27-4d9d-86b9-6b93bc4e1e27",
   "metadata": {},
   "source": [
    "## 1. UC Berkeley Course Evaluations "
   ]
  },
  {
   "cell_type": "markdown",
   "id": "14835ee7-8b1f-4cf5-9a23-f73e1476f7c3",
   "metadata": {},
   "source": [
    "Please navigate to [course-evaluations.berkeley.edu](https://course-evaluations.berkeley.edu/Berkeley/) and complete the university course evaluations. Make sure to complete both the lecture and discussion forms.\n",
    "\n",
    "UC Berkeley is committed to ensuring the quality of its academic programs, its teaching, and the learning experiences of its students. An important component of this is the regular evaluation of courses by students. This feedback will help our instructors, course staff, and the University better understand and address the concerns of students such as yourself!\n",
    "\n",
    "Your answers are confidential, and will be anonymously shared with instructors only after the grade submission deadline. "
   ]
  },
  {
   "cell_type": "markdown",
   "id": "55a05bc4-2beb-4ac1-bb3a-d87480158ca8",
   "metadata": {},
   "source": [
    "## 2. Data 8 End-Of-Semester Feedback Form"
   ]
  },
  {
   "cell_type": "markdown",
   "id": "c6c277d4-7352-40e0-8a68-1aa2647b7f0a",
   "metadata": {},
   "source": [
    "You can find the end-of-semester feedback form [here](https://forms.gle/v9WZ6Aika3nE3UHq8).\n",
    "\n",
    "Please take a couple of minutes to fill our course-specific survey out. Your feedback helps the class get better every semester!"
   ]
  },
  {
   "cell_type": "markdown",
   "id": "a7b039f2-908e-485b-aa04-492bb1f8c730",
   "metadata": {},
   "source": [
    "## 3. Data 8 Final Accommodations Form"
   ]
  },
  {
   "cell_type": "markdown",
   "id": "85e86070-a8ea-4feb-8406-e39eafbf2259",
   "metadata": {},
   "source": [
    "You can find the Final Exam Accomodations Form [here](https://edstem.org/us/courses/18289/discussion/1446673). If you haven't already, please complete this form by Monday, 5/2 at 11:59pm. This form is mandatory whether or not you require accommodations.\n",
    "\n",
    "If you do not fill out the form by this time, we will not be providing any accommodations and will have you assigned to the regular exam time in-person."
   ]
  },
  {
   "cell_type": "markdown",
   "id": "11a1180e-d86c-4d56-b814-87a60d06e64c",
   "metadata": {},
   "source": [
    "-----\n",
    "\n",
    "You're all done with Homework 13! :,)\n",
    "\n",
    "**Important submission steps:** \n",
    "\n",
    "1. Double-check that you submitted the Data 8 SP22 End-Of-Semester Feedback Form by clicking on the link above.\n",
    "2. Double-check that you received a copy of your responses from the Data 8 Final Form.\n",
    "\n",
    "**It is your responsibility to make sure your responses were submitted. As a reminder, you do *not* need to submit anything to Gradescope for Homework 13.**\n",
    "\n",
    "Good luck on your final exam!"
   ]
  }
 ],
 "metadata": {
  "kernelspec": {
   "display_name": "Python 3 (ipykernel)",
   "language": "python",
   "name": "python3"
  },
  "language_info": {
   "codemirror_mode": {
    "name": "ipython",
    "version": 3
   },
   "file_extension": ".py",
   "mimetype": "text/x-python",
   "name": "python",
   "nbconvert_exporter": "python",
   "pygments_lexer": "ipython3",
   "version": "3.7.3"
  }
 },
 "nbformat": 4,
 "nbformat_minor": 5
}

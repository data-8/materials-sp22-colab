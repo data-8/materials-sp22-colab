{
 "cells": [
  {
   "cell_type": "code",
   "execution_count": null,
   "id": "a2b9d7d1",
   "metadata": {
    "deletable": false,
    "editable": false
   },
   "outputs": [],
   "source": [
    "# Initialize Otter\n",
    "import otter\n",
    "grader = otter.Notebook(\"hw12.ipynb\")"
   ]
  },
  {
   "cell_type": "markdown",
   "id": "ffbf45be",
   "metadata": {},
   "source": [
    "# Homework 12: Classification"
   ]
  },
  {
   "cell_type": "markdown",
   "id": "577698c3",
   "metadata": {},
   "source": [
    "**Helpful Resource:**\n",
    "\n",
    "- [Python Reference](http://data8.org/sp22/python-reference.html): Cheat sheet of helpful array & table methods used in Data 8!\n",
    "\n",
    "**Recommended Reading**: \n",
    "\n",
    "* [Classification](https://www.inferentialthinking.com/chapters/17/Classification.html)"
   ]
  },
  {
   "cell_type": "markdown",
   "id": "40f9e777",
   "metadata": {},
   "source": [
    "Please complete this notebook by filling in the cells provided. Before you begin, execute the following cell to setup the notebook by importing some helpful libraries. Each time you start your server, you will need to execute this cell again.\n",
    "\n",
    "For all problems that you must write explanations and sentences for, you **must** provide your answer in the designated space. **Moreover, throughout this homework, please be sure to not re-assign variables throughout the notebook!** For example, if you use `max_temperature` in your answer to one question, do not reassign it later on. Otherwise, you will fail tests that you thought you were passing previously!\n",
    "\n",
    "**Deadline:**\n",
    "\n",
    "This assignment is due Thursday, 4/28 at 11:59pm PT. Turn it in by Wednesday, 4/27 at 11:59pm PT for 5 extra credit points. Late work will not be accepted as per the [policies](http://data8.org/sp22/policies.html) page.\n",
    "\n",
    "**Note: This homework has hidden tests on it. That means even though tests may say 100% passed, it doesn't mean your final grade will be 100%. We will be running more tests for correctness once everyone turns in the homework.**\n",
    "\n",
    "Directly sharing answers is not okay, but discussing problems with the course staff or with other students is encouraged. Refer to the policies page to learn more about how to learn cooperatively.\n",
    "\n",
    "You should start early so that you have time to get help if you're stuck. Office hours are held Tuesday through Friday. The schedule appears on [http://data8.org/sp22/office-hours.html](http://data8.org/sp22/office-hours.html)."
   ]
  },
  {
   "cell_type": "code",
   "execution_count": null,
   "id": "aea77490",
   "metadata": {},
   "outputs": [],
   "source": [
    "# Don't change this cell; just run it. \n",
    "\n",
    "import numpy as np\n",
    "from datascience import *\n",
    "import d8error\n",
    "\n",
    "# These lines do some fancy plotting magic\n",
    "import matplotlib\n",
    "%matplotlib inline\n",
    "import matplotlib.pyplot as plt\n",
    "plt.style.use('fivethirtyeight')\n",
    "import warnings\n",
    "warnings.simplefilter('ignore')\n",
    "from datetime import datetime"
   ]
  },
  {
   "cell_type": "markdown",
   "id": "17af2cc3",
   "metadata": {},
   "source": [
    "## 1. Bay Area School Coordinates with Classification"
   ]
  },
  {
   "cell_type": "markdown",
   "id": "29a82dad",
   "metadata": {},
   "source": [
    "Welcome to Homework 12! This homework is about k-Nearest Neighbors classification (k-NN). Since this topic is covered in depth in Project 3, the purpose of this homework is to reinforce the basics of this method. You can and should reuse a lot of code that you wrote for Project 3 for this homework, or use code from this homework on Project 3!"
   ]
  },
  {
   "cell_type": "markdown",
   "id": "1e633239",
   "metadata": {},
   "source": [
    "### Our Dearest Neighbors"
   ]
  },
  {
   "cell_type": "markdown",
   "id": "c16cf30b",
   "metadata": {},
   "source": [
    "Carol is trying classify students as either attendees of UC Berkeley or as attendees of Stanford University. To classify the students, Carol has access to the coordinates of the location they live during the school year. First, load in the `coordinates` table."
   ]
  },
  {
   "cell_type": "code",
   "execution_count": null,
   "id": "4c4471ac",
   "metadata": {
    "deletable": false,
    "editable": false
   },
   "outputs": [],
   "source": [
    "# Just run this cell!\n",
    "coordinates = Table.read_table('coordinates.csv')\n",
    "coordinates.show(5)"
   ]
  },
  {
   "cell_type": "markdown",
   "id": "2e23f15d",
   "metadata": {},
   "source": [
    "As usual, let's investigate our data visually before performing any kind of numerical analysis."
   ]
  },
  {
   "cell_type": "code",
   "execution_count": null,
   "id": "59c08cba",
   "metadata": {
    "deletable": false,
    "editable": false
   },
   "outputs": [],
   "source": [
    "# Just run this cell!\n",
    "coordinates.scatter(\"longitude\", \"latitude\", group=\"school\")"
   ]
  },
  {
   "cell_type": "markdown",
   "id": "378174d2",
   "metadata": {},
   "source": [
    "The locations of the points on this scatter plot might be familiar - run the following cell to see what they correspond to."
   ]
  },
  {
   "cell_type": "code",
   "execution_count": null,
   "id": "96e1f349",
   "metadata": {
    "deletable": false,
    "editable": false,
    "scrolled": true
   },
   "outputs": [],
   "source": [
    "# Just run this cell!\n",
    "colors = {\"Berkeley\":\"blue\", \"Stanford\":\"red\"}\n",
    "t = Table().with_columns(\"lat\", coordinates.column(0), \n",
    "                                      \"lon\", coordinates.column(1), \n",
    "                                      \"color\", coordinates.apply(colors.get, 2)\n",
    "                        )\n",
    "Circle.map_table(t, radius=5, fill_opacity=1)"
   ]
  },
  {
   "cell_type": "markdown",
   "id": "c5ce49ee",
   "metadata": {
    "deletable": false,
    "editable": false
   },
   "source": [
    "**Question 1.1.** Let's begin implementing the k-Nearest Neighbors algorithm. Define the `distance` function, which takes in two arguments: an array of numerical features (`arr1`), and a different array of numerical features (`arr2`). The function should return the [Euclidean distance](https://en.wikipedia.org/wiki/Euclidean_distance) between the two arrays. Euclidean distance is often referred to as the straight-line distance formula that you may have learned previously. **(10 points)**\n",
    "\n",
    "\n",
    "<!--\n",
    "BEGIN QUESTION\n",
    "name: q1_1\n",
    "manual: false\n",
    "points:\n",
    " - 0\n",
    " - 10\n",
    "-->"
   ]
  },
  {
   "cell_type": "code",
   "execution_count": null,
   "id": "9bc9614e",
   "metadata": {
    "deletable": false,
    "tags": []
   },
   "outputs": [],
   "source": [
    "def distance(arr1, arr2):\n",
    "    ...\n",
    "\n",
    "# Don't change/delete the code below in this cell\n",
    "distance_example = distance(make_array(1, 2, 3), make_array(4, 5, 6))\n",
    "distance_example"
   ]
  },
  {
   "cell_type": "code",
   "execution_count": null,
   "id": "af39b9a4",
   "metadata": {
    "deletable": false,
    "editable": false
   },
   "outputs": [],
   "source": [
    "grader.check(\"q1_1\")"
   ]
  },
  {
   "cell_type": "markdown",
   "id": "d98c3842",
   "metadata": {},
   "source": [
    "### Splitting the Dataset\n",
    "We'll do two different kinds of things with the `coordinates` dataset:\n",
    "\n",
    "1. We'll build a classifier using coordinates for which we know the associated label; this will teach it to recognize labels of similar coordinate values. This process is known as *training*.\n",
    "2. We'll evaluate or *test* the accuracy of the classifier we build on data we haven't seen before.\n",
    "\n",
    "As discussed in [Section 17.2](https://inferentialthinking.com/chapters/17/2/Training_and_Testing.html#training-and-testing), we want to use separate datasets for training and testing. As such, we split up our one dataset into two."
   ]
  },
  {
   "cell_type": "markdown",
   "id": "1dda53c8",
   "metadata": {
    "deletable": false,
    "editable": false
   },
   "source": [
    "**Question 1.2.** Next, let's split our dataset into a training set and a test set. Since `coordinates` has 100 rows, let's create a training set with the first 75 rows and a test set with the remaining 25 rows. Remember that assignment to each group should be random, so we should shuffle the table first. **(10 points)**\n",
    "\n",
    "*Hint:* As a first step we can shuffle all the rows, then use the `tbl.take` function to split up the rows for each table.\n",
    "\n",
    "<!--\n",
    "BEGIN QUESTION\n",
    "name: q1_2\n",
    "manual: false\n",
    "points:\n",
    " - 0\n",
    " - 0\n",
    " - 10\n",
    "-->"
   ]
  },
  {
   "cell_type": "code",
   "execution_count": null,
   "id": "dd4ffa11",
   "metadata": {
    "for_assignment_type": "solution"
   },
   "outputs": [],
   "source": [
    "shuffled_table = ...\n",
    "train = ...\n",
    "test = ...\n",
    "\n",
    "print(\"Training set:\\t\",   train.num_rows, \"examples\")\n",
    "print(\"Test set:\\t\",       test.num_rows, \"examples\")\n",
    "train.show(5), test.show(5);"
   ]
  },
  {
   "cell_type": "code",
   "execution_count": null,
   "id": "b2c5fc9e",
   "metadata": {
    "deletable": false,
    "editable": false
   },
   "outputs": [],
   "source": [
    "grader.check(\"q1_2\")"
   ]
  },
  {
   "cell_type": "markdown",
   "id": "11f21695",
   "metadata": {
    "deletable": false,
    "editable": false
   },
   "source": [
    "**Question 1.3.** Assign `features` to an array of column names (strings) of the features from the `coordinates` table. **(10 points)**\n",
    "\n",
    "*Hint:* Which of the column names in the `coordinates` table are the features, and which of the column names correspond to the class we're trying to predict?\n",
    "\n",
    "*Hint*: No need to modify any tables, just manually create an array of the feature names!\n",
    "\n",
    "<!--\n",
    "BEGIN QUESTION\n",
    "name: q1_3\n",
    "manual: false\n",
    "points:\n",
    " - 0\n",
    " - 10\n",
    "-->"
   ]
  },
  {
   "cell_type": "code",
   "execution_count": null,
   "id": "a97b2d6d",
   "metadata": {
    "deletable": false
   },
   "outputs": [],
   "source": [
    "features = ...\n",
    "features"
   ]
  },
  {
   "cell_type": "code",
   "execution_count": null,
   "id": "78d270c8",
   "metadata": {
    "deletable": false,
    "editable": false
   },
   "outputs": [],
   "source": [
    "grader.check(\"q1_3\")"
   ]
  },
  {
   "cell_type": "markdown",
   "id": "ea856a2e",
   "metadata": {
    "deletable": false,
    "editable": false
   },
   "source": [
    "**Question 1.4.** Now define the `classify` function. This function should take in a `test_row` from a table like `test` and classify in using the k-Nearest Neighbors based on the correct `features` and the data in `train`. A refresher on k-Nearest Neighbors can be found [here](https://www.inferentialthinking.com/chapters/17/4/Implementing_the_Classifier.html). **(10 points)**\n",
    "\n",
    "\n",
    "*Hint 1:* The `distance` function we defined earlier takes in arrays as input, so use the `row_to_array` function we defined for you to convert rows to arrays of features.\n",
    "\n",
    "*Hint 2:* The skeleton code we provided iterates through each row in the training set.\n",
    "\n",
    "<!--\n",
    "BEGIN QUESTION\n",
    "name: q1_4\n",
    "manual: false\n",
    "points:\n",
    " - 0\n",
    " - 10\n",
    "-->"
   ]
  },
  {
   "cell_type": "code",
   "execution_count": null,
   "id": "022585de",
   "metadata": {
    "deletable": false,
    "manual_grade": true,
    "manual_problem_id": "sign_lang_2"
   },
   "outputs": [],
   "source": [
    "def row_to_array(row, features):\n",
    "    \"\"\"Converts a row to an array of its features.\"\"\"\n",
    "    arr = make_array()\n",
    "    for feature in features:\n",
    "        arr = np.append(arr, row.item(feature))\n",
    "    return arr\n",
    "\n",
    "def classify(test_row, k, train):\n",
    "    test_row_features_array = row_to_array(test_row, features)\n",
    "    distances = make_array()\n",
    "    for train_row in train.rows:\n",
    "        train_row_features_array = ...\n",
    "        row_distance = ...\n",
    "        distances = ...\n",
    "    train_with_distances = ...\n",
    "    nearest_neighbors = ...\n",
    "    most_common_label = ...\n",
    "    ...\n",
    "\n",
    "# Don't modify/delete the code below\n",
    "first_test = classify(test.row(0), 5, train)\n",
    "first_test"
   ]
  },
  {
   "cell_type": "code",
   "execution_count": null,
   "id": "5beb8d29",
   "metadata": {
    "deletable": false,
    "editable": false
   },
   "outputs": [],
   "source": [
    "grader.check(\"q1_4\")"
   ]
  },
  {
   "cell_type": "markdown",
   "id": "f7acaee0",
   "metadata": {
    "deletable": false,
    "editable": false
   },
   "source": [
    "<div class=\"hide\">\\pagebreak</div>\n",
    "\n",
    "**Question 1.5.** Define the function `three_classify` that takes a `row` from `test` as an argument and classifies the row based on using 3-Nearest Neighbors. Use this function to find the `accuracy` of a 3-NN classifier on the `test` set. `accuracy` should be a proportion (not a percentage) of the schools that were correctly predicted. **(10 points)**\n",
    "\n",
    "\n",
    "*Hint:* You should be using a function you just created!\n",
    "\n",
    "*Note:* Usually before using a classifier on a test set, we'd classify first on a \"validation\" set, which we then can modify our training set again if need be, before actually testing on the test set. You don’t need to do that for this question, but you will learn about this more in Data 100.\n",
    "\n",
    "<!--\n",
    "BEGIN QUESTION\n",
    "name: q1_5\n",
    "manual: false\n",
    "points:\n",
    " - 4\n",
    " - 6\n",
    "-->"
   ]
  },
  {
   "cell_type": "code",
   "execution_count": null,
   "id": "91f113aa",
   "metadata": {
    "deletable": false,
    "manual_grade": true,
    "manual_problem_id": "sign_lang_3"
   },
   "outputs": [],
   "source": [
    "def three_classify(row):\n",
    "    ...\n",
    "\n",
    "test_with_prediction = ...\n",
    "labels_correct = ...\n",
    "accuracy = ...\n",
    "accuracy"
   ]
  },
  {
   "cell_type": "code",
   "execution_count": null,
   "id": "f05fe6ec",
   "metadata": {
    "deletable": false,
    "editable": false
   },
   "outputs": [],
   "source": [
    "grader.check(\"q1_5\")"
   ]
  },
  {
   "cell_type": "markdown",
   "id": "32288589",
   "metadata": {
    "deletable": false,
    "editable": false
   },
   "source": [
    "**Question 1.6.** There are 77 rows of Berkeley students and 23 rows of Stanford students in the `coordinates` table. If we used the entire `coordinates` table as the training set, what is the smallest value of k that would ensure that a k-Nearest Neighbor classifier would *always* predict Berkeley as the class? Assign the value to `k`. **(10 points)**\n",
    "\n",
    "<!--\n",
    "BEGIN QUESTION\n",
    "name: q1_6\n",
    "manual: false\n",
    "points:\n",
    " - 0\n",
    " - 10\n",
    "-->"
   ]
  },
  {
   "cell_type": "code",
   "execution_count": null,
   "id": "7707b516",
   "metadata": {},
   "outputs": [],
   "source": [
    "k = ...\n",
    "k"
   ]
  },
  {
   "cell_type": "code",
   "execution_count": null,
   "id": "570cc6dd",
   "metadata": {
    "deletable": false,
    "editable": false
   },
   "outputs": [],
   "source": [
    "grader.check(\"q1_6\")"
   ]
  },
  {
   "cell_type": "markdown",
   "id": "909f53d6",
   "metadata": {
    "deletable": false,
    "editable": false
   },
   "source": [
    "<!-- BEGIN QUESTION -->\n",
    "\n",
    "**Question 1.7.** Why do we divide our data into a training and test set? What is the point of a test set, and why do we only want to use the test set once? Explain your answer in 3 sentences or less. **(10 points)**\n",
    "\n",
    "*Hint:* Check out this [section](https://inferentialthinking.com/chapters/17/2/Training_and_Testing.html) in the textbook.\n",
    "\n",
    "<!--\n",
    "BEGIN QUESTION\n",
    "name: q1_7\n",
    "manual: true\n",
    "-->"
   ]
  },
  {
   "cell_type": "markdown",
   "id": "900126ff",
   "metadata": {},
   "source": [
    "_Type your answer here, replacing this text._"
   ]
  },
  {
   "cell_type": "markdown",
   "id": "e44437c7",
   "metadata": {
    "deletable": false,
    "editable": false
   },
   "source": [
    "<!-- END QUESTION -->\n",
    "\n",
    "<!-- BEGIN QUESTION -->\n",
    "\n",
    "**Question 1.8.** Why do we use an odd-numbered `k` in k-NN? Explain. **(10 points)**\n",
    "\n",
    "<!--\n",
    "BEGIN QUESTION\n",
    "name: q1_8\n",
    "manual: true\n",
    "-->"
   ]
  },
  {
   "cell_type": "markdown",
   "id": "0e688722",
   "metadata": {},
   "source": [
    "_Type your answer here, replacing this text._"
   ]
  },
  {
   "cell_type": "markdown",
   "id": "881700ba",
   "metadata": {},
   "source": [
    "<!-- END QUESTION -->\n",
    "\n",
    "\n",
    "\n",
    "**Question 1.9.0. Setup**\n",
    "\n",
    "Thomas has devised a scheme for splitting up the test and training set. For each row from `coordinates`:\n",
    "- Rows for Stanford students have a 50% chance of being placed in the training set and 50% chance of being placed in the test set.  \n",
    "- Rows for Berkeley students have a 80% chance of being placed in the training set and 20% chance of being placed in the test set.  \n",
    "\n",
    "\n",
    "*Hint 1:* Remember that there are 77 Berkeley students and 23 Stanford students in coordinates.  \n",
    "\n",
    "*Hint 2:* Thomas' last name is Bayes. (So [18.1](https://inferentialthinking.com/chapters/18/1/More_Likely_than_Not_Binary_Classifier.html#bayes-rule) from the textbook may be helpful here!)\n",
    "\n",
    "*Hint 3:* The following tree diagram may be helpful in Questions 1.9.1 and 1.9.2!\n",
    "\n",
    "<img src=\"tree_diagram.png\" width=\"450\">"
   ]
  },
  {
   "cell_type": "markdown",
   "id": "8545b8d7",
   "metadata": {
    "deletable": false,
    "editable": false
   },
   "source": [
    "**Question 1.9.1.** Given that a row is in the test set, what is the probability that it corresponds to a Stanford student? Assign that probability to `prob_furd`. **(10 points)**\n",
    "\n",
    "<!--\n",
    "BEGIN QUESTION\n",
    "name: q1_9_1\n",
    "manual: false\n",
    "points:\n",
    " - 0\n",
    " - 0\n",
    " - 10\n",
    "-->"
   ]
  },
  {
   "cell_type": "code",
   "execution_count": null,
   "id": "675dd040",
   "metadata": {},
   "outputs": [],
   "source": [
    "prob_furd = ...\n",
    "prob_furd"
   ]
  },
  {
   "cell_type": "code",
   "execution_count": null,
   "id": "6c34755f",
   "metadata": {
    "deletable": false,
    "editable": false
   },
   "outputs": [],
   "source": [
    "grader.check(\"q1_9_1\")"
   ]
  },
  {
   "cell_type": "markdown",
   "id": "1195bff6",
   "metadata": {
    "deletable": false,
    "editable": false
   },
   "source": [
    "**Question 1.9.2.** Given that a row is Stanford, what is the probability that the student is in the test set? Assign that probability to `prob_test`. **(10 points)**\n",
    "\n",
    "<!--\n",
    "BEGIN QUESTION\n",
    "name: q1_9_2\n",
    "manual: false\n",
    "points:\n",
    " - 0\n",
    " - 0\n",
    " - 10\n",
    "-->"
   ]
  },
  {
   "cell_type": "code",
   "execution_count": null,
   "id": "9d1a7cd3",
   "metadata": {},
   "outputs": [],
   "source": [
    "prob_test = ...\n",
    "prob_test"
   ]
  },
  {
   "cell_type": "code",
   "execution_count": null,
   "id": "f277501c",
   "metadata": {
    "deletable": false,
    "editable": false
   },
   "outputs": [],
   "source": [
    "grader.check(\"q1_9_2\")"
   ]
  },
  {
   "cell_type": "markdown",
   "id": "ae5bcb61",
   "metadata": {},
   "source": [
    "## (OPTIONAL, NOT IN SCOPE): k-NN for Non-Binary Classification"
   ]
  },
  {
   "cell_type": "markdown",
   "id": "08b302b2",
   "metadata": {
    "deletable": false
   },
   "source": [
    "**THIS IS NOT IN SCOPE**. There are no autograder tests for this or code for you to write. It just relies on the function `classify` in Question 1.4. Go ahead and read through this section and run the following cells!\n",
    "\n",
    "In this class, we have taught you how to use the k-NN algorithm to classify data as one of two classes. However, much of the data you will encounter in the real world will not fall nicely into one of two categories. \n",
    "\n",
    "**How can we classify data with non-binary classes?** It turns out we can still use k-NN! That is, we find the distance between a point and all its neighbors, find the nearest neighbors, and take a majority vote among the neighbors to determine this point's class. \n",
    "\n",
    "The only difference is that now the neighboring points have more than two possible classes. This does introduce difficulty because now we have no way of guaranteeing that we will not encounter ties between classes. In the case that we do encounter a tie, we can just arbitrarily choose one of the classes.\n",
    "\n",
    "In fact, you don't even have to modify the code you wrote before at all to enable multi-class classification!"
   ]
  },
  {
   "cell_type": "markdown",
   "id": "909a5493",
   "metadata": {
    "deletable": false,
    "editable": false
   },
   "source": [
    "Let's add some more data to our train table, this time for another class of students, students at San Jose Community College (SJCC)."
   ]
  },
  {
   "cell_type": "code",
   "execution_count": null,
   "id": "1fde0904",
   "metadata": {
    "deletable": false,
    "editable": false
   },
   "outputs": [],
   "source": [
    "coordinates_multi = coordinates.with_rows([\n",
    "                              [37.304346, -121.915401, \"SJCC\"],\n",
    "                              [37.316275, -121.913879, \"SJCC\"],\n",
    "                              [37.409435, -121.951379, \"SJCC\"],\n",
    "                              [37.349387, -121.960771, \"SJCC\"],\n",
    "                              [37.329083, -121.928479, \"SJCC\"],\n",
    "                              [37.313017, -121.866730, \"SJCC\"],\n",
    "                              [37.346525, -121.894767, \"SJCC\"],\n",
    "                              [37.364157, -121.955717, \"SJCC\"],\n",
    "                              [37.383362, -121.925776, \"SJCC\"],\n",
    "                              [37.329545, -121.880639, \"SJCC\"]                             \n",
    "])"
   ]
  },
  {
   "cell_type": "code",
   "execution_count": null,
   "id": "46ba4e4d",
   "metadata": {
    "deletable": false,
    "editable": false
   },
   "outputs": [],
   "source": [
    "classify(coordinates_multi.row(0), 5, coordinates_multi)"
   ]
  },
  {
   "cell_type": "code",
   "execution_count": null,
   "id": "adfca2fc",
   "metadata": {
    "deletable": false,
    "editable": false
   },
   "outputs": [],
   "source": [
    "classify(coordinates_multi.row(91), 5, coordinates_multi)"
   ]
  },
  {
   "cell_type": "code",
   "execution_count": null,
   "id": "8f061ad1",
   "metadata": {
    "deletable": false,
    "editable": false
   },
   "outputs": [],
   "source": [
    "classify(coordinates_multi.row(105), 5, coordinates_multi)"
   ]
  },
  {
   "cell_type": "markdown",
   "id": "6c9789e5",
   "metadata": {},
   "source": [
    "Our classifier can classify rows as belonging to one of three classes!\n",
    "\n",
    "Classification is one of the most important fields in statistics, data science, and machine learning. There are thousands of different classification algorithms and modifications of algorithms! There are many that you'll learn if you continue down the path of becoming a data scientist!"
   ]
  },
  {
   "cell_type": "markdown",
   "id": "556fbe6a",
   "metadata": {},
   "source": [
    "You're all done with Homework 12! :,)\n",
    "\n",
    "**Important submission steps:** \n",
    "1. Run the tests and verify that they all pass.\n",
    "2. Choose **Save Notebook** from the **File** menu, then **run the final cell**. \n",
    "3. Click the link to download the zip file.\n",
    "4. Go to [Gradescope](https://www.gradescope.com/courses/349879) and submit the zip file to the corresponding assignment. The name of this assignment is \"HW 12 Autograder\". \n",
    "\n",
    "**It is your responsibility to make sure your work is saved before running the last cell.**"
   ]
  },
  {
   "cell_type": "markdown",
   "id": "af8cccee",
   "metadata": {
    "deletable": false,
    "editable": false
   },
   "source": [
    "---\n",
    "\n",
    "To double-check your work, the cell below will rerun all of the autograder tests."
   ]
  },
  {
   "cell_type": "code",
   "execution_count": null,
   "id": "8c624d11",
   "metadata": {
    "deletable": false,
    "editable": false
   },
   "outputs": [],
   "source": [
    "grader.check_all()"
   ]
  },
  {
   "cell_type": "markdown",
   "id": "17c462d4",
   "metadata": {
    "deletable": false,
    "editable": false
   },
   "source": [
    "## Submission\n",
    "\n",
    "Make sure you have run all cells in your notebook in order before running the cell below, so that all images/graphs appear in the output. The cell below will generate a zip file for you to submit. **Please save before exporting!**"
   ]
  },
  {
   "cell_type": "code",
   "execution_count": null,
   "id": "29a7c688",
   "metadata": {
    "deletable": false,
    "editable": false
   },
   "outputs": [],
   "source": [
    "# Save your notebook first, then run this cell to export your submission.\n",
    "grader.export(pdf=False)"
   ]
  },
  {
   "cell_type": "markdown",
   "id": "4ddc3825",
   "metadata": {},
   "source": [
    " "
   ]
  }
 ],
 "metadata": {
  "kernelspec": {
   "display_name": "Python 3 (ipykernel)",
   "language": "python",
   "name": "python3"
  },
  "language_info": {
   "codemirror_mode": {
    "name": "ipython",
    "version": 3
   },
   "file_extension": ".py",
   "mimetype": "text/x-python",
   "name": "python",
   "nbconvert_exporter": "python",
   "pygments_lexer": "ipython3",
   "version": "3.9.10"
  }
 },
 "nbformat": 4,
 "nbformat_minor": 5
}

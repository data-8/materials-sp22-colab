{
 "cells": [
  {
   "cell_type": "code",
   "execution_count": null,
   "id": "fb99b2d0",
   "metadata": {
    "deletable": false,
    "editable": false
   },
   "outputs": [],
   "source": [
    "from google.colab import drive\n",
    "drive.mount('/content/gdrive', force_remount=True)\n",
    "\n",
    "!mkdir -p '/content/gdrive/My Drive/colab-materials-data8-notebooks/'\n",
    "!git clone https://github.com/data-8/materials-sp22-colab '/content/gdrive/My Drive/colab-materials-data8-notebooks/materials-sp22-colab/'\n",
    "\n",
    "%pip install otter-grader==4.3.4\n",
    "%cd /content/gdrive/MyDrive/colab-materials-data8-notebooks/materials-sp22-colab/lab/lab03/\n",
    "\n",
    "# Initialize Otter\n",
    "import otter\n",
    "grader = otter.Notebook(colab=True)"
   ]
  },
  {
   "cell_type": "markdown",
   "id": "25f5bf73",
   "metadata": {},
   "source": [
    "# Lab 3: Data Types and Arrays\n",
    "Welcome to Lab 3!\n",
    "\n",
    "So far, we've used Python to manipulate numbers and work with tables. But we need to discuss data types to deepen our understanding of how to work with data in Python.\n",
    "\n",
    "In this lab, you'll first see how to represent and manipulate another fundamental type of data: text.  A piece of text is called a *string* in Python. You'll also see how to work with *arrays* of data. An array could contain all the numbers between 0 and 100 or all the words in the chapter of a book. Lastly, you'll create tables and practice analyzing them with your knowledge of table operations. The [Python Reference](http://data8.org/sp22/python-reference.html) has information that will be useful for this lab.\n",
    "\n",
    "\n",
    "**Submission**: Once you\u2019re finished, run all cells besides the last one, select File > Save Notebook, and then execute the final cell. Then submit the downloaded zip file, that includes your notebook,  according to your instructor's directions."
   ]
  },
  {
   "cell_type": "markdown",
   "id": "f899f88a",
   "metadata": {},
   "source": [
    "Set up the tests and imports by running the cell below."
   ]
  },
  {
   "cell_type": "code",
   "execution_count": null,
   "id": "4fab218b",
   "metadata": {
    "deletable": false,
    "execution": {
     "iopub.execute_input": "2022-02-01T05:58:41.378437Z",
     "iopub.status.busy": "2022-02-01T05:58:41.377788Z",
     "iopub.status.idle": "2022-02-01T05:58:42.985680Z",
     "shell.execute_reply": "2022-02-01T05:58:42.985025Z"
    }
   },
   "outputs": [],
   "source": [
    "# Just run this cell\n",
    "import numpy as np\n",
    "import math\n",
    "from datascience import *\n",
    "import d8error"
   ]
  },
  {
   "cell_type": "markdown",
   "id": "e7c3b6a3",
   "metadata": {},
   "source": [
    "# 1. Text\n",
    "Programming doesn't just concern numbers. Text is one of the most common data types used in programs. \n",
    "\n",
    "Text is represented by a **string value** in Python. The word \"string\" is a programming term for a sequence of characters. A string might contain a single character, a word, a sentence, or a whole book.\n",
    "\n",
    "To distinguish text data from actual code, we demarcate strings by putting quotation marks around them. Single quotes (`'`) and double quotes (`\"`) are both valid, but the types of opening and closing quotation marks must match. The contents can be any sequence of characters, including numbers and symbols. \n",
    "\n",
    "We've seen strings before in `print` statements.  Below, two different strings are passed as arguments to the `print` function."
   ]
  },
  {
   "cell_type": "code",
   "execution_count": null,
   "id": "c9665efc",
   "metadata": {
    "execution": {
     "iopub.execute_input": "2022-02-01T05:58:42.990426Z",
     "iopub.status.busy": "2022-02-01T05:58:42.989900Z",
     "iopub.status.idle": "2022-02-01T05:58:42.993478Z",
     "shell.execute_reply": "2022-02-01T05:58:42.992885Z"
    }
   },
   "outputs": [],
   "source": [
    "print(\"I <3\", 'Data Science')"
   ]
  },
  {
   "cell_type": "markdown",
   "id": "41824911",
   "metadata": {},
   "source": [
    "Just as names can be given to numbers, names can be given to string values.  The names and strings aren't required to be similar in any way. Any name can be assigned to any string."
   ]
  },
  {
   "cell_type": "code",
   "execution_count": null,
   "id": "fc985fdb",
   "metadata": {
    "execution": {
     "iopub.execute_input": "2022-02-01T05:58:42.998469Z",
     "iopub.status.busy": "2022-02-01T05:58:42.997894Z",
     "iopub.status.idle": "2022-02-01T05:58:43.000725Z",
     "shell.execute_reply": "2022-02-01T05:58:43.001154Z"
    }
   },
   "outputs": [],
   "source": [
    "one = 'two'\n",
    "plus = '*'\n",
    "print(one, plus, one)"
   ]
  },
  {
   "cell_type": "markdown",
   "id": "ae375838",
   "metadata": {},
   "source": [
    "**Question 1.1.** Yuri Gagarin was the first person to travel through outer space.  When he emerged from his capsule upon landing on Earth, he [reportedly](https://en.wikiquote.org/wiki/Yuri_Gagarin) had the following conversation with a woman and girl who saw the landing:\n",
    "\n",
    "    The woman asked: \"Can it be that you have come from outer space?\"\n",
    "    Gagarin replied: \"As a matter of fact, I have!\"\n",
    "\n",
    "The cell below contains unfinished code.  Fill in the `...`s so that it prints out this conversation *exactly* as it appears above.\n"
   ]
  },
  {
   "cell_type": "code",
   "execution_count": null,
   "id": "04fd8d7b",
   "metadata": {
    "deletable": false,
    "execution": {
     "iopub.execute_input": "2022-02-01T05:58:43.006150Z",
     "iopub.status.busy": "2022-02-01T05:58:43.005659Z",
     "iopub.status.idle": "2022-02-01T05:58:43.008953Z",
     "shell.execute_reply": "2022-02-01T05:58:43.008438Z"
    },
    "tags": []
   },
   "outputs": [],
   "source": [
    "woman_asking = ...\n",
    "woman_quote = '\"Can it be that you have come from outer space?\"'\n",
    "gagarin_reply = 'Gagarin replied:'\n",
    "gagarin_quote = ...\n",
    "\n",
    "print(woman_asking, woman_quote)\n",
    "print(gagarin_reply, gagarin_quote)"
   ]
  },
  {
   "cell_type": "code",
   "execution_count": null,
   "id": "6b05719b",
   "metadata": {
    "deletable": false,
    "editable": false
   },
   "outputs": [],
   "source": [
    "grader.check(\"q11\")"
   ]
  },
  {
   "cell_type": "markdown",
   "id": "a513f908",
   "metadata": {},
   "source": [
    "## 1.1. String Methods"
   ]
  },
  {
   "cell_type": "markdown",
   "id": "6c6a9b57",
   "metadata": {},
   "source": [
    "Strings can be transformed using **methods**. Recall that methods and functions are not the same thing. Here is the textbook section on string methods: [4.2.1 String Methods](https://inferentialthinking.com/chapters/04/2/1/String_Methods.html?highlight=methods). \n",
    "\n",
    "Here's a sketch of how to call methods on a string:\n",
    "\n",
    "    <expression that evaluates to a string>.<method name>(<argument>, <argument>, ...)\n",
    "    \n",
    "One example of a string method is `replace`, which replaces all instances of some part of the original string (or a *substring*) with a new string. \n",
    "\n",
    "    <original string>.replace(<old substring>, <new substring>)\n",
    "    \n",
    "`replace` returns (evaluates to) a new string, leaving the original string unchanged.\n",
    "    \n",
    "Try to predict the output of this example, then run the cell!"
   ]
  },
  {
   "cell_type": "code",
   "execution_count": null,
   "id": "7382c18d",
   "metadata": {
    "execution": {
     "iopub.execute_input": "2022-02-01T05:58:43.034242Z",
     "iopub.status.busy": "2022-02-01T05:58:43.033738Z",
     "iopub.status.idle": "2022-02-01T05:58:43.036769Z",
     "shell.execute_reply": "2022-02-01T05:58:43.036267Z"
    }
   },
   "outputs": [],
   "source": [
    "# Replace one letter\n",
    "bag = 'bag'\n",
    "print(bag.replace('g', 't'), bag)"
   ]
  },
  {
   "cell_type": "markdown",
   "id": "09d77cb4",
   "metadata": {},
   "source": [
    "You can call functions on the results of other functions.  For example, `max(abs(-5), abs(3))` evaluates to 5.  Similarly, you can call methods on the results of other method or function calls.\n",
    "\n",
    "You may have already noticed one difference between functions and methods - a function like `max` does not require a `.` before it's called, but a string method like `replace` does. Here's a handy [Python reference](http://data8.org/fa21/python-reference.html) on the Data 8 website. It's a good idea to refer to this whenever you're unsure of how to call a function or method."
   ]
  },
  {
   "cell_type": "code",
   "execution_count": null,
   "id": "96f39d7d",
   "metadata": {
    "execution": {
     "iopub.execute_input": "2022-02-01T05:58:43.041436Z",
     "iopub.status.busy": "2022-02-01T05:58:43.040866Z",
     "iopub.status.idle": "2022-02-01T05:58:43.043712Z",
     "shell.execute_reply": "2022-02-01T05:58:43.044090Z"
    },
    "scrolled": true
   },
   "outputs": [],
   "source": [
    "# Calling replace on the output of another call to replace\n",
    "'train'.replace('t', 'ing').replace('in', 'de')"
   ]
  },
  {
   "cell_type": "markdown",
   "id": "112ec563",
   "metadata": {},
   "source": [
    "Here's a picture of how Python evaluates a \"chained\" method call like that:\n",
    "\n",
    "<img src=\"chaining_method_calls.png\"/>"
   ]
  },
  {
   "cell_type": "markdown",
   "id": "59109924",
   "metadata": {},
   "source": [
    "**Question 1.1.1.** Use `replace` to transform the string `'hitchhiker'` into `'matchmaker'`. Assign your result to `new_word`.\n"
   ]
  },
  {
   "cell_type": "code",
   "execution_count": null,
   "id": "0a9935f4",
   "metadata": {
    "deletable": false,
    "execution": {
     "iopub.execute_input": "2022-02-01T05:58:43.049716Z",
     "iopub.status.busy": "2022-02-01T05:58:43.048837Z",
     "iopub.status.idle": "2022-02-01T05:58:43.052668Z",
     "shell.execute_reply": "2022-02-01T05:58:43.052015Z"
    },
    "tags": []
   },
   "outputs": [],
   "source": [
    "new_word = ...\n",
    "new_word"
   ]
  },
  {
   "cell_type": "code",
   "execution_count": null,
   "id": "93e9c0aa",
   "metadata": {
    "deletable": false,
    "editable": false
   },
   "outputs": [],
   "source": [
    "grader.check(\"q111\")"
   ]
  },
  {
   "cell_type": "markdown",
   "id": "c335dccd",
   "metadata": {},
   "source": [
    "There are many more string methods in Python, but most programmers don't memorize their names or how to use them.  In the \"real world,\" people usually just search the internet for documentation and examples. A complete [list of string methods](https://docs.python.org/3/library/stdtypes.html#string-methods) appears in the Python language documentation. [Stack Overflow](http://stackoverflow.com) has a huge database of answered questions that often demonstrate how to use these methods to achieve various ends. Material covered in these resources that haven't already been introduced in this class will be out of scope. "
   ]
  },
  {
   "cell_type": "markdown",
   "id": "ea4e5f4b",
   "metadata": {},
   "source": [
    "## 1.2. Converting to and from Strings"
   ]
  },
  {
   "cell_type": "markdown",
   "id": "2529a691",
   "metadata": {},
   "source": [
    "Strings and numbers are different *types* of values, even when a string contains the digits of a number. For example, evaluating the following cell causes an error because an integer cannot be added to a string."
   ]
  },
  {
   "cell_type": "code",
   "execution_count": null,
   "id": "26e505a0",
   "metadata": {
    "execution": {
     "iopub.execute_input": "2022-02-01T05:58:43.096245Z",
     "iopub.status.busy": "2022-02-01T05:58:43.095742Z",
     "iopub.status.idle": "2022-02-01T05:58:43.654288Z",
     "shell.execute_reply": "2022-02-01T05:58:43.653757Z"
    },
    "tags": [
     "raises-exception"
    ]
   },
   "outputs": [],
   "source": [
    "8 + \"8\""
   ]
  },
  {
   "cell_type": "markdown",
   "id": "38487505",
   "metadata": {},
   "source": [
    "However, there are built-in functions to convert numbers to strings and strings to numbers. Some of these built-in functions have restrictions on the type of argument they take:\n",
    "\n",
    "|Function |Description|\n",
    "|-|-|\n",
    "|`int`|Converts a string of digits or a float to an integer (\"int\") value|\n",
    "|`float`|Converts a string of digits (perhaps with a decimal point) or an int to a decimal (\"float\") value|\n",
    "|`str`|Converts any value to a string|"
   ]
  },
  {
   "cell_type": "markdown",
   "id": "52d31a49",
   "metadata": {},
   "source": [
    "Try to predict what data type and value `example` evaluates to, then run the cell."
   ]
  },
  {
   "cell_type": "code",
   "execution_count": null,
   "id": "25a82290",
   "metadata": {
    "execution": {
     "iopub.execute_input": "2022-02-01T05:58:43.659562Z",
     "iopub.status.busy": "2022-02-01T05:58:43.659016Z",
     "iopub.status.idle": "2022-02-01T05:58:43.662290Z",
     "shell.execute_reply": "2022-02-01T05:58:43.661867Z"
    }
   },
   "outputs": [],
   "source": [
    "example = 8 + int(\"10\") + float(\"8\")\n",
    "\n",
    "print(example)\n",
    "print(\"This example returned a \" + str(type(example)) + \"!\")"
   ]
  },
  {
   "cell_type": "markdown",
   "id": "e81cbc78",
   "metadata": {},
   "source": [
    "Suppose you're writing a program that looks for dates in a text, and you want your program to find the amount of time that elapsed between two years it has identified.  It doesn't make sense to subtract two texts, but you can first convert the text containing the years into numbers.\n",
    "\n",
    "**Question 1.2.1.** Finish the code below to compute the number of years that elapsed between `one_year` and `another_year`.  Don't just write the numbers `1618` and `1648` (or `30`); use a conversion function to turn the given text data into numbers.\n"
   ]
  },
  {
   "cell_type": "code",
   "execution_count": null,
   "id": "9848bee7",
   "metadata": {
    "deletable": false,
    "execution": {
     "iopub.execute_input": "2022-02-01T05:58:43.667545Z",
     "iopub.status.busy": "2022-02-01T05:58:43.666992Z",
     "iopub.status.idle": "2022-02-01T05:58:43.670203Z",
     "shell.execute_reply": "2022-02-01T05:58:43.669626Z"
    },
    "tags": []
   },
   "outputs": [],
   "source": [
    "# Some text data:\n",
    "one_year = \"1618\"\n",
    "another_year = \"1648\"\n",
    "\n",
    "# Complete the next line.  Note that we can't just write:\n",
    "#   another_year - one_year\n",
    "# If you don't see why, try seeing what happens when you\n",
    "# write that here.\n",
    "difference = ...\n",
    "difference"
   ]
  },
  {
   "cell_type": "code",
   "execution_count": null,
   "id": "2c37165c",
   "metadata": {
    "deletable": false,
    "editable": false
   },
   "outputs": [],
   "source": [
    "grader.check(\"q121\")"
   ]
  },
  {
   "cell_type": "markdown",
   "id": "04d5caa4",
   "metadata": {},
   "source": [
    "## 1.3. Passing strings to functions\n",
    "\n",
    "String values, like numbers, can be arguments to functions and can be returned by functions. \n",
    "\n",
    "The function `len` (derived from the word \"length\") takes a single string as its argument and returns the number of characters (including spaces) in the string.\n",
    "\n",
    "Note that it doesn't count *words*. `len(\"one small step for man\")` evaluates to 22 characters, not 5 words.\n",
    "\n",
    "**Question 1.3.1.**  Use `len` to find the number of characters in the long string in the next cell.  Characters include things like spaces and punctuation. Assign `sentence_length` to that number.\n",
    "\n",
    "(The string is the first sentence of the English translation of the French [Declaration of the Rights of Man](http://avalon.law.yale.edu/18th_century/rightsof.asp).)  \n"
   ]
  },
  {
   "cell_type": "code",
   "execution_count": null,
   "id": "2943bc01",
   "metadata": {
    "deletable": false,
    "execution": {
     "iopub.execute_input": "2022-02-01T05:58:43.692800Z",
     "iopub.status.busy": "2022-02-01T05:58:43.692258Z",
     "iopub.status.idle": "2022-02-01T05:58:43.695463Z",
     "shell.execute_reply": "2022-02-01T05:58:43.694992Z"
    },
    "tags": []
   },
   "outputs": [],
   "source": [
    "a_very_long_sentence = \"The representatives of the French people, organized as a National Assembly, believing that the ignorance, neglect, or contempt of the rights of man are the sole cause of public calamities and of the corruption of governments, have determined to set forth in a solemn declaration the natural, unalienable, and sacred rights of man, in order that this declaration, being constantly before all the members of the Social body, shall remind them continually of their rights and duties; in order that the acts of the legislative power, as well as those of the executive power, may be compared at any moment with the objects and purposes of all political institutions and may thus be more respected, and, lastly, in order that the grievances of the citizens, based hereafter upon simple and incontestable principles, shall tend to the maintenance of the constitution and redound to the happiness of all.\"\n",
    "sentence_length = ...\n",
    "sentence_length"
   ]
  },
  {
   "cell_type": "code",
   "execution_count": null,
   "id": "3ee14a08",
   "metadata": {
    "deletable": false,
    "editable": false
   },
   "outputs": [],
   "source": [
    "grader.check(\"q131\")"
   ]
  },
  {
   "cell_type": "markdown",
   "id": "0f9a617e",
   "metadata": {},
   "source": [
    "# 2. Arrays\n",
    "\n",
    "Computers are most useful when you can use a small amount of code to *do the same action* to *many different things*.\n",
    "\n",
    "For example, in the time it takes you to calculate the 18% tip on a restaurant bill, a laptop can calculate 18% tips for every restaurant bill paid by every human on Earth that day.  (That's if you're pretty fast at doing arithmetic in your head!)\n",
    "\n",
    "**Arrays** are how we put many values in one place so that we can operate on them as a group. For example, if `billions_of_numbers` is an array of numbers, the expression\n",
    "\n",
    "    .18 * billions_of_numbers\n",
    "\n",
    "gives a new array of numbers that contains the result of multiplying **each number** in `billions_of_numbers` by .18.  Arrays are not limited to numbers; we can also put all the words in a book into an array of strings.\n",
    "\n",
    "Concretely, an array is a **collection of values of the same type**. "
   ]
  },
  {
   "cell_type": "markdown",
   "id": "c224050f",
   "metadata": {},
   "source": [
    "## 2.1. Making arrays\n",
    "\n",
    "First, let's learn how to manually input values into an array. This typically isn't how programs work. Normally, we create arrays by loading them from an external source, like a data file.\n",
    "\n",
    "To create an array by hand, call the function `make_array`.  Each argument you pass to `make_array` will be in the array it returns.  Run this cell to see an example:"
   ]
  },
  {
   "cell_type": "code",
   "execution_count": null,
   "id": "f019dec0",
   "metadata": {
    "execution": {
     "iopub.execute_input": "2022-02-01T05:58:43.707252Z",
     "iopub.status.busy": "2022-02-01T05:58:43.706546Z",
     "iopub.status.idle": "2022-02-01T05:58:43.710107Z",
     "shell.execute_reply": "2022-02-01T05:58:43.709551Z"
    },
    "scrolled": true
   },
   "outputs": [],
   "source": [
    "make_array(0.125, 4.75, -1.3)"
   ]
  },
  {
   "cell_type": "markdown",
   "id": "676f0332",
   "metadata": {},
   "source": [
    "Each value in an array (in the above case, the numbers 0.125, 4.75, and -1.3) is called an *element* of that array.\n",
    "\n",
    "Arrays themselves are also values, just like numbers and strings.  That means you can assign them to names or use them as arguments to functions. For example, `len(<some_array>)` returns the number of elements in `some_array`."
   ]
  },
  {
   "cell_type": "markdown",
   "id": "f8f0fd75",
   "metadata": {},
   "source": [
    "**Question 2.1.1.** Make an array containing the numbers 0, 1, -1, and $\\pi$, in that order.  Name it `interesting_numbers`.  \n",
    "\n",
    "*Hint:* How did you get the value $\\pi$ in lab 2?  You can refer to it the same way here. The `math` module has been imported at the top of this notebook.\n"
   ]
  },
  {
   "cell_type": "code",
   "execution_count": null,
   "id": "e1b17942",
   "metadata": {
    "deletable": false,
    "execution": {
     "iopub.execute_input": "2022-02-01T05:58:43.715191Z",
     "iopub.status.busy": "2022-02-01T05:58:43.714529Z",
     "iopub.status.idle": "2022-02-01T05:58:43.716976Z",
     "shell.execute_reply": "2022-02-01T05:58:43.717425Z"
    },
    "tags": []
   },
   "outputs": [],
   "source": [
    "interesting_numbers = ...\n",
    "interesting_numbers"
   ]
  },
  {
   "cell_type": "code",
   "execution_count": null,
   "id": "8f78cece",
   "metadata": {
    "deletable": false,
    "editable": false
   },
   "outputs": [],
   "source": [
    "grader.check(\"q211\")"
   ]
  },
  {
   "cell_type": "markdown",
   "id": "b949f6d2",
   "metadata": {},
   "source": [
    "**Question 2.1.2.** Make an array containing the five strings `\"Hello\"`, `\",\"`, `\" \"`, `\"world\"`, and `\"!\"`.  (The third one is a single space inside quotes.)  Name it `hello_world_components`.\n",
    "\n",
    "*Note:* If you evaluate `hello_world_components`, you'll notice some extra information in addition to its contents: `dtype='<U5'`.  That's just NumPy's extremely cryptic way of saying that the data types in the array are strings.\n"
   ]
  },
  {
   "cell_type": "code",
   "execution_count": null,
   "id": "02c1d00d",
   "metadata": {
    "deletable": false,
    "execution": {
     "iopub.execute_input": "2022-02-01T05:58:43.744301Z",
     "iopub.status.busy": "2022-02-01T05:58:43.743569Z",
     "iopub.status.idle": "2022-02-01T05:58:43.746500Z",
     "shell.execute_reply": "2022-02-01T05:58:43.746916Z"
    },
    "tags": []
   },
   "outputs": [],
   "source": [
    "hello_world_components = ...\n",
    "hello_world_components"
   ]
  },
  {
   "cell_type": "code",
   "execution_count": null,
   "id": "38da4fff",
   "metadata": {
    "deletable": false,
    "editable": false
   },
   "outputs": [],
   "source": [
    "grader.check(\"q212\")"
   ]
  },
  {
   "cell_type": "markdown",
   "id": "3f90d265",
   "metadata": {},
   "source": [
    "###  `np.arange`\n",
    "Arrays are provided by a package called [NumPy](http://www.numpy.org/) (pronounced \"NUM-pie\"). The package is called `numpy`, but it's standard to rename it `np` for brevity.  You can do that with:\n",
    "\n",
    "    import numpy as np\n",
    "\n",
    "Very often in data science, we want to work with many numbers that are evenly spaced within some range.  NumPy provides a special function for this called `arange`.  The line of code `np.arange(start, stop, step)` evaluates to an array with all the numbers starting at `start` and counting up by `step`, stopping **before** `stop` is reached.\n",
    "\n",
    "Run the following cells to see some examples!"
   ]
  },
  {
   "cell_type": "code",
   "execution_count": null,
   "id": "0f7da87a",
   "metadata": {
    "execution": {
     "iopub.execute_input": "2022-02-01T05:58:43.812492Z",
     "iopub.status.busy": "2022-02-01T05:58:43.812017Z",
     "iopub.status.idle": "2022-02-01T05:58:43.814769Z",
     "shell.execute_reply": "2022-02-01T05:58:43.815198Z"
    }
   },
   "outputs": [],
   "source": [
    "# This array starts at 1 and counts up by 2\n",
    "# and then stops before 6\n",
    "np.arange(1, 6, 2)"
   ]
  },
  {
   "cell_type": "code",
   "execution_count": null,
   "id": "7304743a",
   "metadata": {
    "execution": {
     "iopub.execute_input": "2022-02-01T05:58:43.820029Z",
     "iopub.status.busy": "2022-02-01T05:58:43.819475Z",
     "iopub.status.idle": "2022-02-01T05:58:43.823148Z",
     "shell.execute_reply": "2022-02-01T05:58:43.822634Z"
    }
   },
   "outputs": [],
   "source": [
    "# This array doesn't contain 9\n",
    "# because np.arange stops *before* the stop value is reached\n",
    "np.arange(4, 9, 1)"
   ]
  },
  {
   "cell_type": "markdown",
   "id": "1229e53a",
   "metadata": {},
   "source": [
    "**Question 2.1.3.** Import `numpy` as `np` and then use `np.arange` to create an array with the multiples of 99 from 0 up to (**and including**) 9999.  (So its elements are 0, 99, 198, 297, etc.)\n"
   ]
  },
  {
   "cell_type": "code",
   "execution_count": null,
   "id": "e26958bb",
   "metadata": {
    "deletable": false,
    "execution": {
     "iopub.execute_input": "2022-02-01T05:58:43.828282Z",
     "iopub.status.busy": "2022-02-01T05:58:43.827831Z",
     "iopub.status.idle": "2022-02-01T05:58:43.830875Z",
     "shell.execute_reply": "2022-02-01T05:58:43.831254Z"
    },
    "tags": []
   },
   "outputs": [],
   "source": [
    "...\n",
    "multiples_of_99 = ...\n",
    "multiples_of_99"
   ]
  },
  {
   "cell_type": "code",
   "execution_count": null,
   "id": "b4240ae7",
   "metadata": {
    "deletable": false,
    "editable": false
   },
   "outputs": [],
   "source": [
    "grader.check(\"q213\")"
   ]
  },
  {
   "cell_type": "markdown",
   "id": "5c546e69",
   "metadata": {
    "deletable": false
   },
   "source": [
    "## 2.2. Working with single elements of arrays (\"indexing\")\n",
    "Let's work with a more interesting dataset.  The next cell creates an array called `population_amounts` that includes estimated world populations of every year from **1950** to roughly the present.  (The estimates come from the US Census Bureau website.)\n",
    "\n",
    "Rather than type in the data manually, we've loaded them from a file on your computer called `world_population.csv`.  You'll learn how to do that later in this lab!"
   ]
  },
  {
   "cell_type": "code",
   "execution_count": null,
   "id": "e1069d15",
   "metadata": {
    "deletable": false,
    "execution": {
     "iopub.execute_input": "2022-02-01T05:58:43.857764Z",
     "iopub.status.busy": "2022-02-01T05:58:43.857278Z",
     "iopub.status.idle": "2022-02-01T05:58:43.892181Z",
     "shell.execute_reply": "2022-02-01T05:58:43.891776Z"
    }
   },
   "outputs": [],
   "source": [
    "population_amounts = Table.read_table(\"world_population.csv\").column(\"Population\")\n",
    "population_amounts"
   ]
  },
  {
   "cell_type": "markdown",
   "id": "0bc127a6",
   "metadata": {},
   "source": [
    "Here's how we get the first element of `population_amounts`, which is the world population in the first year in the dataset, 1950."
   ]
  },
  {
   "cell_type": "code",
   "execution_count": null,
   "id": "bf278c60",
   "metadata": {
    "execution": {
     "iopub.execute_input": "2022-02-01T05:58:43.897233Z",
     "iopub.status.busy": "2022-02-01T05:58:43.896542Z",
     "iopub.status.idle": "2022-02-01T05:58:43.899265Z",
     "shell.execute_reply": "2022-02-01T05:58:43.899675Z"
    }
   },
   "outputs": [],
   "source": [
    "population_amounts.item(0)"
   ]
  },
  {
   "cell_type": "markdown",
   "id": "f713adbe",
   "metadata": {},
   "source": [
    "The value of that expression is the number 2,557,628,654 (around 2.5 billion), because that's the first thing in the array `population_amounts`.\n",
    "\n",
    "Notice that we wrote `.item(0)`, not `.item(1)`, to get the first element.  This is a weird convention in computer science.  **0 is called the *index* of the first item.**  It's the number of elements that appear *before* that item.  So 3 is the index of the 4th item.\n",
    "\n",
    "Here are some more examples.  In the examples, we've given names to the things we get out of `population_amounts`.  Read and run each cell."
   ]
  },
  {
   "cell_type": "code",
   "execution_count": null,
   "id": "8a2f7441",
   "metadata": {
    "execution": {
     "iopub.execute_input": "2022-02-01T05:58:43.904617Z",
     "iopub.status.busy": "2022-02-01T05:58:43.903892Z",
     "iopub.status.idle": "2022-02-01T05:58:43.907080Z",
     "shell.execute_reply": "2022-02-01T05:58:43.907472Z"
    }
   },
   "outputs": [],
   "source": [
    "# The 13th element in the array is the population\n",
    "# in 1962 (which is 1950 + 12).\n",
    "population_1962 = population_amounts.item(12)\n",
    "population_1962"
   ]
  },
  {
   "cell_type": "code",
   "execution_count": null,
   "id": "310c4deb",
   "metadata": {
    "execution": {
     "iopub.execute_input": "2022-02-01T05:58:43.912148Z",
     "iopub.status.busy": "2022-02-01T05:58:43.911577Z",
     "iopub.status.idle": "2022-02-01T05:58:43.913921Z",
     "shell.execute_reply": "2022-02-01T05:58:43.914262Z"
    }
   },
   "outputs": [],
   "source": [
    "# The 66th element is the population in 2015.\n",
    "population_2015 = population_amounts.item(65)\n",
    "population_2015"
   ]
  },
  {
   "cell_type": "code",
   "execution_count": null,
   "id": "00f29a50",
   "metadata": {
    "execution": {
     "iopub.execute_input": "2022-02-01T05:58:43.918020Z",
     "iopub.status.busy": "2022-02-01T05:58:43.917556Z",
     "iopub.status.idle": "2022-02-01T05:58:43.935664Z",
     "shell.execute_reply": "2022-02-01T05:58:43.935187Z"
    },
    "tags": [
     "raises-exception"
    ]
   },
   "outputs": [],
   "source": [
    "# The array has only 66 elements, so this doesn't work.\n",
    "# (There's no element with 66 other elements before it.)\n",
    "population_2016 = population_amounts.item(66)\n",
    "population_2016"
   ]
  },
  {
   "cell_type": "markdown",
   "id": "94eb2831",
   "metadata": {},
   "source": [
    "Since `make_array` returns an array, we can call `.item(3)` on its output to get its 4th element, just like we \"chained\" together calls to the method `replace` earlier."
   ]
  },
  {
   "cell_type": "code",
   "execution_count": null,
   "id": "81cf8688",
   "metadata": {
    "execution": {
     "iopub.execute_input": "2022-02-01T05:58:43.940647Z",
     "iopub.status.busy": "2022-02-01T05:58:43.939974Z",
     "iopub.status.idle": "2022-02-01T05:58:43.942908Z",
     "shell.execute_reply": "2022-02-01T05:58:43.943255Z"
    }
   },
   "outputs": [],
   "source": [
    "make_array(-1, -3, 4, -2).item(3)"
   ]
  },
  {
   "cell_type": "markdown",
   "id": "70e915ac",
   "metadata": {},
   "source": [
    "**Question 2.2.1.** Set `population_1973` to the world population in 1973, by getting the appropriate element from `population_amounts` using `item`.\n"
   ]
  },
  {
   "cell_type": "code",
   "execution_count": null,
   "id": "a1554b94",
   "metadata": {
    "deletable": false,
    "execution": {
     "iopub.execute_input": "2022-02-01T05:58:43.947675Z",
     "iopub.status.busy": "2022-02-01T05:58:43.947184Z",
     "iopub.status.idle": "2022-02-01T05:58:43.950196Z",
     "shell.execute_reply": "2022-02-01T05:58:43.949740Z"
    },
    "tags": []
   },
   "outputs": [],
   "source": [
    "population_1973 = ...\n",
    "population_1973"
   ]
  },
  {
   "cell_type": "code",
   "execution_count": null,
   "id": "7932ed5b",
   "metadata": {
    "deletable": false,
    "editable": false
   },
   "outputs": [],
   "source": [
    "grader.check(\"q221\")"
   ]
  },
  {
   "cell_type": "markdown",
   "id": "1126f3c6",
   "metadata": {},
   "source": [
    "## 2.3. Doing something to every element of an array\n",
    "Arrays are primarily useful for doing the same operation many times, so we don't often have to use `.item` and work with single elements.\n",
    "\n",
    "##### Rounding\n",
    "Here is one simple question we might ask about world population:\n",
    "\n",
    "> How big was the population in each year, rounded to the nearest million?\n",
    "\n",
    "Rounding is often used with large numbers when we don't need as much precision in our numbers. One example of this is when we present data in tables and visualizations. \n",
    "\n",
    "We could try to answer our question using the `round` function that is built into Python and the `item` method you just saw. \n",
    "\n",
    "**Note:** the `round` function takes in two arguments: the number to be rounded, and the number of decimal places to round to. The second argument can be thought of as how many steps right or left you move from the decimal point. Negative numbers tell us to move left, and positive numbers tell us to move right. So, if we have `round(1234.5, -2)`, it means that we should move two places left, and then make all numbers to the right of this place zeroes. This would output the number 1200.0. On the other hand, if we have `round(6.789, 1)`, we should move one place right, and then make all numbers to the right of this place zeroes. This would output the number 6.8."
   ]
  },
  {
   "cell_type": "code",
   "execution_count": null,
   "id": "580f5859",
   "metadata": {
    "execution": {
     "iopub.execute_input": "2022-02-01T05:58:43.988431Z",
     "iopub.status.busy": "2022-02-01T05:58:43.987845Z",
     "iopub.status.idle": "2022-02-01T05:58:43.990203Z",
     "shell.execute_reply": "2022-02-01T05:58:43.989779Z"
    },
    "scrolled": true
   },
   "outputs": [],
   "source": [
    "population_1950_magnitude = round(population_amounts.item(0), -6)\n",
    "population_1951_magnitude = round(population_amounts.item(1), -6)\n",
    "population_1952_magnitude = round(population_amounts.item(2), -6)\n",
    "population_1953_magnitude = round(population_amounts.item(3), -6)"
   ]
  },
  {
   "cell_type": "markdown",
   "id": "cf0d62b8",
   "metadata": {},
   "source": [
    "But this is tedious and doesn't really take advantage of the fact that we are using a computer.\n",
    "\n",
    "Instead, NumPy provides its own version of `round` that rounds each element of an array.  It takes in two arguments: a single array of numbers, and the number of decimal places to round to.  It returns an array of the same length, where the first element of the result is the first element of the argument rounded, and so on.\n",
    "\n",
    "**Question 2.3.1.** Use `np.round` to compute the world population in every year, rounded to the nearest million (6 zeroes).  Give the result (an array of 66 numbers) the name `population_rounded`.  Your code should be very short.\n"
   ]
  },
  {
   "cell_type": "code",
   "execution_count": null,
   "id": "2a97c87a",
   "metadata": {
    "deletable": false,
    "execution": {
     "iopub.execute_input": "2022-02-01T05:58:43.995004Z",
     "iopub.status.busy": "2022-02-01T05:58:43.994514Z",
     "iopub.status.idle": "2022-02-01T05:58:43.998158Z",
     "shell.execute_reply": "2022-02-01T05:58:43.997747Z"
    },
    "tags": []
   },
   "outputs": [],
   "source": [
    "population_rounded = ...\n",
    "population_rounded"
   ]
  },
  {
   "cell_type": "code",
   "execution_count": null,
   "id": "d139a603",
   "metadata": {
    "deletable": false,
    "editable": false
   },
   "outputs": [],
   "source": [
    "grader.check(\"q231\")"
   ]
  },
  {
   "cell_type": "markdown",
   "id": "ffe43a1f",
   "metadata": {},
   "source": [
    "What you just did is called **elementwise** application of `np.round`, since `np.round` operates separately on each element of the array that it's called on. Here's a picture of what's going on:"
   ]
  },
  {
   "cell_type": "markdown",
   "id": "c79a5fb3",
   "metadata": {},
   "source": [
    "<img src=\"array_round.jpg\">\n",
    "\n",
    "The textbook's [section](https://www.inferentialthinking.com/chapters/05/1/Arrays)  on arrays has a useful list of NumPy functions that are designed to work elementwise, like `np.round`."
   ]
  },
  {
   "cell_type": "markdown",
   "id": "9ebc3ba3",
   "metadata": {},
   "source": [
    "##### Arithmetic\n",
    "Arithmetic also works elementwise on arrays, meaning that if you perform an arithmetic operation (like subtraction, division, etc) on an array, Python will do the operation to every element of the array individually and return an array of all of the results. For example, you can divide all the population numbers by 1 billion to get numbers in billions:"
   ]
  },
  {
   "cell_type": "code",
   "execution_count": null,
   "id": "5f8c91e0",
   "metadata": {
    "execution": {
     "iopub.execute_input": "2022-02-01T05:58:44.020041Z",
     "iopub.status.busy": "2022-02-01T05:58:44.019576Z",
     "iopub.status.idle": "2022-02-01T05:58:44.022851Z",
     "shell.execute_reply": "2022-02-01T05:58:44.022404Z"
    }
   },
   "outputs": [],
   "source": [
    "population_in_billions = population_amounts / 1000000000\n",
    "population_in_billions"
   ]
  },
  {
   "cell_type": "markdown",
   "id": "657a0d11",
   "metadata": {},
   "source": [
    "You can do the same with addition, subtraction, multiplication, and exponentiation (`**`).\n"
   ]
  },
  {
   "cell_type": "markdown",
   "id": "258bd809",
   "metadata": {
    "deletable": false
   },
   "source": [
    "## 3. Creating Tables\n",
    "\n",
    "An array is useful for describing a single attribute of each element in a collection. For example, let's say our collection is all US States. Then an array could describe the land area of each state. \n",
    "\n",
    "Tables extend this idea by containing multiple columns stored and represented as arrays, each one describing a different attribute for every element of a collection. In this way, tables allow us to not only store data about many entities but to also contain several kinds of data about each entity. \n",
    "\n",
    "For example, in the cell below we have two arrays. The first one, `population_amounts`, was defined above in section 2.2 and contains the world population in each year (estimated by the US Census Bureau). The second array, `years`, contains the years themselves. These elements are in order, so the year and the world population for that year have the same index in their corresponding arrays."
   ]
  },
  {
   "cell_type": "code",
   "execution_count": null,
   "id": "f95b286c",
   "metadata": {
    "deletable": false,
    "execution": {
     "iopub.execute_input": "2022-02-01T05:58:44.027913Z",
     "iopub.status.busy": "2022-02-01T05:58:44.027399Z",
     "iopub.status.idle": "2022-02-01T05:58:44.030601Z",
     "shell.execute_reply": "2022-02-01T05:58:44.029984Z"
    },
    "scrolled": true
   },
   "outputs": [],
   "source": [
    "# Just run this cell\n",
    "\n",
    "years = np.arange(1950, 2015+1)\n",
    "print(\"Population column:\", population_amounts)\n",
    "print(\"Years column:\", years)"
   ]
  },
  {
   "cell_type": "markdown",
   "id": "327d4fa5",
   "metadata": {
    "deletable": false
   },
   "source": [
    "Suppose we want to answer this question:\n",
    "\n",
    "> In which year did the world's population cross 6 billion?\n",
    "\n",
    "You could technically answer this question just from staring at the arrays, but it's a bit convoluted, since you would have to count the position where the population first crossed 6 billion, then find the corresponding element in the years array. In cases like these, it might be easier to put the data into a *`Table`*, a 2-dimensional type of dataset. \n",
    "\n",
    "The expression below:\n",
    "\n",
    "- creates an empty table using the expression `Table()`,\n",
    "- adds two columns by calling `with_columns` with four arguments,\n",
    "- assigns the result to the name `population`, and finally\n",
    "- evaluates `population` so that we can see the table.\n",
    "\n",
    "The strings `\"Year\"` and `\"Population\"` are column labels that we have chosen. The names `population_amounts` and `years` were assigned above to two arrays of the **same length**. The function `with_columns` (you can find the documentation [here](http://data8.org/fa21/python-reference.html)) takes in alternating strings (to represent column labels) and arrays (representing the data in those columns). The strings and arrays are separated by commas."
   ]
  },
  {
   "cell_type": "code",
   "execution_count": null,
   "id": "63cbaaec",
   "metadata": {
    "deletable": false,
    "execution": {
     "iopub.execute_input": "2022-02-01T05:58:44.036100Z",
     "iopub.status.busy": "2022-02-01T05:58:44.035630Z",
     "iopub.status.idle": "2022-02-01T05:58:44.038825Z",
     "shell.execute_reply": "2022-02-01T05:58:44.038333Z"
    }
   },
   "outputs": [],
   "source": [
    "population = Table().with_columns(\n",
    "    \"Population\", population_amounts,\n",
    "    \"Year\", years\n",
    ")\n",
    "population"
   ]
  },
  {
   "cell_type": "markdown",
   "id": "0937fbd9",
   "metadata": {
    "deletable": false
   },
   "source": [
    "Now the data is combined into a single table! It's much easier to parse this data. If you need to know what the population was in 1959, for example, you can tell from a single glance."
   ]
  },
  {
   "cell_type": "markdown",
   "id": "09d3410e",
   "metadata": {},
   "source": [
    "**Question 3.1.** In the cell below, we've created 2 arrays. Using the steps above, assign `top_10_movies` to a table that has two columns called \"Name\" and \"Rating\", which hold `top_10_movie_names` and `top_10_movie_ratings` respectively.\n"
   ]
  },
  {
   "cell_type": "code",
   "execution_count": null,
   "id": "7eeb9d0e",
   "metadata": {
    "deletable": false,
    "execution": {
     "iopub.execute_input": "2022-02-01T05:58:44.045682Z",
     "iopub.status.busy": "2022-02-01T05:58:44.041136Z",
     "iopub.status.idle": "2022-02-01T05:58:44.048594Z",
     "shell.execute_reply": "2022-02-01T05:58:44.048167Z"
    },
    "tags": []
   },
   "outputs": [],
   "source": [
    "top_10_movie_names = make_array(\n",
    "        'The Shawshank Redemption (1994)',\n",
    "        'The Godfather (1972)',\n",
    "        'The Godfather: Part II (1974)',\n",
    "        'Pulp Fiction (1994)',\n",
    "        \"Schindler's List (1993)\",\n",
    "        'The Lord of the Rings: The Return of the King (2003)',\n",
    "        '12 Angry Men (1957)',\n",
    "        'The Dark Knight (2008)',\n",
    "        'Il buono, il brutto, il cattivo (1966)',\n",
    "        'The Lord of the Rings: The Fellowship of the Ring (2001)')\n",
    "top_10_movie_ratings = make_array(9.2, 9.2, 9., 8.9, 8.9, 8.9, 8.9, 8.9, 8.9, 8.8)\n",
    "\n",
    "top_10_movies = ...\n",
    "\n",
    "# We've put this next line here \n",
    "# so your table will get printed out \n",
    "# when you run this cell.\n",
    "top_10_movies"
   ]
  },
  {
   "cell_type": "code",
   "execution_count": null,
   "id": "f59cb20d",
   "metadata": {
    "deletable": false,
    "editable": false
   },
   "outputs": [],
   "source": [
    "grader.check(\"q31\")"
   ]
  },
  {
   "cell_type": "markdown",
   "id": "a528830c",
   "metadata": {},
   "source": [
    "#### Loading a table from a file\n",
    "\n",
    "In most cases, we aren't going to go through the trouble of typing in all the data manually. Instead, we load them in from an external source, like a data file. There are many formats for data files, but CSV (\"comma-separated values\") is the most common.\n",
    "\n",
    "`Table.read_table(...)` takes one argument (a path to a data file in **string** format) and returns a table.  \n",
    "\n",
    "**Question 3.2.** `imdb.csv` contains a table of information about the 250 highest-rated movies on IMDb.  Load it as a table called `imdb`.\n",
    "\n",
    "(You may remember working with this table in Lab 2!)\n"
   ]
  },
  {
   "cell_type": "code",
   "execution_count": null,
   "id": "95e15cba",
   "metadata": {
    "deletable": false,
    "execution": {
     "iopub.execute_input": "2022-02-01T05:58:44.097172Z",
     "iopub.status.busy": "2022-02-01T05:58:44.096701Z",
     "iopub.status.idle": "2022-02-01T05:58:44.103726Z",
     "shell.execute_reply": "2022-02-01T05:58:44.104087Z"
    },
    "tags": []
   },
   "outputs": [],
   "source": [
    "imdb = ...\n",
    "imdb"
   ]
  },
  {
   "cell_type": "code",
   "execution_count": null,
   "id": "2e733d9a",
   "metadata": {
    "deletable": false,
    "editable": false
   },
   "outputs": [],
   "source": [
    "grader.check(\"q32\")"
   ]
  },
  {
   "cell_type": "markdown",
   "id": "48a9ab1a",
   "metadata": {},
   "source": [
    "Where did `imdb.csv` come from? Take a look at [this lab's folder](./). You should see a file called `imdb.csv`.\n",
    "\n",
    "Open up the `imdb.csv` file in that folder and look at the format. What do you notice? The `.csv` filename ending says that this file is in the [CSV (comma-separated value) format](http://edoceo.com/utilitas/csv-file-format)."
   ]
  },
  {
   "cell_type": "markdown",
   "id": "08321f02",
   "metadata": {},
   "source": [
    "## 4. More Table Operations!\n",
    "\n",
    "Now that you've worked with arrays, let's add a few more methods to the list of table operations that you saw in Lab 2.\n",
    "\n",
    "### `column`\n",
    "\n",
    "`column` takes the column name of a table (in string format) as its argument and returns the values in that column as an **array**. "
   ]
  },
  {
   "cell_type": "code",
   "execution_count": null,
   "id": "7ea3fdfc",
   "metadata": {
    "execution": {
     "iopub.execute_input": "2022-02-01T05:58:44.134725Z",
     "iopub.status.busy": "2022-02-01T05:58:44.134137Z",
     "iopub.status.idle": "2022-02-01T05:58:44.136773Z",
     "shell.execute_reply": "2022-02-01T05:58:44.137127Z"
    },
    "scrolled": true
   },
   "outputs": [],
   "source": [
    "# Returns an array of movie names\n",
    "top_10_movies.column('Name')"
   ]
  },
  {
   "cell_type": "markdown",
   "id": "5a0bc4b2",
   "metadata": {},
   "source": [
    "### `take`\n",
    "The table method `take` takes as its argument an array of numbers.  Each number should be the index of a row in the table.  It returns a **new table** with only those rows. \n",
    "\n",
    "You'll usually want to use `take` in conjunction with `np.arange` to take the first few rows of a table."
   ]
  },
  {
   "cell_type": "code",
   "execution_count": null,
   "id": "6bdbfb92",
   "metadata": {
    "execution": {
     "iopub.execute_input": "2022-02-01T05:58:44.142541Z",
     "iopub.status.busy": "2022-02-01T05:58:44.141959Z",
     "iopub.status.idle": "2022-02-01T05:58:44.144998Z",
     "shell.execute_reply": "2022-02-01T05:58:44.145397Z"
    },
    "scrolled": true
   },
   "outputs": [],
   "source": [
    "# Take first 5 movies of top_10_movies\n",
    "top_10_movies.take(np.arange(0, 5, 1))"
   ]
  },
  {
   "cell_type": "markdown",
   "id": "2867d132",
   "metadata": {},
   "source": [
    "The next three questions will give you practice with combining the operations you've learned in this lab and the previous one to answer questions about the `population` and `imdb` tables. First, check out the `population` table from section 2."
   ]
  },
  {
   "cell_type": "code",
   "execution_count": null,
   "id": "93d7047d",
   "metadata": {
    "execution": {
     "iopub.execute_input": "2022-02-01T05:58:44.150793Z",
     "iopub.status.busy": "2022-02-01T05:58:44.150190Z",
     "iopub.status.idle": "2022-02-01T05:58:44.187975Z",
     "shell.execute_reply": "2022-02-01T05:58:44.187264Z"
    }
   },
   "outputs": [],
   "source": [
    "# Run this cell to display the population table.\n",
    "population"
   ]
  },
  {
   "cell_type": "markdown",
   "id": "e4c130bd",
   "metadata": {},
   "source": [
    "**Question 4.1.** Check out the `population` table from section 2 of this lab.  Compute the year when the world population first went above 6 billion. Assign the year to `year_population_crossed_6_billion`.\n"
   ]
  },
  {
   "cell_type": "code",
   "execution_count": null,
   "id": "75f29709",
   "metadata": {
    "deletable": false,
    "execution": {
     "iopub.execute_input": "2022-02-01T05:58:44.194588Z",
     "iopub.status.busy": "2022-02-01T05:58:44.193787Z",
     "iopub.status.idle": "2022-02-01T05:58:44.196489Z",
     "shell.execute_reply": "2022-02-01T05:58:44.197034Z"
    },
    "tags": []
   },
   "outputs": [],
   "source": [
    "year_population_crossed_6_billion = ...\n",
    "year_population_crossed_6_billion"
   ]
  },
  {
   "cell_type": "code",
   "execution_count": null,
   "id": "95847fc0",
   "metadata": {
    "deletable": false,
    "editable": false
   },
   "outputs": [],
   "source": [
    "grader.check(\"q41\")"
   ]
  },
  {
   "cell_type": "markdown",
   "id": "9fab6179",
   "metadata": {},
   "source": [
    "**Question 4.2.** Find the average rating for movies released before the year 2000 and the average rating for movies released in the year 2000 or after for the movies in `imdb`.\n",
    "\n",
    "*Hint*: Think of the steps you need to do (take the average, find the ratings, find movies released in 20th/21st centuries), and try to put them in an order that makes sense.\n"
   ]
  },
  {
   "cell_type": "code",
   "execution_count": null,
   "id": "27af3322",
   "metadata": {
    "deletable": false,
    "execution": {
     "iopub.execute_input": "2022-02-01T05:58:44.219840Z",
     "iopub.status.busy": "2022-02-01T05:58:44.219265Z",
     "iopub.status.idle": "2022-02-01T05:58:44.222593Z",
     "shell.execute_reply": "2022-02-01T05:58:44.223149Z"
    },
    "tags": []
   },
   "outputs": [],
   "source": [
    "before_2000 = ...\n",
    "after_or_in_2000 = ...\n",
    "print(\"Average before 2000 rating:\", before_2000)\n",
    "print(\"Average after or in 2000 rating:\", after_or_in_2000)"
   ]
  },
  {
   "cell_type": "code",
   "execution_count": null,
   "id": "205a9fe6",
   "metadata": {
    "deletable": false,
    "editable": false
   },
   "outputs": [],
   "source": [
    "grader.check(\"q42\")"
   ]
  },
  {
   "cell_type": "markdown",
   "id": "a2546df1",
   "metadata": {},
   "source": [
    "**Question 4.3.** Here's a challenge: Find the number of movies that came out in *even* years.\n",
    "\n",
    "*Hint:* The operator `%` computes the remainder when dividing by a number.  So `5 % 2` is 1 and `6 % 2` is 0.  A number is even if the remainder is 0 when you divide by 2.\n",
    "\n",
    "*Hint 2:* `%` can be used on arrays, operating elementwise like `+` or `*`.  So `make_array(5, 6, 7) % 2` is `array([1, 0, 1])`.\n",
    "\n",
    "*Hint 3:* Add a new column called \"Year Remainder\" that's the remainder when each movie's release year is divided by 2. To do this, you can use `tbl.with_column(col_name, col_values)`: a table method that takes in the name of the new column and an array of values and returns a copy of the original `tbl` with the new column.  Then, use `where` to find rows where that new column is equal to 0.  Finally, use `num_rows` to count the number of such rows.\n",
    "\n",
    "*Note:* These steps can be chained in one single statement, or broken up across several lines with intermediate names assigned. You\u2019re always welcome to break down problems however you wish!\n"
   ]
  },
  {
   "cell_type": "code",
   "execution_count": null,
   "id": "ea52e87a",
   "metadata": {
    "deletable": false,
    "execution": {
     "iopub.execute_input": "2022-02-01T05:58:44.244683Z",
     "iopub.status.busy": "2022-02-01T05:58:44.243494Z",
     "iopub.status.idle": "2022-02-01T05:58:44.248022Z",
     "shell.execute_reply": "2022-02-01T05:58:44.247461Z"
    },
    "tags": []
   },
   "outputs": [],
   "source": [
    "num_even_year_movies = ...\n",
    "num_even_year_movies"
   ]
  },
  {
   "cell_type": "code",
   "execution_count": null,
   "id": "aaf7f4a9",
   "metadata": {
    "deletable": false,
    "editable": false
   },
   "outputs": [],
   "source": [
    "grader.check(\"q43\")"
   ]
  },
  {
   "cell_type": "markdown",
   "id": "8102143f",
   "metadata": {},
   "source": [
    "## 5. More Array Practice\n",
    "\n",
    "The following questions will be great practice for learning how to generate arrays in different ways, as well as executing different methods of array arithmetic!"
   ]
  },
  {
   "cell_type": "markdown",
   "id": "c317721e",
   "metadata": {},
   "source": [
    "###  5.1 `np.arange` (cont.)"
   ]
  },
  {
   "cell_type": "markdown",
   "id": "dca573f1",
   "metadata": {},
   "source": [
    "##### Temperature readings\n",
    "NOAA (the US National Oceanic and Atmospheric Administration) operates weather stations that measure surface temperatures at different sites around the United States.  The hourly readings are [publicly available](http://www.ncdc.noaa.gov/qclcd/QCLCD?prior=N).\n",
    "\n",
    "Suppose we download all the hourly data from the Oakland, California site for the month of December 2015.  To analyze the data, we want to know when each reading was taken, but we find that the data don't include the timestamps of the readings (the time at which each one was taken).\n",
    "\n",
    "However, we know the first reading was taken at the first instant of December 2015 (midnight on December 1st) and each subsequent reading was taken exactly 1 hour after the last.\n",
    "\n",
    "**Question 5.1.1.** Create an array of the *time, in seconds, since the start of the month* at which **each hourly reading** was taken.  Name it `collection_times`.\n",
    "\n",
    "*Hint 1:* There were 31 days in December, which is equivalent to ($31 \\times 24$) hours or ($31 \\times 24 \\times 60 \\times 60$) seconds.  So your array should have $31 \\times 24$ elements in it.\n",
    "\n",
    "*Hint 2:* The `len` function works on arrays, too!  If your `collection_times` isn't passing the tests, check its length and make sure it has $31 \\times 24$ elements.\n"
   ]
  },
  {
   "cell_type": "code",
   "execution_count": null,
   "id": "9a13c859",
   "metadata": {
    "execution": {
     "iopub.execute_input": "2022-02-01T05:58:44.292880Z",
     "iopub.status.busy": "2022-02-01T05:58:44.292302Z",
     "iopub.status.idle": "2022-02-01T05:58:44.296871Z",
     "shell.execute_reply": "2022-02-01T05:58:44.296062Z"
    },
    "tags": []
   },
   "outputs": [],
   "source": [
    "collection_times = ...\n",
    "collection_times"
   ]
  },
  {
   "cell_type": "code",
   "execution_count": null,
   "id": "06323f59",
   "metadata": {
    "deletable": false,
    "editable": false
   },
   "outputs": [],
   "source": [
    "grader.check(\"q511\")"
   ]
  },
  {
   "cell_type": "markdown",
   "id": "d0db0df0",
   "metadata": {},
   "source": [
    "### 5.2 Doing something to every element of an array (cont.)\n",
    "\n",
    "Calculate a tip on several restaurant bills at once (in this case just 3):"
   ]
  },
  {
   "cell_type": "code",
   "execution_count": null,
   "id": "c1c0f356",
   "metadata": {
    "execution": {
     "iopub.execute_input": "2022-02-01T05:58:44.332210Z",
     "iopub.status.busy": "2022-02-01T05:58:44.331662Z",
     "iopub.status.idle": "2022-02-01T05:58:44.334277Z",
     "shell.execute_reply": "2022-02-01T05:58:44.334671Z"
    }
   },
   "outputs": [],
   "source": [
    "restaurant_bills = make_array(20.12, 39.90, 31.01)\n",
    "print(\"Restaurant bills:\\t\", restaurant_bills)\n",
    "\n",
    "# Array multiplication\n",
    "tips = .2 * restaurant_bills\n",
    "print(\"Tips:\\t\\t\\t\", tips)"
   ]
  },
  {
   "cell_type": "markdown",
   "id": "a917890d",
   "metadata": {},
   "source": [
    "<img src=\"array_multiplication.jpg\">\n",
    "\n",
    "**Question 5.2.1** Suppose the total charge at a restaurant is the original bill plus the tip. If the tip is 20%, that means we can multiply the original bill by 1.2 to get the total charge.  Compute the total charge for each bill in `restaurant_bills`, and assign the resulting array to `total_charges`.\n"
   ]
  },
  {
   "cell_type": "code",
   "execution_count": null,
   "id": "68a5ad24",
   "metadata": {
    "execution": {
     "iopub.execute_input": "2022-02-01T05:58:44.339653Z",
     "iopub.status.busy": "2022-02-01T05:58:44.338996Z",
     "iopub.status.idle": "2022-02-01T05:58:44.341887Z",
     "shell.execute_reply": "2022-02-01T05:58:44.342239Z"
    },
    "tags": []
   },
   "outputs": [],
   "source": [
    "total_charges = ...\n",
    "total_charges"
   ]
  },
  {
   "cell_type": "code",
   "execution_count": null,
   "id": "899de7ba",
   "metadata": {
    "deletable": false,
    "editable": false
   },
   "outputs": [],
   "source": [
    "grader.check(\"q521\")"
   ]
  },
  {
   "cell_type": "markdown",
   "id": "e13ae67a",
   "metadata": {},
   "source": [
    "**Question 5.2.2.** The array `more_restaurant_bills` contains 100,000 bills!  Compute the total charge for each one in `more_restaurant_bills`.  How is your code different?\n"
   ]
  },
  {
   "cell_type": "code",
   "execution_count": null,
   "id": "9fb3b4e0",
   "metadata": {
    "execution": {
     "iopub.execute_input": "2022-02-01T05:58:44.396759Z",
     "iopub.status.busy": "2022-02-01T05:58:44.396229Z",
     "iopub.status.idle": "2022-02-01T05:58:44.434094Z",
     "shell.execute_reply": "2022-02-01T05:58:44.434503Z"
    },
    "tags": []
   },
   "outputs": [],
   "source": [
    "more_restaurant_bills = Table.read_table(\"more_restaurant_bills.csv\").column(\"Bill\")\n",
    "more_total_charges = ...\n",
    "more_total_charges"
   ]
  },
  {
   "cell_type": "code",
   "execution_count": null,
   "id": "384e9b86",
   "metadata": {
    "deletable": false,
    "editable": false
   },
   "outputs": [],
   "source": [
    "grader.check(\"q522\")"
   ]
  },
  {
   "cell_type": "markdown",
   "id": "70622ac2",
   "metadata": {},
   "source": [
    "The function `sum` takes a single array of numbers as its argument.  It returns the sum of all the numbers in that array (so it returns a single number, not an array).\n",
    "\n",
    "**Question 5.2.3.** What was the sum of all the bills in `more_restaurant_bills`, *including tips*?\n"
   ]
  },
  {
   "cell_type": "code",
   "execution_count": null,
   "id": "154d8c44",
   "metadata": {
    "execution": {
     "iopub.execute_input": "2022-02-01T05:58:44.489174Z",
     "iopub.status.busy": "2022-02-01T05:58:44.488295Z",
     "iopub.status.idle": "2022-02-01T05:58:44.492286Z",
     "shell.execute_reply": "2022-02-01T05:58:44.492705Z"
    },
    "tags": []
   },
   "outputs": [],
   "source": [
    "sum_of_bills = ...\n",
    "sum_of_bills"
   ]
  },
  {
   "cell_type": "code",
   "execution_count": null,
   "id": "5cfc8cf5",
   "metadata": {
    "deletable": false,
    "editable": false
   },
   "outputs": [],
   "source": [
    "grader.check(\"q523\")"
   ]
  },
  {
   "cell_type": "markdown",
   "id": "a2c8838c",
   "metadata": {},
   "source": [
    "**Question 5.2.4.** The powers of 2 ($2^0 = 1$, $2^1 = 2$, $2^2 = 4$, etc) arise frequently in computer science.  (For example, you may have noticed that storage on smartphones or USBs come in powers of 2, like 16 GB, 32 GB, or 64 GB.)  Use `np.arange` and the exponentiation operator `**` to compute the first 30 powers of 2, starting from `2^0`.\n",
    "\n",
    "*Hint 1:* `np.arange(1, 2**30, 1)` creates an array with $2^{30}$ elements and **will crash your kernel**.\n",
    "\n",
    "*Hint 2:* Part of your solution will involve `np.arange`, but your array shouldn't have more than 30 elements.\n"
   ]
  },
  {
   "cell_type": "code",
   "execution_count": null,
   "id": "9846a708",
   "metadata": {
    "execution": {
     "iopub.execute_input": "2022-02-01T05:58:44.506544Z",
     "iopub.status.busy": "2022-02-01T05:58:44.505871Z",
     "iopub.status.idle": "2022-02-01T05:58:44.508952Z",
     "shell.execute_reply": "2022-02-01T05:58:44.509283Z"
    },
    "tags": []
   },
   "outputs": [],
   "source": [
    "powers_of_2 = ...\n",
    "powers_of_2"
   ]
  },
  {
   "cell_type": "code",
   "execution_count": null,
   "id": "c28fc82f",
   "metadata": {
    "deletable": false,
    "editable": false
   },
   "outputs": [],
   "source": [
    "grader.check(\"q524\")"
   ]
  },
  {
   "cell_type": "markdown",
   "id": "8e9114f0",
   "metadata": {},
   "source": [
    "---\n",
    "\n",
    "<img src=\"maple_syrup.jpeg\" alt=\"drawing\" width=\"300\"/>\n",
    "\n",
    "Maple Syrup wanted to congratulate you on finishing Lab 3!!\n",
    "\n",
    "To double-check your work, the cell below will rerun all of the autograder tests.\n"
   ]
  },
  {
   "cell_type": "markdown",
   "id": "bb7c7b65",
   "metadata": {},
   "source": [
    "## 6. Submission \n",
    "\n",
    "**Important submission steps:** \n",
    "1. Run the tests and verify that they all pass.\n",
    "2. Choose **Save Notebook** from the **File** menu, then **run the final cell**. \n",
    "3. Click the link to download the zip file.\n",
    "4. Then submit the zip file to the corresponding assignment according to your instructor's directions. \n",
    "\n",
    "**It is your responsibility to make sure your work is saved before running the last cell.**"
   ]
  },
  {
   "cell_type": "markdown",
   "id": "86e71db1",
   "metadata": {
    "deletable": false,
    "editable": false
   },
   "source": [
    "## Submission\n",
    "\n",
    "Make sure you have run all cells in your notebook in order before running the cell below, so that all images/graphs appear in the output. The cell below will generate a zip file for you to submit. **Please save before exporting!**"
   ]
  },
  {
   "cell_type": "code",
   "execution_count": null,
   "id": "9e4f9482",
   "metadata": {
    "deletable": false,
    "editable": false
   },
   "outputs": [],
   "source": [
    "# Save your notebook first, then run this cell to export your submission.\n",
    "grader.export(pdf=False, run_tests=True)"
   ]
  },
  {
   "cell_type": "markdown",
   "id": "1b1d5ba0",
   "metadata": {},
   "source": [
    " "
   ]
  }
 ],
 "metadata": {
  "kernelspec": {
   "display_name": "Python 3 (ipykernel)",
   "language": "python",
   "name": "python3"
  },
  "language_info": {
   "codemirror_mode": {
    "name": "ipython",
    "version": 3
   },
   "file_extension": ".py",
   "mimetype": "text/x-python",
   "name": "python",
   "nbconvert_exporter": "python",
   "pygments_lexer": "ipython3",
   "version": "3.9.9"
  },
  "widgets": {
   "application/vnd.jupyter.widget-state+json": {
    "state": {
     "08f02aff24f645dd8c2ab422ab9d094d": {
      "model_module": "@jupyter-widgets/controls",
      "model_module_version": "1.5.0",
      "model_name": "VBoxModel",
      "state": {
       "_dom_classes": [],
       "_model_module": "@jupyter-widgets/controls",
       "_model_module_version": "1.5.0",
       "_model_name": "VBoxModel",
       "_view_count": null,
       "_view_module": "@jupyter-widgets/controls",
       "_view_module_version": "1.5.0",
       "_view_name": "VBoxView",
       "box_style": "",
       "children": [
        "IPY_MODEL_c2212997a6ac41c69a60f59cb5ff80d2",
        "IPY_MODEL_877fa111af934bee8aed0a3510686498"
       ],
       "layout": "IPY_MODEL_f22e874e7d6e4a85823273a5a74391e6"
      }
     },
     "10add0c50e294f3dbd4f4028e7dc00ca": {
      "model_module": "@jupyter-widgets/controls",
      "model_module_version": "1.5.0",
      "model_name": "DescriptionStyleModel",
      "state": {
       "_model_module": "@jupyter-widgets/controls",
       "_model_module_version": "1.5.0",
       "_model_name": "DescriptionStyleModel",
       "_view_count": null,
       "_view_module": "@jupyter-widgets/base",
       "_view_module_version": "1.2.0",
       "_view_name": "StyleView",
       "description_width": ""
      }
     },
     "137bee1936854940a2cc7f762405209d": {
      "model_module": "@jupyter-widgets/controls",
      "model_module_version": "1.5.0",
      "model_name": "DescriptionStyleModel",
      "state": {
       "_model_module": "@jupyter-widgets/controls",
       "_model_module_version": "1.5.0",
       "_model_name": "DescriptionStyleModel",
       "_view_count": null,
       "_view_module": "@jupyter-widgets/base",
       "_view_module_version": "1.2.0",
       "_view_name": "StyleView",
       "description_width": ""
      }
     },
     "24927c5632da41cd9ed1ca6f93d0e831": {
      "model_module": "@jupyter-widgets/base",
      "model_module_version": "1.2.0",
      "model_name": "LayoutModel",
      "state": {
       "_model_module": "@jupyter-widgets/base",
       "_model_module_version": "1.2.0",
       "_model_name": "LayoutModel",
       "_view_count": null,
       "_view_module": "@jupyter-widgets/base",
       "_view_module_version": "1.2.0",
       "_view_name": "LayoutView",
       "align_content": null,
       "align_items": null,
       "align_self": null,
       "border": null,
       "bottom": null,
       "display": null,
       "flex": null,
       "flex_flow": null,
       "grid_area": null,
       "grid_auto_columns": null,
       "grid_auto_flow": null,
       "grid_auto_rows": null,
       "grid_column": null,
       "grid_gap": null,
       "grid_row": null,
       "grid_template_areas": null,
       "grid_template_columns": null,
       "grid_template_rows": null,
       "height": null,
       "justify_content": null,
       "justify_items": null,
       "left": null,
       "margin": null,
       "max_height": null,
       "max_width": null,
       "min_height": null,
       "min_width": "80px",
       "object_fit": null,
       "object_position": null,
       "order": null,
       "overflow": null,
       "overflow_x": null,
       "overflow_y": null,
       "padding": null,
       "right": null,
       "top": null,
       "visibility": null,
       "width": "10%"
      }
     },
     "271d528792054294b5cf8de58e422894": {
      "model_module": "@jupyter-widgets/controls",
      "model_module_version": "1.5.0",
      "model_name": "VBoxModel",
      "state": {
       "_dom_classes": [],
       "_model_module": "@jupyter-widgets/controls",
       "_model_module_version": "1.5.0",
       "_model_name": "VBoxModel",
       "_view_count": null,
       "_view_module": "@jupyter-widgets/controls",
       "_view_module_version": "1.5.0",
       "_view_name": "VBoxView",
       "box_style": "",
       "children": [
        "IPY_MODEL_c0980d346e7f466c965a3182bcd4c6a0",
        "IPY_MODEL_08f02aff24f645dd8c2ab422ab9d094d"
       ],
       "layout": "IPY_MODEL_82ab8e60d2f049e88ba3fa4b70d04a5c"
      }
     },
     "2e4b3375e55a4a1286c52508cc154c5d": {
      "model_module": "@jupyter-widgets/controls",
      "model_module_version": "1.5.0",
      "model_name": "ButtonStyleModel",
      "state": {
       "_model_module": "@jupyter-widgets/controls",
       "_model_module_version": "1.5.0",
       "_model_name": "ButtonStyleModel",
       "_view_count": null,
       "_view_module": "@jupyter-widgets/base",
       "_view_module_version": "1.2.0",
       "_view_name": "StyleView",
       "button_color": null,
       "font_weight": ""
      }
     },
     "34a123d8a58f4944a3fde013a70e6d84": {
      "model_module": "@jupyter-widgets/controls",
      "model_module_version": "1.5.0",
      "model_name": "LabelModel",
      "state": {
       "_dom_classes": [],
       "_model_module": "@jupyter-widgets/controls",
       "_model_module_version": "1.5.0",
       "_model_name": "LabelModel",
       "_view_count": null,
       "_view_module": "@jupyter-widgets/controls",
       "_view_module_version": "1.5.0",
       "_view_name": "LabelView",
       "description": "",
       "description_tooltip": null,
       "layout": "IPY_MODEL_7abcdfc1278c47eb8c62df5513729149",
       "placeholder": "\u200b",
       "style": "IPY_MODEL_59e2d8a674634d09bb6b93961c9ec1cf",
       "value": "Was the message you saw useful?"
      }
     },
     "393ddfae9ce740d0b0694ab4d82058a6": {
      "model_module": "@jupyter-widgets/base",
      "model_module_version": "1.2.0",
      "model_name": "LayoutModel",
      "state": {
       "_model_module": "@jupyter-widgets/base",
       "_model_module_version": "1.2.0",
       "_model_name": "LayoutModel",
       "_view_count": null,
       "_view_module": "@jupyter-widgets/base",
       "_view_module_version": "1.2.0",
       "_view_name": "LayoutView",
       "align_content": null,
       "align_items": null,
       "align_self": null,
       "border": null,
       "bottom": null,
       "display": null,
       "flex": null,
       "flex_flow": null,
       "grid_area": null,
       "grid_auto_columns": null,
       "grid_auto_flow": null,
       "grid_auto_rows": null,
       "grid_column": null,
       "grid_gap": null,
       "grid_row": null,
       "grid_template_areas": null,
       "grid_template_columns": null,
       "grid_template_rows": null,
       "height": null,
       "justify_content": null,
       "justify_items": null,
       "left": null,
       "margin": "0px 8px 0px 0px",
       "max_height": null,
       "max_width": null,
       "min_height": null,
       "min_width": null,
       "object_fit": null,
       "object_position": null,
       "order": null,
       "overflow": null,
       "overflow_x": null,
       "overflow_y": null,
       "padding": "0px",
       "right": null,
       "top": null,
       "visibility": null,
       "width": "50%"
      }
     },
     "40c17a99d53d408b8844d7667c001b60": {
      "model_module": "@jupyter-widgets/controls",
      "model_module_version": "1.5.0",
      "model_name": "DescriptionStyleModel",
      "state": {
       "_model_module": "@jupyter-widgets/controls",
       "_model_module_version": "1.5.0",
       "_model_name": "DescriptionStyleModel",
       "_view_count": null,
       "_view_module": "@jupyter-widgets/base",
       "_view_module_version": "1.2.0",
       "_view_name": "StyleView",
       "description_width": ""
      }
     },
     "4620ff2dac804aa0a581aebb90512f96": {
      "model_module": "@jupyter-widgets/base",
      "model_module_version": "1.2.0",
      "model_name": "LayoutModel",
      "state": {
       "_model_module": "@jupyter-widgets/base",
       "_model_module_version": "1.2.0",
       "_model_name": "LayoutModel",
       "_view_count": null,
       "_view_module": "@jupyter-widgets/base",
       "_view_module_version": "1.2.0",
       "_view_name": "LayoutView",
       "align_content": null,
       "align_items": null,
       "align_self": null,
       "border": null,
       "bottom": null,
       "display": null,
       "flex": null,
       "flex_flow": null,
       "grid_area": null,
       "grid_auto_columns": null,
       "grid_auto_flow": null,
       "grid_auto_rows": null,
       "grid_column": null,
       "grid_gap": null,
       "grid_row": null,
       "grid_template_areas": null,
       "grid_template_columns": null,
       "grid_template_rows": null,
       "height": null,
       "justify_content": null,
       "justify_items": null,
       "left": null,
       "margin": null,
       "max_height": null,
       "max_width": null,
       "min_height": null,
       "min_width": null,
       "object_fit": null,
       "object_position": null,
       "order": null,
       "overflow": null,
       "overflow_x": null,
       "overflow_y": null,
       "padding": null,
       "right": null,
       "top": null,
       "visibility": null,
       "width": null
      }
     },
     "4c5685b2cb254f74bed59f59bbbbbcda": {
      "model_module": "@jupyter-widgets/controls",
      "model_module_version": "1.5.0",
      "model_name": "ButtonModel",
      "state": {
       "_dom_classes": [],
       "_model_module": "@jupyter-widgets/controls",
       "_model_module_version": "1.5.0",
       "_model_name": "ButtonModel",
       "_view_count": null,
       "_view_module": "@jupyter-widgets/controls",
       "_view_module_version": "1.5.0",
       "_view_name": "ButtonView",
       "button_style": "",
       "description": "Submit",
       "disabled": false,
       "icon": "",
       "layout": "IPY_MODEL_24927c5632da41cd9ed1ca6f93d0e831",
       "style": "IPY_MODEL_2e4b3375e55a4a1286c52508cc154c5d",
       "tooltip": ""
      }
     },
     "59e2d8a674634d09bb6b93961c9ec1cf": {
      "model_module": "@jupyter-widgets/controls",
      "model_module_version": "1.5.0",
      "model_name": "DescriptionStyleModel",
      "state": {
       "_model_module": "@jupyter-widgets/controls",
       "_model_module_version": "1.5.0",
       "_model_name": "DescriptionStyleModel",
       "_view_count": null,
       "_view_module": "@jupyter-widgets/base",
       "_view_module_version": "1.2.0",
       "_view_name": "StyleView",
       "description_width": ""
      }
     },
     "73da8147dd424df08565f291be114947": {
      "model_module": "@jupyter-widgets/controls",
      "model_module_version": "1.5.0",
      "model_name": "TextModel",
      "state": {
       "_dom_classes": [],
       "_model_module": "@jupyter-widgets/controls",
       "_model_module_version": "1.5.0",
       "_model_name": "TextModel",
       "_view_count": null,
       "_view_module": "@jupyter-widgets/controls",
       "_view_module_version": "1.5.0",
       "_view_name": "TextView",
       "continuous_update": true,
       "description": "",
       "description_tooltip": null,
       "disabled": false,
       "layout": "IPY_MODEL_393ddfae9ce740d0b0694ab4d82058a6",
       "placeholder": "Press enter to submit.",
       "style": "IPY_MODEL_137bee1936854940a2cc7f762405209d",
       "value": ""
      }
     },
     "7abcdfc1278c47eb8c62df5513729149": {
      "model_module": "@jupyter-widgets/base",
      "model_module_version": "1.2.0",
      "model_name": "LayoutModel",
      "state": {
       "_model_module": "@jupyter-widgets/base",
       "_model_module_version": "1.2.0",
       "_model_name": "LayoutModel",
       "_view_count": null,
       "_view_module": "@jupyter-widgets/base",
       "_view_module_version": "1.2.0",
       "_view_name": "LayoutView",
       "align_content": null,
       "align_items": null,
       "align_self": null,
       "border": null,
       "bottom": null,
       "display": null,
       "flex": null,
       "flex_flow": null,
       "grid_area": null,
       "grid_auto_columns": null,
       "grid_auto_flow": null,
       "grid_auto_rows": null,
       "grid_column": null,
       "grid_gap": null,
       "grid_row": null,
       "grid_template_areas": null,
       "grid_template_columns": null,
       "grid_template_rows": null,
       "height": null,
       "justify_content": null,
       "justify_items": null,
       "left": null,
       "margin": null,
       "max_height": null,
       "max_width": null,
       "min_height": null,
       "min_width": null,
       "object_fit": null,
       "object_position": null,
       "order": null,
       "overflow": null,
       "overflow_x": null,
       "overflow_y": null,
       "padding": null,
       "right": null,
       "top": null,
       "visibility": null,
       "width": null
      }
     },
     "82ab8e60d2f049e88ba3fa4b70d04a5c": {
      "model_module": "@jupyter-widgets/base",
      "model_module_version": "1.2.0",
      "model_name": "LayoutModel",
      "state": {
       "_model_module": "@jupyter-widgets/base",
       "_model_module_version": "1.2.0",
       "_model_name": "LayoutModel",
       "_view_count": null,
       "_view_module": "@jupyter-widgets/base",
       "_view_module_version": "1.2.0",
       "_view_name": "LayoutView",
       "align_content": null,
       "align_items": null,
       "align_self": null,
       "border": null,
       "bottom": null,
       "display": null,
       "flex": null,
       "flex_flow": null,
       "grid_area": null,
       "grid_auto_columns": null,
       "grid_auto_flow": null,
       "grid_auto_rows": null,
       "grid_column": null,
       "grid_gap": null,
       "grid_row": null,
       "grid_template_areas": null,
       "grid_template_columns": null,
       "grid_template_rows": null,
       "height": null,
       "justify_content": null,
       "justify_items": null,
       "left": null,
       "margin": null,
       "max_height": null,
       "max_width": null,
       "min_height": null,
       "min_width": null,
       "object_fit": null,
       "object_position": null,
       "order": null,
       "overflow": null,
       "overflow_x": null,
       "overflow_y": null,
       "padding": null,
       "right": null,
       "top": null,
       "visibility": null,
       "width": null
      }
     },
     "877fa111af934bee8aed0a3510686498": {
      "model_module": "@jupyter-widgets/controls",
      "model_module_version": "1.5.0",
      "model_name": "HBoxModel",
      "state": {
       "_dom_classes": [],
       "_model_module": "@jupyter-widgets/controls",
       "_model_module_version": "1.5.0",
       "_model_name": "HBoxModel",
       "_view_count": null,
       "_view_module": "@jupyter-widgets/controls",
       "_view_module_version": "1.5.0",
       "_view_name": "HBoxView",
       "box_style": "",
       "children": [
        "IPY_MODEL_73da8147dd424df08565f291be114947",
        "IPY_MODEL_4c5685b2cb254f74bed59f59bbbbbcda"
       ],
       "layout": "IPY_MODEL_ed0983003a4d4044adf8e07c32446a99"
      }
     },
     "a0225a91b96342e7ba4013ff6955295f": {
      "model_module": "@jupyter-widgets/controls",
      "model_module_version": "1.5.0",
      "model_name": "DropdownModel",
      "state": {
       "_dom_classes": [],
       "_model_module": "@jupyter-widgets/controls",
       "_model_module_version": "1.5.0",
       "_model_name": "DropdownModel",
       "_options_labels": [
        "",
        "Extremely useful",
        "Very useful",
        "Somewhat useful",
        "Slightly useful",
        "Not at all useful"
       ],
       "_view_count": null,
       "_view_module": "@jupyter-widgets/controls",
       "_view_module_version": "1.5.0",
       "_view_name": "DropdownView",
       "description": "",
       "description_tooltip": null,
       "disabled": false,
       "index": 0,
       "layout": "IPY_MODEL_e553213fe6df4b7fb0f4f6eec8e417a9",
       "style": "IPY_MODEL_40c17a99d53d408b8844d7667c001b60"
      }
     },
     "b7117ca6b7bd4fa0b5fd55dfdd77c955": {
      "model_module": "@jupyter-widgets/base",
      "model_module_version": "1.2.0",
      "model_name": "LayoutModel",
      "state": {
       "_model_module": "@jupyter-widgets/base",
       "_model_module_version": "1.2.0",
       "_model_name": "LayoutModel",
       "_view_count": null,
       "_view_module": "@jupyter-widgets/base",
       "_view_module_version": "1.2.0",
       "_view_name": "LayoutView",
       "align_content": null,
       "align_items": null,
       "align_self": null,
       "border": null,
       "bottom": null,
       "display": null,
       "flex": null,
       "flex_flow": null,
       "grid_area": null,
       "grid_auto_columns": null,
       "grid_auto_flow": null,
       "grid_auto_rows": null,
       "grid_column": null,
       "grid_gap": null,
       "grid_row": null,
       "grid_template_areas": null,
       "grid_template_columns": null,
       "grid_template_rows": null,
       "height": null,
       "justify_content": null,
       "justify_items": null,
       "left": null,
       "margin": null,
       "max_height": null,
       "max_width": null,
       "min_height": null,
       "min_width": null,
       "object_fit": null,
       "object_position": null,
       "order": null,
       "overflow": null,
       "overflow_x": null,
       "overflow_y": null,
       "padding": null,
       "right": null,
       "top": null,
       "visibility": null,
       "width": null
      }
     },
     "c0980d346e7f466c965a3182bcd4c6a0": {
      "model_module": "@jupyter-widgets/controls",
      "model_module_version": "1.5.0",
      "model_name": "VBoxModel",
      "state": {
       "_dom_classes": [],
       "_model_module": "@jupyter-widgets/controls",
       "_model_module_version": "1.5.0",
       "_model_name": "VBoxModel",
       "_view_count": null,
       "_view_module": "@jupyter-widgets/controls",
       "_view_module_version": "1.5.0",
       "_view_name": "VBoxView",
       "box_style": "",
       "children": [
        "IPY_MODEL_34a123d8a58f4944a3fde013a70e6d84",
        "IPY_MODEL_a0225a91b96342e7ba4013ff6955295f"
       ],
       "layout": "IPY_MODEL_b7117ca6b7bd4fa0b5fd55dfdd77c955"
      }
     },
     "c2212997a6ac41c69a60f59cb5ff80d2": {
      "model_module": "@jupyter-widgets/controls",
      "model_module_version": "1.5.0",
      "model_name": "LabelModel",
      "state": {
       "_dom_classes": [],
       "_model_module": "@jupyter-widgets/controls",
       "_model_module_version": "1.5.0",
       "_model_name": "LabelModel",
       "_view_count": null,
       "_view_module": "@jupyter-widgets/controls",
       "_view_module_version": "1.5.0",
       "_view_name": "LabelView",
       "description": "",
       "description_tooltip": null,
       "layout": "IPY_MODEL_edcdde18265544978f8b4dafb455cc87",
       "placeholder": "\u200b",
       "style": "IPY_MODEL_10add0c50e294f3dbd4f4028e7dc00ca",
       "value": "Any other feedback?"
      }
     },
     "cad58b81145a4613a0b67b2d4e912818": {
      "model_module": "@jupyter-widgets/controls",
      "model_module_version": "1.5.0",
      "model_name": "AccordionModel",
      "state": {
       "_dom_classes": [],
       "_model_module": "@jupyter-widgets/controls",
       "_model_module_version": "1.5.0",
       "_model_name": "AccordionModel",
       "_titles": {
        "0": "  Feedback Form"
       },
       "_view_count": null,
       "_view_module": "@jupyter-widgets/controls",
       "_view_module_version": "1.5.0",
       "_view_name": "AccordionView",
       "box_style": "",
       "children": [
        "IPY_MODEL_271d528792054294b5cf8de58e422894"
       ],
       "layout": "IPY_MODEL_4620ff2dac804aa0a581aebb90512f96",
       "selected_index": 0
      }
     },
     "e553213fe6df4b7fb0f4f6eec8e417a9": {
      "model_module": "@jupyter-widgets/base",
      "model_module_version": "1.2.0",
      "model_name": "LayoutModel",
      "state": {
       "_model_module": "@jupyter-widgets/base",
       "_model_module_version": "1.2.0",
       "_model_name": "LayoutModel",
       "_view_count": null,
       "_view_module": "@jupyter-widgets/base",
       "_view_module_version": "1.2.0",
       "_view_name": "LayoutView",
       "align_content": null,
       "align_items": null,
       "align_self": null,
       "border": null,
       "bottom": null,
       "display": null,
       "flex": null,
       "flex_flow": null,
       "grid_area": null,
       "grid_auto_columns": null,
       "grid_auto_flow": null,
       "grid_auto_rows": null,
       "grid_column": null,
       "grid_gap": null,
       "grid_row": null,
       "grid_template_areas": null,
       "grid_template_columns": null,
       "grid_template_rows": null,
       "height": null,
       "justify_content": null,
       "justify_items": null,
       "left": null,
       "margin": null,
       "max_height": null,
       "max_width": null,
       "min_height": null,
       "min_width": null,
       "object_fit": null,
       "object_position": null,
       "order": null,
       "overflow": null,
       "overflow_x": null,
       "overflow_y": null,
       "padding": null,
       "right": null,
       "top": null,
       "visibility": null,
       "width": null
      }
     },
     "ed0983003a4d4044adf8e07c32446a99": {
      "model_module": "@jupyter-widgets/base",
      "model_module_version": "1.2.0",
      "model_name": "LayoutModel",
      "state": {
       "_model_module": "@jupyter-widgets/base",
       "_model_module_version": "1.2.0",
       "_model_name": "LayoutModel",
       "_view_count": null,
       "_view_module": "@jupyter-widgets/base",
       "_view_module_version": "1.2.0",
       "_view_name": "LayoutView",
       "align_content": null,
       "align_items": "center",
       "align_self": null,
       "border": null,
       "bottom": null,
       "display": null,
       "flex": null,
       "flex_flow": null,
       "grid_area": null,
       "grid_auto_columns": null,
       "grid_auto_flow": null,
       "grid_auto_rows": null,
       "grid_column": null,
       "grid_gap": null,
       "grid_row": null,
       "grid_template_areas": null,
       "grid_template_columns": null,
       "grid_template_rows": null,
       "height": null,
       "justify_content": null,
       "justify_items": null,
       "left": null,
       "margin": null,
       "max_height": null,
       "max_width": null,
       "min_height": null,
       "min_width": null,
       "object_fit": null,
       "object_position": null,
       "order": null,
       "overflow": null,
       "overflow_x": null,
       "overflow_y": null,
       "padding": null,
       "right": null,
       "top": null,
       "visibility": null,
       "width": null
      }
     },
     "edcdde18265544978f8b4dafb455cc87": {
      "model_module": "@jupyter-widgets/base",
      "model_module_version": "1.2.0",
      "model_name": "LayoutModel",
      "state": {
       "_model_module": "@jupyter-widgets/base",
       "_model_module_version": "1.2.0",
       "_model_name": "LayoutModel",
       "_view_count": null,
       "_view_module": "@jupyter-widgets/base",
       "_view_module_version": "1.2.0",
       "_view_name": "LayoutView",
       "align_content": null,
       "align_items": null,
       "align_self": null,
       "border": null,
       "bottom": null,
       "display": null,
       "flex": null,
       "flex_flow": null,
       "grid_area": null,
       "grid_auto_columns": null,
       "grid_auto_flow": null,
       "grid_auto_rows": null,
       "grid_column": null,
       "grid_gap": null,
       "grid_row": null,
       "grid_template_areas": null,
       "grid_template_columns": null,
       "grid_template_rows": null,
       "height": null,
       "justify_content": null,
       "justify_items": null,
       "left": null,
       "margin": null,
       "max_height": null,
       "max_width": null,
       "min_height": null,
       "min_width": null,
       "object_fit": null,
       "object_position": null,
       "order": null,
       "overflow": null,
       "overflow_x": null,
       "overflow_y": null,
       "padding": null,
       "right": null,
       "top": null,
       "visibility": null,
       "width": null
      }
     },
     "f22e874e7d6e4a85823273a5a74391e6": {
      "model_module": "@jupyter-widgets/base",
      "model_module_version": "1.2.0",
      "model_name": "LayoutModel",
      "state": {
       "_model_module": "@jupyter-widgets/base",
       "_model_module_version": "1.2.0",
       "_model_name": "LayoutModel",
       "_view_count": null,
       "_view_module": "@jupyter-widgets/base",
       "_view_module_version": "1.2.0",
       "_view_name": "LayoutView",
       "align_content": null,
       "align_items": null,
       "align_self": null,
       "border": null,
       "bottom": null,
       "display": null,
       "flex": null,
       "flex_flow": null,
       "grid_area": null,
       "grid_auto_columns": null,
       "grid_auto_flow": null,
       "grid_auto_rows": null,
       "grid_column": null,
       "grid_gap": null,
       "grid_row": null,
       "grid_template_areas": null,
       "grid_template_columns": null,
       "grid_template_rows": null,
       "height": null,
       "justify_content": null,
       "justify_items": null,
       "left": null,
       "margin": null,
       "max_height": null,
       "max_width": null,
       "min_height": null,
       "min_width": null,
       "object_fit": null,
       "object_position": null,
       "order": null,
       "overflow": null,
       "overflow_x": null,
       "overflow_y": null,
       "padding": null,
       "right": null,
       "top": null,
       "visibility": null,
       "width": null
      }
     }
    },
    "version_major": 2,
    "version_minor": 0
   }
  }
 },
 "nbformat": 4,
 "nbformat_minor": 5
}
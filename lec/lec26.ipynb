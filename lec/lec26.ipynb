{
 "cells": [
  {
   "cell_type": "code",
   "execution_count": null,
   "id": "cell-lec26-0",
   "metadata": {},
   "outputs": [],
   "source": [
    "from google.colab import drive\n",
    "drive.mount('/content/gdrive', force_remount=True)\n",
    "\n",
    "!mkdir -p '/content/gdrive/My Drive/colab-materials-data8-notebooks/'\n",
    "!git clone https://github.com/data-8/materials-sp22-colab '/content/gdrive/My Drive/colab-materials-data8-notebooks/materials-sp22-colab/'\n",
    "\n",
    "%pip install otter-grader==4.4.1\n",
    "%cd /content/gdrive/MyDrive/colab-materials-data8-notebooks/materials-sp22-colab//\n",
    "\n",
    "import matplotlib\n",
    "from datascience import *\n",
    "%matplotlib inline\n",
    "import matplotlib.pyplot as plots\n",
    "import numpy as np\n",
    "plots.style.use('fivethirtyeight')"
   ]
  },
  {
   "attachments": {},
   "cell_type": "markdown",
   "id": "cell-lec26-1",
   "metadata": {},
   "source": [
    "## The SD and Bell Shaped Curves"
   ]
  },
  {
   "cell_type": "code",
   "execution_count": null,
   "id": "cell-lec26-2",
   "metadata": {},
   "outputs": [],
   "source": [
    "births = Table.read_table('baby.csv')"
   ]
  },
  {
   "cell_type": "code",
   "execution_count": null,
   "id": "cell-lec26-3",
   "metadata": {},
   "outputs": [],
   "source": [
    "births.hist('Maternal Height', bins = np.arange(56.5, 72.6, 1))"
   ]
  },
  {
   "cell_type": "code",
   "execution_count": null,
   "id": "cell-lec26-4",
   "metadata": {},
   "outputs": [],
   "source": [
    "heights = births.column('Maternal Height')\n",
    "np.mean(heights), np.std(heights)"
   ]
  },
  {
   "cell_type": "code",
   "execution_count": null,
   "id": "cell-lec26-5",
   "metadata": {},
   "outputs": [],
   "source": [
    "np.mean(heights) + np.std(heights), np.mean(heights) - np.std(heights)"
   ]
  },
  {
   "attachments": {},
   "cell_type": "markdown",
   "id": "cell-lec26-6",
   "metadata": {
    "collapsed": true
   },
   "source": [
    "## Central Limit Theorem ##"
   ]
  },
  {
   "cell_type": "code",
   "execution_count": null,
   "id": "cell-lec26-7",
   "metadata": {},
   "outputs": [],
   "source": [
    "united = Table.read_table('united.csv')\n",
    "united_bins = np.arange(-20, 300, 10)\n",
    "united"
   ]
  },
  {
   "cell_type": "code",
   "execution_count": null,
   "id": "cell-lec26-8",
   "metadata": {},
   "outputs": [],
   "source": [
    "united.hist('Delay', bins=united_bins)"
   ]
  },
  {
   "cell_type": "code",
   "execution_count": null,
   "id": "cell-lec26-9",
   "metadata": {},
   "outputs": [],
   "source": [
    "delays = united.column('Delay')\n",
    "delay_mean = np.mean(delays)\n",
    "delay_sd = np.std(delays)\n",
    "delay_mean, delay_sd"
   ]
  },
  {
   "cell_type": "code",
   "execution_count": null,
   "id": "cell-lec26-10",
   "metadata": {},
   "outputs": [],
   "source": [
    "percentile(50, delays)"
   ]
  },
  {
   "cell_type": "code",
   "execution_count": null,
   "id": "cell-lec26-11",
   "metadata": {},
   "outputs": [],
   "source": [
    "def one_sample_mean(sample_size):\n",
    "    \"\"\" \n",
    "    Takes a sample from the population of flights \n",
    "    and computes its mean\n",
    "    \"\"\"\n",
    "    sampled_flights = united.sample(sample_size)\n",
    "    return np.mean(sampled_flights.column('Delay'))"
   ]
  },
  {
   "cell_type": "code",
   "execution_count": null,
   "id": "cell-lec26-12",
   "metadata": {},
   "outputs": [],
   "source": [
    "one_sample_mean(100)"
   ]
  },
  {
   "cell_type": "code",
   "execution_count": null,
   "id": "cell-lec26-13",
   "metadata": {},
   "outputs": [],
   "source": [
    "def ten_thousand_sample_means(sample_size):\n",
    "    means = make_array()\n",
    "    for i in np.arange(10000):\n",
    "        mean = one_sample_mean(sample_size)\n",
    "        means = np.append(means, mean)\n",
    "    return means"
   ]
  },
  {
   "cell_type": "code",
   "execution_count": null,
   "id": "cell-lec26-14",
   "metadata": {},
   "outputs": [],
   "source": [
    "sample_means_100 = ten_thousand_sample_means(100)"
   ]
  },
  {
   "cell_type": "code",
   "execution_count": null,
   "id": "cell-lec26-15",
   "metadata": {},
   "outputs": [],
   "source": [
    "sample_means_100"
   ]
  },
  {
   "cell_type": "code",
   "execution_count": null,
   "id": "cell-lec26-16",
   "metadata": {},
   "outputs": [],
   "source": [
    "len(sample_means_100)"
   ]
  },
  {
   "cell_type": "code",
   "execution_count": null,
   "id": "cell-lec26-17",
   "metadata": {},
   "outputs": [],
   "source": [
    "Table().with_column(\n",
    "    'Mean of 100 flight delays', sample_means_100).hist(bins=20)\n",
    "\n",
    "print('Population Average:', delay_mean)"
   ]
  },
  {
   "cell_type": "code",
   "execution_count": null,
   "id": "cell-lec26-18",
   "metadata": {},
   "outputs": [],
   "source": [
    "sample_means_400 = ten_thousand_sample_means(400)\n",
    "Table().with_column(\n",
    "    'Mean of 400 flight delays', sample_means_400).hist(bins=20)\n",
    "\n",
    "print('Population Average:', delay_mean)"
   ]
  }
 ],
 "metadata": {
  "anaconda-cloud": {},
  "kernelspec": {
   "display_name": "Python 3",
   "language": "python",
   "name": "python3"
  },
  "language_info": {
   "codemirror_mode": {
    "name": "ipython",
    "version": 3
   },
   "file_extension": ".py",
   "mimetype": "text/x-python",
   "name": "python",
   "nbconvert_exporter": "python",
   "pygments_lexer": "ipython3",
   "version": "3.10.12"
  }
 },
 "nbformat": 4,
 "nbformat_minor": 1
}

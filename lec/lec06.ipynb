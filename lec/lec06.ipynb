{
 "cells": [
  {
   "cell_type": "code",
   "execution_count": null,
   "id": "cell-lec06-0",
   "metadata": {},
   "outputs": [],
   "source": [
    "from google.colab import drive\n",
    "drive.mount('/content/gdrive', force_remount=True)\n",
    "\n",
    "!mkdir -p '/content/gdrive/My Drive/colab-materials-data8-notebooks/'\n",
    "!git clone https://github.com/data-8/materials-sp22-colab '/content/gdrive/My Drive/colab-materials-data8-notebooks/materials-sp22-colab/'\n",
    "\n",
    "%pip install otter-grader==4.4.1\n",
    "%cd /content/gdrive/MyDrive/colab-materials-data8-notebooks/materials-sp22-colab//\n",
    "\n",
    "from datascience import *\n",
    "import numpy as np\n",
    "\n",
    "%matplotlib inline\n",
    "import matplotlib.pyplot as plots\n",
    "plots.style.use('fivethirtyeight')"
   ]
  },
  {
   "attachments": {},
   "cell_type": "markdown",
   "id": "cell-lec06-1",
   "metadata": {},
   "source": [
    "## Lecture 6"
   ]
  },
  {
   "attachments": {},
   "cell_type": "markdown",
   "id": "cell-lec06-2",
   "metadata": {},
   "source": [
    "## Table Review: Welcome Survey"
   ]
  },
  {
   "cell_type": "code",
   "execution_count": null,
   "id": "cell-lec06-3",
   "metadata": {},
   "outputs": [],
   "source": [
    "welcome = Table.read_table('welcome_survey_sp22.csv')\n",
    "welcome.show(5)"
   ]
  },
  {
   "cell_type": "code",
   "execution_count": null,
   "id": "cell-lec06-4",
   "metadata": {},
   "outputs": [],
   "source": [
    "# On average, how long do side-sleepers sleep?\n",
    "side_sleepers = welcome.where('Sleep position', are.containing('side'))\n",
    "np.average(side_sleepers.column('Hours of sleep'))"
   ]
  },
  {
   "cell_type": "code",
   "execution_count": null,
   "id": "cell-lec06-5",
   "metadata": {},
   "outputs": [],
   "source": [
    "# How many students get at least 8 hours of sleep each night (on average)?\n",
    "# First way:\n",
    "welcome.where('Hours of sleep', are.above_or_equal_to(8)).num_rows"
   ]
  },
  {
   "cell_type": "code",
   "execution_count": null,
   "id": "cell-lec06-6",
   "metadata": {},
   "outputs": [],
   "source": [
    "# Second way\n",
    "np.count_nonzero(welcome.column('Hours of sleep') >= 8)"
   ]
  },
  {
   "cell_type": "code",
   "execution_count": null,
   "id": "cell-lec06-7",
   "metadata": {},
   "outputs": [],
   "source": [
    "# Third way\n",
    "np.sum(welcome.column('Hours of sleep') >= 8)"
   ]
  },
  {
   "cell_type": "code",
   "execution_count": null,
   "id": "cell-lec06-8",
   "metadata": {
    "scrolled": true
   },
   "outputs": [],
   "source": [
    "# Create a table with only the two sleep-related columns, \n",
    "# with names 'Hours' and 'Position'\n",
    "two_col = welcome.select('Hours of sleep', 'Sleep position')\n",
    "sleep = two_col.relabeled(0, 'Hours').relabeled(1, 'Position')\n",
    "sleep.show(3)"
   ]
  },
  {
   "cell_type": "code",
   "execution_count": null,
   "id": "cell-lec06-9",
   "metadata": {},
   "outputs": [],
   "source": [
    "# Second way\n",
    "two_col = welcome.drop(\n",
    "    'Handedness', 'Extraversion',\n",
    "    'Pant leg', 'Number of textees',\n",
    "    'Pets', 'Piercings',\n",
    "    'Year', 'Extroversion')\n",
    "sleep = two_col.relabeled(0, 'Hours').relabeled(1, 'Position')\n",
    "sleep.show(3)"
   ]
  },
  {
   "attachments": {},
   "cell_type": "markdown",
   "id": "cell-lec06-10",
   "metadata": {},
   "source": [
    "## Discussion Question: NBA Salaries"
   ]
  },
  {
   "cell_type": "code",
   "execution_count": null,
   "id": "cell-lec06-11",
   "metadata": {},
   "outputs": [],
   "source": [
    "nba = Table.read_table('nba_salaries.csv')\n",
    "nba.show(3)"
   ]
  },
  {
   "cell_type": "code",
   "execution_count": null,
   "id": "cell-lec06-12",
   "metadata": {},
   "outputs": [],
   "source": [
    "# Question (a)\n",
    "guards = nba.where('position', 'PG')\n",
    "guards.where('salary', are.above(15)).column('name')"
   ]
  },
  {
   "cell_type": "code",
   "execution_count": null,
   "id": "cell-lec06-13",
   "metadata": {},
   "outputs": [],
   "source": [
    "# Question (b)\n",
    "nba.drop('position')\n",
    "nba.num_columns"
   ]
  },
  {
   "attachments": {},
   "cell_type": "markdown",
   "id": "cell-lec06-14",
   "metadata": {},
   "source": [
    "## Census ##"
   ]
  },
  {
   "cell_type": "code",
   "execution_count": null,
   "id": "cell-lec06-15",
   "metadata": {},
   "outputs": [],
   "source": [
    "full = Table.read_table('nc-est2019-agesex-res.csv')\n",
    "full"
   ]
  },
  {
   "cell_type": "code",
   "execution_count": null,
   "id": "cell-lec06-16",
   "metadata": {},
   "outputs": [],
   "source": [
    "partial = full.select('SEX', 'AGE', 'POPESTIMATE2014', 'POPESTIMATE2019')\n",
    "partial.show(5)"
   ]
  },
  {
   "cell_type": "code",
   "execution_count": null,
   "id": "cell-lec06-17",
   "metadata": {},
   "outputs": [],
   "source": [
    "us_pop = partial.relabeled(2, '2014').relabeled(3, '2019')\n",
    "us_pop.show(5)"
   ]
  },
  {
   "cell_type": "code",
   "execution_count": null,
   "id": "cell-lec06-18",
   "metadata": {},
   "outputs": [],
   "source": [
    "us_pop.where('AGE', are.above_or_equal_to(100)).sort('AGE')"
   ]
  },
  {
   "attachments": {},
   "cell_type": "markdown",
   "id": "cell-lec06-19",
   "metadata": {},
   "source": [
    "## 2019 Sex Ratios ##"
   ]
  },
  {
   "cell_type": "code",
   "execution_count": null,
   "id": "cell-lec06-20",
   "metadata": {},
   "outputs": [],
   "source": [
    "us_pop_2019 = us_pop.drop('2014')\n",
    "us_pop_2019.show(3)"
   ]
  },
  {
   "cell_type": "code",
   "execution_count": null,
   "id": "cell-lec06-21",
   "metadata": {},
   "outputs": [],
   "source": [
    "all_ages = us_pop_2019.where('AGE', are.equal_to(999))\n",
    "all_ages"
   ]
  },
  {
   "cell_type": "code",
   "execution_count": null,
   "id": "cell-lec06-22",
   "metadata": {},
   "outputs": [],
   "source": [
    "infants = us_pop_2019.where('AGE', are.equal_to(0))\n",
    "infants"
   ]
  },
  {
   "cell_type": "code",
   "execution_count": null,
   "id": "cell-lec06-23",
   "metadata": {},
   "outputs": [],
   "source": [
    "females_all_rows = us_pop_2019.where('SEX', are.equal_to(2))\n",
    "females = females_all_rows.where('AGE', are.not_equal_to(999))\n",
    "females.show(3)"
   ]
  },
  {
   "cell_type": "code",
   "execution_count": null,
   "id": "cell-lec06-24",
   "metadata": {},
   "outputs": [],
   "source": [
    "males_all_rows = us_pop_2019.where('SEX', are.equal_to(1))\n",
    "males = males_all_rows.where('AGE', are.not_equal_to(999))\n",
    "males.show(3)"
   ]
  },
  {
   "cell_type": "code",
   "execution_count": null,
   "id": "cell-lec06-25",
   "metadata": {},
   "outputs": [],
   "source": [
    "f_to_m_ratios = females.column(2) / males.column(2)\n",
    "\n",
    "ratios = Table().with_columns(\n",
    "    'Age', females.column('AGE'),\n",
    "    'F:M Ratio', f_to_m_ratios\n",
    ")\n",
    "\n",
    "ratios"
   ]
  },
  {
   "cell_type": "code",
   "execution_count": null,
   "id": "cell-lec06-26",
   "metadata": {},
   "outputs": [],
   "source": [
    "ratios.sort('Age', descending=True)"
   ]
  },
  {
   "attachments": {},
   "cell_type": "markdown",
   "id": "cell-lec06-27",
   "metadata": {},
   "source": [
    "## Line Plot"
   ]
  },
  {
   "cell_type": "code",
   "execution_count": null,
   "id": "cell-lec06-28",
   "metadata": {},
   "outputs": [],
   "source": [
    "ratios.plot('Age', 'F:M Ratio')"
   ]
  }
 ],
 "metadata": {
  "anaconda-cloud": {},
  "kernelspec": {
   "display_name": "Python 3",
   "language": "python",
   "name": "python3"
  },
  "language_info": {
   "codemirror_mode": {
    "name": "ipython",
    "version": 3
   },
   "file_extension": ".py",
   "mimetype": "text/x-python",
   "name": "python",
   "nbconvert_exporter": "python",
   "pygments_lexer": "ipython3",
   "version": "3.10.12"
  }
 },
 "nbformat": 4,
 "nbformat_minor": 1
}

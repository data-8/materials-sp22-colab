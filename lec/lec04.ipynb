{
 "cells": [
  {
   "cell_type": "code",
   "execution_count": null,
   "id": "cell-lec04-0",
   "metadata": {},
   "outputs": [],
   "source": [
    "from google.colab import drive\n",
    "drive.mount('/content/gdrive', force_remount=True)\n",
    "\n",
    "!mkdir -p '/content/gdrive/My Drive/colab-materials-data8-notebooks/'\n",
    "!git clone https://github.com/data-8/materials-sp22-colab '/content/gdrive/My Drive/colab-materials-data8-notebooks/materials-sp22-colab/'\n",
    "\n",
    "%pip install otter-grader==4.4.1\n",
    "%cd /content/gdrive/MyDrive/colab-materials-data8-notebooks/materials-sp22-colab//\n",
    "\n",
    "from datascience import *\n",
    "import numpy as np"
   ]
  },
  {
   "attachments": {},
   "cell_type": "markdown",
   "id": "cell-lec04-1",
   "metadata": {},
   "source": [
    "### Why Names?"
   ]
  },
  {
   "attachments": {},
   "cell_type": "markdown",
   "id": "cell-lec04-2",
   "metadata": {},
   "source": [
    "A cell with arithmetic but no names is difficult to interpret."
   ]
  },
  {
   "cell_type": "code",
   "execution_count": null,
   "id": "cell-lec04-3",
   "metadata": {},
   "outputs": [],
   "source": [
    "# Option 1\n",
    "40 * 15.00"
   ]
  },
  {
   "cell_type": "code",
   "execution_count": null,
   "id": "cell-lec04-4",
   "metadata": {},
   "outputs": [],
   "source": [
    "40 * 52 * 15.00"
   ]
  },
  {
   "attachments": {},
   "cell_type": "markdown",
   "id": "cell-lec04-5",
   "metadata": {},
   "source": [
    "On January 1, 2022, the CA Minimum Wage for Employers with 26 Employees or More increased to $15/hour."
   ]
  },
  {
   "cell_type": "code",
   "execution_count": null,
   "id": "cell-lec04-6",
   "metadata": {},
   "outputs": [],
   "source": [
    "# Option 2\n",
    "ca_hourly_minimum_wage = 15.00\n",
    "hours_per_week = 40\n",
    "weeks_per_year = 52"
   ]
  },
  {
   "cell_type": "code",
   "execution_count": null,
   "id": "cell-lec04-7",
   "metadata": {},
   "outputs": [],
   "source": [
    "hours_per_year = hours_per_week * weeks_per_year"
   ]
  },
  {
   "cell_type": "code",
   "execution_count": null,
   "id": "cell-lec04-8",
   "metadata": {},
   "outputs": [],
   "source": [
    "hours_per_year"
   ]
  },
  {
   "cell_type": "code",
   "execution_count": null,
   "id": "cell-lec04-9",
   "metadata": {},
   "outputs": [],
   "source": [
    "weekly_wages = hours_per_week * ca_hourly_minimum_wage\n",
    "weekly_wages"
   ]
  },
  {
   "cell_type": "code",
   "execution_count": null,
   "id": "cell-lec04-10",
   "metadata": {},
   "outputs": [],
   "source": [
    "yearly_wages = hours_per_year * ca_hourly_minimum_wage\n",
    "yearly_wages"
   ]
  },
  {
   "attachments": {},
   "cell_type": "markdown",
   "id": "cell-lec04-11",
   "metadata": {},
   "source": [
    "## Numbers ##"
   ]
  },
  {
   "cell_type": "code",
   "execution_count": null,
   "id": "cell-lec04-12",
   "metadata": {},
   "outputs": [],
   "source": [
    "30"
   ]
  },
  {
   "cell_type": "code",
   "execution_count": null,
   "id": "cell-lec04-13",
   "metadata": {},
   "outputs": [],
   "source": [
    "10 * 3    # int"
   ]
  },
  {
   "cell_type": "code",
   "execution_count": null,
   "id": "cell-lec04-14",
   "metadata": {},
   "outputs": [],
   "source": [
    "10 / 3    # float"
   ]
  },
  {
   "cell_type": "code",
   "execution_count": null,
   "id": "cell-lec04-15",
   "metadata": {},
   "outputs": [],
   "source": [
    "10 / 2"
   ]
  },
  {
   "cell_type": "code",
   "execution_count": null,
   "id": "cell-lec04-16",
   "metadata": {},
   "outputs": [],
   "source": [
    "10 ** 3"
   ]
  },
  {
   "cell_type": "code",
   "execution_count": null,
   "id": "cell-lec04-17",
   "metadata": {},
   "outputs": [],
   "source": [
    "10 ** 0.5"
   ]
  },
  {
   "cell_type": "code",
   "execution_count": null,
   "id": "cell-lec04-18",
   "metadata": {},
   "outputs": [],
   "source": [
    "1234567 ** 890"
   ]
  },
  {
   "cell_type": "code",
   "execution_count": null,
   "id": "cell-lec04-19",
   "metadata": {},
   "outputs": [],
   "source": [
    "10 / 3"
   ]
  },
  {
   "cell_type": "code",
   "execution_count": null,
   "id": "cell-lec04-20",
   "metadata": {},
   "outputs": [],
   "source": [
    "75892745.215489247589274985712"
   ]
  },
  {
   "cell_type": "code",
   "execution_count": null,
   "id": "cell-lec04-21",
   "metadata": {},
   "outputs": [],
   "source": [
    "75892745.215489247589274985712 - 75892745.21548925"
   ]
  },
  {
   "cell_type": "code",
   "execution_count": null,
   "id": "cell-lec04-22",
   "metadata": {},
   "outputs": [],
   "source": [
    "(13 ** 0.5) ** 2"
   ]
  },
  {
   "cell_type": "code",
   "execution_count": null,
   "id": "cell-lec04-23",
   "metadata": {},
   "outputs": [],
   "source": [
    "int(10 / 5)"
   ]
  },
  {
   "cell_type": "code",
   "execution_count": null,
   "id": "cell-lec04-24",
   "metadata": {},
   "outputs": [],
   "source": [
    "int(10 / 4)"
   ]
  },
  {
   "cell_type": "code",
   "execution_count": null,
   "id": "cell-lec04-25",
   "metadata": {},
   "outputs": [],
   "source": [
    "float(3)"
   ]
  },
  {
   "cell_type": "code",
   "execution_count": null,
   "id": "cell-lec04-26",
   "metadata": {},
   "outputs": [],
   "source": [
    "6 / 4"
   ]
  },
  {
   "cell_type": "code",
   "execution_count": null,
   "id": "cell-lec04-27",
   "metadata": {},
   "outputs": [],
   "source": [
    "6 / 4000"
   ]
  },
  {
   "cell_type": "code",
   "execution_count": null,
   "id": "cell-lec04-28",
   "metadata": {},
   "outputs": [],
   "source": [
    "6 / 400000000000000000000000000000000000000000000000000000000"
   ]
  },
  {
   "cell_type": "code",
   "execution_count": null,
   "id": "cell-lec04-29",
   "metadata": {},
   "outputs": [],
   "source": [
    "400000000000000000000000000000000000000000000000000000000 * 1.5e-56 "
   ]
  },
  {
   "cell_type": "code",
   "execution_count": null,
   "id": "cell-lec04-30",
   "metadata": {},
   "outputs": [],
   "source": [
    "1.5e-56 "
   ]
  },
  {
   "cell_type": "code",
   "execution_count": null,
   "id": "cell-lec04-31",
   "metadata": {},
   "outputs": [],
   "source": [
    "x = 5"
   ]
  },
  {
   "cell_type": "code",
   "execution_count": null,
   "id": "cell-lec04-32",
   "metadata": {
    "tags": [
     "raises-exception"
    ]
   },
   "outputs": [],
   "source": [
    "2x"
   ]
  },
  {
   "cell_type": "code",
   "execution_count": null,
   "id": "cell-lec04-33",
   "metadata": {},
   "outputs": [],
   "source": [
    "2 * x"
   ]
  },
  {
   "attachments": {},
   "cell_type": "markdown",
   "id": "cell-lec04-34",
   "metadata": {},
   "source": [
    "## Strings ##"
   ]
  },
  {
   "cell_type": "code",
   "execution_count": null,
   "id": "cell-lec04-35",
   "metadata": {},
   "outputs": [],
   "source": [
    "'Flavor'"
   ]
  },
  {
   "cell_type": "code",
   "execution_count": null,
   "id": "cell-lec04-36",
   "metadata": {
    "scrolled": true,
    "tags": [
     "raises-exception"
    ]
   },
   "outputs": [],
   "source": [
    "# The line below causes a name error\n",
    "# Flavor"
   ]
  },
  {
   "cell_type": "code",
   "execution_count": null,
   "id": "cell-lec04-37",
   "metadata": {},
   "outputs": [],
   "source": [
    "\"Flavor\""
   ]
  },
  {
   "cell_type": "code",
   "execution_count": null,
   "id": "cell-lec04-38",
   "metadata": {
    "tags": [
     "raises-exception"
    ]
   },
   "outputs": [],
   "source": [
    "'Don't always use single quotes'"
   ]
  },
  {
   "cell_type": "code",
   "execution_count": null,
   "id": "cell-lec04-39",
   "metadata": {},
   "outputs": [],
   "source": [
    "\"Don't always use single quotes\""
   ]
  },
  {
   "cell_type": "code",
   "execution_count": null,
   "id": "cell-lec04-40",
   "metadata": {},
   "outputs": [],
   "source": [
    "'straw' 'berry' # concatenation"
   ]
  },
  {
   "cell_type": "code",
   "execution_count": null,
   "id": "cell-lec04-41",
   "metadata": {},
   "outputs": [],
   "source": [
    "'straw' + 'berry' # concatenation"
   ]
  },
  {
   "cell_type": "code",
   "execution_count": null,
   "id": "cell-lec04-42",
   "metadata": {},
   "outputs": [],
   "source": [
    "'Chirs' + 'Paul' # spaces aren't added for you"
   ]
  },
  {
   "cell_type": "code",
   "execution_count": null,
   "id": "cell-lec04-43",
   "metadata": {},
   "outputs": [],
   "source": [
    "'Chris' + ' ' + 'Paul'"
   ]
  },
  {
   "cell_type": "code",
   "execution_count": null,
   "id": "cell-lec04-44",
   "metadata": {},
   "outputs": [],
   "source": [
    "x = 'straw'\n",
    "y = 'berry'\n",
    "x + y"
   ]
  },
  {
   "cell_type": "code",
   "execution_count": null,
   "id": "cell-lec04-45",
   "metadata": {},
   "outputs": [],
   "source": [
    "x y"
   ]
  },
  {
   "cell_type": "code",
   "execution_count": null,
   "id": "cell-lec04-46",
   "metadata": {},
   "outputs": [],
   "source": [
    "'ha' * 100"
   ]
  },
  {
   "cell_type": "code",
   "execution_count": null,
   "id": "cell-lec04-47",
   "metadata": {
    "tags": [
     "raises-exception"
    ]
   },
   "outputs": [],
   "source": [
    "'lo' * 5.5"
   ]
  },
  {
   "cell_type": "code",
   "execution_count": null,
   "id": "cell-lec04-48",
   "metadata": {
    "tags": [
     "raises-exception"
    ]
   },
   "outputs": [],
   "source": [
    "'ha' + 10"
   ]
  },
  {
   "cell_type": "code",
   "execution_count": null,
   "id": "cell-lec04-49",
   "metadata": {},
   "outputs": [],
   "source": [
    "'ha' + str(10)"
   ]
  },
  {
   "cell_type": "code",
   "execution_count": null,
   "id": "cell-lec04-50",
   "metadata": {},
   "outputs": [],
   "source": [
    "int('3')"
   ]
  },
  {
   "cell_type": "code",
   "execution_count": null,
   "id": "cell-lec04-51",
   "metadata": {
    "tags": [
     "raises-exception"
    ]
   },
   "outputs": [],
   "source": [
    "int('3.0')"
   ]
  },
  {
   "cell_type": "code",
   "execution_count": null,
   "id": "cell-lec04-52",
   "metadata": {},
   "outputs": [],
   "source": [
    "int(float('3.0'))"
   ]
  },
  {
   "cell_type": "code",
   "execution_count": null,
   "id": "cell-lec04-53",
   "metadata": {},
   "outputs": [],
   "source": [
    "dot_oh = '.0'\n",
    "float('3' + dot_oh)"
   ]
  },
  {
   "attachments": {},
   "cell_type": "markdown",
   "id": "cell-lec04-54",
   "metadata": {},
   "source": [
    "## Types ##"
   ]
  },
  {
   "cell_type": "code",
   "execution_count": null,
   "id": "cell-lec04-55",
   "metadata": {},
   "outputs": [],
   "source": [
    "type(10)"
   ]
  },
  {
   "cell_type": "code",
   "execution_count": null,
   "id": "cell-lec04-56",
   "metadata": {},
   "outputs": [],
   "source": [
    "a = 10"
   ]
  },
  {
   "cell_type": "code",
   "execution_count": null,
   "id": "cell-lec04-57",
   "metadata": {},
   "outputs": [],
   "source": [
    "type(a)"
   ]
  },
  {
   "cell_type": "code",
   "execution_count": null,
   "id": "cell-lec04-58",
   "metadata": {},
   "outputs": [],
   "source": [
    "type(4.5)"
   ]
  },
  {
   "cell_type": "code",
   "execution_count": null,
   "id": "cell-lec04-59",
   "metadata": {},
   "outputs": [],
   "source": [
    "type('abc')"
   ]
  },
  {
   "cell_type": "code",
   "execution_count": null,
   "id": "cell-lec04-60",
   "metadata": {},
   "outputs": [],
   "source": [
    "type(Table.read_table('nba_salaries.csv'))"
   ]
  },
  {
   "cell_type": "code",
   "execution_count": null,
   "id": "cell-lec04-61",
   "metadata": {},
   "outputs": [],
   "source": [
    "type(True)"
   ]
  },
  {
   "cell_type": "code",
   "execution_count": null,
   "id": "cell-lec04-62",
   "metadata": {},
   "outputs": [],
   "source": [
    "abs(-5)"
   ]
  },
  {
   "cell_type": "code",
   "execution_count": null,
   "id": "cell-lec04-63",
   "metadata": {},
   "outputs": [],
   "source": [
    "type(abs)"
   ]
  },
  {
   "attachments": {},
   "cell_type": "markdown",
   "id": "cell-lec04-64",
   "metadata": {},
   "source": [
    "## Arrays ##"
   ]
  },
  {
   "cell_type": "code",
   "execution_count": null,
   "id": "cell-lec04-65",
   "metadata": {},
   "outputs": [],
   "source": [
    "first_four = make_array(1, 2, 3, 4)"
   ]
  },
  {
   "cell_type": "code",
   "execution_count": null,
   "id": "cell-lec04-66",
   "metadata": {},
   "outputs": [],
   "source": [
    "first_four"
   ]
  },
  {
   "cell_type": "code",
   "execution_count": null,
   "id": "cell-lec04-67",
   "metadata": {},
   "outputs": [],
   "source": [
    "first_four * 2"
   ]
  },
  {
   "cell_type": "code",
   "execution_count": null,
   "id": "cell-lec04-68",
   "metadata": {},
   "outputs": [],
   "source": [
    "first_four ** 2"
   ]
  },
  {
   "cell_type": "code",
   "execution_count": null,
   "id": "cell-lec04-69",
   "metadata": {},
   "outputs": [],
   "source": [
    "first_four + 1"
   ]
  },
  {
   "cell_type": "code",
   "execution_count": null,
   "id": "cell-lec04-70",
   "metadata": {},
   "outputs": [],
   "source": [
    "first_four # array is unchanged, just like when we call show/select/drop on Table"
   ]
  },
  {
   "cell_type": "code",
   "execution_count": null,
   "id": "cell-lec04-71",
   "metadata": {},
   "outputs": [],
   "source": [
    "next_four = make_array(5, 6, 7, 8)"
   ]
  },
  {
   "cell_type": "code",
   "execution_count": null,
   "id": "cell-lec04-72",
   "metadata": {},
   "outputs": [],
   "source": [
    "first_four + next_four"
   ]
  },
  {
   "cell_type": "code",
   "execution_count": null,
   "id": "cell-lec04-73",
   "metadata": {},
   "outputs": [],
   "source": [
    "only_three = make_array(5, 6, 7)"
   ]
  },
  {
   "cell_type": "code",
   "execution_count": null,
   "id": "cell-lec04-74",
   "metadata": {
    "tags": [
     "raises-exception"
    ]
   },
   "outputs": [],
   "source": [
    "# This line will cause an error \n",
    "# first_four + only_three"
   ]
  },
  {
   "cell_type": "code",
   "execution_count": null,
   "id": "cell-lec04-75",
   "metadata": {},
   "outputs": [],
   "source": [
    "str_array = make_array('ha', 'he', 'ho')"
   ]
  },
  {
   "cell_type": "code",
   "execution_count": null,
   "id": "cell-lec04-76",
   "metadata": {},
   "outputs": [],
   "source": [
    "str_array"
   ]
  },
  {
   "cell_type": "code",
   "execution_count": null,
   "id": "cell-lec04-77",
   "metadata": {
    "tags": [
     "raises-exception"
    ]
   },
   "outputs": [],
   "source": [
    "str_array * 4"
   ]
  },
  {
   "cell_type": "code",
   "execution_count": null,
   "id": "cell-lec04-78",
   "metadata": {},
   "outputs": [],
   "source": [
    "next_four"
   ]
  },
  {
   "cell_type": "code",
   "execution_count": null,
   "id": "cell-lec04-79",
   "metadata": {},
   "outputs": [],
   "source": [
    "next_four.item(0)"
   ]
  },
  {
   "cell_type": "code",
   "execution_count": null,
   "id": "cell-lec04-80",
   "metadata": {},
   "outputs": [],
   "source": [
    "next_four.item(1)"
   ]
  },
  {
   "cell_type": "code",
   "execution_count": null,
   "id": "cell-lec04-81",
   "metadata": {},
   "outputs": [],
   "source": [
    "sum(next_four)"
   ]
  },
  {
   "cell_type": "code",
   "execution_count": null,
   "id": "cell-lec04-82",
   "metadata": {},
   "outputs": [],
   "source": [
    "np.average(next_four)"
   ]
  },
  {
   "cell_type": "code",
   "execution_count": null,
   "id": "cell-lec04-83",
   "metadata": {},
   "outputs": [],
   "source": [
    "len(next_four)"
   ]
  },
  {
   "attachments": {},
   "cell_type": "markdown",
   "id": "cell-lec04-84",
   "metadata": {},
   "source": [
    "## Columns of Tables are Arrays ##"
   ]
  },
  {
   "cell_type": "code",
   "execution_count": null,
   "id": "cell-lec04-85",
   "metadata": {},
   "outputs": [],
   "source": [
    "nba = Table.read_table('nba_salaries.csv').where('season', 2020).drop('season')\n",
    "nba.show(5)"
   ]
  },
  {
   "cell_type": "code",
   "execution_count": null,
   "id": "cell-lec04-86",
   "metadata": {},
   "outputs": [],
   "source": [
    "warriors = nba.where('team', 'Golden State Warriors')\n",
    "warriors.show(5)"
   ]
  },
  {
   "cell_type": "code",
   "execution_count": null,
   "id": "cell-lec04-87",
   "metadata": {
    "scrolled": true
   },
   "outputs": [],
   "source": [
    "warriors.select('salary')"
   ]
  },
  {
   "cell_type": "code",
   "execution_count": null,
   "id": "cell-lec04-88",
   "metadata": {},
   "outputs": [],
   "source": [
    "type(warriors.select('salary'))"
   ]
  },
  {
   "cell_type": "code",
   "execution_count": null,
   "id": "cell-lec04-89",
   "metadata": {},
   "outputs": [],
   "source": [
    "warriors.column('salary')"
   ]
  },
  {
   "cell_type": "code",
   "execution_count": null,
   "id": "cell-lec04-90",
   "metadata": {},
   "outputs": [],
   "source": [
    "np.average(warriors.column('salary'))"
   ]
  },
  {
   "cell_type": "code",
   "execution_count": null,
   "id": "cell-lec04-91",
   "metadata": {},
   "outputs": [],
   "source": [
    "suns = nba.where('team', 'Phoenix Suns')"
   ]
  },
  {
   "cell_type": "code",
   "execution_count": null,
   "id": "cell-lec04-92",
   "metadata": {},
   "outputs": [],
   "source": [
    "np.average(warriors.column('salary')) - np.average(suns.column('salary'))"
   ]
  },
  {
   "cell_type": "code",
   "execution_count": null,
   "id": "cell-lec04-93",
   "metadata": {},
   "outputs": [],
   "source": [
    "np.sum(warriors.column('salary')) - np.sum(suns.column('salary'))"
   ]
  },
  {
   "cell_type": "code",
   "execution_count": null,
   "id": "cell-lec04-94",
   "metadata": {},
   "outputs": [],
   "source": [
    "warriors.num_rows"
   ]
  },
  {
   "cell_type": "code",
   "execution_count": null,
   "id": "cell-lec04-95",
   "metadata": {},
   "outputs": [],
   "source": [
    "suns.num_rows"
   ]
  }
 ],
 "metadata": {
  "anaconda-cloud": {},
  "kernelspec": {
   "display_name": "Python 3",
   "language": "python",
   "name": "python3"
  },
  "language_info": {
   "codemirror_mode": {
    "name": "ipython",
    "version": 3
   },
   "file_extension": ".py",
   "mimetype": "text/x-python",
   "name": "python",
   "nbconvert_exporter": "python",
   "pygments_lexer": "ipython3",
   "version": "3.10.12"
  }
 },
 "nbformat": 4,
 "nbformat_minor": 1
}

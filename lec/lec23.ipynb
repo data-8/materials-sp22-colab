{
 "cells": [
  {
   "cell_type": "code",
   "execution_count": null,
   "id": "cell-lec23-0",
   "metadata": {},
   "outputs": [],
   "source": [
    "from google.colab import drive\n",
    "drive.mount('/content/gdrive', force_remount=True)\n",
    "\n",
    "!mkdir -p '/content/gdrive/My Drive/colab-materials-data8-notebooks/'\n",
    "!git clone https://github.com/data-8/materials-sp22-colab '/content/gdrive/My Drive/colab-materials-data8-notebooks/materials-sp22-colab/'\n",
    "\n",
    "%pip install otter-grader==4.4.1\n",
    "%cd /content/gdrive/MyDrive/colab-materials-data8-notebooks/materials-sp22-colab//\n",
    "\n",
    "from datascience import *\n",
    "%matplotlib inline\n",
    "path_data = '../../../assets/data/'\n",
    "import matplotlib.pyplot as plots\n",
    "plots.style.use('fivethirtyeight')\n",
    "import numpy as np\n",
    "import warnings\n",
    "warnings.simplefilter(action='ignore', category=np.VisibleDeprecationWarning)"
   ]
  },
  {
   "attachments": {},
   "cell_type": "markdown",
   "id": "cell-lec23-1",
   "metadata": {},
   "source": [
    "# Lecture 23 #"
   ]
  },
  {
   "attachments": {},
   "cell_type": "markdown",
   "id": "cell-lec23-2",
   "metadata": {},
   "source": [
    "## Percentiles ##"
   ]
  },
  {
   "cell_type": "code",
   "execution_count": null,
   "id": "cell-lec23-3",
   "metadata": {},
   "outputs": [],
   "source": [
    "# Manually compute the 55th percentile.\n",
    "x = make_array(43, 20, 51, 7, 28, 34)"
   ]
  },
  {
   "cell_type": "code",
   "execution_count": null,
   "id": "cell-lec23-4",
   "metadata": {},
   "outputs": [],
   "source": [
    "# Step 1. Sort the data\n",
    "np.sort(x)"
   ]
  },
  {
   "cell_type": "code",
   "execution_count": null,
   "id": "cell-lec23-5",
   "metadata": {},
   "outputs": [],
   "source": [
    "# Step 2. Figure out where 55th percentile would be."
   ]
  },
  {
   "cell_type": "code",
   "execution_count": null,
   "id": "cell-lec23-6",
   "metadata": {},
   "outputs": [],
   "source": [
    "np.arange(1, 7)/6"
   ]
  },
  {
   "cell_type": "code",
   "execution_count": null,
   "id": "cell-lec23-7",
   "metadata": {},
   "outputs": [],
   "source": [
    "np.sort(x).item(3)"
   ]
  },
  {
   "cell_type": "code",
   "execution_count": null,
   "id": "cell-lec23-8",
   "metadata": {},
   "outputs": [],
   "source": [
    "# Alternatively: One line of code\n",
    "percentile(55, x)"
   ]
  },
  {
   "cell_type": "code",
   "execution_count": null,
   "id": "cell-lec23-9",
   "metadata": {},
   "outputs": [],
   "source": [
    "# Discussion question\n",
    "s = make_array(1, 3, 5, 7, 9)"
   ]
  },
  {
   "cell_type": "code",
   "execution_count": null,
   "id": "cell-lec23-10",
   "metadata": {},
   "outputs": [],
   "source": [
    "percentile(10, s) == 0"
   ]
  },
  {
   "cell_type": "code",
   "execution_count": null,
   "id": "cell-lec23-11",
   "metadata": {},
   "outputs": [],
   "source": [
    "percentile(39, s) == percentile(40, s)"
   ]
  },
  {
   "cell_type": "code",
   "execution_count": null,
   "id": "cell-lec23-12",
   "metadata": {},
   "outputs": [],
   "source": [
    "percentile(40, s) == percentile(41, s)"
   ]
  },
  {
   "cell_type": "code",
   "execution_count": null,
   "id": "cell-lec23-13",
   "metadata": {},
   "outputs": [],
   "source": [
    "percentile(50, s) == 5"
   ]
  },
  {
   "attachments": {},
   "cell_type": "markdown",
   "id": "cell-lec23-14",
   "metadata": {},
   "source": [
    "## Total Compensation in Population "
   ]
  },
  {
   "cell_type": "code",
   "execution_count": null,
   "id": "cell-lec23-15",
   "metadata": {},
   "outputs": [],
   "source": [
    "sf = Table.read_table('san_francisco_2019.csv')\n",
    "sf.show(3)"
   ]
  },
  {
   "cell_type": "code",
   "execution_count": null,
   "id": "cell-lec23-16",
   "metadata": {},
   "outputs": [],
   "source": [
    "# Who made the most money\n",
    "sf.sort('Total Compensation', descending=True).show(5)"
   ]
  },
  {
   "cell_type": "code",
   "execution_count": null,
   "id": "cell-lec23-17",
   "metadata": {},
   "outputs": [],
   "source": [
    "# Who made the least money\n",
    "sf.sort('Total Compensation', descending=False).show(5)"
   ]
  },
  {
   "cell_type": "code",
   "execution_count": null,
   "id": "cell-lec23-18",
   "metadata": {},
   "outputs": [],
   "source": [
    "# $15/hr, 20 hr/wk, 50 weeks\n",
    "\n",
    "min_salary = 15 * 20 * 50\n",
    "sf = sf.where('Salary', are.above(min_salary))"
   ]
  },
  {
   "cell_type": "code",
   "execution_count": null,
   "id": "cell-lec23-19",
   "metadata": {},
   "outputs": [],
   "source": [
    "sf.num_rows"
   ]
  },
  {
   "cell_type": "code",
   "execution_count": null,
   "id": "cell-lec23-20",
   "metadata": {},
   "outputs": [],
   "source": [
    "sf_bins = np.arange(0, 726000, 25000)\n",
    "sf.hist('Total Compensation', bins=sf_bins)"
   ]
  },
  {
   "attachments": {},
   "cell_type": "markdown",
   "id": "cell-lec23-21",
   "metadata": {},
   "source": [
    "## Parameter: Median Total Compensation "
   ]
  },
  {
   "cell_type": "code",
   "execution_count": null,
   "id": "cell-lec23-22",
   "metadata": {},
   "outputs": [],
   "source": [
    "pop_median = percentile(50, sf.column('Total Compensation'))\n",
    "pop_median"
   ]
  },
  {
   "attachments": {},
   "cell_type": "markdown",
   "id": "cell-lec23-23",
   "metadata": {},
   "source": [
    "## Estimating the Parameter (Pretend it is Unknown) "
   ]
  },
  {
   "cell_type": "code",
   "execution_count": null,
   "id": "cell-lec23-24",
   "metadata": {},
   "outputs": [],
   "source": [
    "our_sample = sf.sample(400, with_replacement=False)"
   ]
  },
  {
   "cell_type": "code",
   "execution_count": null,
   "id": "cell-lec23-25",
   "metadata": {
    "scrolled": true
   },
   "outputs": [],
   "source": [
    "our_sample.hist('Total Compensation', bins=sf_bins)"
   ]
  },
  {
   "cell_type": "code",
   "execution_count": null,
   "id": "cell-lec23-26",
   "metadata": {},
   "outputs": [],
   "source": [
    "percentile(50, our_sample.column('Total Compensation') )"
   ]
  },
  {
   "attachments": {},
   "cell_type": "markdown",
   "id": "cell-lec23-27",
   "metadata": {},
   "source": [
    "But in the real world we won't be able to keep going back to the population. How to generate a new random sample *without going back to the population?*"
   ]
  },
  {
   "attachments": {},
   "cell_type": "markdown",
   "id": "cell-lec23-28",
   "metadata": {},
   "source": [
    "# Bootstrap\n",
    "\n",
    "Sample randomly\n",
    " - from the original sample\n",
    " - with replacement\n",
    " - the same number of times as the original sample size"
   ]
  },
  {
   "cell_type": "code",
   "execution_count": null,
   "id": "cell-lec23-29",
   "metadata": {},
   "outputs": [],
   "source": [
    "# Default behavior of tbl.sample:\n",
    "# at random with replacement,\n",
    "# the same number of times as rows of tbl\n",
    "\n",
    "bootstrap_sample = our_sample.sample()"
   ]
  },
  {
   "cell_type": "code",
   "execution_count": null,
   "id": "cell-lec23-30",
   "metadata": {},
   "outputs": [],
   "source": [
    "bootstrap_sample.hist('Total Compensation', bins=sf_bins)"
   ]
  },
  {
   "attachments": {},
   "cell_type": "markdown",
   "id": "cell-lec23-31",
   "metadata": {},
   "source": [
    "## Bootstrap Sample Median\n",
    "This is one estimate of the population median."
   ]
  },
  {
   "cell_type": "code",
   "execution_count": null,
   "id": "cell-lec23-32",
   "metadata": {},
   "outputs": [],
   "source": [
    "percentile(50, bootstrap_sample.column('Total Compensation'))"
   ]
  },
  {
   "cell_type": "code",
   "execution_count": null,
   "id": "cell-lec23-33",
   "metadata": {},
   "outputs": [],
   "source": [
    "def one_bootstrap_median():\n",
    "    # draw the bootstrap sample\n",
    "    resample = our_sample.sample()\n",
    "    # return the median total compensation in the bootstrap sample\n",
    "    return percentile(50, resample.column('Total Compensation'))"
   ]
  },
  {
   "cell_type": "code",
   "execution_count": null,
   "id": "cell-lec23-34",
   "metadata": {},
   "outputs": [],
   "source": [
    "one_bootstrap_median()"
   ]
  },
  {
   "cell_type": "code",
   "execution_count": null,
   "id": "cell-lec23-35",
   "metadata": {},
   "outputs": [],
   "source": [
    "# Generate the medians of 1000 bootstrap samples\n",
    "num_repetitions = 1000\n",
    "bstrap_medians = make_array()\n",
    "for i in np.arange(num_repetitions):\n",
    "    bstrap_medians = np.append(bstrap_medians, one_bootstrap_median())"
   ]
  },
  {
   "cell_type": "code",
   "execution_count": null,
   "id": "cell-lec23-36",
   "metadata": {},
   "outputs": [],
   "source": [
    "resampled_medians = Table().with_column('Bootstrap Sample Median', bstrap_medians)\n",
    "median_bins=np.arange(120000, 160000, 2000)\n",
    "resampled_medians.hist(bins = median_bins)\n",
    "\n",
    "# Plotting parameters; you can ignore this code\n",
    "parameter_green = '#32CD32'\n",
    "plots.ylim(-0.000005, 0.00014)\n",
    "plots.scatter(pop_median, 0, color=parameter_green, s=40, zorder=2)\n",
    "plots.title('Bootstrap Medians and the Parameter (Green Dot)');"
   ]
  },
  {
   "attachments": {},
   "cell_type": "markdown",
   "id": "cell-lec23-37",
   "metadata": {},
   "source": [
    "## Percentile Method: Middle 95% of the Bootstrap Estimates "
   ]
  },
  {
   "cell_type": "code",
   "execution_count": null,
   "id": "cell-lec23-38",
   "metadata": {},
   "outputs": [],
   "source": [
    "left = percentile(2.5, bstrap_medians)\n",
    "right = percentile(97.5, bstrap_medians)\n",
    "\n",
    "make_array(left, right)"
   ]
  },
  {
   "cell_type": "code",
   "execution_count": null,
   "id": "cell-lec23-39",
   "metadata": {},
   "outputs": [],
   "source": [
    "resampled_medians.hist(bins = median_bins)\n",
    "\n",
    "# Plotting parameters; you can ignore this code\n",
    "plots.ylim(-0.000005, 0.00014)\n",
    "plots.plot(make_array(left, right), make_array(0, 0), color='yellow', lw=3, zorder=1)\n",
    "plots.scatter(pop_median, 0, color=parameter_green, s=40, zorder=2);"
   ]
  }
 ],
 "metadata": {
  "kernelspec": {
   "display_name": "Python 3",
   "language": "python",
   "name": "python3"
  },
  "language_info": {
   "codemirror_mode": {
    "name": "ipython",
    "version": 3
   },
   "file_extension": ".py",
   "mimetype": "text/x-python",
   "name": "python",
   "nbconvert_exporter": "python",
   "pygments_lexer": "ipython3",
   "version": "3.10.12"
  }
 },
 "nbformat": 4,
 "nbformat_minor": 4
}

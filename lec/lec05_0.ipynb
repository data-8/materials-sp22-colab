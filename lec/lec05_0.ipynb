{
 "cells": [
  {
   "cell_type": "code",
   "execution_count": 1,
   "id": "cell-lec05_0-0",
   "metadata": {},
   "outputs": [],
   "source": [
    "from google.colab import drive\n",
    "drive.mount('/content/gdrive', force_remount=True)\n",
    "\n",
    "!mkdir -p '/content/gdrive/My Drive/colab-materials-data8-notebooks/'\n",
    "!git clone https://github.com/data-8/materials-sp22-colab '/content/gdrive/My Drive/colab-materials-data8-notebooks/materials-sp22-colab/'\n",
    "\n",
    "%pip install otter-grader==4.4.1\n",
    "%cd /content/gdrive/MyDrive/colab-materials-data8-notebooks/materials-sp22-colab//\n",
    "\n",
    "from datascience import *\n",
    "import numpy as np"
   ]
  },
  {
   "attachments": {},
   "cell_type": "markdown",
   "id": "cell-lec05_0-1",
   "metadata": {},
   "source": [
    "## Columns of Tables are Arrays ##"
   ]
  },
  {
   "cell_type": "code",
   "execution_count": 2,
   "id": "cell-lec05_0-2",
   "metadata": {},
   "outputs": [
    {
     "data": {
      "text/html": [
       "<table border=\"1\" class=\"dataframe\">\n",
       "    <thead>\n",
       "        <tr>\n",
       "            <th>rank</th> <th>name</th> <th>position</th> <th>team</th> <th>salary</th>\n",
       "        </tr>\n",
       "    </thead>\n",
       "    <tbody>\n",
       "        <tr>\n",
       "            <td>1   </td> <td>Stephen Curry    </td> <td>PG      </td> <td>Golden State Warriors</td> <td>40231758</td>\n",
       "        </tr>\n",
       "        <tr>\n",
       "            <td>2   </td> <td>Chris Paul       </td> <td>PG      </td> <td>Oklahoma City Thunder</td> <td>38506482</td>\n",
       "        </tr>\n",
       "        <tr>\n",
       "            <td>3   </td> <td>Russell Westbrook</td> <td>PG      </td> <td>Houston Rockets      </td> <td>38506482</td>\n",
       "        </tr>\n",
       "        <tr>\n",
       "            <td>4   </td> <td>John Wall        </td> <td>PG      </td> <td>Washington Wizards   </td> <td>38199000</td>\n",
       "        </tr>\n",
       "        <tr>\n",
       "            <td>5   </td> <td>Kevin Durant     </td> <td>SF      </td> <td>Brooklyn Nets        </td> <td>38199000</td>\n",
       "        </tr>\n",
       "    </tbody>\n",
       "</table>\n",
       "<p>... (523 rows omitted)</p>"
      ],
      "text/plain": [
       "<IPython.core.display.HTML object>"
      ]
     },
     "metadata": {},
     "output_type": "display_data"
    }
   ],
   "source": [
    "nba = Table.read_table('nba_salaries.csv').where('season', 2020).drop('season')\n",
    "nba.show(5)"
   ]
  },
  {
   "cell_type": "code",
   "execution_count": 3,
   "id": "cell-lec05_0-3",
   "metadata": {},
   "outputs": [
    {
     "data": {
      "text/plain": [
       "528"
      ]
     },
     "execution_count": 3,
     "metadata": {},
     "output_type": "execute_result"
    }
   ],
   "source": [
    "nba.num_rows"
   ]
  },
  {
   "cell_type": "code",
   "execution_count": 4,
   "id": "cell-lec05_0-4",
   "metadata": {},
   "outputs": [
    {
     "data": {
      "text/plain": [
       "5"
      ]
     },
     "execution_count": 4,
     "metadata": {},
     "output_type": "execute_result"
    }
   ],
   "source": [
    "nba.num_columns"
   ]
  },
  {
   "cell_type": "code",
   "execution_count": 5,
   "id": "cell-lec05_0-5",
   "metadata": {},
   "outputs": [
    {
     "data": {
      "text/plain": [
       "('rank', 'name', 'position', 'team', 'salary')"
      ]
     },
     "execution_count": 5,
     "metadata": {},
     "output_type": "execute_result"
    }
   ],
   "source": [
    "nba.labels"
   ]
  },
  {
   "cell_type": "code",
   "execution_count": 6,
   "id": "cell-lec05_0-6",
   "metadata": {},
   "outputs": [
    {
     "data": {
      "text/html": [
       "<table border=\"1\" class=\"dataframe\">\n",
       "    <thead>\n",
       "        <tr>\n",
       "            <th>rank</th> <th>name</th> <th>position</th> <th>team</th> <th>salary</th>\n",
       "        </tr>\n",
       "    </thead>\n",
       "    <tbody>\n",
       "        <tr>\n",
       "            <td>1   </td> <td>Stephen Curry      </td> <td>PG      </td> <td>Golden State Warriors</td> <td>40231758</td>\n",
       "        </tr>\n",
       "        <tr>\n",
       "            <td>13  </td> <td>Klay Thompson      </td> <td>SG      </td> <td>Golden State Warriors</td> <td>32742000</td>\n",
       "        </tr>\n",
       "        <tr>\n",
       "            <td>60  </td> <td>Draymond Green     </td> <td>PF      </td> <td>Golden State Warriors</td> <td>18539130</td>\n",
       "        </tr>\n",
       "        <tr>\n",
       "            <td>223 </td> <td>Kevon Looney       </td> <td>PF      </td> <td>Golden State Warriors</td> <td>4464226 </td>\n",
       "        </tr>\n",
       "        <tr>\n",
       "            <td>316 </td> <td>Willie Cauley-Stein</td> <td>C       </td> <td>Golden State Warriors</td> <td>2177483 </td>\n",
       "        </tr>\n",
       "    </tbody>\n",
       "</table>\n",
       "<p>... (8 rows omitted)</p>"
      ],
      "text/plain": [
       "<IPython.core.display.HTML object>"
      ]
     },
     "metadata": {},
     "output_type": "display_data"
    }
   ],
   "source": [
    "warriors = nba.where('team', 'Golden State Warriors')\n",
    "warriors.show(5)"
   ]
  },
  {
   "cell_type": "code",
   "execution_count": 7,
   "id": "cell-lec05_0-7",
   "metadata": {},
   "outputs": [
    {
     "data": {
      "text/html": [
       "<table border=\"1\" class=\"dataframe\">\n",
       "    <thead>\n",
       "        <tr>\n",
       "            <th>rank</th> <th>name</th> <th>position</th> <th>team</th> <th>$</th>\n",
       "        </tr>\n",
       "    </thead>\n",
       "    <tbody>\n",
       "        <tr>\n",
       "            <td>1   </td> <td>Stephen Curry      </td> <td>PG      </td> <td>Golden State Warriors</td> <td>40231758</td>\n",
       "        </tr>\n",
       "        <tr>\n",
       "            <td>13  </td> <td>Klay Thompson      </td> <td>SG      </td> <td>Golden State Warriors</td> <td>32742000</td>\n",
       "        </tr>\n",
       "        <tr>\n",
       "            <td>60  </td> <td>Draymond Green     </td> <td>PF      </td> <td>Golden State Warriors</td> <td>18539130</td>\n",
       "        </tr>\n",
       "        <tr>\n",
       "            <td>223 </td> <td>Kevon Looney       </td> <td>PF      </td> <td>Golden State Warriors</td> <td>4464226 </td>\n",
       "        </tr>\n",
       "        <tr>\n",
       "            <td>316 </td> <td>Willie Cauley-Stein</td> <td>C       </td> <td>Golden State Warriors</td> <td>2177483 </td>\n",
       "        </tr>\n",
       "        <tr>\n",
       "            <td>332 </td> <td>Jordan Poole       </td> <td>SG      </td> <td>Golden State Warriors</td> <td>1964760 </td>\n",
       "        </tr>\n",
       "        <tr>\n",
       "            <td>339 </td> <td>Omari Spellman     </td> <td>PF      </td> <td>Golden State Warriors</td> <td>1897800 </td>\n",
       "        </tr>\n",
       "        <tr>\n",
       "            <td>496 </td> <td>Alen Smailagic     </td> <td>PF      </td> <td>Golden State Warriors</td> <td>898310  </td>\n",
       "        </tr>\n",
       "        <tr>\n",
       "            <td>497 </td> <td>Eric Paschall      </td> <td>PF      </td> <td>Golden State Warriors</td> <td>898310  </td>\n",
       "        </tr>\n",
       "        <tr>\n",
       "            <td>502 </td> <td>Damion Lee         </td> <td>SG      </td> <td>Golden State Warriors</td> <td>842327  </td>\n",
       "        </tr>\n",
       "    </tbody>\n",
       "</table>\n",
       "<p>... (3 rows omitted)</p>"
      ],
      "text/plain": [
       "rank | name                | position | team                  | $\n",
       "1    | Stephen Curry       | PG       | Golden State Warriors | 40231758\n",
       "13   | Klay Thompson       | SG       | Golden State Warriors | 32742000\n",
       "60   | Draymond Green      | PF       | Golden State Warriors | 18539130\n",
       "223  | Kevon Looney        | PF       | Golden State Warriors | 4464226\n",
       "316  | Willie Cauley-Stein | C        | Golden State Warriors | 2177483\n",
       "332  | Jordan Poole        | SG       | Golden State Warriors | 1964760\n",
       "339  | Omari Spellman      | PF       | Golden State Warriors | 1897800\n",
       "496  | Alen Smailagic      | PF       | Golden State Warriors | 898310\n",
       "497  | Eric Paschall       | PF       | Golden State Warriors | 898310\n",
       "502  | Damion Lee          | SG       | Golden State Warriors | 842327\n",
       "... (3 rows omitted)"
      ]
     },
     "execution_count": 7,
     "metadata": {},
     "output_type": "execute_result"
    }
   ],
   "source": [
    "warriors.relabeled('salary', '$')"
   ]
  },
  {
   "cell_type": "code",
   "execution_count": 8,
   "id": "cell-lec05_0-8",
   "metadata": {},
   "outputs": [
    {
     "data": {
      "text/html": [
       "<table border=\"1\" class=\"dataframe\">\n",
       "    <thead>\n",
       "        <tr>\n",
       "            <th>rank</th> <th>name</th> <th>position</th> <th>team</th> <th>salary</th>\n",
       "        </tr>\n",
       "    </thead>\n",
       "    <tbody>\n",
       "        <tr>\n",
       "            <td>1   </td> <td>Stephen Curry      </td> <td>PG      </td> <td>Golden State Warriors</td> <td>40231758</td>\n",
       "        </tr>\n",
       "        <tr>\n",
       "            <td>13  </td> <td>Klay Thompson      </td> <td>SG      </td> <td>Golden State Warriors</td> <td>32742000</td>\n",
       "        </tr>\n",
       "        <tr>\n",
       "            <td>60  </td> <td>Draymond Green     </td> <td>PF      </td> <td>Golden State Warriors</td> <td>18539130</td>\n",
       "        </tr>\n",
       "        <tr>\n",
       "            <td>223 </td> <td>Kevon Looney       </td> <td>PF      </td> <td>Golden State Warriors</td> <td>4464226 </td>\n",
       "        </tr>\n",
       "        <tr>\n",
       "            <td>316 </td> <td>Willie Cauley-Stein</td> <td>C       </td> <td>Golden State Warriors</td> <td>2177483 </td>\n",
       "        </tr>\n",
       "        <tr>\n",
       "            <td>332 </td> <td>Jordan Poole       </td> <td>SG      </td> <td>Golden State Warriors</td> <td>1964760 </td>\n",
       "        </tr>\n",
       "        <tr>\n",
       "            <td>339 </td> <td>Omari Spellman     </td> <td>PF      </td> <td>Golden State Warriors</td> <td>1897800 </td>\n",
       "        </tr>\n",
       "        <tr>\n",
       "            <td>496 </td> <td>Alen Smailagic     </td> <td>PF      </td> <td>Golden State Warriors</td> <td>898310  </td>\n",
       "        </tr>\n",
       "        <tr>\n",
       "            <td>497 </td> <td>Eric Paschall      </td> <td>PF      </td> <td>Golden State Warriors</td> <td>898310  </td>\n",
       "        </tr>\n",
       "        <tr>\n",
       "            <td>502 </td> <td>Damion Lee         </td> <td>SG      </td> <td>Golden State Warriors</td> <td>842327  </td>\n",
       "        </tr>\n",
       "    </tbody>\n",
       "</table>\n",
       "<p>... (3 rows omitted)</p>"
      ],
      "text/plain": [
       "rank | name                | position | team                  | salary\n",
       "1    | Stephen Curry       | PG       | Golden State Warriors | 40231758\n",
       "13   | Klay Thompson       | SG       | Golden State Warriors | 32742000\n",
       "60   | Draymond Green      | PF       | Golden State Warriors | 18539130\n",
       "223  | Kevon Looney        | PF       | Golden State Warriors | 4464226\n",
       "316  | Willie Cauley-Stein | C        | Golden State Warriors | 2177483\n",
       "332  | Jordan Poole        | SG       | Golden State Warriors | 1964760\n",
       "339  | Omari Spellman      | PF       | Golden State Warriors | 1897800\n",
       "496  | Alen Smailagic      | PF       | Golden State Warriors | 898310\n",
       "497  | Eric Paschall       | PF       | Golden State Warriors | 898310\n",
       "502  | Damion Lee          | SG       | Golden State Warriors | 842327\n",
       "... (3 rows omitted)"
      ]
     },
     "execution_count": 8,
     "metadata": {},
     "output_type": "execute_result"
    }
   ],
   "source": [
    "warriors"
   ]
  },
  {
   "cell_type": "code",
   "execution_count": 10,
   "id": "cell-lec05_0-9",
   "metadata": {},
   "outputs": [
    {
     "data": {
      "text/html": [
       "<table border=\"1\" class=\"dataframe\">\n",
       "    <thead>\n",
       "        <tr>\n",
       "            <th>rank</th> <th>name</th> <th>position</th> <th>$</th>\n",
       "        </tr>\n",
       "    </thead>\n",
       "    <tbody>\n",
       "        <tr>\n",
       "            <td>1   </td> <td>Stephen Curry </td> <td>PG      </td> <td>40231758</td>\n",
       "        </tr>\n",
       "        <tr>\n",
       "            <td>13  </td> <td>Klay Thompson </td> <td>SG      </td> <td>32742000</td>\n",
       "        </tr>\n",
       "        <tr>\n",
       "            <td>60  </td> <td>Draymond Green</td> <td>PF      </td> <td>18539130</td>\n",
       "        </tr>\n",
       "    </tbody>\n",
       "</table>\n",
       "<p>... (10 rows omitted)</p>"
      ],
      "text/plain": [
       "<IPython.core.display.HTML object>"
      ]
     },
     "metadata": {},
     "output_type": "display_data"
    }
   ],
   "source": [
    "warriors = (\n",
    "    nba.where('team', 'Golden State Warriors')\n",
    "    .drop('team')\n",
    "    .relabeled('salary', '$'))\n",
    "warriors.show(3)"
   ]
  },
  {
   "cell_type": "code",
   "execution_count": 13,
   "id": "cell-lec05_0-10",
   "metadata": {},
   "outputs": [
    {
     "data": {
      "text/html": [
       "<table border=\"1\" class=\"dataframe\">\n",
       "    <thead>\n",
       "        <tr>\n",
       "            <th>$</th>\n",
       "        </tr>\n",
       "    </thead>\n",
       "    <tbody>\n",
       "        <tr>\n",
       "            <td>40231758</td>\n",
       "        </tr>\n",
       "        <tr>\n",
       "            <td>32742000</td>\n",
       "        </tr>\n",
       "        <tr>\n",
       "            <td>18539130</td>\n",
       "        </tr>\n",
       "        <tr>\n",
       "            <td>4464226 </td>\n",
       "        </tr>\n",
       "        <tr>\n",
       "            <td>2177483 </td>\n",
       "        </tr>\n",
       "        <tr>\n",
       "            <td>1964760 </td>\n",
       "        </tr>\n",
       "        <tr>\n",
       "            <td>1897800 </td>\n",
       "        </tr>\n",
       "        <tr>\n",
       "            <td>898310  </td>\n",
       "        </tr>\n",
       "        <tr>\n",
       "            <td>898310  </td>\n",
       "        </tr>\n",
       "        <tr>\n",
       "            <td>842327  </td>\n",
       "        </tr>\n",
       "    </tbody>\n",
       "</table>\n",
       "<p>... (3 rows omitted)</p>"
      ],
      "text/plain": [
       "$\n",
       "40231758\n",
       "32742000\n",
       "18539130\n",
       "4464226\n",
       "2177483\n",
       "1964760\n",
       "1897800\n",
       "898310\n",
       "898310\n",
       "842327\n",
       "... (3 rows omitted)"
      ]
     },
     "execution_count": 13,
     "metadata": {},
     "output_type": "execute_result"
    }
   ],
   "source": [
    "warriors.select('$')"
   ]
  },
  {
   "cell_type": "code",
   "execution_count": 14,
   "id": "cell-lec05_0-11",
   "metadata": {},
   "outputs": [
    {
     "data": {
      "text/plain": [
       "datascience.tables.Table"
      ]
     },
     "execution_count": 14,
     "metadata": {},
     "output_type": "execute_result"
    }
   ],
   "source": [
    "type(warriors.select('$'))"
   ]
  },
  {
   "cell_type": "code",
   "execution_count": 15,
   "id": "cell-lec05_0-12",
   "metadata": {},
   "outputs": [
    {
     "data": {
      "text/plain": [
       "array([40231758, 32742000, 18539130,  4464226,  2177483,  1964760,\n",
       "        1897800,   898310,   898310,   842327,   654469,   350189,\n",
       "         350189])"
      ]
     },
     "execution_count": 15,
     "metadata": {},
     "output_type": "execute_result"
    }
   ],
   "source": [
    "warriors.column('$')"
   ]
  },
  {
   "cell_type": "code",
   "execution_count": 16,
   "id": "cell-lec05_0-13",
   "metadata": {},
   "outputs": [
    {
     "data": {
      "text/plain": [
       "numpy.ndarray"
      ]
     },
     "execution_count": 16,
     "metadata": {},
     "output_type": "execute_result"
    }
   ],
   "source": [
    "type(warriors.column('$'))"
   ]
  },
  {
   "cell_type": "code",
   "execution_count": 17,
   "id": "cell-lec05_0-14",
   "metadata": {},
   "outputs": [
    {
     "data": {
      "text/plain": [
       "106010951"
      ]
     },
     "execution_count": 17,
     "metadata": {},
     "output_type": "execute_result"
    }
   ],
   "source": [
    "np.sum(warriors.column('$'))"
   ]
  },
  {
   "cell_type": "code",
   "execution_count": 25,
   "id": "cell-lec05_0-15",
   "metadata": {},
   "outputs": [
    {
     "data": {
      "text/plain": [
       "40231758"
      ]
     },
     "execution_count": 25,
     "metadata": {},
     "output_type": "execute_result"
    }
   ],
   "source": [
    "np.max(warriors.column('$'))"
   ]
  },
  {
   "cell_type": "code",
   "execution_count": 20,
   "id": "cell-lec05_0-16",
   "metadata": {},
   "outputs": [
    {
     "data": {
      "text/plain": [
       "40231758"
      ]
     },
     "execution_count": 20,
     "metadata": {},
     "output_type": "execute_result"
    }
   ],
   "source": [
    "warriors.column('$').item(0)"
   ]
  },
  {
   "cell_type": "code",
   "execution_count": 23,
   "id": "cell-lec05_0-17",
   "metadata": {},
   "outputs": [
    {
     "data": {
      "text/html": [
       "<table border=\"1\" class=\"dataframe\">\n",
       "    <thead>\n",
       "        <tr>\n",
       "            <th>rank</th> <th>name</th> <th>position</th> <th>$</th>\n",
       "        </tr>\n",
       "    </thead>\n",
       "    <tbody>\n",
       "        <tr>\n",
       "            <td>1   </td> <td>Stephen Curry        </td> <td>PG      </td> <td>40231758</td>\n",
       "        </tr>\n",
       "        <tr>\n",
       "            <td>13  </td> <td>Klay Thompson        </td> <td>SG      </td> <td>32742000</td>\n",
       "        </tr>\n",
       "        <tr>\n",
       "            <td>60  </td> <td>Draymond Green       </td> <td>PF      </td> <td>18539130</td>\n",
       "        </tr>\n",
       "        <tr>\n",
       "            <td>223 </td> <td>Kevon Looney         </td> <td>PF      </td> <td>4464226 </td>\n",
       "        </tr>\n",
       "        <tr>\n",
       "            <td>316 </td> <td>Willie Cauley-Stein  </td> <td>C       </td> <td>2177483 </td>\n",
       "        </tr>\n",
       "        <tr>\n",
       "            <td>332 </td> <td>Jordan Poole         </td> <td>SG      </td> <td>1964760 </td>\n",
       "        </tr>\n",
       "        <tr>\n",
       "            <td>339 </td> <td>Omari Spellman       </td> <td>PF      </td> <td>1897800 </td>\n",
       "        </tr>\n",
       "        <tr>\n",
       "            <td>496 </td> <td>Alen Smailagic       </td> <td>PF      </td> <td>898310  </td>\n",
       "        </tr>\n",
       "        <tr>\n",
       "            <td>497 </td> <td>Eric Paschall        </td> <td>PF      </td> <td>898310  </td>\n",
       "        </tr>\n",
       "        <tr>\n",
       "            <td>502 </td> <td>Damion Lee           </td> <td>SG      </td> <td>842327  </td>\n",
       "        </tr>\n",
       "        <tr>\n",
       "            <td>506 </td> <td>Marquese Chriss      </td> <td>C       </td> <td>654469  </td>\n",
       "        </tr>\n",
       "        <tr>\n",
       "            <td>521 </td> <td>Juan Toscano-Anderson</td> <td>SF      </td> <td>350189  </td>\n",
       "        </tr>\n",
       "        <tr>\n",
       "            <td>522 </td> <td>Ky Bowman            </td> <td>PG      </td> <td>350189  </td>\n",
       "        </tr>\n",
       "    </tbody>\n",
       "</table>"
      ],
      "text/plain": [
       "<IPython.core.display.HTML object>"
      ]
     },
     "metadata": {},
     "output_type": "display_data"
    }
   ],
   "source": [
    "warriors.show(warriors.num_rows)"
   ]
  },
  {
   "cell_type": "code",
   "execution_count": 24,
   "id": "cell-lec05_0-18",
   "metadata": {},
   "outputs": [
    {
     "data": {
      "text/plain": [
       "array([40231758, 32742000, 18539130,  4464226,  2177483,  1964760,\n",
       "        1897800,   898310,   898310,   842327,   654469,   350189,\n",
       "         350189])"
      ]
     },
     "execution_count": 24,
     "metadata": {},
     "output_type": "execute_result"
    }
   ],
   "source": [
    "np.abs(warriors.column('$'))"
   ]
  },
  {
   "cell_type": "code",
   "execution_count": 27,
   "id": "cell-lec05_0-19",
   "metadata": {},
   "outputs": [
    {
     "data": {
      "text/html": [
       "<table border=\"1\" class=\"dataframe\">\n",
       "    <thead>\n",
       "        <tr>\n",
       "            <th>name</th> <th>$</th>\n",
       "        </tr>\n",
       "    </thead>\n",
       "    <tbody>\n",
       "        <tr>\n",
       "            <td>Stephen Curry      </td> <td>40231758</td>\n",
       "        </tr>\n",
       "        <tr>\n",
       "            <td>Klay Thompson      </td> <td>32742000</td>\n",
       "        </tr>\n",
       "        <tr>\n",
       "            <td>Draymond Green     </td> <td>18539130</td>\n",
       "        </tr>\n",
       "        <tr>\n",
       "            <td>Kevon Looney       </td> <td>4464226 </td>\n",
       "        </tr>\n",
       "        <tr>\n",
       "            <td>Willie Cauley-Stein</td> <td>2177483 </td>\n",
       "        </tr>\n",
       "        <tr>\n",
       "            <td>Jordan Poole       </td> <td>1964760 </td>\n",
       "        </tr>\n",
       "        <tr>\n",
       "            <td>Omari Spellman     </td> <td>1897800 </td>\n",
       "        </tr>\n",
       "        <tr>\n",
       "            <td>Alen Smailagic     </td> <td>898310  </td>\n",
       "        </tr>\n",
       "        <tr>\n",
       "            <td>Eric Paschall      </td> <td>898310  </td>\n",
       "        </tr>\n",
       "        <tr>\n",
       "            <td>Damion Lee         </td> <td>842327  </td>\n",
       "        </tr>\n",
       "    </tbody>\n",
       "</table>\n",
       "<p>... (3 rows omitted)</p>"
      ],
      "text/plain": [
       "name                | $\n",
       "Stephen Curry       | 40231758\n",
       "Klay Thompson       | 32742000\n",
       "Draymond Green      | 18539130\n",
       "Kevon Looney        | 4464226\n",
       "Willie Cauley-Stein | 2177483\n",
       "Jordan Poole        | 1964760\n",
       "Omari Spellman      | 1897800\n",
       "Alen Smailagic      | 898310\n",
       "Eric Paschall       | 898310\n",
       "Damion Lee          | 842327\n",
       "... (3 rows omitted)"
      ]
     },
     "execution_count": 27,
     "metadata": {},
     "output_type": "execute_result"
    }
   ],
   "source": [
    "warriors.select('name', '$')"
   ]
  },
  {
   "cell_type": "code",
   "execution_count": 28,
   "id": "cell-lec05_0-20",
   "metadata": {},
   "outputs": [
    {
     "data": {
      "text/plain": [
       "8154688.538461538"
      ]
     },
     "execution_count": 28,
     "metadata": {},
     "output_type": "execute_result"
    }
   ],
   "source": [
    "np.average(warriors.column('$'))"
   ]
  },
  {
   "cell_type": "code",
   "execution_count": 29,
   "id": "cell-lec05_0-21",
   "metadata": {},
   "outputs": [
    {
     "data": {
      "text/html": [
       "<table border=\"1\" class=\"dataframe\">\n",
       "    <thead>\n",
       "        <tr>\n",
       "            <th>rank</th> <th>name</th> <th>position</th> <th>$</th>\n",
       "        </tr>\n",
       "    </thead>\n",
       "    <tbody>\n",
       "        <tr>\n",
       "            <td>30  </td> <td>Devin Booker   </td> <td>SG      </td> <td>27285000</td>\n",
       "        </tr>\n",
       "        <tr>\n",
       "            <td>73  </td> <td>Ricky Rubio    </td> <td>PG      </td> <td>16200000</td>\n",
       "        </tr>\n",
       "        <tr>\n",
       "            <td>77  </td> <td>Kelly Oubre Jr.</td> <td>SF      </td> <td>15625000</td>\n",
       "        </tr>\n",
       "    </tbody>\n",
       "</table>\n",
       "<p>... (16 rows omitted)</p>"
      ],
      "text/plain": [
       "<IPython.core.display.HTML object>"
      ]
     },
     "metadata": {},
     "output_type": "display_data"
    }
   ],
   "source": [
    "suns = (\n",
    "    nba.where('team', 'Phoenix Suns')\n",
    "    .drop('team')\n",
    "    .relabeled('salary', '$'))\n",
    "suns.show(3)"
   ]
  },
  {
   "cell_type": "code",
   "execution_count": 30,
   "id": "cell-lec05_0-22",
   "metadata": {},
   "outputs": [
    {
     "data": {
      "text/plain": [
       "5761373.947368421"
      ]
     },
     "execution_count": 30,
     "metadata": {},
     "output_type": "execute_result"
    }
   ],
   "source": [
    "np.average(suns.column('$'))"
   ]
  },
  {
   "cell_type": "code",
   "execution_count": 31,
   "id": "cell-lec05_0-23",
   "metadata": {},
   "outputs": [
    {
     "data": {
      "text/plain": [
       "-3455154"
      ]
     },
     "execution_count": 31,
     "metadata": {},
     "output_type": "execute_result"
    }
   ],
   "source": [
    "np.sum(warriors.column('$')) - np.sum(suns.column('$'))"
   ]
  },
  {
   "cell_type": "code",
   "execution_count": 32,
   "id": "cell-lec05_0-24",
   "metadata": {},
   "outputs": [
    {
     "data": {
      "text/plain": [
       "13"
      ]
     },
     "execution_count": 32,
     "metadata": {},
     "output_type": "execute_result"
    }
   ],
   "source": [
    "warriors.num_rows"
   ]
  },
  {
   "cell_type": "code",
   "execution_count": 33,
   "id": "cell-lec05_0-25",
   "metadata": {},
   "outputs": [
    {
     "data": {
      "text/plain": [
       "19"
      ]
     },
     "execution_count": 33,
     "metadata": {},
     "output_type": "execute_result"
    }
   ],
   "source": [
    "suns.num_rows"
   ]
  },
  {
   "cell_type": "code",
   "execution_count": null,
   "id": "cell-lec05_0-26",
   "metadata": {},
   "outputs": [],
   "source": []
  },
  {
   "cell_type": "code",
   "execution_count": null,
   "id": "cell-lec05_0-27",
   "metadata": {},
   "outputs": [],
   "source": []
  },
  {
   "cell_type": "code",
   "execution_count": null,
   "id": "cell-lec05_0-28",
   "metadata": {},
   "outputs": [],
   "source": []
  },
  {
   "cell_type": "code",
   "execution_count": null,
   "id": "cell-lec05_0-29",
   "metadata": {},
   "outputs": [],
   "source": []
  },
  {
   "attachments": {},
   "cell_type": "markdown",
   "id": "cell-lec05_0-30",
   "metadata": {},
   "source": [
    "## Ranges ##"
   ]
  },
  {
   "cell_type": "code",
   "execution_count": 34,
   "id": "cell-lec05_0-31",
   "metadata": {},
   "outputs": [
    {
     "data": {
      "text/plain": [
       "array([0, 1, 2, 3, 4, 5, 6])"
      ]
     },
     "execution_count": 34,
     "metadata": {},
     "output_type": "execute_result"
    }
   ],
   "source": [
    "make_array(0, 1, 2, 3, 4, 5, 6)"
   ]
  },
  {
   "cell_type": "code",
   "execution_count": 35,
   "id": "cell-lec05_0-32",
   "metadata": {},
   "outputs": [
    {
     "data": {
      "text/plain": [
       "array([0, 1, 2, 3, 4, 5, 6])"
      ]
     },
     "execution_count": 35,
     "metadata": {},
     "output_type": "execute_result"
    }
   ],
   "source": [
    "np.arange(7)"
   ]
  },
  {
   "cell_type": "code",
   "execution_count": 36,
   "id": "cell-lec05_0-33",
   "metadata": {},
   "outputs": [
    {
     "data": {
      "text/plain": [
       "array([ 5,  6,  7,  8,  9, 10])"
      ]
     },
     "execution_count": 36,
     "metadata": {},
     "output_type": "execute_result"
    }
   ],
   "source": [
    "np.arange(5, 11)"
   ]
  },
  {
   "cell_type": "code",
   "execution_count": 37,
   "id": "cell-lec05_0-34",
   "metadata": {},
   "outputs": [
    {
     "data": {
      "text/plain": [
       "array([ 0,  2,  4,  6,  8, 10, 12, 14, 16, 18])"
      ]
     },
     "execution_count": 37,
     "metadata": {},
     "output_type": "execute_result"
    }
   ],
   "source": [
    "np.arange(0, 20, 2)"
   ]
  },
  {
   "cell_type": "code",
   "execution_count": 38,
   "id": "cell-lec05_0-35",
   "metadata": {},
   "outputs": [
    {
     "data": {
      "text/plain": [
       "array([ 0,  2,  4,  6,  8, 10, 12, 14, 16, 18, 20])"
      ]
     },
     "execution_count": 38,
     "metadata": {},
     "output_type": "execute_result"
    }
   ],
   "source": [
    "np.arange(0, 21, 2)"
   ]
  },
  {
   "cell_type": "code",
   "execution_count": 39,
   "id": "cell-lec05_0-36",
   "metadata": {},
   "outputs": [
    {
     "data": {
      "text/plain": [
       "array([0. , 0.1, 0.2, 0.3, 0.4, 0.5, 0.6, 0.7, 0.8, 0.9])"
      ]
     },
     "execution_count": 39,
     "metadata": {},
     "output_type": "execute_result"
    }
   ],
   "source": [
    "np.arange(0, 1, 0.1)"
   ]
  },
  {
   "cell_type": "code",
   "execution_count": 46,
   "id": "cell-lec05_0-37",
   "metadata": {},
   "outputs": [
    {
     "data": {
      "text/html": [
       "<table border=\"1\" class=\"dataframe\">\n",
       "    <thead>\n",
       "        <tr>\n",
       "            <th>rank</th> <th>name</th> <th>position</th> <th>$</th>\n",
       "        </tr>\n",
       "    </thead>\n",
       "    <tbody>\n",
       "        <tr>\n",
       "            <td>1   </td> <td>Stephen Curry      </td> <td>PG      </td> <td>40231758</td>\n",
       "        </tr>\n",
       "        <tr>\n",
       "            <td>13  </td> <td>Klay Thompson      </td> <td>SG      </td> <td>32742000</td>\n",
       "        </tr>\n",
       "        <tr>\n",
       "            <td>60  </td> <td>Draymond Green     </td> <td>PF      </td> <td>18539130</td>\n",
       "        </tr>\n",
       "        <tr>\n",
       "            <td>223 </td> <td>Kevon Looney       </td> <td>PF      </td> <td>4464226 </td>\n",
       "        </tr>\n",
       "        <tr>\n",
       "            <td>316 </td> <td>Willie Cauley-Stein</td> <td>C       </td> <td>2177483 </td>\n",
       "        </tr>\n",
       "    </tbody>\n",
       "</table>"
      ],
      "text/plain": [
       "rank | name                | position | $\n",
       "1    | Stephen Curry       | PG       | 40231758\n",
       "13   | Klay Thompson       | SG       | 32742000\n",
       "60   | Draymond Green      | PF       | 18539130\n",
       "223  | Kevon Looney        | PF       | 4464226\n",
       "316  | Willie Cauley-Stein | C        | 2177483"
      ]
     },
     "execution_count": 46,
     "metadata": {},
     "output_type": "execute_result"
    }
   ],
   "source": [
    "warriors.take(0, 1, 2, 3, 4)"
   ]
  },
  {
   "cell_type": "code",
   "execution_count": 48,
   "id": "cell-lec05_0-38",
   "metadata": {},
   "outputs": [
    {
     "data": {
      "text/html": [
       "<table border=\"1\" class=\"dataframe\">\n",
       "    <thead>\n",
       "        <tr>\n",
       "            <th>rank</th> <th>name</th> <th>position</th> <th>$</th>\n",
       "        </tr>\n",
       "    </thead>\n",
       "    <tbody>\n",
       "        <tr>\n",
       "            <td>1   </td> <td>Stephen Curry      </td> <td>PG      </td> <td>40231758</td>\n",
       "        </tr>\n",
       "        <tr>\n",
       "            <td>13  </td> <td>Klay Thompson      </td> <td>SG      </td> <td>32742000</td>\n",
       "        </tr>\n",
       "        <tr>\n",
       "            <td>60  </td> <td>Draymond Green     </td> <td>PF      </td> <td>18539130</td>\n",
       "        </tr>\n",
       "        <tr>\n",
       "            <td>223 </td> <td>Kevon Looney       </td> <td>PF      </td> <td>4464226 </td>\n",
       "        </tr>\n",
       "        <tr>\n",
       "            <td>316 </td> <td>Willie Cauley-Stein</td> <td>C       </td> <td>2177483 </td>\n",
       "        </tr>\n",
       "    </tbody>\n",
       "</table>"
      ],
      "text/plain": [
       "rank | name                | position | $\n",
       "1    | Stephen Curry       | PG       | 40231758\n",
       "13   | Klay Thompson       | SG       | 32742000\n",
       "60   | Draymond Green      | PF       | 18539130\n",
       "223  | Kevon Looney        | PF       | 4464226\n",
       "316  | Willie Cauley-Stein | C        | 2177483"
      ]
     },
     "execution_count": 48,
     "metadata": {},
     "output_type": "execute_result"
    }
   ],
   "source": [
    "warriors.take(np.arange(5))"
   ]
  },
  {
   "cell_type": "code",
   "execution_count": 49,
   "id": "cell-lec05_0-39",
   "metadata": {},
   "outputs": [
    {
     "data": {
      "text/html": [
       "<table border=\"1\" class=\"dataframe\">\n",
       "    <thead>\n",
       "        <tr>\n",
       "            <th>rank</th> <th>name</th> <th>position</th> <th>$</th>\n",
       "        </tr>\n",
       "    </thead>\n",
       "    <tbody>\n",
       "        <tr>\n",
       "            <td>332 </td> <td>Jordan Poole  </td> <td>SG      </td> <td>1964760</td>\n",
       "        </tr>\n",
       "        <tr>\n",
       "            <td>339 </td> <td>Omari Spellman</td> <td>PF      </td> <td>1897800</td>\n",
       "        </tr>\n",
       "        <tr>\n",
       "            <td>496 </td> <td>Alen Smailagic</td> <td>PF      </td> <td>898310 </td>\n",
       "        </tr>\n",
       "        <tr>\n",
       "            <td>497 </td> <td>Eric Paschall </td> <td>PF      </td> <td>898310 </td>\n",
       "        </tr>\n",
       "        <tr>\n",
       "            <td>502 </td> <td>Damion Lee    </td> <td>SG      </td> <td>842327 </td>\n",
       "        </tr>\n",
       "    </tbody>\n",
       "</table>"
      ],
      "text/plain": [
       "rank | name           | position | $\n",
       "332  | Jordan Poole   | SG       | 1964760\n",
       "339  | Omari Spellman | PF       | 1897800\n",
       "496  | Alen Smailagic | PF       | 898310\n",
       "497  | Eric Paschall  | PF       | 898310\n",
       "502  | Damion Lee     | SG       | 842327"
      ]
     },
     "execution_count": 49,
     "metadata": {},
     "output_type": "execute_result"
    }
   ],
   "source": [
    "warriors.take(np.arange(5, 10))"
   ]
  },
  {
   "cell_type": "code",
   "execution_count": 50,
   "id": "cell-lec05_0-40",
   "metadata": {},
   "outputs": [
    {
     "data": {
      "text/plain": [
       "98154597"
      ]
     },
     "execution_count": 50,
     "metadata": {},
     "output_type": "execute_result"
    }
   ],
   "source": [
    "np.sum(warriors.take(np.arange(5)).column('$'))"
   ]
  },
  {
   "cell_type": "code",
   "execution_count": 54,
   "id": "cell-lec05_0-41",
   "metadata": {},
   "outputs": [
    {
     "data": {
      "text/plain": [
       "76137832"
      ]
     },
     "execution_count": 54,
     "metadata": {},
     "output_type": "execute_result"
    }
   ],
   "source": [
    "np.sum(suns.take(np.arange(5)).column('$'))"
   ]
  },
  {
   "cell_type": "code",
   "execution_count": 55,
   "id": "cell-lec05_0-42",
   "metadata": {},
   "outputs": [
    {
     "data": {
      "text/html": [
       "<table border=\"1\" class=\"dataframe\">\n",
       "    <thead>\n",
       "        <tr>\n",
       "            <th>rank</th> <th>name</th> <th>position</th> <th>$</th>\n",
       "        </tr>\n",
       "    </thead>\n",
       "    <tbody>\n",
       "        <tr>\n",
       "            <td>223 </td> <td>Kevon Looney       </td> <td>PF      </td> <td>4464226</td>\n",
       "        </tr>\n",
       "        <tr>\n",
       "            <td>316 </td> <td>Willie Cauley-Stein</td> <td>C       </td> <td>2177483</td>\n",
       "        </tr>\n",
       "    </tbody>\n",
       "</table>"
      ],
      "text/plain": [
       "rank | name                | position | $\n",
       "223  | Kevon Looney        | PF       | 4464226\n",
       "316  | Willie Cauley-Stein | C        | 2177483"
      ]
     },
     "execution_count": 55,
     "metadata": {},
     "output_type": "execute_result"
    }
   ],
   "source": [
    "warriors.take(3, 4)"
   ]
  },
  {
   "cell_type": "code",
   "execution_count": 56,
   "id": "cell-lec05_0-43",
   "metadata": {},
   "outputs": [
    {
     "data": {
      "text/html": [
       "<table border=\"1\" class=\"dataframe\">\n",
       "    <thead>\n",
       "        <tr>\n",
       "            <th>name</th> <th>position</th>\n",
       "        </tr>\n",
       "    </thead>\n",
       "    <tbody>\n",
       "        <tr>\n",
       "            <td>Stephen Curry      </td> <td>PG      </td>\n",
       "        </tr>\n",
       "        <tr>\n",
       "            <td>Klay Thompson      </td> <td>SG      </td>\n",
       "        </tr>\n",
       "        <tr>\n",
       "            <td>Draymond Green     </td> <td>PF      </td>\n",
       "        </tr>\n",
       "        <tr>\n",
       "            <td>Kevon Looney       </td> <td>PF      </td>\n",
       "        </tr>\n",
       "        <tr>\n",
       "            <td>Willie Cauley-Stein</td> <td>C       </td>\n",
       "        </tr>\n",
       "        <tr>\n",
       "            <td>Jordan Poole       </td> <td>SG      </td>\n",
       "        </tr>\n",
       "        <tr>\n",
       "            <td>Omari Spellman     </td> <td>PF      </td>\n",
       "        </tr>\n",
       "        <tr>\n",
       "            <td>Alen Smailagic     </td> <td>PF      </td>\n",
       "        </tr>\n",
       "        <tr>\n",
       "            <td>Eric Paschall      </td> <td>PF      </td>\n",
       "        </tr>\n",
       "        <tr>\n",
       "            <td>Damion Lee         </td> <td>SG      </td>\n",
       "        </tr>\n",
       "    </tbody>\n",
       "</table>\n",
       "<p>... (3 rows omitted)</p>"
      ],
      "text/plain": [
       "name                | position\n",
       "Stephen Curry       | PG\n",
       "Klay Thompson       | SG\n",
       "Draymond Green      | PF\n",
       "Kevon Looney        | PF\n",
       "Willie Cauley-Stein | C\n",
       "Jordan Poole        | SG\n",
       "Omari Spellman      | PF\n",
       "Alen Smailagic      | PF\n",
       "Eric Paschall       | PF\n",
       "Damion Lee          | SG\n",
       "... (3 rows omitted)"
      ]
     },
     "execution_count": 56,
     "metadata": {},
     "output_type": "execute_result"
    }
   ],
   "source": [
    "warriors.select('name', 'position')"
   ]
  },
  {
   "cell_type": "code",
   "execution_count": 57,
   "id": "cell-lec05_0-44",
   "metadata": {},
   "outputs": [
    {
     "data": {
      "text/html": [
       "<table border=\"1\" class=\"dataframe\">\n",
       "    <thead>\n",
       "        <tr>\n",
       "            <th>name</th> <th>position</th>\n",
       "        </tr>\n",
       "    </thead>\n",
       "    <tbody>\n",
       "        <tr>\n",
       "            <td>Stephen Curry      </td> <td>PG      </td>\n",
       "        </tr>\n",
       "        <tr>\n",
       "            <td>Klay Thompson      </td> <td>SG      </td>\n",
       "        </tr>\n",
       "        <tr>\n",
       "            <td>Draymond Green     </td> <td>PF      </td>\n",
       "        </tr>\n",
       "        <tr>\n",
       "            <td>Kevon Looney       </td> <td>PF      </td>\n",
       "        </tr>\n",
       "        <tr>\n",
       "            <td>Willie Cauley-Stein</td> <td>C       </td>\n",
       "        </tr>\n",
       "        <tr>\n",
       "            <td>Jordan Poole       </td> <td>SG      </td>\n",
       "        </tr>\n",
       "        <tr>\n",
       "            <td>Omari Spellman     </td> <td>PF      </td>\n",
       "        </tr>\n",
       "        <tr>\n",
       "            <td>Alen Smailagic     </td> <td>PF      </td>\n",
       "        </tr>\n",
       "        <tr>\n",
       "            <td>Eric Paschall      </td> <td>PF      </td>\n",
       "        </tr>\n",
       "        <tr>\n",
       "            <td>Damion Lee         </td> <td>SG      </td>\n",
       "        </tr>\n",
       "    </tbody>\n",
       "</table>\n",
       "<p>... (3 rows omitted)</p>"
      ],
      "text/plain": [
       "name                | position\n",
       "Stephen Curry       | PG\n",
       "Klay Thompson       | SG\n",
       "Draymond Green      | PF\n",
       "Kevon Looney        | PF\n",
       "Willie Cauley-Stein | C\n",
       "Jordan Poole        | SG\n",
       "Omari Spellman      | PF\n",
       "Alen Smailagic      | PF\n",
       "Eric Paschall       | PF\n",
       "Damion Lee          | SG\n",
       "... (3 rows omitted)"
      ]
     },
     "execution_count": 57,
     "metadata": {},
     "output_type": "execute_result"
    }
   ],
   "source": [
    "warriors.select(1, 2)"
   ]
  },
  {
   "cell_type": "code",
   "execution_count": 60,
   "id": "cell-lec05_0-45",
   "metadata": {},
   "outputs": [
    {
     "data": {
      "text/html": [
       "<table border=\"1\" class=\"dataframe\">\n",
       "    <thead>\n",
       "        <tr>\n",
       "            <th>name</th>\n",
       "        </tr>\n",
       "    </thead>\n",
       "    <tbody>\n",
       "        <tr>\n",
       "            <td>Stephen Curry </td>\n",
       "        </tr>\n",
       "        <tr>\n",
       "            <td>Klay Thompson </td>\n",
       "        </tr>\n",
       "        <tr>\n",
       "            <td>Draymond Green</td>\n",
       "        </tr>\n",
       "    </tbody>\n",
       "</table>"
      ],
      "text/plain": [
       "name\n",
       "Stephen Curry\n",
       "Klay Thompson\n",
       "Draymond Green"
      ]
     },
     "execution_count": 60,
     "metadata": {},
     "output_type": "execute_result"
    }
   ],
   "source": [
    "warriors.take(0, 1, 2).select('name')"
   ]
  },
  {
   "cell_type": "code",
   "execution_count": 62,
   "id": "cell-lec05_0-46",
   "metadata": {},
   "outputs": [
    {
     "data": {
      "text/html": [
       "<table border=\"1\" class=\"dataframe\">\n",
       "    <thead>\n",
       "        <tr>\n",
       "            <th>rank</th> <th>name</th> <th>position</th> <th>$</th>\n",
       "        </tr>\n",
       "    </thead>\n",
       "    <tbody>\n",
       "        <tr>\n",
       "            <td>1   </td> <td>Stephen Curry </td> <td>PG      </td> <td>40231758</td>\n",
       "        </tr>\n",
       "        <tr>\n",
       "            <td>13  </td> <td>Klay Thompson </td> <td>SG      </td> <td>32742000</td>\n",
       "        </tr>\n",
       "        <tr>\n",
       "            <td>60  </td> <td>Draymond Green</td> <td>PF      </td> <td>18539130</td>\n",
       "        </tr>\n",
       "    </tbody>\n",
       "</table>\n",
       "<p>... (10 rows omitted)</p>"
      ],
      "text/plain": [
       "<IPython.core.display.HTML object>"
      ]
     },
     "metadata": {},
     "output_type": "display_data"
    },
    {
     "ename": "AttributeError",
     "evalue": "'NoneType' object has no attribute 'select'",
     "output_type": "error",
     "traceback": [
      "\u001b[0;31m---------------------------------------------------------------------------\u001b[0m",
      "\u001b[0;31mAttributeError\u001b[0m                            Traceback (most recent call last)",
      "\u001b[0;32m<ipython-input-62-005dbca00994>\u001b[0m in \u001b[0;36m<module>\u001b[0;34m\u001b[0m\n\u001b[0;32m----> 1\u001b[0;31m \u001b[0mwarriors\u001b[0m\u001b[0;34m.\u001b[0m\u001b[0mshow\u001b[0m\u001b[0;34m(\u001b[0m\u001b[0;36m3\u001b[0m\u001b[0;34m)\u001b[0m\u001b[0;34m.\u001b[0m\u001b[0mselect\u001b[0m\u001b[0;34m(\u001b[0m\u001b[0;34m'name'\u001b[0m\u001b[0;34m)\u001b[0m\u001b[0;34m\u001b[0m\u001b[0;34m\u001b[0m\u001b[0m\n\u001b[0m",
      "\u001b[0;31mAttributeError\u001b[0m: 'NoneType' object has no attribute 'select'"
     ]
    }
   ],
   "source": [
    "warriors.show(3).select('name')"
   ]
  },
  {
   "cell_type": "code",
   "execution_count": null,
   "id": "cell-lec05_0-47",
   "metadata": {},
   "outputs": [],
   "source": []
  },
  {
   "cell_type": "code",
   "execution_count": null,
   "id": "cell-lec05_0-48",
   "metadata": {},
   "outputs": [],
   "source": []
  },
  {
   "cell_type": "code",
   "execution_count": null,
   "id": "cell-lec05_0-49",
   "metadata": {},
   "outputs": [],
   "source": []
  },
  {
   "attachments": {},
   "cell_type": "markdown",
   "id": "cell-lec05_0-50",
   "metadata": {},
   "source": [
    "# Ways to Create a Table #\n",
    "\n",
    "## Creating a Table from Scratch ##"
   ]
  },
  {
   "cell_type": "code",
   "execution_count": 63,
   "id": "cell-lec05_0-51",
   "metadata": {},
   "outputs": [
    {
     "data": {
      "text/plain": [
       "array(['Bancroft', 'Durant', 'Channing', 'Haste'], dtype='<U8')"
      ]
     },
     "execution_count": 63,
     "metadata": {},
     "output_type": "execute_result"
    }
   ],
   "source": [
    "streets = make_array('Bancroft', 'Durant', 'Channing', 'Haste')\n",
    "streets"
   ]
  },
  {
   "cell_type": "code",
   "execution_count": 64,
   "id": "cell-lec05_0-52",
   "metadata": {},
   "outputs": [
    {
     "data": {
      "text/html": [
       "<table border=\"1\" class=\"dataframe\">\n",
       "    <thead>\n",
       "        <tr>\n",
       "            \n",
       "        </tr>\n",
       "    </thead>\n",
       "    <tbody>\n",
       "    </tbody>\n",
       "</table>"
      ],
      "text/plain": []
     },
     "execution_count": 64,
     "metadata": {},
     "output_type": "execute_result"
    }
   ],
   "source": [
    "Table()"
   ]
  },
  {
   "cell_type": "code",
   "execution_count": 65,
   "id": "cell-lec05_0-53",
   "metadata": {},
   "outputs": [
    {
     "data": {
      "text/html": [
       "<table border=\"1\" class=\"dataframe\">\n",
       "    <thead>\n",
       "        <tr>\n",
       "            <th>Street name</th>\n",
       "        </tr>\n",
       "    </thead>\n",
       "    <tbody>\n",
       "        <tr>\n",
       "            <td>Bancroft   </td>\n",
       "        </tr>\n",
       "        <tr>\n",
       "            <td>Durant     </td>\n",
       "        </tr>\n",
       "        <tr>\n",
       "            <td>Channing   </td>\n",
       "        </tr>\n",
       "        <tr>\n",
       "            <td>Haste      </td>\n",
       "        </tr>\n",
       "    </tbody>\n",
       "</table>"
      ],
      "text/plain": [
       "Street name\n",
       "Bancroft\n",
       "Durant\n",
       "Channing\n",
       "Haste"
      ]
     },
     "execution_count": 65,
     "metadata": {},
     "output_type": "execute_result"
    }
   ],
   "source": [
    "southside = Table().with_column('Street name', streets)\n",
    "southside"
   ]
  },
  {
   "cell_type": "code",
   "execution_count": 66,
   "id": "cell-lec05_0-54",
   "metadata": {},
   "outputs": [
    {
     "data": {
      "text/html": [
       "<table border=\"1\" class=\"dataframe\">\n",
       "    <thead>\n",
       "        <tr>\n",
       "            <th>Street name</th> <th>Blocks from campus</th>\n",
       "        </tr>\n",
       "    </thead>\n",
       "    <tbody>\n",
       "        <tr>\n",
       "            <td>Bancroft   </td> <td>0                 </td>\n",
       "        </tr>\n",
       "        <tr>\n",
       "            <td>Durant     </td> <td>1                 </td>\n",
       "        </tr>\n",
       "        <tr>\n",
       "            <td>Channing   </td> <td>2                 </td>\n",
       "        </tr>\n",
       "        <tr>\n",
       "            <td>Haste      </td> <td>3                 </td>\n",
       "        </tr>\n",
       "    </tbody>\n",
       "</table>"
      ],
      "text/plain": [
       "Street name | Blocks from campus\n",
       "Bancroft    | 0\n",
       "Durant      | 1\n",
       "Channing    | 2\n",
       "Haste       | 3"
      ]
     },
     "execution_count": 66,
     "metadata": {},
     "output_type": "execute_result"
    }
   ],
   "source": [
    "southside.with_column('Blocks from campus', np.arange(4))"
   ]
  },
  {
   "cell_type": "code",
   "execution_count": 67,
   "id": "cell-lec05_0-55",
   "metadata": {},
   "outputs": [
    {
     "data": {
      "text/html": [
       "<table border=\"1\" class=\"dataframe\">\n",
       "    <thead>\n",
       "        <tr>\n",
       "            <th>Street name</th>\n",
       "        </tr>\n",
       "    </thead>\n",
       "    <tbody>\n",
       "        <tr>\n",
       "            <td>Bancroft   </td>\n",
       "        </tr>\n",
       "        <tr>\n",
       "            <td>Durant     </td>\n",
       "        </tr>\n",
       "        <tr>\n",
       "            <td>Channing   </td>\n",
       "        </tr>\n",
       "        <tr>\n",
       "            <td>Haste      </td>\n",
       "        </tr>\n",
       "    </tbody>\n",
       "</table>"
      ],
      "text/plain": [
       "Street name\n",
       "Bancroft\n",
       "Durant\n",
       "Channing\n",
       "Haste"
      ]
     },
     "execution_count": 67,
     "metadata": {},
     "output_type": "execute_result"
    }
   ],
   "source": [
    "southside"
   ]
  },
  {
   "cell_type": "code",
   "execution_count": 71,
   "id": "cell-lec05_0-56",
   "metadata": {},
   "outputs": [
    {
     "data": {
      "text/plain": [
       "array([0, 1, 2, 3])"
      ]
     },
     "execution_count": 71,
     "metadata": {},
     "output_type": "execute_result"
    }
   ],
   "source": [
    "np.arange(4)"
   ]
  },
  {
   "cell_type": "code",
   "execution_count": 68,
   "id": "cell-lec05_0-57",
   "metadata": {},
   "outputs": [
    {
     "data": {
      "text/html": [
       "<table border=\"1\" class=\"dataframe\">\n",
       "    <thead>\n",
       "        <tr>\n",
       "            <th>Street name</th> <th>Blocks from campus</th>\n",
       "        </tr>\n",
       "    </thead>\n",
       "    <tbody>\n",
       "        <tr>\n",
       "            <td>Bancroft   </td> <td>0                 </td>\n",
       "        </tr>\n",
       "        <tr>\n",
       "            <td>Durant     </td> <td>1                 </td>\n",
       "        </tr>\n",
       "        <tr>\n",
       "            <td>Channing   </td> <td>2                 </td>\n",
       "        </tr>\n",
       "        <tr>\n",
       "            <td>Haste      </td> <td>3                 </td>\n",
       "        </tr>\n",
       "    </tbody>\n",
       "</table>"
      ],
      "text/plain": [
       "Street name | Blocks from campus\n",
       "Bancroft    | 0\n",
       "Durant      | 1\n",
       "Channing    | 2\n",
       "Haste       | 3"
      ]
     },
     "execution_count": 68,
     "metadata": {},
     "output_type": "execute_result"
    }
   ],
   "source": [
    "southside = southside.with_column('Blocks from campus', np.arange(4))\n",
    "southside"
   ]
  },
  {
   "cell_type": "code",
   "execution_count": 70,
   "id": "cell-lec05_0-58",
   "metadata": {},
   "outputs": [
    {
     "data": {
      "text/html": [
       "<table border=\"1\" class=\"dataframe\">\n",
       "    <thead>\n",
       "        <tr>\n",
       "            <th>Street name</th> <th>Blocks from campus</th>\n",
       "        </tr>\n",
       "    </thead>\n",
       "    <tbody>\n",
       "        <tr>\n",
       "            <td>Bancroft   </td> <td>0                 </td>\n",
       "        </tr>\n",
       "        <tr>\n",
       "            <td>Durant     </td> <td>1                 </td>\n",
       "        </tr>\n",
       "        <tr>\n",
       "            <td>Channing   </td> <td>2                 </td>\n",
       "        </tr>\n",
       "        <tr>\n",
       "            <td>Haste      </td> <td>3                 </td>\n",
       "        </tr>\n",
       "    </tbody>\n",
       "</table>"
      ],
      "text/plain": [
       "Street name | Blocks from campus\n",
       "Bancroft    | 0\n",
       "Durant      | 1\n",
       "Channing    | 2\n",
       "Haste       | 3"
      ]
     },
     "execution_count": 70,
     "metadata": {},
     "output_type": "execute_result"
    }
   ],
   "source": [
    "southside = Table().with_columns(\n",
    "    'Street name', streets,\n",
    "    'Blocks from campus', np.arange(4)\n",
    ")\n",
    "southside"
   ]
  },
  {
   "cell_type": "code",
   "execution_count": 81,
   "id": "cell-lec05_0-59",
   "metadata": {},
   "outputs": [
    {
     "data": {
      "text/html": [
       "<table border=\"1\" class=\"dataframe\">\n",
       "    <thead>\n",
       "        <tr>\n",
       "            <th>Street name</th> <th>Blocks from campus</th> <th>Time to get there</th>\n",
       "        </tr>\n",
       "    </thead>\n",
       "    <tbody>\n",
       "        <tr>\n",
       "            <td>Bancroft   </td> <td>0                 </td> <td>1                </td>\n",
       "        </tr>\n",
       "        <tr>\n",
       "            <td>Durant     </td> <td>1                 </td> <td>3                </td>\n",
       "        </tr>\n",
       "        <tr>\n",
       "            <td>Channing   </td> <td>2                 </td> <td>5                </td>\n",
       "        </tr>\n",
       "        <tr>\n",
       "            <td>Haste      </td> <td>3                 </td> <td>7                </td>\n",
       "        </tr>\n",
       "    </tbody>\n",
       "</table>"
      ],
      "text/plain": [
       "Street name | Blocks from campus | Time to get there\n",
       "Bancroft    | 0                  | 1\n",
       "Durant      | 1                  | 3\n",
       "Channing    | 2                  | 5\n",
       "Haste       | 3                  | 7"
      ]
     },
     "execution_count": 81,
     "metadata": {},
     "output_type": "execute_result"
    }
   ],
   "source": [
    "southside = Table().with_columns(\n",
    "    'Street name', streets,\n",
    "    'Blocks from campus', np.arange(4),\n",
    "    'Time to get there', np.arange(1, 8, 2)\n",
    ")\n",
    "southside"
   ]
  },
  {
   "cell_type": "code",
   "execution_count": 83,
   "id": "cell-lec05_0-60",
   "metadata": {},
   "outputs": [
    {
     "data": {
      "text/html": [
       "<table border=\"1\" class=\"dataframe\">\n",
       "    <thead>\n",
       "        <tr>\n",
       "            <th>Time to get there</th> <th>Blocks from campus</th> <th>Street name</th>\n",
       "        </tr>\n",
       "    </thead>\n",
       "    <tbody>\n",
       "        <tr>\n",
       "            <td>1                </td> <td>0                 </td> <td>Bancroft   </td>\n",
       "        </tr>\n",
       "        <tr>\n",
       "            <td>3                </td> <td>1                 </td> <td>Durant     </td>\n",
       "        </tr>\n",
       "        <tr>\n",
       "            <td>5                </td> <td>2                 </td> <td>Channing   </td>\n",
       "        </tr>\n",
       "        <tr>\n",
       "            <td>7                </td> <td>3                 </td> <td>Haste      </td>\n",
       "        </tr>\n",
       "    </tbody>\n",
       "</table>"
      ],
      "text/plain": [
       "Time to get there | Blocks from campus | Street name\n",
       "1                 | 0                  | Bancroft\n",
       "3                 | 1                  | Durant\n",
       "5                 | 2                  | Channing\n",
       "7                 | 3                  | Haste"
      ]
     },
     "execution_count": 83,
     "metadata": {},
     "output_type": "execute_result"
    }
   ],
   "source": [
    "southside.select(2, 1, 0)"
   ]
  },
  {
   "cell_type": "code",
   "execution_count": 78,
   "id": "cell-lec05_0-61",
   "metadata": {},
   "outputs": [
    {
     "data": {
      "text/html": [
       "<table border=\"1\" class=\"dataframe\">\n",
       "    <thead>\n",
       "        <tr>\n",
       "            <th>Street name</th> <th>Blocks from campus</th> <th>City</th>\n",
       "        </tr>\n",
       "    </thead>\n",
       "    <tbody>\n",
       "        <tr>\n",
       "            <td>Bancroft   </td> <td>0                 </td> <td>Berkeley</td>\n",
       "        </tr>\n",
       "        <tr>\n",
       "            <td>Durant     </td> <td>1                 </td> <td>Berkeley</td>\n",
       "        </tr>\n",
       "        <tr>\n",
       "            <td>Channing   </td> <td>2                 </td> <td>Berkeley</td>\n",
       "        </tr>\n",
       "        <tr>\n",
       "            <td>Haste      </td> <td>3                 </td> <td>Berkeley</td>\n",
       "        </tr>\n",
       "    </tbody>\n",
       "</table>"
      ],
      "text/plain": [
       "Street name | Blocks from campus | City\n",
       "Bancroft    | 0                  | Berkeley\n",
       "Durant      | 1                  | Berkeley\n",
       "Channing    | 2                  | Berkeley\n",
       "Haste       | 3                  | Berkeley"
      ]
     },
     "execution_count": 78,
     "metadata": {},
     "output_type": "execute_result"
    }
   ],
   "source": [
    "southside.with_column('City', 'Berkeley')"
   ]
  },
  {
   "cell_type": "code",
   "execution_count": null,
   "id": "cell-lec05_0-62",
   "metadata": {},
   "outputs": [],
   "source": []
  },
  {
   "cell_type": "code",
   "execution_count": null,
   "id": "cell-lec05_0-63",
   "metadata": {},
   "outputs": [],
   "source": []
  },
  {
   "cell_type": "code",
   "execution_count": null,
   "id": "cell-lec05_0-64",
   "metadata": {},
   "outputs": [],
   "source": []
  },
  {
   "attachments": {},
   "cell_type": "markdown",
   "id": "cell-lec05_0-65",
   "metadata": {},
   "source": [
    "## Reading a Table from a File  ##"
   ]
  },
  {
   "cell_type": "code",
   "execution_count": null,
   "id": "cell-lec05_0-66",
   "metadata": {},
   "outputs": [],
   "source": [
    "du_bois = Table.read_table('du_bois.csv')\n",
    "du_bois"
   ]
  },
  {
   "cell_type": "code",
   "execution_count": null,
   "id": "cell-lec05_0-67",
   "metadata": {},
   "outputs": [],
   "source": [
    "du_bois.column('ACTUAL AVERAGE')"
   ]
  },
  {
   "cell_type": "code",
   "execution_count": null,
   "id": "cell-lec05_0-68",
   "metadata": {},
   "outputs": [],
   "source": [
    "du_bois.column('FOOD')"
   ]
  },
  {
   "cell_type": "code",
   "execution_count": null,
   "id": "cell-lec05_0-69",
   "metadata": {},
   "outputs": [],
   "source": []
  },
  {
   "cell_type": "code",
   "execution_count": null,
   "id": "cell-lec05_0-70",
   "metadata": {},
   "outputs": [],
   "source": []
  },
  {
   "cell_type": "code",
   "execution_count": null,
   "id": "cell-lec05_0-71",
   "metadata": {},
   "outputs": [],
   "source": []
  },
  {
   "cell_type": "code",
   "execution_count": null,
   "id": "cell-lec05_0-72",
   "metadata": {},
   "outputs": [],
   "source": []
  },
  {
   "attachments": {},
   "cell_type": "markdown",
   "id": "cell-lec05_0-73",
   "metadata": {},
   "source": [
    "## Where Method"
   ]
  },
  {
   "cell_type": "code",
   "execution_count": null,
   "id": "cell-lec05_0-74",
   "metadata": {},
   "outputs": [],
   "source": [
    "nba.where('salary', are.above(10000000))"
   ]
  },
  {
   "cell_type": "code",
   "execution_count": null,
   "id": "cell-lec05_0-75",
   "metadata": {},
   "outputs": [],
   "source": [
    "nba.where('salary', are.between(10000000, 20000000))"
   ]
  },
  {
   "cell_type": "code",
   "execution_count": null,
   "id": "cell-lec05_0-76",
   "metadata": {
    "scrolled": true
   },
   "outputs": [],
   "source": [
    "nba.where('position', are.containing('G'))"
   ]
  },
  {
   "attachments": {},
   "cell_type": "markdown",
   "id": "cell-lec05_0-77",
   "metadata": {},
   "source": [
    "## Print and string formatting"
   ]
  },
  {
   "cell_type": "code",
   "execution_count": null,
   "id": "cell-lec05_0-78",
   "metadata": {},
   "outputs": [],
   "source": []
  },
  {
   "cell_type": "code",
   "execution_count": null,
   "id": "cell-lec05_0-79",
   "metadata": {},
   "outputs": [],
   "source": []
  },
  {
   "cell_type": "code",
   "execution_count": null,
   "id": "cell-lec05_0-80",
   "metadata": {},
   "outputs": [],
   "source": []
  }
 ],
 "metadata": {
  "kernelspec": {
   "display_name": "Python 3",
   "language": "python",
   "name": "python3"
  },
  "language_info": {
   "codemirror_mode": {
    "name": "ipython",
    "version": 3
   },
   "file_extension": ".py",
   "mimetype": "text/x-python",
   "name": "python",
   "nbconvert_exporter": "python",
   "pygments_lexer": "ipython3",
   "version": "3.10.12"
  }
 },
 "nbformat": 4,
 "nbformat_minor": 1
}

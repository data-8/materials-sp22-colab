{
 "cells": [
  {
   "cell_type": "code",
   "execution_count": null,
   "id": "e91c7f38",
   "metadata": {
    "deletable": false,
    "editable": false
   },
   "outputs": [],
   "source": [
    "# Initialize Otter\n",
    "import otter\n",
    "grader = otter.Notebook(\"project1.ipynb\")"
   ]
  },
  {
   "cell_type": "markdown",
   "id": "7857aebd",
   "metadata": {},
   "source": [
    "# Project 1: World Progress"
   ]
  },
  {
   "cell_type": "markdown",
   "id": "3cb8cf00",
   "metadata": {},
   "source": [
    "In this project, you'll explore data from [Gapminder.org](http://gapminder.org), a website dedicated to providing a fact-based view of the world and how it has changed. That site includes several data visualizations and presentations, but also publishes the raw data that we will use in this project to recreate and extend some of their most famous visualizations.\n",
    "\n",
    "The Gapminder website collects data from many sources and compiles them into tables that describe many countries around the world. All of the data they aggregate are published in the [Systema Globalis](https://github.com/open-numbers/ddf--gapminder--systema_globalis/blob/master/README.md). Their goal is \"to compile all public statistics; Social, Economic and Environmental; into a comparable total dataset.\" All data sets in this project are copied directly from the Systema Globalis without any changes.\n",
    "\n",
    "This project is dedicated to [Hans Rosling](https://en.wikipedia.org/wiki/Hans_Rosling) (1948-2017), who championed the use of data to understand and prioritize global development challenges."
   ]
  },
  {
   "cell_type": "markdown",
   "id": "1fb4ad28",
   "metadata": {},
   "source": [
    "### Logistics\n",
    "\n",
    "**Deadline.**  This project is due at **11:59pm PT on Friday 2/25**. Projects will be accepted up to 2 days (48 hours) late. Projects submitted fewer than 24 hours after the deadline will receive 2/3 credit, and projects submitted between 24 and 48 hours after the deadline will receive 1/3 credit. Projects submitted 48 hours or more after the deadline will receive no credit. It's **much** better to be early than late, so start working now.\n",
    "\n",
    "**Checkpoint.**  For full credit on the checkpoint, you must complete the first 8 questions, pass all public autograder tests for those sections, and submit to the Gradescope Project 1 Checkpoint assignment by **11:59pm PT on Friday, 2/18**. **This is worth 5% of your entire project grade**. After you've submitted the checkpoint, you may still change your answers before the project deadline - only your final submission, to the Project 1 assignment, will be graded for correctness. You will have some lab time to work on these questions, but we recommend that you start the project before lab and leave time to finish the checkpoint afterward.\n",
    "\n",
    "**Partners.** You may work with one other partner; your partner must be from your assigned lab section. **Only one of you is allowed to submit the project. If both partners submit, you will be docked 10% of your project grade. On Gradescope, the person who submits should also designate their partner so that both of you receive credit.** Once you submit, click into your submission, and there will be an option to Add Group Member in the top right corner. You may also reference [this walkthrough video](https://drive.google.com/file/d/1POtij6KECSBjCUeOC_F0Lt3ZmKN7LKIq/view?usp=sharing) on how to add partners on Gradescope.\n",
    "\n",
    "\n",
    "**Rules.** Don't share your code with anybody but your partner. You are welcome to discuss questions with other students, but don't share the answers. The experience of solving the problems in this project will prepare you for exams (and life). If someone asks you for the answer, resist! Instead, you can demonstrate how you would solve a similar problem.\n",
    "\n",
    "**Support.** You are not alone! Come to office hours, post on Ed, and talk to your classmates. If you want to ask about the details of your solution to a problem, make a private Ed post and the staff will respond. If you're ever feeling overwhelmed or don't know how to make progress, email your TA or tutor for help. You can find contact information for the staff on the [course website](http://data8.org/sp22/staff.html).\n",
    "\n",
    "**Tests.** The tests that are given are **not comprehensive** and passing the tests for a question **does not** mean that you answered the question correctly. Tests usually only check that your table has the correct column labels. However, more tests will be applied to verify the correctness of your submission in order to assign your final score, so be careful and check your work! You might want to create your own checks along the way to see if your answers make sense. Additionally, before you submit, make sure that none of your cells take a very long time to run (several minutes).\n",
    "\n",
    "**Free Response Questions:** Make sure that you put the answers to the written questions in the indicated cell we provide. **Every free response question should include an explanation** that adequately answers the question.\n",
    "\n",
    "**Tabular Thinking Guide:** Feel free to reference [Tabular Thinking Guide](https://drive.google.com/file/d/1NvbBECCBdI0Ku380oPcTUOcpjH3RI230/view) for extra guidance.\n",
    "\n",
    "**Advice.** Develop your answers incrementally. To perform a complicated table manipulation, break it up into steps, perform each step on a different line, give a new name to each result, and check that each intermediate result is what you expect. You can add any additional names or functions you want to the provided cells. Make sure that you are using distinct and meaningful variable names throughout the notebook. Along that line, **DO NOT** reuse the variable names that we use when we grade your answers. For example, in Question 1 of the Global Poverty section we ask you to assign an answer to `latest`. Do not reassign the variable name `latest` to anything else in your notebook, otherwise there is the chance that our tests grade against what `latest` was reassigned to.\n",
    "\n",
    "You **never** have to use just one line in this project or any others. Use intermediate variables and multiple lines as much as you would like!\n",
    "\n",
    "---\n",
    "\n",
    "To get started, load `datascience`, `numpy`, `plots`, and `otter`."
   ]
  },
  {
   "cell_type": "code",
   "execution_count": 1,
   "id": "0daf6d5b",
   "metadata": {
    "deletable": false,
    "execution": {
     "iopub.execute_input": "2022-02-11T21:38:16.251971Z",
     "iopub.status.busy": "2022-02-11T21:38:16.249609Z",
     "iopub.status.idle": "2022-02-11T21:38:17.678984Z",
     "shell.execute_reply": "2022-02-11T21:38:17.679392Z"
    }
   },
   "outputs": [],
   "source": [
    "# Run this cell to set up the notebook, but please don't change it.\n",
    "\n",
    "# These lines import the NumPy and Datascience modules.\n",
    "from datascience import *\n",
    "import numpy as np\n",
    "\n",
    "# These lines do some fancy plotting magic.\n",
    "%matplotlib inline\n",
    "import matplotlib.pyplot as plots\n",
    "plots.style.use('fivethirtyeight')\n",
    "\n",
    "from ipywidgets import interact, interactive, fixed, interact_manual\n",
    "import ipywidgets as widgets\n",
    "\n",
    "import d8error"
   ]
  },
  {
   "cell_type": "markdown",
   "id": "3e003627",
   "metadata": {
    "deletable": false,
    "editable": false
   },
   "source": [
    "## 1. Global Population Growth"
   ]
  },
  {
   "cell_type": "markdown",
   "id": "e2bec577",
   "metadata": {
    "deletable": false,
    "editable": false
   },
   "source": [
    "The global population of humans reached 1 billion around 1800, 3 billion around 1960, and 7 billion around 2011. The potential impact of exponential population growth has concerned scientists, economists, and politicians alike.\n",
    "\n",
    "The UN Population Division estimates that the world population will likely continue to grow throughout the 21st century, but at a slower rate, perhaps reaching 11 billion by 2100. However, the UN does not rule out scenarios of more extreme growth.\n",
    "\n",
    "<a href=\"http://www.pewresearch.org/fact-tank/2015/06/08/scientists-more-worried-than-public-about-worlds-growing-population/ft_15-06-04_popcount/\"> \n",
    " <img src=\"pew_population_projection.png\"/> \n",
    "</a>\n",
    "\n",
    "In this part of the project, we will examine some of the factors that influence population growth and how they have been changing over the years and around the world. There are two main sub-parts of this analysis.\n",
    "\n",
    "- First, we will examine the data for one country, Bangladesh. We will see how factors such as life expectancy, fertility rate, and child mortality have changed over time in Bangladesh, and how they are related to the rate of population growth.\n",
    "- Next, we will examine whether the changes we have observed for Bangladesh are particular to that country or whether they reflect general patterns observable in other countries too. We will study aspects of world population growth and see how they have been changing.\n",
    "\n",
    "The first table we will consider contains the total population of each country over time. Run the cell below."
   ]
  },
  {
   "cell_type": "code",
   "execution_count": 2,
   "id": "dae7f06a",
   "metadata": {
    "deletable": false,
    "execution": {
     "iopub.execute_input": "2022-02-11T21:38:17.685033Z",
     "iopub.status.busy": "2022-02-11T21:38:17.684498Z",
     "iopub.status.idle": "2022-02-11T21:38:17.774102Z",
     "shell.execute_reply": "2022-02-11T21:38:17.773689Z"
    },
    "scrolled": true
   },
   "outputs": [],
   "source": [
    "population = Table.read_table('population.csv').where(\"time\", are.below(2021))\n",
    "population.show(3)"
   ]
  },
  {
   "cell_type": "markdown",
   "id": "ac969431",
   "metadata": {},
   "source": [
    "**Note:** The population csv file can also be found [here](https://github.com/open-numbers/ddf--gapminder--systema_globalis/blob/master/countries-etc-datapoints/ddf--datapoints--population_total--by--geo--time.csv). The data for this project was downloaded in February 2017. "
   ]
  },
  {
   "cell_type": "markdown",
   "id": "76040c2c",
   "metadata": {
    "deletable": false
   },
   "source": [
    "### Bangladesh\n",
    "\n",
    "The nation of [Bangladesh](https://en.wikipedia.org/wiki/Bangladesh#People's_Republic_of_Bangladesh) was established as a parliamentary democracy after the Bangladesh Liberation War ended in 1971. The war-ravaged fledgling nation was almost immediately faced with floods and famine. In this section of the project, we will examine aspects of the development of Bangladesh since that time.\n",
    "\n",
    "In the `population` table, the `geo` column contains three-letter codes established by the [International Organization for Standardization](https://en.wikipedia.org/wiki/International_Organization_for_Standardization) (ISO) in the [Alpha-3](https://en.wikipedia.org/wiki/ISO_3166-1_alpha-3#Current_codes) standard. We will begin by taking a close look at Bangladesh. Use the Alpha-3 link to find the 3-letter code for Bangladesh."
   ]
  },
  {
   "cell_type": "markdown",
   "id": "a9ab75de",
   "metadata": {
    "deletable": false,
    "editable": false
   },
   "source": [
    "**Question 1.** Create a table called `b_pop` that has two columns labeled `time` and `population_total`. The first column should contain the years from 1970 through 2020 (including both 1970 and 2020) and the second should contain the population of Bangladesh in each of those years.\n",
    "\n",
    "<!--\n",
    "BEGIN QUESTION\n",
    "name: q1_1\n",
    "points:\n",
    "- 0\n",
    "- 0\n",
    "- 0\n",
    "- 4\n",
    "-->"
   ]
  },
  {
   "cell_type": "code",
   "execution_count": 3,
   "id": "a30b1c48",
   "metadata": {
    "deletable": false,
    "execution": {
     "iopub.execute_input": "2022-02-11T21:38:17.792141Z",
     "iopub.status.busy": "2022-02-11T21:38:17.781750Z",
     "iopub.status.idle": "2022-02-11T21:38:17.828636Z",
     "shell.execute_reply": "2022-02-11T21:38:17.828177Z"
    }
   },
   "outputs": [],
   "source": [
    "b_pop = ...\n",
    "b_pop"
   ]
  },
  {
   "cell_type": "code",
   "execution_count": null,
   "id": "fddc2759",
   "metadata": {
    "deletable": false,
    "editable": false
   },
   "outputs": [],
   "source": [
    "grader.check(\"q1_1\")"
   ]
  },
  {
   "cell_type": "markdown",
   "id": "53180007",
   "metadata": {
    "deletable": false
   },
   "source": [
    "Run the following cell to create a table called `b_five` that has the population of Bangladesh every five years. At a glance, it appears that the population of Bangladesh has been growing quickly indeed!"
   ]
  },
  {
   "cell_type": "code",
   "execution_count": 8,
   "id": "b2184b45",
   "metadata": {
    "deletable": false,
    "execution": {
     "iopub.execute_input": "2022-02-11T21:38:17.863538Z",
     "iopub.status.busy": "2022-02-11T21:38:17.863100Z",
     "iopub.status.idle": "2022-02-11T21:38:17.865550Z",
     "shell.execute_reply": "2022-02-11T21:38:17.865936Z"
    }
   },
   "outputs": [],
   "source": [
    "b_pop.set_format('population_total', NumberFormatter)\n",
    "\n",
    "fives = np.arange(1970, 2021, 5) # 1970, 1975, 1980, ...\n",
    "b_five = b_pop.sort('time').where('time', are.contained_in(fives))\n",
    "b_five.show()"
   ]
  },
  {
   "cell_type": "markdown",
   "id": "7655e7b7",
   "metadata": {
    "deletable": false,
    "editable": false
   },
   "source": [
    "**Question 2.** Assign `initial` to an array that contains the population for every five year interval from 1970 to 2015 (inclusive). Then, assign `changed` to an array that contains the population for every five year interval from 1975 to 2020 (inclusive). The first array should include both 1970 and 2015, and the second array should include both 1975 and 2020. You should use the `b_five` table to create both arrays, by first filtering the table to only contain the relevant years.\n",
    "\n",
    "The annual growth rate for a time period is equal to:\n",
    "\n",
    "$$\\left(\\left(\\frac{\\text{Population at end of period}}{\\text{Population at start of period}}\\right)^{\\displaystyle\\frac{1}{\\text{number of years}}}\\right) -1$$\n",
    "\n",
    "We have provided the code below that uses  `initial` and `changed` in order to add a column to `b_five` called `annual_growth`. Don't worry about the calculation of the growth rates; run the test below to test your solution.\n",
    "\n",
    "If you are interested in how we came up with the formula for growth rates, consult the [growth rates](https://inferentialthinking.com/chapters/03/2/1/Growth.html) section of the textbook.\n",
    "\n",
    "<!--\n",
    "BEGIN QUESTION\n",
    "name: q1_2\n",
    "points:\n",
    "- 0\n",
    "- 0\n",
    "- 0\n",
    "- 0\n",
    "- 0\n",
    "- 4\n",
    "-->"
   ]
  },
  {
   "cell_type": "code",
   "execution_count": 9,
   "id": "188e18c5",
   "metadata": {
    "execution": {
     "iopub.execute_input": "2022-02-11T21:38:17.872726Z",
     "iopub.status.busy": "2022-02-11T21:38:17.872028Z",
     "iopub.status.idle": "2022-02-11T21:38:17.875381Z",
     "shell.execute_reply": "2022-02-11T21:38:17.874904Z"
    }
   },
   "outputs": [],
   "source": [
    "initial = ...\n",
    "changed = ...\n",
    "\n",
    "b_1970_through_2015 = b_five.where('time', are.below_or_equal_to(2015)) \n",
    "b_five_growth = b_1970_through_2015.with_column('annual_growth', (changed/initial)**0.2-1)\n",
    "b_five_growth.set_format('annual_growth', PercentFormatter)"
   ]
  },
  {
   "cell_type": "code",
   "execution_count": null,
   "id": "3ab6ed27",
   "metadata": {
    "deletable": false,
    "editable": false
   },
   "outputs": [],
   "source": [
    "grader.check(\"q1_2\")"
   ]
  },
  {
   "cell_type": "markdown",
   "id": "404aa6ed",
   "metadata": {
    "deletable": false
   },
   "source": [
    "While the population has grown every five years since 1970, the annual growth rate decreased dramatically from 1985 to 2015. Let's look at some other information in order to develop a possible explanation. Run the next cell to load three additional tables of measurements about countries over time."
   ]
  },
  {
   "cell_type": "code",
   "execution_count": 16,
   "id": "887df540",
   "metadata": {
    "deletable": false,
    "execution": {
     "iopub.execute_input": "2022-02-11T21:38:17.952202Z",
     "iopub.status.busy": "2022-02-11T21:38:17.951421Z",
     "iopub.status.idle": "2022-02-11T21:38:18.218513Z",
     "shell.execute_reply": "2022-02-11T21:38:18.218989Z"
    }
   },
   "outputs": [],
   "source": [
    "life_expectancy = Table.read_table('life_expectancy.csv').where('time', are.below(2021))\n",
    "child_mortality = Table.read_table('child_mortality.csv').relabel(2, 'child_mortality_under_5_per_1000_born').where('time', are.below(2021))\n",
    "fertility = Table.read_table('fertility.csv').where('time', are.below(2021))"
   ]
  },
  {
   "cell_type": "markdown",
   "id": "6a842503",
   "metadata": {
    "deletable": false,
    "editable": false
   },
   "source": [
    "The `life_expectancy` table contains a statistic that is often used to measure how long people live, called *life expectancy at birth*. This number, for a country in a given year, [does not measure how long babies born in that year are expected to live](http://blogs.worldbank.org/opendata/what-does-life-expectancy-birth-really-mean). Instead, it measures how long someone would live, on average, if the *mortality conditions* in that year persisted throughout their lifetime. These \"mortality conditions\" describe what fraction of people at each age survived the year. So, it is a way of measuring the proportion of people that are staying alive, aggregated over different age groups in the population."
   ]
  },
  {
   "cell_type": "markdown",
   "id": "02f4a082",
   "metadata": {},
   "source": [
    "Run the following cells below to see `life_expectancy`, `child_mortality`, and `fertility`. Refer back to these tables as they will be helpful for answering further questions!"
   ]
  },
  {
   "cell_type": "code",
   "execution_count": 17,
   "id": "f4b165e1",
   "metadata": {
    "execution": {
     "iopub.execute_input": "2022-02-11T21:38:18.223787Z",
     "iopub.status.busy": "2022-02-11T21:38:18.223236Z",
     "iopub.status.idle": "2022-02-11T21:38:18.226450Z",
     "shell.execute_reply": "2022-02-11T21:38:18.226063Z"
    }
   },
   "outputs": [],
   "source": [
    "life_expectancy.show(3)"
   ]
  },
  {
   "cell_type": "code",
   "execution_count": 18,
   "id": "0cee90b2",
   "metadata": {
    "execution": {
     "iopub.execute_input": "2022-02-11T21:38:18.230571Z",
     "iopub.status.busy": "2022-02-11T21:38:18.228636Z",
     "iopub.status.idle": "2022-02-11T21:38:18.238314Z",
     "shell.execute_reply": "2022-02-11T21:38:18.237947Z"
    }
   },
   "outputs": [],
   "source": [
    "child_mortality.show(3)"
   ]
  },
  {
   "cell_type": "code",
   "execution_count": 19,
   "id": "76296b9d",
   "metadata": {
    "execution": {
     "iopub.execute_input": "2022-02-11T21:38:18.242617Z",
     "iopub.status.busy": "2022-02-11T21:38:18.242109Z",
     "iopub.status.idle": "2022-02-11T21:38:18.245124Z",
     "shell.execute_reply": "2022-02-11T21:38:18.244625Z"
    }
   },
   "outputs": [],
   "source": [
    "fertility.show(3)"
   ]
  },
  {
   "cell_type": "markdown",
   "id": "3bcdeaff",
   "metadata": {
    "deletable": false,
    "editable": false
   },
   "source": [
    "<!-- BEGIN QUESTION -->\n",
    "\n",
    "**Question 3.** Perhaps population is growing more slowly because people aren't living as long. Use the `life_expectancy` table to draw a line graph with the years 1970 and later on the horizontal axis that shows how the *life expectancy at birth* has changed in Bangladesh.\n",
    "\n",
    "<!--\n",
    "BEGIN QUESTION\n",
    "name: q1_3\n",
    "manual: True\n",
    "-->"
   ]
  },
  {
   "cell_type": "code",
   "execution_count": 20,
   "id": "e71307fb",
   "metadata": {
    "deletable": false,
    "execution": {
     "iopub.execute_input": "2022-02-11T21:38:18.291834Z",
     "iopub.status.busy": "2022-02-11T21:38:18.273165Z",
     "iopub.status.idle": "2022-02-11T21:38:18.525932Z",
     "shell.execute_reply": "2022-02-11T21:38:18.525477Z"
    },
    "manual_grade": true,
    "manual_problem_id": "global_pop_3"
   },
   "outputs": [],
   "source": [
    "#Fill in code here\n",
    "..."
   ]
  },
  {
   "cell_type": "markdown",
   "id": "19331c21",
   "metadata": {
    "deletable": false,
    "editable": false
   },
   "source": [
    "<!-- END QUESTION -->\n",
    "\n",
    "<!-- BEGIN QUESTION -->\n",
    "\n",
    "**Question 4.** Assuming everything else stays the same, do the trends in life expectancy in the graph above directly explain why the population growth rate decreased from 1985 to 2015 in Bangladesh? Why or why not? \n",
    "\n",
    "Hint: What happened in Bangladesh in 1991, and does that event explain the overall change in population growth rate? This [webpage](https://en.wikipedia.org/wiki/1991_Bangladesh_cyclone) provides relevant context.\n",
    "\n",
    "<!--\n",
    "BEGIN QUESTION\n",
    "name: q1_4\n",
    "manual: True\n",
    "-->"
   ]
  },
  {
   "cell_type": "markdown",
   "id": "10d48bac",
   "metadata": {},
   "source": [
    "_Type your answer here, replacing this text._"
   ]
  },
  {
   "cell_type": "markdown",
   "id": "315b55b6",
   "metadata": {
    "deletable": false,
    "editable": false
   },
   "source": [
    "<!-- END QUESTION -->\n",
    "\n",
    "\n",
    "\n",
    "The `fertility` table contains a statistic that is often used to measure how many babies are being born, the *total fertility rate*. This number describes the [number of children a woman would have in her lifetime](https://www.measureevaluation.org/prh/rh_indicators/specific/fertility/total-fertility-rate), on average, if the current rates of birth by age of the mother persisted throughout her child bearing years, assuming she survived through age 49. "
   ]
  },
  {
   "cell_type": "markdown",
   "id": "01db36f4",
   "metadata": {
    "deletable": false,
    "editable": false
   },
   "source": [
    "**Question 5.** Complete the function `fertility_over_time`. It takes the Alpha-3 code of a country as `country_code` and a `start` year. It returns a two-column table with labels `Year` and `Children per woman` that can be used to generate a line chart of the country's fertility rate each year, starting at the `start` year. The plot should include the `start` year and all later years that appear in the `fertility` table. \n",
    "\n",
    "Then, determine the Alpha-3 code for Bangladesh. The code for Bangladesh and the year 1970 are used in the call to your `fertility_over_time` function in order to plot how Bangladesh's fertility rate has changed since 1970. Note that the function `fertility_over_time` should not return the plot itself. **The expression that draws the line plot is provided for you; please don't change it.**\n",
    "\n",
    "<!--\n",
    "BEGIN QUESTION\n",
    "name: q1_5\n",
    "points:\n",
    "- 0\n",
    "- 0\n",
    "- 0\n",
    "- 0\n",
    "- 0\n",
    "- 4\n",
    "-->"
   ]
  },
  {
   "cell_type": "code",
   "execution_count": 21,
   "id": "05118761",
   "metadata": {
    "deletable": false,
    "execution": {
     "iopub.execute_input": "2022-02-11T21:38:18.558093Z",
     "iopub.status.busy": "2022-02-11T21:38:18.542566Z",
     "iopub.status.idle": "2022-02-11T21:38:18.803266Z",
     "shell.execute_reply": "2022-02-11T21:38:18.802826Z"
    }
   },
   "outputs": [],
   "source": [
    "def fertility_over_time(country_code, start):\n",
    "    \"\"\"Create a two-column table that describes a country's total fertility rate each year.\"\"\"\n",
    "    country_fertility = ...\n",
    "    country_fertility_after_start = ...\n",
    "    cleaned_table = ...\n",
    "    ...\n",
    "\n",
    "bangladesh_code = ...\n",
    "fertility_over_time(bangladesh_code, 1970).plot(0, 1) # You should *not* change this line."
   ]
  },
  {
   "cell_type": "code",
   "execution_count": null,
   "id": "ab42e3b3",
   "metadata": {
    "deletable": false,
    "editable": false
   },
   "outputs": [],
   "source": [
    "grader.check(\"q1_5\")"
   ]
  },
  {
   "cell_type": "markdown",
   "id": "7e6cedaa",
   "metadata": {
    "deletable": false,
    "editable": false
   },
   "source": [
    "<!-- BEGIN QUESTION -->\n",
    "\n",
    "**Question 6.** Assuming everything else is constant, do the trends in fertility in the graph above help directly explain why the population growth rate decreased from 1980 to 2020 in Bangladesh? Why or why not?\n",
    "\n",
    "<!--\n",
    "BEGIN QUESTION\n",
    "name: q1_6\n",
    "manual: True\n",
    "-->"
   ]
  },
  {
   "cell_type": "markdown",
   "id": "f1a34542",
   "metadata": {},
   "source": [
    "_Type your answer here, replacing this text._"
   ]
  },
  {
   "cell_type": "markdown",
   "id": "de23d7de",
   "metadata": {
    "deletable": false
   },
   "source": [
    "<!-- END QUESTION -->\n",
    "\n",
    "\n",
    "\n",
    "It has been [observed](https://www.ageing.ox.ac.uk/download/143) that lower fertility rates are often associated with lower child mortality rates. The link has been attributed to family planning: if parents can expect that their children will all survive into adulthood, then they will choose to have fewer children. In the reverse direction, having fewer children may allow families to devote more resources to each child, reducing child mortality. We can see if this association is evident in Bangladesh by plotting the relationship between total fertility rate and [child mortality rate per 1000 children](https://en.wikipedia.org/wiki/Child_mortality)."
   ]
  },
  {
   "cell_type": "markdown",
   "id": "30ff3d32",
   "metadata": {
    "deletable": false,
    "editable": false
   },
   "source": [
    "**Question 7.** Using both the `fertility` and `child_mortality` tables, draw a scatter diagram that has Bangladesh's total fertility on the horizontal axis and its child mortality on the vertical axis with one point for each year, starting with 1970.\n",
    "\n",
    "**The code that draws the scatter diagram is provided for you; please don't change it.** Instead, create a table called `post_1969_fertility_and_child_mortality` with the appropriate column labels and data in order to generate the chart correctly. Use the label `Children per woman` to describe total fertility and the label `Child deaths per 1000 born` to describe child mortality.\n",
    "\n",
    "*Hint*: Do not drop the `time` column or you will get an error in the scatterplot in the next cell!\n",
    "\n",
    "<!--\n",
    "BEGIN QUESTION\n",
    "name: q1_7\n",
    "manual: false\n",
    "points:\n",
    "- 0\n",
    "- 0\n",
    "- 0\n",
    "- 0\n",
    "- 0\n",
    "- 0\n",
    "- 0\n",
    "- 4\n",
    "-->"
   ]
  },
  {
   "cell_type": "code",
   "execution_count": 28,
   "id": "eb810e24",
   "metadata": {
    "deletable": false,
    "execution": {
     "iopub.execute_input": "2022-02-11T21:38:19.202685Z",
     "iopub.status.busy": "2022-02-11T21:38:19.197443Z",
     "iopub.status.idle": "2022-02-11T21:38:19.637858Z",
     "shell.execute_reply": "2022-02-11T21:38:19.638254Z"
    }
   },
   "outputs": [],
   "source": [
    "bgd_fertility = ...\n",
    "bgd_child_mortality = ...\n",
    "fertility_and_child_mortality = ...\n",
    "post_1969_fertility_and_child_mortality = ...\n",
    "\n",
    "# Don't change anything below this line!\n",
    "x_births = post_1969_fertility_and_child_mortality.column(\"Children per woman\")\n",
    "y_deaths = post_1969_fertility_and_child_mortality.column(\"Child deaths per 1000 born\")\n",
    "time_colors = post_1969_fertility_and_child_mortality.column(\"time\")\n",
    "\n",
    "plots.figure(figsize=(6,6))\n",
    "plots.scatter(x_births, y_deaths, c=time_colors, cmap=\"Blues_r\")\n",
    "plots.colorbar()                  \n",
    "plots.xlabel(\"Children per woman\")\n",
    "plots.ylabel(\"Child deaths per 1000 born\");"
   ]
  },
  {
   "cell_type": "code",
   "execution_count": null,
   "id": "689d82d6",
   "metadata": {
    "deletable": false,
    "editable": false
   },
   "outputs": [],
   "source": [
    "grader.check(\"q1_7\")"
   ]
  },
  {
   "cell_type": "markdown",
   "id": "492b4765",
   "metadata": {},
   "source": [
    "The plot above uses **color** to encode data about the `time` column from the table `post_1969_fertility_and_child_mortality`. The colors, ranging from dark blue to white, represent the passing of time between the 1970s to the 2020s. For example, a point on the scatter plot representing data from the 1970s would appear as **dark blue** and a point from the 2010s would appear as **light blue**.\n"
   ]
  },
  {
   "cell_type": "markdown",
   "id": "e263e18c",
   "metadata": {
    "deletable": false,
    "editable": false
   },
   "source": [
    "<!-- BEGIN QUESTION -->\n",
    "\n",
    "**Question 8.** In one or two sentences, describe the association (if any) that is illustrated by this scatter diagram. Does the diagram show that reduced child mortality *causes* parents to choose to have fewer children?\n",
    "\n",
    "<!--\n",
    "BEGIN QUESTION\n",
    "name: q1_8\n",
    "manual: True\n",
    "-->"
   ]
  },
  {
   "cell_type": "markdown",
   "id": "04d7a265",
   "metadata": {},
   "source": [
    "_Type your answer here, replacing this text._"
   ]
  },
  {
   "cell_type": "markdown",
   "id": "4dbad50e",
   "metadata": {},
   "source": [
    "<!-- END QUESTION -->\n",
    "\n",
    "\n",
    "\n",
    "### Checkpoint (due Friday 2/18 by 11:59 PM PT)\n",
    "\n",
    "<img src=\"yoshi.jpg\" alt=\"drawing\" width=\"500\"/>\n",
    "\n",
    "**WOOOHOO Yoshi and friends want to congratulate you on reaching the checkpoint!**\n",
    "\n",
    "**Run the following cells and submit to the Gradescope assignment corresponding to the checkpoint: <u>Project 1 Checkpoint</u>**"
   ]
  },
  {
   "cell_type": "markdown",
   "id": "6633592d",
   "metadata": {},
   "source": [
    "--- \n",
    "\n",
    "To double check your work, the cell below will rerun all of the autograder tests for Section 1. "
   ]
  },
  {
   "cell_type": "code",
   "execution_count": 37,
   "id": "429c2a5e",
   "metadata": {
    "execution": {
     "iopub.execute_input": "2022-02-11T21:38:19.697242Z",
     "iopub.status.busy": "2022-02-11T21:38:19.696434Z",
     "iopub.status.idle": "2022-02-11T21:38:20.343999Z",
     "shell.execute_reply": "2022-02-11T21:38:20.344379Z"
    }
   },
   "outputs": [],
   "source": [
    "checkpoint_tests = [\"q1_1\", \"q1_2\", \"q1_5\", \"q1_7\"]\n",
    "for test in checkpoint_tests:\n",
    "    display(grader.check(test))"
   ]
  },
  {
   "cell_type": "markdown",
   "id": "6c0dce5c",
   "metadata": {},
   "source": [
    "## Submission\n",
    "\n",
    "Make sure you have run all cells in your notebook in order before running the cell below, so that all images/graphs appear in the output. The cell below will generate a zip file for you to submit. **Please save before exporting!**"
   ]
  },
  {
   "cell_type": "code",
   "execution_count": 38,
   "id": "dbf19109",
   "metadata": {
    "execution": {
     "iopub.execute_input": "2022-02-11T21:38:20.348395Z",
     "iopub.status.busy": "2022-02-11T21:38:20.347846Z",
     "iopub.status.idle": "2022-02-11T21:38:20.444281Z",
     "shell.execute_reply": "2022-02-11T21:38:20.444645Z"
    }
   },
   "outputs": [],
   "source": [
    "# Save your notebook first, then run this cell to export your submission.\n",
    "grader.export(pdf=False)"
   ]
  },
  {
   "cell_type": "markdown",
   "id": "bfee66d0",
   "metadata": {
    "deletable": false
   },
   "source": [
    "### The World\n",
    "\n",
    "The change observed in Bangladesh since 1970 can also be observed in many other developing countries: health services improve, life expectancy increases, and child mortality decreases. At the same time, the fertility rate often plummets, and so the population growth rate decreases despite increasing longevity."
   ]
  },
  {
   "cell_type": "markdown",
   "id": "4f0d259c",
   "metadata": {
    "deletable": false
   },
   "source": [
    "Run the cell below to generate two overlaid histograms, one for 1962 and one for 2010, that show the distributions of total fertility rates for these two years among all 201 countries in the `fertility` table."
   ]
  },
  {
   "cell_type": "code",
   "execution_count": 39,
   "id": "8f639ef0",
   "metadata": {
    "deletable": false,
    "execution": {
     "iopub.execute_input": "2022-02-11T21:38:20.467859Z",
     "iopub.status.busy": "2022-02-11T21:38:20.462586Z",
     "iopub.status.idle": "2022-02-11T21:38:21.257170Z",
     "shell.execute_reply": "2022-02-11T21:38:21.256711Z"
    }
   },
   "outputs": [],
   "source": [
    "Table().with_columns(\n",
    "    '1962', fertility.where('time', 1962).column(2),\n",
    "    '2010', fertility.where('time', 2010).column(2)\n",
    ").hist(bins=np.arange(0, 10, 0.5), unit='child per woman')\n",
    "_ = plots.xlabel('Children per woman')\n",
    "_ = plots.ylabel('Percent per children per woman')\n",
    "_ = plots.xticks(np.arange(10))"
   ]
  },
  {
   "cell_type": "markdown",
   "id": "17698a69",
   "metadata": {
    "deletable": false,
    "editable": false
   },
   "source": [
    "**Question 9.** Assign `fertility_statements` to an array of the numbers of each statement below that can be correctly inferred from these histograms.\n",
    "\n",
    "1. About the same number of countries had a fertility rate between 3.5 and 4.5 in both 1962 and 2010.\n",
    "1. In 1962, less than 20% of countries had a fertility rate below 3.\n",
    "1. At least half of countries had a fertility rate between 5 and 8 in 1962.\n",
    "1. In 2010, about 40% of countries had a fertility rate between 1.5 and 2.\n",
    "1. At least half of countries had a fertility rate below 3 in 2010.\n",
    "1. More countries had a fertility rate above 3 in 1962 than in 2010.\n",
    "\n",
    "<!--\n",
    "BEGIN QUESTION\n",
    "name: q1_9\n",
    "points:\n",
    "- 0\n",
    "- 4\n",
    "-->"
   ]
  },
  {
   "cell_type": "code",
   "execution_count": 40,
   "id": "393f41f7",
   "metadata": {
    "deletable": false,
    "execution": {
     "iopub.execute_input": "2022-02-11T21:38:21.261403Z",
     "iopub.status.busy": "2022-02-11T21:38:21.260856Z",
     "iopub.status.idle": "2022-02-11T21:38:21.262975Z",
     "shell.execute_reply": "2022-02-11T21:38:21.263382Z"
    }
   },
   "outputs": [],
   "source": [
    "fertility_statements = ..."
   ]
  },
  {
   "cell_type": "code",
   "execution_count": null,
   "id": "37c279d1",
   "metadata": {
    "deletable": false,
    "editable": false
   },
   "outputs": [],
   "source": [
    "grader.check(\"q1_9\")"
   ]
  },
  {
   "cell_type": "markdown",
   "id": "4d5710ac",
   "metadata": {
    "deletable": false,
    "editable": false
   },
   "source": [
    "<!-- BEGIN QUESTION -->\n",
    "\n",
    "**Question 10.** Draw a line plot of the world population from 1800 through 2020 (inclusive of both endpoints). The world population is the sum of all of the countries' populations. You should use the `population` table defined earlier in the project. \n",
    "\n",
    "<!--\n",
    "BEGIN QUESTION\n",
    "name: q1_10\n",
    "manual: True\n",
    "-->"
   ]
  },
  {
   "cell_type": "code",
   "execution_count": 43,
   "id": "9d81c77b",
   "metadata": {
    "deletable": false,
    "execution": {
     "iopub.execute_input": "2022-02-11T21:38:21.312328Z",
     "iopub.status.busy": "2022-02-11T21:38:21.311804Z",
     "iopub.status.idle": "2022-02-11T21:38:22.554797Z",
     "shell.execute_reply": "2022-02-11T21:38:22.554315Z"
    },
    "manual_grade": true,
    "manual_problem_id": "global_pop_10"
   },
   "outputs": [],
   "source": [
    "#Fill in code here\n",
    "..."
   ]
  },
  {
   "cell_type": "markdown",
   "id": "e96bbf54",
   "metadata": {
    "deletable": false,
    "editable": false
   },
   "source": [
    "<!-- END QUESTION -->\n",
    "\n",
    "**Question 11.** Create a function `stats_for_year` that takes a `year` and returns a table of statistics. The table it returns should have four columns: `geo`, `population_total`, `children_per_woman_total_fertility`, and `child_mortality_under_5_per_1000_born`. Each row should contain one unique Alpha-3 country code and three statistics: population, fertility rate, and child mortality for that `year` from the `population`, `fertility` and `child_mortality` tables. Only include rows for which all three statistics are available for the country and year.\n",
    "\n",
    "In addition, restrict the result to country codes that appears in `big_50`, an array of the 50 most populous countries in 2020. This restriction will speed up computations later in the project.\n",
    "\n",
    "After you write `stats_for_year`, try calling `stats_for_year` on any year between 1960 and 2020. Try to understand the output of stats_for_year.\n",
    "\n",
    "*Hint*: The tests for this question are quite comprehensive, so if you pass the tests, your function is probably correct. However, without calling your function yourself and looking at the output, it will be very difficult to understand any problems you have, so try your best to write the function correctly and check that it works before you rely on the `grader` tests to confirm your work.\n",
    "\n",
    "*Hint*: What do all three tables have in common (pay attention to column names)?\n",
    "\n",
    "<!--\n",
    "BEGIN QUESTION\n",
    "name: q1_11\n",
    "manual: false\n",
    "points:\n",
    "- 0\n",
    "- 0\n",
    "- 0\n",
    "- 4\n",
    "-->"
   ]
  },
  {
   "cell_type": "code",
   "execution_count": 44,
   "id": "24f969d0",
   "metadata": {
    "deletable": false,
    "execution": {
     "iopub.execute_input": "2022-02-11T21:38:22.593737Z",
     "iopub.status.busy": "2022-02-11T21:38:22.573172Z",
     "iopub.status.idle": "2022-02-11T21:38:23.542260Z",
     "shell.execute_reply": "2022-02-11T21:38:23.542645Z"
    }
   },
   "outputs": [],
   "source": [
    "# We first create a population table that only includes the \n",
    "# 50 countries with the largest 2020 populations. We focus on \n",
    "# these 50 countries only so that plotting later will run faster.\n",
    "big_50 = population.where('time', are.equal_to(2020)).sort(\"population_total\", descending=True).take(np.arange(50)).column('geo')\n",
    "population_of_big_50 = population.where('time', are.above(1959)).where('geo', are.contained_in(big_50))\n",
    "\n",
    "def stats_for_year(year):\n",
    "    \"\"\"Return a table of the stats for each country that year.\"\"\"\n",
    "    p = population_of_big_50.where('time', are.equal_to(year)).drop('time')\n",
    "    f = fertility.where('time', are.equal_to(year)).drop('time')\n",
    "    c = child_mortality.where('time', are.equal_to(year)).drop('time')\n",
    "    ...\n",
    "\n",
    "..."
   ]
  },
  {
   "cell_type": "code",
   "execution_count": null,
   "id": "7d049be6",
   "metadata": {
    "deletable": false,
    "editable": false
   },
   "outputs": [],
   "source": [
    "grader.check(\"q1_11\")"
   ]
  },
  {
   "cell_type": "markdown",
   "id": "fce2a34d",
   "metadata": {
    "deletable": false,
    "editable": false
   },
   "source": [
    "**Question 12.** Create a table called `pop_by_decade` with two columns called `decade` and `population`, in this order. It has a row for each year that starts a decade, in increasing order starting with 1960 and ending with 2020. For example, 1960 is the start of the 1960's decade. The `population` column contains the total population of all countries included in the result of `stats_for_year(year)` for the first `year` of the decade. You should see that these countries contain most of the world's population.\n",
    "\n",
    "*Hint:* One approach is to define a function `pop_for_year` that computes this total population, then `apply` it to the `decade` column.  The `stats_for_year` function from the previous question may be useful here.\n",
    "\n",
    "This first test is just a sanity check for your helper function if you choose to use it. You will not lose points for not implementing the function `pop_for_year`.\n",
    "\n",
    "**Note:** The cell where you will generate the `pop_by_decade` table is below the cell where you can choose to define the helper function `pop_for_year`. You should define your `pop_by_decade` table in the cell that starts with the table `decades` being defined. \n",
    "\n",
    "<!--\n",
    "BEGIN QUESTION\n",
    "name: q1_12_0\n",
    "manual: false\n",
    "points: \n",
    "- 0\n",
    "- 0\n",
    "- 0\n",
    "- 0\n",
    "-->"
   ]
  },
  {
   "cell_type": "code",
   "execution_count": 49,
   "id": "b434ba10",
   "metadata": {
    "execution": {
     "iopub.execute_input": "2022-02-11T21:38:25.870481Z",
     "iopub.status.busy": "2022-02-11T21:38:25.870009Z",
     "iopub.status.idle": "2022-02-11T21:38:25.872726Z",
     "shell.execute_reply": "2022-02-11T21:38:25.872213Z"
    }
   },
   "outputs": [],
   "source": [
    "def pop_for_year(year):\n",
    "    \"\"\"Return the total population for the specified year.\"\"\"\n",
    "    ..."
   ]
  },
  {
   "cell_type": "code",
   "execution_count": null,
   "id": "c22e5f8e",
   "metadata": {
    "deletable": false,
    "editable": false
   },
   "outputs": [],
   "source": [
    "grader.check(\"q1_12_0\")"
   ]
  },
  {
   "cell_type": "markdown",
   "id": "ad123e2f",
   "metadata": {
    "deletable": false,
    "editable": false
   },
   "source": [
    "Now that you've defined your helper function (if you've chosen to do so), define the `pop_by_decade` table.\n",
    "\n",
    "<!--\n",
    "BEGIN QUESTION\n",
    "name: q1_12\n",
    "manual: false\n",
    "points:\n",
    "- 0\n",
    "- 0\n",
    "- 0\n",
    "- 0\n",
    "- 0\n",
    "- 0\n",
    "- 4\n",
    "-->"
   ]
  },
  {
   "cell_type": "code",
   "execution_count": 54,
   "id": "21245e98",
   "metadata": {
    "deletable": false,
    "execution": {
     "iopub.execute_input": "2022-02-11T21:38:28.203477Z",
     "iopub.status.busy": "2022-02-11T21:38:28.191281Z",
     "iopub.status.idle": "2022-02-11T21:38:31.958019Z",
     "shell.execute_reply": "2022-02-11T21:38:31.958371Z"
    }
   },
   "outputs": [],
   "source": [
    "decades = Table().with_column('decade', np.arange(1960, 2021, 10))\n",
    "\n",
    "pop_by_decade = ...\n",
    "pop_by_decade.set_format(1, NumberFormatter)"
   ]
  },
  {
   "cell_type": "code",
   "execution_count": null,
   "id": "5dae5229",
   "metadata": {
    "deletable": false,
    "editable": false
   },
   "outputs": [],
   "source": [
    "grader.check(\"q1_12\")"
   ]
  },
  {
   "cell_type": "markdown",
   "id": "841ffa98",
   "metadata": {
    "deletable": false,
    "editable": false
   },
   "source": [
    "The `countries` table describes various characteristics of countries. The `country` column contains the same codes as the `geo` column in each of the other data tables (`population`, `fertility`, and `child_mortality`). The `world_6region` column classifies each country into a region of the world. Run the cell below to inspect the data."
   ]
  },
  {
   "cell_type": "code",
   "execution_count": 62,
   "id": "6e3be26d",
   "metadata": {
    "execution": {
     "iopub.execute_input": "2022-02-11T21:38:32.007755Z",
     "iopub.status.busy": "2022-02-11T21:38:32.005713Z",
     "iopub.status.idle": "2022-02-11T21:38:32.983819Z",
     "shell.execute_reply": "2022-02-11T21:38:32.983066Z"
    }
   },
   "outputs": [],
   "source": [
    "countries = Table.read_table('countries.csv').where('country', are.contained_in(population.group('geo').column('geo')))\n",
    "countries.select('country', 'name', 'world_6region')"
   ]
  },
  {
   "cell_type": "markdown",
   "id": "23629640",
   "metadata": {
    "deletable": false,
    "editable": false
   },
   "source": [
    "**Question 13.** Create a table called `region_counts`. It should contain two columns called `region` and `count`. The `region` column should contain regions of the world, and the `count` column should contain the number of countries in each region that appears in the result of `stats_for_year(2020)`. \n",
    "\n",
    "For example, one row would have `south_asia` as its `region` value and an integer as its `count` value: the number of large South Asian countries for which we have population, fertility, and child mortality numbers from 2020.\n",
    "\n",
    "*Hint*: You may have to relabel a column to name it `region`. \n",
    "\n",
    "<!--\n",
    "BEGIN QUESTION\n",
    "name: q1_13\n",
    "points:\n",
    "- 0\n",
    "- 0\n",
    "- 0\n",
    "- 4\n",
    "-->"
   ]
  },
  {
   "cell_type": "code",
   "execution_count": 63,
   "id": "d1e010e8",
   "metadata": {
    "deletable": false,
    "execution": {
     "iopub.execute_input": "2022-02-11T21:38:32.997398Z",
     "iopub.status.busy": "2022-02-11T21:38:32.992196Z",
     "iopub.status.idle": "2022-02-11T21:38:33.630705Z",
     "shell.execute_reply": "2022-02-11T21:38:33.630079Z"
    }
   },
   "outputs": [],
   "source": [
    "stats_for_2020 = ...\n",
    "region_counts = ...\n",
    "region_counts"
   ]
  },
  {
   "cell_type": "code",
   "execution_count": null,
   "id": "72971576",
   "metadata": {
    "deletable": false,
    "editable": false
   },
   "outputs": [],
   "source": [
    "grader.check(\"q1_13\")"
   ]
  },
  {
   "cell_type": "markdown",
   "id": "d51a6da2",
   "metadata": {
    "deletable": false
   },
   "source": [
    "The following scatter diagram compares total fertility rate and child mortality rate for each country in 1960. The area of each dot represents the population of the country, and the color represents its region of the world. Run the cell. Do you think you can identify any of the dots?"
   ]
  },
  {
   "cell_type": "code",
   "execution_count": 68,
   "id": "f2e490d9",
   "metadata": {
    "deletable": false,
    "execution": {
     "iopub.execute_input": "2022-02-11T21:38:33.690120Z",
     "iopub.status.busy": "2022-02-11T21:38:33.687244Z",
     "iopub.status.idle": "2022-02-11T21:38:34.563870Z",
     "shell.execute_reply": "2022-02-11T21:38:34.564279Z"
    }
   },
   "outputs": [],
   "source": [
    "from functools import lru_cache as cache\n",
    "\n",
    "# This cache annotation makes sure that if the same year\n",
    "# is passed as an argument twice, the work of computing\n",
    "# the result is only carried out once.\n",
    "@cache(None)\n",
    "def stats_relabeled(year):\n",
    "    \"\"\"Relabeled and cached version of stats_for_year.\"\"\"\n",
    "    return stats_for_year(year).relabel(2, 'Children per woman').relabel(3, 'Child deaths per 1000 born')\n",
    "\n",
    "def fertility_vs_child_mortality(year):\n",
    "    \"\"\"Draw a color scatter diagram comparing child mortality and fertility.\"\"\"\n",
    "    with_region = stats_relabeled(year).join('geo', countries.select('country', 'world_6region'), 'country')\n",
    "    with_region.scatter(2, 3, sizes=1, group=4, s=500)\n",
    "    plots.xlim(0,10)\n",
    "    plots.ylim(-50, 500)\n",
    "    plots.title(year)\n",
    "    plots.show()\n",
    "\n",
    "fertility_vs_child_mortality(1960)"
   ]
  },
  {
   "cell_type": "markdown",
   "id": "98b15c2b",
   "metadata": {
    "deletable": false,
    "editable": false
   },
   "source": [
    "**Question 14.** Assign `scatter_statements` to an array of the numbers of each statement below that can be inferred from this scatter diagram for 1960. \n",
    "1. As a whole, the `europe_central_asia` region had the lowest child mortality rate.\n",
    "1. The lowest child mortality rate of any country was from an `east_asia_pacific` country.\n",
    "1. Most countries had a fertility rate above 5.\n",
    "1. There was an association between child mortality and fertility.\n",
    "1. The two largest countries by population also had the two highest child mortality rates.\n",
    "\n",
    "<!--\n",
    "BEGIN QUESTION\n",
    "name: q1_14\n",
    "points:\n",
    "- 0\n",
    "- 4\n",
    "-->"
   ]
  },
  {
   "cell_type": "code",
   "execution_count": 69,
   "id": "88bd5631",
   "metadata": {
    "deletable": false,
    "execution": {
     "iopub.execute_input": "2022-02-11T21:38:34.568308Z",
     "iopub.status.busy": "2022-02-11T21:38:34.567863Z",
     "iopub.status.idle": "2022-02-11T21:38:34.570068Z",
     "shell.execute_reply": "2022-02-11T21:38:34.570631Z"
    }
   },
   "outputs": [],
   "source": [
    "scatter_statements = ..."
   ]
  },
  {
   "cell_type": "code",
   "execution_count": null,
   "id": "24256e25",
   "metadata": {
    "deletable": false,
    "editable": false
   },
   "outputs": [],
   "source": [
    "grader.check(\"q1_14\")"
   ]
  },
  {
   "cell_type": "markdown",
   "id": "7a34bdea",
   "metadata": {
    "deletable": false
   },
   "source": [
    "The result of the cell below is interactive. Drag the slider to the right to see how countries have changed over time. You'll find that the great divide between so-called \"Western\" and \"developing\" countries that existed in the 1960's has nearly disappeared. This shift in fertility rates is the reason that the global population is expected to grow more slowly in the 21st century than it did in the 19th and 20th centuries.\n",
    "\n",
    "**Note:** Don't worry if a red warning pops up when running the cell below. You'll still be able to run the cell!"
   ]
  },
  {
   "cell_type": "code",
   "execution_count": 72,
   "id": "c7aa8bea",
   "metadata": {
    "deletable": false,
    "execution": {
     "iopub.execute_input": "2022-02-11T21:38:34.594542Z",
     "iopub.status.busy": "2022-02-11T21:38:34.590542Z",
     "iopub.status.idle": "2022-02-11T21:38:34.937004Z",
     "shell.execute_reply": "2022-02-11T21:38:34.937420Z"
    },
    "scrolled": true
   },
   "outputs": [],
   "source": [
    "import ipywidgets as widgets\n",
    "\n",
    "_ = widgets.interact(fertility_vs_child_mortality, \n",
    "                     year=widgets.IntSlider(min=1960, max=2020, value=1960))"
   ]
  },
  {
   "cell_type": "markdown",
   "id": "8ac519d3",
   "metadata": {
    "deletable": false,
    "editable": false
   },
   "source": [
    "Now is a great time to take a break and watch the same data presented by [Hans Rosling in a 2010 TEDx talk](https://www.gapminder.org/videos/reducing-child-mortality-a-moral-and-environmental-imperative) with smoother animation and witty commentary."
   ]
  },
  {
   "cell_type": "markdown",
   "id": "83a6c880",
   "metadata": {
    "deletable": false
   },
   "source": [
    "## 2. Global Poverty"
   ]
  },
  {
   "cell_type": "code",
   "execution_count": 73,
   "id": "d023c2f2",
   "metadata": {
    "execution": {
     "iopub.execute_input": "2022-02-11T21:38:34.947598Z",
     "iopub.status.busy": "2022-02-11T21:38:34.947070Z",
     "iopub.status.idle": "2022-02-11T21:38:34.950627Z",
     "shell.execute_reply": "2022-02-11T21:38:34.949794Z"
    }
   },
   "outputs": [],
   "source": [
    "# Run this cell to set up the notebook, but please don't change it.\n",
    "\n",
    "# These lines import the Numpy and Datascience modules.\n",
    "import numpy as np\n",
    "from datascience import *\n",
    "\n",
    "# These lines do some fancy plotting magic.\n",
    "import matplotlib\n",
    "%matplotlib inline\n",
    "import matplotlib.pyplot as plots\n",
    "plots.style.use('fivethirtyeight')\n",
    "\n",
    "from ipywidgets import interact, interactive, fixed, interact_manual\n",
    "import ipywidgets as widgets\n",
    "\n",
    "import d8error"
   ]
  },
  {
   "cell_type": "markdown",
   "id": "829cd123",
   "metadata": {
    "deletable": false
   },
   "source": [
    "In 1800, 85% of the world's 1 billion people lived in [extreme poverty](https://en.wikipedia.org/wiki/Extreme_poverty), defined by the United Nations as \"a condition characterized by severe deprivation of basic human needs, including food, safe drinking water, sanitation facilities, health, shelter, education and information.\" At the time when the data in this project were gathered, a common definition of extreme poverty was a person living on less than \\$1.25 a day.\n",
    "\n",
    "In 2018, the proportion of people living in extreme poverty was estimated to be [about 9\\%](https://unstats.un.org/sdgs/report/2019/goal-01/). Although the world rate of extreme poverty has declined consistently for hundreds of years, the number of people living in extreme poverty is still over 600 million. The United Nations adopted an [ambitious goal](http://www.un.org/sustainabledevelopment/poverty/): \"By 2030, eradicate extreme poverty for all people everywhere.\" In this part of the project we will examine aspects of global poverty that might affect whether the goal is achievable."
   ]
  },
  {
   "cell_type": "markdown",
   "id": "39dd64eb",
   "metadata": {
    "deletable": false,
    "editable": false
   },
   "source": [
    "First, load the population and poverty rate by country and year and the country descriptions. While the `population` table has values for every recent year for many countries, the `poverty` table only includes certain years for each country in which a measurement of the rate of extreme poverty was available."
   ]
  },
  {
   "cell_type": "code",
   "execution_count": 74,
   "id": "760631c5",
   "metadata": {
    "execution": {
     "iopub.execute_input": "2022-02-11T21:38:34.956799Z",
     "iopub.status.busy": "2022-02-11T21:38:34.956042Z",
     "iopub.status.idle": "2022-02-11T21:38:36.405340Z",
     "shell.execute_reply": "2022-02-11T21:38:36.404819Z"
    }
   },
   "outputs": [],
   "source": [
    "population = Table.read_table('population.csv')\n",
    "countries = Table.read_table('countries.csv').where('country', are.contained_in(population.group('geo').column('geo')))\n",
    "poverty = Table.read_table('poverty.csv')\n",
    "poverty.show(3)"
   ]
  },
  {
   "cell_type": "markdown",
   "id": "c03b084e",
   "metadata": {
    "deletable": false,
    "editable": false
   },
   "source": [
    "**Question 1.** Assign `latest_poverty` to a three-column table with one row for each country that appears in the `poverty` table. The first column should contain the 3-letter code for the country. The second column should contain the most recent year for which an extreme poverty rate is available for the country. The third column should contain the poverty rate in that year. **Do not change the last line, so that the labels of your table are set correctly.**\n",
    "\n",
    "*Hint*: think about how ```group``` works: it does a sequential search of the table (from top to bottom) and collects values in the array in the order in which they appear, and then applies a function to that array. The `first` function may be helpful, but you are not required to use it.\n",
    "\n",
    "<!--\n",
    "BEGIN QUESTION\n",
    "name: q2_1\n",
    "points:\n",
    "- 0\n",
    "- 0\n",
    "- 4\n",
    "-->"
   ]
  },
  {
   "cell_type": "code",
   "execution_count": 75,
   "id": "e352f849",
   "metadata": {
    "deletable": false,
    "execution": {
     "iopub.execute_input": "2022-02-11T21:38:36.454403Z",
     "iopub.status.busy": "2022-02-11T21:38:36.443167Z",
     "iopub.status.idle": "2022-02-11T21:38:36.457025Z",
     "shell.execute_reply": "2022-02-11T21:38:36.457368Z"
    }
   },
   "outputs": [],
   "source": [
    "def first(values):\n",
    "    return values.item(0)\n",
    "\n",
    "latest_poverty = ...\n",
    "latest_poverty = latest_poverty.relabeled(0, 'geo').relabeled(1, 'time').relabeled(2, 'poverty_percent') # You should *not* change this line.\n",
    "latest_poverty"
   ]
  },
  {
   "cell_type": "code",
   "execution_count": null,
   "id": "5385af2d",
   "metadata": {
    "deletable": false,
    "editable": false
   },
   "outputs": [],
   "source": [
    "grader.check(\"q2_1\")"
   ]
  },
  {
   "cell_type": "markdown",
   "id": "28c518b8",
   "metadata": {
    "deletable": false,
    "editable": false
   },
   "source": [
    "**Question 2.** Using both `latest_poverty` and `population`, create a four-column table called `recent_poverty_total` with one row for each country in `latest_poverty`. The four columns should have the following labels and contents:\n",
    "1. `geo` contains the 3-letter country code,\n",
    "1. `poverty_percent` contains the most recent poverty percent,\n",
    "1. `population_total` contains the population of the country in 2010,\n",
    "1. `poverty_total` contains the number of people in poverty **rounded to the nearest integer**, based on the 2010 population and most recent poverty rate.\n",
    "\n",
    "*Hint*: You are not required to use `poverty_and_pop`, and you are always welcome to add any additional names. \n",
    "<!--\n",
    "BEGIN QUESTION\n",
    "name: q2_2\n",
    "points:\n",
    "- 0\n",
    "- 0\n",
    "- 0\n",
    "- 4\n",
    "-->"
   ]
  },
  {
   "cell_type": "code",
   "execution_count": 79,
   "id": "6a071458",
   "metadata": {
    "deletable": false,
    "execution": {
     "iopub.execute_input": "2022-02-11T21:38:36.490554Z",
     "iopub.status.busy": "2022-02-11T21:38:36.479968Z",
     "iopub.status.idle": "2022-02-11T21:38:36.881998Z",
     "shell.execute_reply": "2022-02-11T21:38:36.881414Z"
    }
   },
   "outputs": [],
   "source": [
    "poverty_and_pop = ...\n",
    "recent_poverty_total = ...\n",
    "recent_poverty_total"
   ]
  },
  {
   "cell_type": "code",
   "execution_count": null,
   "id": "588298c9",
   "metadata": {
    "deletable": false,
    "editable": false
   },
   "outputs": [],
   "source": [
    "grader.check(\"q2_2\")"
   ]
  },
  {
   "cell_type": "markdown",
   "id": "fcb68a89",
   "metadata": {
    "deletable": false,
    "editable": false
   },
   "source": [
    "**Question 3.** Assign the name `poverty_percent` to the known percentage of the world’s 2010 population that were living in extreme poverty. Assume that the `poverty_total` numbers in the `recent_poverty_total` table describe **all** people in 2010 living in extreme poverty. You should get a number that is above the 2018 global estimate of 9%, since many country-specific poverty rates are older than 2018.\n",
    "\n",
    "*Hint*: The sum of the `population_total` column in the `recent_poverty_total` table is not the world population, because only a subset of the world's countries are included in the `recent_poverty_total` table (only some countries have known poverty rates). Use the `population` table to compute the world's 2010 total population.\n",
    "\n",
    "*Hint*: We are computing a percentage (value between 0 and 100), not a proportion (value between 0 and 1).\n",
    "\n",
    "<!--\n",
    "BEGIN QUESTION\n",
    "name: q2_3\n",
    "points:\n",
    "- 0\n",
    "- 4\n",
    "-->"
   ]
  },
  {
   "cell_type": "code",
   "execution_count": 84,
   "id": "b1d55a4a",
   "metadata": {
    "deletable": false,
    "execution": {
     "iopub.execute_input": "2022-02-11T21:38:36.937722Z",
     "iopub.status.busy": "2022-02-11T21:38:36.917246Z",
     "iopub.status.idle": "2022-02-11T21:38:37.306118Z",
     "shell.execute_reply": "2022-02-11T21:38:37.306480Z"
    }
   },
   "outputs": [],
   "source": [
    "poverty_percent = ...\n",
    "poverty_percent"
   ]
  },
  {
   "cell_type": "code",
   "execution_count": null,
   "id": "32314518",
   "metadata": {
    "deletable": false,
    "editable": false
   },
   "outputs": [],
   "source": [
    "grader.check(\"q2_3\")"
   ]
  },
  {
   "cell_type": "markdown",
   "id": "e59e7df5",
   "metadata": {
    "deletable": false,
    "editable": false
   },
   "source": [
    "The `countries` table includes not only the name and region of countries, but also their positions on the globe."
   ]
  },
  {
   "cell_type": "code",
   "execution_count": 87,
   "id": "16238b7f",
   "metadata": {
    "deletable": false,
    "editable": false,
    "execution": {
     "iopub.execute_input": "2022-02-11T21:38:37.342279Z",
     "iopub.status.busy": "2022-02-11T21:38:37.341401Z",
     "iopub.status.idle": "2022-02-11T21:38:37.346477Z",
     "shell.execute_reply": "2022-02-11T21:38:37.345699Z"
    }
   },
   "outputs": [],
   "source": [
    "countries.select('country', 'name', 'world_4region', 'latitude', 'longitude')"
   ]
  },
  {
   "cell_type": "markdown",
   "id": "796ee8ba",
   "metadata": {
    "deletable": false,
    "editable": false
   },
   "source": [
    "**Question 4.** Using both `countries` and `recent_poverty_total`, create a five-column table called `poverty_map` with one row for every country in `recent_poverty_total`.  The five columns should have the following labels and contents:\n",
    "1. `latitude` contains the country's latitude,\n",
    "1. `longitude` contains the country's longitude,\n",
    "1. `name` contains the country's name,\n",
    "1. `region` contains the country's region from the `world_4region` column of `countries`,\n",
    "1. `poverty_total` contains the country's poverty total.\n",
    "\n",
    "<!--\n",
    "BEGIN QUESTION\n",
    "name: q2_4\n",
    "points:\n",
    "- 0\n",
    "- 0\n",
    "- 0\n",
    "- 6\n",
    "-->"
   ]
  },
  {
   "cell_type": "code",
   "execution_count": 88,
   "id": "a152e948",
   "metadata": {
    "deletable": false,
    "execution": {
     "iopub.execute_input": "2022-02-11T21:38:37.367470Z",
     "iopub.status.busy": "2022-02-11T21:38:37.349773Z",
     "iopub.status.idle": "2022-02-11T21:38:37.375214Z",
     "shell.execute_reply": "2022-02-11T21:38:37.375567Z"
    }
   },
   "outputs": [],
   "source": [
    "poverty_map = ...\n",
    "poverty_map"
   ]
  },
  {
   "cell_type": "code",
   "execution_count": null,
   "id": "74c219b6",
   "metadata": {
    "deletable": false,
    "editable": false
   },
   "outputs": [],
   "source": [
    "grader.check(\"q2_4\")"
   ]
  },
  {
   "cell_type": "markdown",
   "id": "1a2eb569",
   "metadata": {
    "deletable": false,
    "editable": false
   },
   "source": [
    "Run the cell below to draw a map of the world in which the areas of circles represent the number of people living in extreme poverty. Double-click on the map to zoom in."
   ]
  },
  {
   "cell_type": "code",
   "execution_count": 93,
   "id": "23d97309",
   "metadata": {
    "deletable": false,
    "editable": false,
    "execution": {
     "iopub.execute_input": "2022-02-11T21:38:37.438801Z",
     "iopub.status.busy": "2022-02-11T21:38:37.438231Z",
     "iopub.status.idle": "2022-02-11T21:38:37.665066Z",
     "shell.execute_reply": "2022-02-11T21:38:37.665429Z"
    },
    "scrolled": true
   },
   "outputs": [],
   "source": [
    "# It may take a few seconds to generate this map.\n",
    "colors = {'africa': 'blue', 'europe': 'black', 'asia': 'red', 'americas': 'green'}\n",
    "scaled = poverty_map.with_columns(\n",
    "    'labels', poverty_map.column('name'),\n",
    "    'colors', poverty_map.apply(colors.get, 'region'),\n",
    "    'areas', 1e-4 * poverty_map.column('poverty_total')\n",
    ").drop('name', 'region', 'poverty_total')\n",
    "\n",
    "Circle.map_table(scaled)"
   ]
  },
  {
   "cell_type": "markdown",
   "id": "037d9781",
   "metadata": {
    "deletable": false,
    "editable": false
   },
   "source": [
    "Although people lived in extreme poverty throughout the world in 2010 (with more than 5 million in the United States), the largest numbers were in Asia and Africa."
   ]
  },
  {
   "cell_type": "markdown",
   "id": "f0a6afdb",
   "metadata": {
    "deletable": false,
    "editable": false
   },
   "source": [
    "**Question 5.** Assign `largest` to a two-column table with the `name` (not the 3-letter code) and `poverty_total` of the 10 countries with the largest number of people living in extreme poverty.\n",
    "\n",
    "*Hint*: How can we use `take` and `np.arange` in conjunction with each other?\n",
    "\n",
    "<!--\n",
    "BEGIN QUESTION\n",
    "name: q2_5\n",
    "points:\n",
    "- 0\n",
    "- 0\n",
    "- 0\n",
    "- 6\n",
    "-->"
   ]
  },
  {
   "cell_type": "code",
   "execution_count": 94,
   "id": "68a39611",
   "metadata": {
    "deletable": false,
    "execution": {
     "iopub.execute_input": "2022-02-11T21:38:37.671542Z",
     "iopub.status.busy": "2022-02-11T21:38:37.671041Z",
     "iopub.status.idle": "2022-02-11T21:38:37.673939Z",
     "shell.execute_reply": "2022-02-11T21:38:37.673447Z"
    }
   },
   "outputs": [],
   "source": [
    "largest = ...\n",
    "largest.set_format('poverty_total', NumberFormatter)"
   ]
  },
  {
   "cell_type": "code",
   "execution_count": null,
   "id": "1974b2cb",
   "metadata": {
    "deletable": false,
    "editable": false
   },
   "outputs": [],
   "source": [
    "grader.check(\"q2_5\")"
   ]
  },
  {
   "cell_type": "markdown",
   "id": "2609c6db",
   "metadata": {
    "deletable": false,
    "editable": false
   },
   "source": [
    "<!-- BEGIN QUESTION -->\n",
    "\n",
    "**Question 6.** It is important to study the absolute number of people living in poverty, not just the percent. The absolute number is an important factor in determining the amount of resources needed to support people living in poverty. In the next two questions you will explore this.\n",
    "\n",
    "In Question 7, you will be asked to write a function called `poverty_timeline` that takes **the name of a country** as its argument  (not the Alpha-3 country code). It should draw a line plot of the number of people living in poverty in that country with time on the horizontal axis. The line plot should have a point for each row in the `poverty` table for that country. To compute the population living in poverty from a poverty percentage, multiply by the population of the country **in that year**.\n",
    "\n",
    "For this question, write out a generalized process for Question 7. What should this function output, and what steps will you take within the function?\n",
    "\n",
    "<!--\n",
    "BEGIN QUESTION\n",
    "name: q2_6\n",
    "manual: True\n",
    "-->"
   ]
  },
  {
   "cell_type": "markdown",
   "id": "bda20578",
   "metadata": {},
   "source": [
    "_Type your answer here, replacing this text._"
   ]
  },
  {
   "cell_type": "markdown",
   "id": "db2bb62d",
   "metadata": {
    "deletable": false
   },
   "source": [
    "<!-- END QUESTION -->\n",
    "\n",
    "\n",
    "\n",
    "**Question 7.** Now, we'll actually write the function called `poverty_timeline`. Recall that `poverty_timeline` takes **the name of a country** as its argument (not the Alpha-3 country code). It should draw a line plot of the number of people living in poverty in that country with time on the horizontal axis. The line plot should have a point for each row in the `poverty` table for that country. To compute the population living in poverty from a poverty percentage, multiply by the population of the country **in that year**.\n",
    "\n",
    "*Hint:* This question is long. Feel free to create cells and experiment. You can create cells by going to the toolbar and hitting the `+` button, or by going to the `Insert` tab."
   ]
  },
  {
   "cell_type": "code",
   "execution_count": 99,
   "id": "5450cedc",
   "metadata": {
    "execution": {
     "iopub.execute_input": "2022-02-11T21:38:37.704215Z",
     "iopub.status.busy": "2022-02-11T21:38:37.703747Z",
     "iopub.status.idle": "2022-02-11T21:38:37.705807Z",
     "shell.execute_reply": "2022-02-11T21:38:37.705315Z"
    }
   },
   "outputs": [],
   "source": [
    "def poverty_timeline(country):\n",
    "    '''Draw a timeline of people living in extreme poverty in a country.'''\n",
    "    geo = ...\n",
    "    # This solution will take multiple lines of code. Use as many as you need\n",
    "    ...\n",
    "    # Don't change anything below this line. \n",
    "    plots.title(country)\n",
    "    plots.ylim(bottom=0)\n",
    "    plots.show() # This should be the last line of your function. "
   ]
  },
  {
   "cell_type": "markdown",
   "id": "105f726e",
   "metadata": {
    "deletable": false,
    "editable": false
   },
   "source": [
    "<!-- BEGIN QUESTION -->\n",
    "\n",
    "Finally, draw the line plots below to see how the world is changing. Pay attention to the axes! You can check your work by comparing your graphs to the ones on [gapminder.org](https://www.gapminder.org/tools/#$state$entities$show$country$/$in@=ind;;;;&marker$axis_y$which=number_of_people_in_poverty&scaleType=linear&spaceRef:null;;;&chart-type=linechart).\n",
    "\n",
    "<!--\n",
    "BEGIN QUESTION\n",
    "name: q2_7\n",
    "manual: True\n",
    "-->"
   ]
  },
  {
   "cell_type": "code",
   "execution_count": 100,
   "id": "978ca8ed",
   "metadata": {
    "deletable": false,
    "execution": {
     "iopub.execute_input": "2022-02-11T21:38:37.709277Z",
     "iopub.status.busy": "2022-02-11T21:38:37.707712Z",
     "iopub.status.idle": "2022-02-11T21:38:39.189024Z",
     "shell.execute_reply": "2022-02-11T21:38:39.189618Z"
    }
   },
   "outputs": [],
   "source": [
    "poverty_timeline('India')\n",
    "poverty_timeline('Nigeria')\n",
    "poverty_timeline('China')\n",
    "poverty_timeline('Colombia')\n",
    "poverty_timeline('United States')"
   ]
  },
  {
   "cell_type": "markdown",
   "id": "fab07457",
   "metadata": {
    "deletable": false
   },
   "source": [
    "<!-- END QUESTION -->\n",
    "\n",
    "\n",
    "\n",
    "Although the number of people living in extreme poverty increased in some countries including Nigeria and the United States, the decreases in other countries, most notably the massive decreases in China and India, have shaped the overall trend that extreme poverty is decreasing worldwide, both in percentage and in absolute number. \n",
    "\n",
    "To learn more, watch [Hans Rosling in a 2015 film](https://www.gapminder.org/videos/dont-panic-end-poverty/) about the UN goal of eradicating extreme poverty from the world. \n",
    "\n",
    "Below, we've also added an interactive dropdown menu for you to visualize `poverty_timeline` graphs for other countries. Note that each dropdown menu selection may take a few seconds to run."
   ]
  },
  {
   "cell_type": "code",
   "execution_count": 101,
   "id": "31133b05",
   "metadata": {
    "deletable": false,
    "editable": false,
    "execution": {
     "iopub.execute_input": "2022-02-11T21:38:39.208878Z",
     "iopub.status.busy": "2022-02-11T21:38:39.208377Z",
     "iopub.status.idle": "2022-02-11T21:38:39.584993Z",
     "shell.execute_reply": "2022-02-11T21:38:39.584471Z"
    }
   },
   "outputs": [],
   "source": [
    "# Just run this cell\n",
    "\n",
    "all_countries = poverty_map.column('name')\n",
    "_ = widgets.interact(poverty_timeline, country=list(all_countries))"
   ]
  },
  {
   "cell_type": "markdown",
   "id": "bced1c94",
   "metadata": {
    "deletable": false
   },
   "source": [
    "\n",
    "\n",
    "<img src=\"mochi.jpg\" alt=\"drawing\" width=\"300\"/>\n",
    "\n",
    "**Mochi wants to tell you, you're finished!** Congratulations on discovering many important facts about global poverty and demonstrating your mastery of table manipulation and data visualization. Time to submit."
   ]
  },
  {
   "cell_type": "markdown",
   "id": "e4f9915f",
   "metadata": {
    "deletable": false,
    "editable": false
   },
   "source": [
    "---\n",
    "\n",
    "To double-check your work, the cell below will rerun all of the autograder tests."
   ]
  },
  {
   "cell_type": "code",
   "execution_count": null,
   "id": "c7b241f7",
   "metadata": {
    "deletable": false,
    "editable": false
   },
   "outputs": [],
   "source": [
    "grader.check_all()"
   ]
  },
  {
   "cell_type": "markdown",
   "id": "6101c502",
   "metadata": {
    "deletable": false,
    "editable": false
   },
   "source": [
    "## Submission\n",
    "\n",
    "Make sure you have run all cells in your notebook in order before running the cell below, so that all images/graphs appear in the output. The cell below will generate a zip file for you to submit. **Please save before exporting!**"
   ]
  },
  {
   "cell_type": "code",
   "execution_count": null,
   "id": "dc5dae9d",
   "metadata": {
    "deletable": false,
    "editable": false
   },
   "outputs": [],
   "source": [
    "# Save your notebook first, then run this cell to export your submission.\n",
    "grader.export(pdf=False)"
   ]
  },
  {
   "cell_type": "markdown",
   "id": "d0622f4b",
   "metadata": {},
   "source": [
    " "
   ]
  }
 ],
 "metadata": {
  "kernelspec": {
   "display_name": "Python 3",
   "language": "python",
   "name": "python3"
  },
  "language_info": {
   "codemirror_mode": {
    "name": "ipython",
    "version": 3
   },
   "file_extension": ".py",
   "mimetype": "text/x-python",
   "name": "python",
   "nbconvert_exporter": "python",
   "pygments_lexer": "ipython3",
   "version": "3.9.9"
  },
  "widgets": {
   "application/vnd.jupyter.widget-state+json": {
    "state": {
     "03390fad248b4ef4b61f534efa2324ab": {
      "model_module": "@jupyter-widgets/controls",
      "model_module_version": "1.5.0",
      "model_name": "VBoxModel",
      "state": {
       "_dom_classes": [],
       "_model_module": "@jupyter-widgets/controls",
       "_model_module_version": "1.5.0",
       "_model_name": "VBoxModel",
       "_view_count": null,
       "_view_module": "@jupyter-widgets/controls",
       "_view_module_version": "1.5.0",
       "_view_name": "VBoxView",
       "box_style": "",
       "children": [
        "IPY_MODEL_ec7f0623795b4164ba4f57c4a40440fd",
        "IPY_MODEL_90d66effe534422a8c23973676d0bc66"
       ],
       "layout": "IPY_MODEL_4a9fa6a831424ce7b8ac514e1806955c"
      }
     },
     "09a0598bb65647dd8d5b6704f8b996d4": {
      "model_module": "@jupyter-widgets/base",
      "model_module_version": "1.2.0",
      "model_name": "LayoutModel",
      "state": {
       "_model_module": "@jupyter-widgets/base",
       "_model_module_version": "1.2.0",
       "_model_name": "LayoutModel",
       "_view_count": null,
       "_view_module": "@jupyter-widgets/base",
       "_view_module_version": "1.2.0",
       "_view_name": "LayoutView",
       "align_content": null,
       "align_items": null,
       "align_self": null,
       "border": null,
       "bottom": null,
       "display": null,
       "flex": null,
       "flex_flow": null,
       "grid_area": null,
       "grid_auto_columns": null,
       "grid_auto_flow": null,
       "grid_auto_rows": null,
       "grid_column": null,
       "grid_gap": null,
       "grid_row": null,
       "grid_template_areas": null,
       "grid_template_columns": null,
       "grid_template_rows": null,
       "height": null,
       "justify_content": null,
       "justify_items": null,
       "left": null,
       "margin": null,
       "max_height": null,
       "max_width": null,
       "min_height": null,
       "min_width": "80px",
       "object_fit": null,
       "object_position": null,
       "order": null,
       "overflow": null,
       "overflow_x": null,
       "overflow_y": null,
       "padding": null,
       "right": null,
       "top": null,
       "visibility": null,
       "width": "10%"
      }
     },
     "0cc57303821b454d9444cd015154e209": {
      "model_module": "@jupyter-widgets/output",
      "model_module_version": "1.0.0",
      "model_name": "OutputModel",
      "state": {
       "_dom_classes": [],
       "_model_module": "@jupyter-widgets/output",
       "_model_module_version": "1.0.0",
       "_model_name": "OutputModel",
       "_view_count": null,
       "_view_module": "@jupyter-widgets/output",
       "_view_module_version": "1.0.0",
       "_view_name": "OutputView",
       "layout": "IPY_MODEL_61ca82267a8c4013847be671f6f526ff",
       "msg_id": "",
       "outputs": [
        {
         "data": {
          "image/png": "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\n",
          "text/plain": "<Figure size 432x432 with 1 Axes>"
         },
         "metadata": {},
         "output_type": "display_data"
        }
       ]
      }
     },
     "0f35c3d063004d7c886b70781f83cb94": {
      "model_module": "@jupyter-widgets/controls",
      "model_module_version": "1.5.0",
      "model_name": "ButtonStyleModel",
      "state": {
       "_model_module": "@jupyter-widgets/controls",
       "_model_module_version": "1.5.0",
       "_model_name": "ButtonStyleModel",
       "_view_count": null,
       "_view_module": "@jupyter-widgets/base",
       "_view_module_version": "1.2.0",
       "_view_name": "StyleView",
       "button_color": null,
       "font_weight": ""
      }
     },
     "15630bd17c694354939cf2091cc738d1": {
      "model_module": "@jupyter-widgets/controls",
      "model_module_version": "1.5.0",
      "model_name": "VBoxModel",
      "state": {
       "_dom_classes": [],
       "_model_module": "@jupyter-widgets/controls",
       "_model_module_version": "1.5.0",
       "_model_name": "VBoxModel",
       "_view_count": null,
       "_view_module": "@jupyter-widgets/controls",
       "_view_module_version": "1.5.0",
       "_view_name": "VBoxView",
       "box_style": "",
       "children": [
        "IPY_MODEL_d964ba3b989b4951bbb9bb546978b84a",
        "IPY_MODEL_fbdeb5f60d9642a6aa6377a02c4d2f78"
       ],
       "layout": "IPY_MODEL_ccef468e90f94143bb1880224ca9fd0b"
      }
     },
     "1784f10bf94049deb1f0f9daefa297e5": {
      "model_module": "@jupyter-widgets/base",
      "model_module_version": "1.2.0",
      "model_name": "LayoutModel",
      "state": {
       "_model_module": "@jupyter-widgets/base",
       "_model_module_version": "1.2.0",
       "_model_name": "LayoutModel",
       "_view_count": null,
       "_view_module": "@jupyter-widgets/base",
       "_view_module_version": "1.2.0",
       "_view_name": "LayoutView",
       "align_content": null,
       "align_items": null,
       "align_self": null,
       "border": null,
       "bottom": null,
       "display": null,
       "flex": null,
       "flex_flow": null,
       "grid_area": null,
       "grid_auto_columns": null,
       "grid_auto_flow": null,
       "grid_auto_rows": null,
       "grid_column": null,
       "grid_gap": null,
       "grid_row": null,
       "grid_template_areas": null,
       "grid_template_columns": null,
       "grid_template_rows": null,
       "height": null,
       "justify_content": null,
       "justify_items": null,
       "left": null,
       "margin": null,
       "max_height": null,
       "max_width": null,
       "min_height": null,
       "min_width": null,
       "object_fit": null,
       "object_position": null,
       "order": null,
       "overflow": null,
       "overflow_x": null,
       "overflow_y": null,
       "padding": null,
       "right": null,
       "top": null,
       "visibility": null,
       "width": null
      }
     },
     "19516d97eba942748c4500eef17272ec": {
      "model_module": "@jupyter-widgets/base",
      "model_module_version": "1.2.0",
      "model_name": "LayoutModel",
      "state": {
       "_model_module": "@jupyter-widgets/base",
       "_model_module_version": "1.2.0",
       "_model_name": "LayoutModel",
       "_view_count": null,
       "_view_module": "@jupyter-widgets/base",
       "_view_module_version": "1.2.0",
       "_view_name": "LayoutView",
       "align_content": null,
       "align_items": null,
       "align_self": null,
       "border": null,
       "bottom": null,
       "display": null,
       "flex": null,
       "flex_flow": null,
       "grid_area": null,
       "grid_auto_columns": null,
       "grid_auto_flow": null,
       "grid_auto_rows": null,
       "grid_column": null,
       "grid_gap": null,
       "grid_row": null,
       "grid_template_areas": null,
       "grid_template_columns": null,
       "grid_template_rows": null,
       "height": null,
       "justify_content": null,
       "justify_items": null,
       "left": null,
       "margin": null,
       "max_height": null,
       "max_width": null,
       "min_height": null,
       "min_width": null,
       "object_fit": null,
       "object_position": null,
       "order": null,
       "overflow": null,
       "overflow_x": null,
       "overflow_y": null,
       "padding": null,
       "right": null,
       "top": null,
       "visibility": null,
       "width": null
      }
     },
     "1e7fd1e07a4e4315a9013db1783829fb": {
      "model_module": "@jupyter-widgets/base",
      "model_module_version": "1.2.0",
      "model_name": "LayoutModel",
      "state": {
       "_model_module": "@jupyter-widgets/base",
       "_model_module_version": "1.2.0",
       "_model_name": "LayoutModel",
       "_view_count": null,
       "_view_module": "@jupyter-widgets/base",
       "_view_module_version": "1.2.0",
       "_view_name": "LayoutView",
       "align_content": null,
       "align_items": null,
       "align_self": null,
       "border": null,
       "bottom": null,
       "display": null,
       "flex": null,
       "flex_flow": null,
       "grid_area": null,
       "grid_auto_columns": null,
       "grid_auto_flow": null,
       "grid_auto_rows": null,
       "grid_column": null,
       "grid_gap": null,
       "grid_row": null,
       "grid_template_areas": null,
       "grid_template_columns": null,
       "grid_template_rows": null,
       "height": null,
       "justify_content": null,
       "justify_items": null,
       "left": null,
       "margin": "0px 8px 0px 0px",
       "max_height": null,
       "max_width": null,
       "min_height": null,
       "min_width": null,
       "object_fit": null,
       "object_position": null,
       "order": null,
       "overflow": null,
       "overflow_x": null,
       "overflow_y": null,
       "padding": "0px",
       "right": null,
       "top": null,
       "visibility": null,
       "width": "50%"
      }
     },
     "2aac6ceb5e8d4305ac83b26171399d4d": {
      "model_module": "@jupyter-widgets/controls",
      "model_module_version": "1.5.0",
      "model_name": "DescriptionStyleModel",
      "state": {
       "_model_module": "@jupyter-widgets/controls",
       "_model_module_version": "1.5.0",
       "_model_name": "DescriptionStyleModel",
       "_view_count": null,
       "_view_module": "@jupyter-widgets/base",
       "_view_module_version": "1.2.0",
       "_view_name": "StyleView",
       "description_width": ""
      }
     },
     "2d1f0145407546bf9bad973cdb5cea06": {
      "model_module": "@jupyter-widgets/output",
      "model_module_version": "1.0.0",
      "model_name": "OutputModel",
      "state": {
       "_dom_classes": [],
       "_model_module": "@jupyter-widgets/output",
       "_model_module_version": "1.0.0",
       "_model_name": "OutputModel",
       "_view_count": null,
       "_view_module": "@jupyter-widgets/output",
       "_view_module_version": "1.0.0",
       "_view_name": "OutputView",
       "layout": "IPY_MODEL_cf9e4c65171b40099d6d13f781b11c3f",
       "msg_id": "",
       "outputs": [
        {
         "data": {
          "image/png": "iVBORw0KGgoAAAANSUhEUgAAAuAAAAFrCAYAAACQQTyPAAAAOXRFWHRTb2Z0d2FyZQBNYXRwbG90bGliIHZlcnNpb24zLjQuMywgaHR0cHM6Ly9tYXRwbG90bGliLm9yZy/MnkTPAAAACXBIWXMAAAsTAAALEwEAmpwYAADObklEQVR4nOzdeVxU1d/A8c/MMOybC4vssrohlIhiSC4ZbmWWW2aZmf60cgHccMuN0FLLRNTUnkotd9NcMUsEc8W9FBdQEQRxAQWBgZl5/iAmR7bBBUXP+/XjeWTuufece5jgO+d+zzmSrKwsNYIgCIIgCIIgVAvp026AIAiCIAiCILxIRAAuCIIgCIIgCNVIBOCCIAiCIAiCUI1EAC4IgiAIgiAI1UgE4IIgCIIgCIJQjUQALgiCIAiCIAjVSATggiAIgiAIglCNRAAuvHA2bdrE6NGj6dSpE46OjlhaWvLRRx+VW76wsJCoqChat26NnZ0d9vb2tG/fnp9++gm1uvxl9JVKJT/99BOdOnXC2dkZW1tbfHx8GDBgABcuXCjznJ07d9K1a1ecnJw09fz888+PfM+CIAiCIDw79J52AwShun311VecPn0aU1NT7OzsuHv3brllFQoFPXr0YO/evTg4ONCnTx9kMhm///47w4cP59ChQ0RFRZU6Lycnh759+7J37168vLzo1asXJiYmXLt2jQMHDnDhwgXc3d21zlmyZAmjR4+mdu3a9OrVC7lczubNm/nkk0/4559/mDFjxmPvC0EQBEEQqp9E7IQpvGj27t2Lvb09rq6uxMfH88Ybb/D222/z/ffflyobHR3N+PHj8fPz49dff8XU1BSA/Px8evXqxd69e1mxYgVdu3bVOm/QoEGsXbuWsWPHMm7cOCQSidbxwsJC5HK55vvLly/j7++PsbExe/bswdnZGYCsrCzatm1LcnIyMTEx+Pv7P+7uEARBEAShmokUFOGFExQUhJubW6mguCy//fYbAKNGjdIE3wCGhoaEh4cD8N1332mdc+LECdauXUtAQADh4eFl1nN/8A2wYsUKCgoKGDx4sCb4BrC0tCQ0NBSgzA8IgiAIgiDUPCIFRRAqkJGRAYCLi0upYyWv7d+/X2tEe+3atQD069ePrKwsduzYQVpaGrVr1+bVV1+lfv36pa4VFxcHwGuvvVbqWIcOHbTKCIIgCIJQs4kAXBAqULduXZKSkrh8+TINGjTQOnbp0iWgOJ0kOTkZT09PAI4ePQrAzZs38fX1JSsrS3OOVCpl4MCBzJw5E5lMpnn9/PnzALi5uZVqg62tLSYmJqSmpnLv3j2MjY0f5y0KgiAIglDNRAqKIFQgODgYgNmzZ3Pv3j3N6wUFBcyaNUvz/f1B9o0bNwCYOnUqAQEBHDx4kJSUFDZt2oSLiwtLlizROhfgzp07AJibm5fZjpLXS8oJgiAIglBziQBcECowZMgQfHx8OHz4MC1atCAsLIzRo0cTEBBAQkICjo6OAFqj2UqlEgAnJyd+/PFHvLy8MDMz49VXX+XHH39EKpUSHR2NQqHQuR0lyx3qkrcuCIIgCMKzTQTgglABExMTtm3bxpgxYzA2NmbFihWsXr0aLy8vYmJiMDQ0BIpTVUpYWloCxfnc+vr6Wtfz9vbG2dmZnJwcEhMTNa9XNsJdslSimZnZY7s3QRAEQRCeDhGAC0IlTExMGD9+PAcPHiQjI4MrV67wyy+/YG1tzYULF6hbt67WyiUl63tbWFiUeb2SAD0/P1/zmoeHB0CZG/Skp6eTm5uLvb29yP8WBEEQhOeACMAF4SH9+OOPqNVqevbsqfV6mzZtADh79mypcwoKCrh48SJQnKJSonXr1gD8/vvvpc7ZtWuXVhlBEARBEGo2EYALQiXKSguJjY1l9uzZ1K1bl5CQEK1jb775JvXq1WP79u3s379f69hXX33FnTt3aN26NTY2NprX33vvPQwMDFiyZAmXL1/WvJ6VlcXcuXMB+Oijjx7nbQmCIAiC8JSInTCFF86WLVvYunUrANevX2f37t04OTnxyiuvaMosXLhQ8+8GDRrQuHFjPDw8MDQ05OTJk/z5559YWFiwZs2aMnen/PPPP+nduzdqtZquXbtib29PQkIC+/fvx8rKih07dpRacvC7775jzJgx1K5dm7fffluzFX1qaiqfffaZ2IpeEARBEJ4TIgAXXjiRkZGllgF80P3LCk6ePJnff/+dlJQUFAoFDg4OvP7664wcOVJrFPtBp06d4quvvmLfvn3cuXMHGxsbXn/9dUaPHk29evXKPGfnzp3MmzePkydPolKp8PLyYtCgQfTt2/eh7lUQBEEQhGePCMAFQRAEQRAEoRqJHHBBEARBEARBqEbVGoBHRkZiaWmp9VWyfTcUbzYSGRlJgwYNsLW1pUuXLpw5c0brGgUFBYwePRpXV1fs7Ozo06cPqamp1XkbgiAIgiAIgvDQqn0E3MPDg8TERM3XX3/9pTk2b948FixYwKxZs/jjjz+wsrKie/fumk1IAMLDw/ntt99YtmwZ27Zt4+7du/Tu3Vuz+6AgCIIgCIIgPMuqPQDX09PDxsZG81Wyg6BarWbhwoWMHDmSbt260ahRIxYuXEhOTg7r1q0DIDs7m+XLlzNt2jTatm2Lr68vixcv5u+//2bPnj3VfSuCIAiCIAiCUGXVHoBfunSJhg0b0rRpUz766CMuXboEwOXLl8nIyKBdu3aaskZGRrRq1YqDBw8CcPz4cQoLC7XKODg44OXlpSkjCIIgCIIgCM8yveqszM/Pj+joaDw8PLhx4wZfffUVr7/+OgcOHCAjIwMAKysrrXOsrKy4du0aULxms0wmo06dOqXKXL9+vXpuQhAEQRAEQRAeQbUG4B06dND63s/PD19fX37++WeaN28OgEQi0SqjVqtLvfYgXcoIgiAIgiAIwrPgqS5DaGpqSoMGDUhKStJsaPLgSPaNGzc0o+LW1tYolUpu3rxZbhnhP+fPn3/aTXhqXtR7f1HvG17sexcEQRBqlqcagOfn53P+/HlsbGxwdnbGxsaGP//8U+v4/v37adGiBQC+vr7I5XKtMqmpqSQmJmrKCIIgCIIgCMKzrFpTUCZOnEjHjh1xcHDQ5IDfu3ePd999F4lEwtChQ5kzZw4eHh64u7sze/ZsTExM6NGjBwAWFha8//77TJ48GSsrK2rVqsWECRNo3Lgxbdq0qc5bEQRBEARBEISHUq0BeFpaGh9//DE3b96kbt26+Pn5sWvXLpycnAAYMWIEeXl5jB49mqysLJo1a8aGDRswMzPTXOOLL75AJpMxYMAA8vPzCQoKYtGiRchksuq8FUEQBEEQBEF4KJKsrCz1026E8GScP38eDw+Pp92Mp+JFvfcX9b7hxb53QRAEoWap1hFwQRAEoWYpKCggPz//aTdDEAShRpFKpZiampa7Sp8IwAVBEIQy5ebmAmBubi6WehUEQagChUJBTk6OVhr1/Z7qKiiCIAjCs6uoqAgTExMRfAuCIFSRvr4+KpWq3OMiABcEQRAEQRCEaiQCcEEQBEEQBEGoRiIAFwRBEARBEIRqJCZhCoIgCFUyfGo0Fy+lVVt9bi52fPv5J9VWn668vb0ZPHgww4YNK7eMvb09X375Je+99141tqzqLl++jI+PD3/++ScvvfTS027OM2PlypWMGTOG1NTUp90U4TkjAnBBEAShSi5eSmNfwj9PuxnPpd27dzNz5kxOnz6NXC7H19eXzZs3P/F6HRwcSExMpE6dOk+8rprk7bff5vXXX3/azRCeQyIAFwRBEIQqUCgU6OvrP/brbtmyhU8//ZRJkyYRHR2NSqXixIkTFZ5TWFiIXC5/5LplMhk2NjaPfJ3nSWFhIUZGRhgZGT3tpgjPIZEDLgiCIDxXdu3ahYODA0VFRQBcvHgRS0tLQkNDNWWmT5/OW2+9BcC+ffto3749NjY2eHh4EB4ejkKh0JTt0qULoaGhTJw4ETc3N4KDg8usNykpiS5dumBjY4Ofnx87duzQuc1KpZJx48Yxbdo0Pv74Yzw8PPDy8qJXr16aMnFxcVhaWhITE0O7du2wsrJi9+7dqNVq5s2bh6+vL7a2trRq1YrVq1drXf/IkSMEBQVhY2ND69atiYmJwdLSkri4OKA4BcXS0pJjx45pztGlX8LCwpg2bRqurq64u7szceLECpdeq8yUKVPw8/PD1tYWb29vJk+erLURVGRkJAEBAfz88894e3tjb2/PJ598gkKhYOnSpTRu3Jj69eszfvx4rXYoFAo+//xzGjVqhJ2dHW3btmX37t2V9u3KlSuxt7fXauPOnTtp3749tra21K9fn969e2vauHr1atq2bYuDgwPu7u7079+ftLTqS9cSag4xAi4IgiA8VwICAsjPz+fYsWM0b96c+Ph46tSpowk2AeLj4+nQoQNpaWn07NmT3r17Ex0dTXJyMsOHD0cqlRIREaEpv2bNGvr378/27dtRq9Wl6lSpVPTr1w8LCwtiYmLIy8tj3LhxFBQU6NTm48ePc/XqVfT19QkKCiI9PZ3GjRszZcoUfHx8tMpOmTKFGTNm4OrqiqmpKTNmzGDTpk3Mnj0bd3d3Dh8+zIgRI7C0tCQ4OJicnBx69+5N27ZtWbx4Menp6YSHh1fYHl37Ze3atfzvf/8jJiaGU6dO8fHHH+Pr60uPHj0ACAkJYc2aNRXWdeDAARwdHQEwNjYmKiqKevXqkZiYSGhoKPr6+kycOFFT/sqVK2zbto3Vq1dz7do1PvjgA65fv461tTUbNmzg3LlzDBgwgBYtWtCtWzcAPv30U5KTk1myZAn29vbExMTQp08f/vjjD7y9vcvt2507d2q19ffff6dv376EhISwYMECioqK+PPPPzXBvkKhIDw8HE9PT27evMnnn3/OwIED2b59e4V9ILx4RAAuCIIgPFdMTU3x8fEhLi5OE4APGjSIb775hvT0dMzNzTl69ChTp05l2bJl2NjYMGfOHKRSKV5eXnz++eeEhIQwYcIEjI2NAXByctIKPB+0Z88ezp49y4kTJzTBZGRkJJ06ddKpzZcuXQIgIiKCiIgInJ2dWbJkCV27duXQoUPUq1dPU3bs2LG0a9cOKN6tdMGCBWzYsIFWrVoB4OLiQkJCAkuXLiU4OJi1a9eiVCqZP38+RkZGNGzYkLCwMAYNGlRue3TtFy8vLyZMmACAu7s7P/74I7GxsZoAfPz48RVOUgW07m3MmDGafzs7OxMaGsr8+fO1AnClUsmCBQuwsLCgUaNGtG/fnn379nHmzBn09fXx8vKiRYsWxMfH061bN5KTk1m3bh0nT57U/GwGDx7Mnj17+OGHH5gzZ06ZfVuWr776im7dumm1p0mTJpp/v//++5p/u7i4MHfuXPz9/UlNTS01ki682EQALgiCIDx3AgMDiY+PJzQ0lH379jFkyBD27t2rGQ2Xy+U0a9aMqKgomjdvjlT6X0ZmQEAACoWCpKQkTXDl6+tbYX2JiYnY2dlpAjwAPz8/retWpGQEddSoUZpR23nz5hEbG8vq1asZOXKkpuz9q5QkJiaSn59Pjx49tHYsLSwsxMnJCYBz587RsGFDrVxmPz+/Su9Hl35p3Lix1nm2trZkZmZqvreyssLKykqnPgDYtGkTCxcuJCkpidzcXJRKJUqlUquMg4MDFhYWmu+tra1xd3fXysu3trbWtOPEiROo1WpatmypdZ2CggKCgoK0XqtsBZiTJ0/St2/fco8fP36cWbNmcerUKbKysjRPS65evSoCcEGLCMAFQRCE505gYCBLly7l7Nmz5OTk4OvrS2BgIHFxcdStWxd/f3/kcjlqtVorcL3f/a+bmJhUWF9ZaSlVUTIB0svLS/Oanp4erq6uXL16Vavs/W0pCdx/+eUXreC/5PyStpV3j+XRtV8enAAqkUi0+qIqKSiHDx/mo48+YuzYsXzxxRdYWFiwbds2Jk2apFW+rDpL7vX+10oCd5VKhUQi4Y8//ih1rqGhodb3lf2cK5Kbm8s777xDmzZtWLx4MVZWVty8eZNOnTpp5c4LAogAXBAEQXgOBQQEUFBQwLx582jZsiUymYzAwEBGjhyJlZUVHTp0AKBBgwZs3LgRlUqlGe3dv38/+vr61K9fX+f6GjRoQFpaGlevXsXBwQGAhIQEnSck+vr6YmBgwPnz5wkICACKA8fk5GTat29f7nleXl4YGBiQkpLCq6++Wm6ZVatWkZeXpxkFT0hIqPR+Hke/VCUF5cCBA9SrV08rDSUlJUXnusrTtGlT1Go1GRkZpUa8H+ZasbGx9O/fv9Sx8+fPc/PmTSZNmoSLiwtAtSwhKdRMYhUUQRAE4blTkge+Zs0aWrduDaDJxT1y5AiBgYEADBw4kPT0dMLCwkhMTGTnzp1MnTqVQYMGafKcddGmTRs8PT0ZMmQIJ0+e5NChQ4wfP77UyGx5zM3NGTBgADNnzmT37t2cP3+esWPHkp2drbUSyoPMzMwYNmwYkyZNYvny5SQlJXHy5Em+//57fvjhBwB69uyJTCZjxIgRnD17lj179jB37lyAcke5H1e/WFlZ4erqWuFXSR+5u7tz7do11qxZw6VLl1i2bBnr16/Xua7yuLu706tXLz755BM2bdrEpUuXOHbsGPPnz69ygBwWFsavv/7KjBkzOHv2LGfOnGHBggXcu3cPBwcHDAwMWLJkCZcuXWLnzp188cUXj9x+4fkkRsAFQRCEKnFzsasR9bVu3ZqEhARNsG1oaIifnx/Hjh2jWbNmANjZ2bF27VomT55M69atsbCwoEePHkyePLlKdUmlUlasWMHw4cN57bXXcHBwYMaMGRVOdHzQ9OnT0dfXZ+jQoeTl5dG0aVM2b96sNUmxLBMmTMDKyoqoqCjCwsIwMzPD29ubESNGAMUfRlatWkVoaChBQUF4eXkxduxY+vfvXyoFo8Tj6peq6NSpE8OHDyc8PJz8/Hzatm3L+PHjCQsLe+RrL1iwgNmzZzN58mTS0tKoVasWL7/8subDma5ef/11VqxYwaxZs/j2228xNTXF39+fgQMHUrduXRYuXMi0adM0SyJGRETwzjvvPHL7heePJCsr69ES14Rn1vnz5/Hw8HjazXgqXtR7f1HvG17se39SsrOztSa7Cc+PrVu30q9fPy5cuCB2vxSEJ6Si36FiBFwQBEEQnnM///wzLi4u2Nvbc+bMGcLDw+nYsaMIvgXhKREBuCAIgiA8YXPmzNHkXT8oICCAdevWPdH6MzMziYyMJCMjA2tra4KDg5kyZcoTrVMQhPKJAFwQBEEQnrCPPvqI7t27l3msvDzsx2nEiBGanHBBEJ4+EYALgiAIwhNWq1YtatWq9bSbIQjCM0IsQygIgiAIgiAI1UgE4IIgCIIgCIJQjUQALgiCIAiCIAjVSATggiAIgiAIglCNRAAuCIIgCIIgCNVIBOCCIAiC8BC8vb2ZP39+hWXs7e1ZuXJlNbXo4V2+fBlLS0uOHTv2tJvy3NHlffIsKeu9cODAAVq1aoWVlRVdunQR75fHQCxDKAiCIFSJYdosZIqUaqtPqe9Ivt3Yaqvvadq9ezczZ87k9OnTyOVyfH192bx58xOv18HBgcTExOd+Z8zIyEg2b97M/v37q63OP//8E2Nj42qr71GV9V4YN24cTZo0Yc2aNZiYmGBubv5CvF+eJBGAC4IgCFUiU6Sgl3f8aTfjqVEoFOjr6z/2627ZsoVPP/2USZMmER0djUql4sSJExWeU1hYiFwuf+S6ZTIZNjY2j3wdobS6des+7SZUSVnvhaSkJD7++GMcHBw0r4n3y6MRKSiCIAjCc2XXrl04ODhQVFQEwMWLF7G0tCQ0NFRTZvr06bz11lsA7Nu3j/bt22NjY4OHhwfh4eEoFApN2S5duhAaGsrEiRNxc3MjODi4zHqTkpLo0qULNjY2+Pn5sWPHDp3brFQqGTduHNOmTePjjz/Gw8MDLy8vevXqpSkTFxeHpaUlMTExtGvXDisrK3bv3o1arWbevHn4+vpia2tLq1atWL16tdb1jxw5QlBQEDY2NrRu3ZqYmBgsLS2Ji4sDyk470KVfwsLCmDZtGq6urri7uzNx4kRUKpXO9/2gtLQ0PvroI5ydnXF2dqZXr15cvHhRczw5OZl3330XT09P7OzsCAoKKtXPmzdvplWrVtja2uLi4kLnzp25fv06K1euZNasWZw5cwZLS0ssLS11Sg+KioqiVatW2NnZ0bBhQ4YNG0ZWVpbmeHZ2NoMHD8bd3R0bGxt8fHyIjo7WHH8wBaWy61Vk5cqV2Nvbs337dpo1a4aNjQ1du3bl0qVLVeojhULBtGnTaNKkCdbW1vj4+LBo0SJA+71Q8u87d+7w2WefafqsrPfLuXPn6NOnD05OTtjb29OhQwf+/vtvne7rRaTzCPilS5fYuHEjV69eJT8/X+uYRCIhKirqsTdOEITn2/Xsa/yWsIprt68ilUpxt2lIp5fewczI4mk3TajBAgICyM/P59ixYzRv3pz4+Hjq1KmjCTYB4uPj6dChA2lpafTs2ZPevXsTHR1NcnIyw4cPRyqVEhERoSm/Zs0a+vfvz/bt21Gr1aXqVKlU9OvXDwsLC2JiYsjLy2PcuHEUFBTo1Objx49z9epV9PX1CQoKIj09ncaNGzNlyhR8fHy0yk6ZMoUZM2bg6uqKqakpM2bMYNOmTcyePRt3d3cOHz7MiBEjsLS0JDg4mJycHHr37k3btm1ZvHgx6enphIeHV9geXftl7dq1/O9//yMmJoZTp07x8ccf4+vrS48ePQAICQlhzZo1FdZ14MABHB0duXfvHm+88Qb+/v5s3boVfX195s+fT7du3Th06BDGxsbk5OTQoUMHJk6ciJGRERs2bOD9999n3759eHp6kpGRwcCBA5k8eTJvvvkmubm5HDlyBIC3336bM2fOsHPnTrZs2QKAubl5pT8bqVRKZGQkLi4upKSkMGbMGMaMGcN3330HwIwZM/jnn39YvXo1devW5cqVK9y8efOhr1eZgoICZs2axYIFCzAyMmLcuHG89957xMfHI5FIKu0jgKFDh7J//34iIyPx8fHhypUrpKamlqqrJB3lpZdeYtKkSbz99tuYm5tz/fp1rXLXrl2jY8eOtGjRgo0bN2JhYUFCQgJKpVKne3oR6RSAb926lQ8//BCVSoWVlVWpR28SieSJNE4QhOfXtmPr+O3IKgBkUhkAlzMvEH92FwPajuCl+i2fZvOEGszU1BQfHx/i4uI0AfigQYP45ptvSE9Px9zcnKNHjzJ16lSWLVuGjY0Nc+bMQSqV4uXlxeeff05ISAgTJkzQ5O46OTlpBZ4P2rNnD2fPnuXEiRM4OjoCxfnGnTp10qnNJSOYERERRERE4OzszJIlS+jatSuHDh2iXr16mrJjx46lXbt2AOTm5rJgwQI2bNhAq1atAHBxcSEhIYGlS5cSHBzM2rVrUSqVzJ8/HyMjIxo2bEhYWBiDBg0qtz269ouXlxcTJkwAwN3dnR9//JHY2FhNAD5+/HiGDRtW4b2X3Nv69etRq9VER0dr4opvvvkGd3d3du7cSffu3fH29sbb21tz7qhRo9ixYwebNm1i9OjRXLt2jcLCQrp164aTkxMAjRo10pQ3MTFBT0+vSukTn3zyiebfzs7OTJs2jb59+7Jo0SKkUikpKSk0bdqUZs2aaco8yvUqU1RUxMyZM2nZsvh35OLFi/H19SU2NpY2bdpU2kcXL15k/fr1rFu3jtdeew0ofs+UpSQdRSKRYG5uXm6/LV26FGNjY3788UdNjOju7l7pvbzIdArAIyIiCAwMZMmSJTUul0kQhGfP8eSDbD7yC3pS7V9Bcpk+KrWKZX98zZRe86lrZv2UWijUdIGBgcTHxxMaGsq+ffsYMmQIe/fu1YyGy+VymjVrRlRUFM2bN9cKfAICAlAoFCQlJdGkSRMAfH19K6wvMTEROzs7TfAN4Ofnp1NABWjSNkaNGkW3bt0AmDdvHrGxsaxevZqRI0dqyr700kta9ebn59OjRw+twbDCwkJNAHru3DkaNmyIkZGRVtsqux9d+qVx48Za59na2pKZman53srKCisrK5364MSJE1y+fFkrzxjg3r17JCcnA8UfOGbNmsXOnTtJT0+nqKiI/Px8TTu8vb1p06YNrVq1om3btrRp04Zu3bo9UuwSGxvL119/zblz57hz5w5KpRKFQkFGRgb16tVj4MCB9O/fnxMnTtC2bVs6duxIYGDgQ1+vMlKpVBPsQ/GHw3r16nH27FnatGlTaR+dPHkSqVRK69atH7pPHnTy5EkCAgKeyNyI55VOAfilS5eYMWOGCL4FQXgsth1fh0wiK/e4UlXEpsMrGdgupBpbJTxPAgMDWbp0KWfPniUnJwdfX18CAwOJi4ujbt26+Pv7I5fLUavV5T7Fvf91ExOTCusrKy2lKkpGFr28vDSv6enp4erqytWrV7XK3t+WksD9l19+0Qr+S84vaVtVn1Tr2i8PTgCVSCRafVGVFBSVSoW3tzfff/99qTK1atUCYNKkSfz+++9Mnz4dNzc3jI2NGTJkiCY3XSaTsXHjRg4fPswff/zB8uXLmTp1Klu3btUaFdbVlStX6N27Nx988AHjx4+ndu3anDhxgoEDB2rq7NChA6dOnWLXrl3ExsbSu3dvunXrppUHXpXrParK+uhR36tleRLXfN7pFIB7eHhw69atJ90WQRBeAIVFCq7dvlphQCCT6pF8/Xw1tkp43gQEBFBQUMC8efNo2bIlMpmMwMBARo4ciZWVFR06dACgQYMGbNy4EZVKpRnt3b9/P/r6+tSvX1/n+ho0aEBaWhpXr17VjOAmJCToPCHR19cXAwMDzp8/T0BAAFAcXCcnJ9O+fftyz/Py8sLAwICUlBReffXVcsusWrWKvLw8zSh4QkJCpffzOPqlKikoPj4+rFu3jtq1a2NpaVlm2QMHDtCnTx/NU4L8/HySk5Nxc3PTlJFIJPj7++Pv78/YsWNp2bIlGzduxNvbG319/SrlJR87dgyFQkFkZCQyWfGgQVmTa+vUqUOfPn3o06cPHTp0YODAgXz99dcYGBg81PUqolKpOHr0KC1atAAgJSWFa9euaT68VdZHPj4+qFQq4uLiNCkoj8rHx4fVq1c/sRWCnkc6PRubNm0ac+fO1ZplKwiC8DCKVEWo1ZUHJUpVUTW0RnheleSBr1mzRvOo3d/fn9TUVI4cOaJJERg4cCDp6emEhYWRmJjIzp07mTp1KoMGDarS2s1t2rTB09OTIUOGcPLkSQ4dOsT48eM1o9CVMTc3Z8CAAcycOZPdu3dz/vx5xo4dS3Z2ttZKKA8yMzNj2LBhTJo0ieXLl5OUlMTJkyf5/vvv+eGHHwDo2bMnMpmMESNGcPbsWfbs2cPcuXOB8udwPa5+sbKywtXVtcKvkj7q2bMn1tbW9O3bl/j4eC5dusS+ffuYMGGCZiUUNzc3tmzZwvHjx/n7778ZPHiw1kTXw4cP89VXX3H06FFSUlLYtm0bqampmuDUycmJlJQUjh8/zs2bNyudJOvm5oZKpSI6OppLly6xbt06zWohJSIiItiyZQsXL14kMTGR3377DRcXl1LBt67Xq4yenh7h4eEcOnSIkydPMnToUBo0aECbNm106iM3Nze6d+/O8OHD2bRpE5cuXeKvv/5i1apVVWrH/QYOHEhubi4ffvghR48eJSkpiXXr1nHy5MmHvubzTqffDDNnzuTWrVv4+/vj5uZW6pOpRCJh27ZtT6J9giA8ZwzlRpgampGTf7fcMmq1GgvjWtXYKqEqlPqOlRd6Bupr3bo1CQkJmmDb0NAQPz8/jh07psmhtbOzY+3atUyePJnWrVtjYWFBjx49mDx5cpXqkkqlrFixguHDh/Paa6/h4ODAjBkzKpzo+KDp06ejr6/P0KFDycvLo2nTpmzevLnSvOAJEyZgZWVFVFQUYWFhmJmZ4e3tzYgRI4DiDyOrVq0iNDSUoKAgvLy8GDt2LP3798fQ0LDMaz6ufqkKY2Njtm3bxpQpU/jwww+5c+cOtra2tG7dWhN3REREMGzYMDp37oylpSVDhw7VCi7Nzc05ePAg3333HdnZ2djb2zN69Gh69+4NwJtvvslvv/1Gt27dyM7OZsGCBbz33nvltqlJkybMnDmTefPmERERgb+/P9OnT2fAgAGaMgYGBsyYMYPLly9jYGBA8+bNyw1mdbleZQwMDAgLC2PIkCFcvXoVPz8/VqxYofkwVVkfASxatIiIiAjGjRvHzZs3sbOz05ocWlV2dnZs27aNyZMn88YbbyCRSGjUqBHffPPNQ1/zeSfJysqqNHGnS5culeaPlSzpIzw7zp8/j4eHx9NuxlPxot57TbnvVfuW8ufprcj1yn5UqSgqYPBro/Fze0Xna9aUe69JsrOzsbAQS0I+j7Zu3Uq/fv24cOGC2M2wBlm5ciVjxowpc8lA4dlT0e9QnZchFARBeFzebvE+iWknSbt9FblMexJXoVJBU2d/mrm2ekqtE4Tnz88//4yLiwv29vacOXOG8PBwOnbsKIJvQXhKKg3AFQoFnp6eREdH07lz5+pokyAIzzl9PQPGvfUlP8cv5nTKUXLy7wBQy6QuLdyDeMu/n9hfQHiuzJkzR5N3/aCAgADWrVv3ROvPzMwkMjKSjIwMrK2tCQ4OZsqUKU+0zppgzZo1hISUvdqSo6MjBw4cqNb29OjRg/3795d5LDQ0FFtb22ptj/Dk6JSC4u7uznfffadZ+F+oGV7kR/Iv6r3XxPsuLFJwM+c6EokUKzNbnddNflBNvPdnnUhBeXxu377N7du3yzxmaGiInZ1dNbdIALh7967WuuX309PT06ylXl3S0tJK7TZeolatWprlGIWa4ZFTULp06cKmTZseewA+Z84cpk+fzqBBg/jqq6+A4slXM2fO5McffyQrK4tmzZoxe/ZsGjZsqDmvoKCAiRMnsn79evLz8wkKCmLOnDnY29s/1vYJgvDkyfX0sbV0qLygINRgInh6NpmZmWFmZva0m6EhPoi9OHQaanrttdf4/fff+eCDD1i9ejWxsbGlvqrq8OHD/Pjjj6V20Zo3bx4LFixg1qxZ/PHHH1hZWdG9e3fu3v1vxYTw8HB+++03li1bxrZt27h79y69e/eu0tqegiAIgiAIgvA06DQC/sEHHwDFj0Z+++03zeslO15JJJIqbdSTnZ3NoEGDmD9/Pl9++aXmdbVazcKFCxk5cqRmAfmFCxfi4eHBunXrGDBgANnZ2SxfvpwFCxbQtm1bABYvXoy3tzd79uypcMMCQRAEQRAEQXjadArA7w+6H4eSAPvVV1/VCsAvX75MRkaGVqqLkZERrVq14uDBgwwYMIDjx49TWFioVcbBwQEvLy8OHjwoAnBBEARBEAThmaZTAF6yicHj8OOPP5KUlMTixYtLHcvIyACKd866n5WVFdeuXQPg+vXryGSyUksnWVlZcf369XLrPX/+xdzW+kW9b3hx7/1FvW94Me9dTDwVBEGoeXTbI/dft2/f5tChQ9y+fZvatWvTvHnzKk0qOX/+PNOmTWP79u3o65e9AQeU3hq3JM2lIpWVeRH/SL3Iq0K8qPf+ot43vNj3LgiCINQsOq/3NWPGDBo2bMi7777L0KFD6d27Nw0bNmTGjBk6V3bo0CFu3rxJQEAAderUoU6dOuzbt4+lS5dSp04dateuDVBqJPvGjRuaUXFra2uUSiU3b94st4wgCIIgPGne3t7Mnz+/wjL29vasXLmymlr08C5fvoylpSXHjh172k0RnjG6vM9rYl1Pm04j4NHR0cyZM4f333+fXr16YWNjQ0ZGBmvWrGHu3LnUrVuXIUOGVHqdLl268NJLL2m99umnn+Lm5kZoaCju7u7Y2Njw559/8vLLLwOQn5/P/v37mTZtGgC+vr7I5XL+/PNPevbsCUBqaiqJiYm0aNGiSjcvCIIgVN3wg5lcvKOotvrczPX5tsWLMcCye/duZs6cyenTp5HL5fj6+rJ58+YnXq+DgwOJiYliZ8zngLe3N4MHD2bYsGFPuylV9ueff2JsbPy0m1EtdArA/+///o8hQ4YQGRmpec3Dw4PAwEBMTExYtmyZTgG4paUllpaWWq8ZGxtTq1YtGjVqBMDQoUOZM2cOHh4euLu7M3v2bExMTOjRowcAFhYWvP/++0yePBkrKytq1arFhAkTaNy4MW3atNHxtgVBEISHdfGOgn3XC552M54ahUJRYRrlw9qyZQuffvopkyZNIjo6GpVKxYkTJyo8p7CwELlc/sh1y2QybGxsHvk6z6KioiJkMpnYXfc+KpUKtVqNTCZ72k3RUrdu3afdhGqjUwrKlStXCA4OLvNYcHAwV65ceWwNGjFiBJ988gmjR4+mbdu2pKens2HDBq2F8r/44gu6du3KgAED6NixIyYmJqxateqZeyMJgiAI1W/Xrl04ODhQVFQEwMWLF7G0tCQ0NFRTZvr06bz11lsA7Nu3j/bt22NjY4OHhwfh4eEoFP+N8Hfp0oXQ0FAmTpyIm5tbuX8Pk5KS6NKlCzY2Nvj5+bFjxw6d26xUKhk3bhzTpk3j448/xsPDAy8vL3r16qUpExcXh6WlJTExMbRr1w4rKyt2796NWq1m3rx5+Pr6YmtrS6tWrVi9erXW9Y8cOUJQUBA2Nja0bt2amJgYLC0tiYuLA8pOQdGlX8LCwpg2bRqurq64u7szceJEVCqVzvf9oLS0ND766COcnZ1xdnamV69eXLx4UXM8MjKSgIAArXNWrlyptRFfSZmVK1fi6+uLtbU1ubm5pKSk8N577+Hg4ICDgwP9+vUjNTW11Hk//fQTTZo0wdbWlr59+5ZKeV2xYgUtWrTAxsaGZs2asWDBAp3v+c6dO4SGhuLl5YWNjQ3+/v5s2LBBc/zgwYN07tyZevXq0bBhQ0JDQ7lz547meGV93qVLF1JSUpg0aZLWoGdJH8XExBAQEICVlRWJiYkcPXqU7t274+rqiqOjIx07duTQoUM63UtZoqKiaNWqFXZ2djRs2JBhw4aRlZWlOZ6dnc3gwYM1GQ8+Pj5ER0drjj+YglLZ9WoynQLw2rVr888//5R57MyZM5rc7YexdetWzS6YUDwBMzw8nMTERDIyMti2bZtmdLyEoaEhX331FcnJyVy7do3Vq1fj4CB20hMEQRAgICCA/Px8TTAZHx9PnTp1NMFmyWuBgYGkpaXRs2dPmjZtyt69e5k/fz7r169n6tSpWtdcs2YNarWa7du3s2jRolJ1qlQq+vXrh0qlIiYmhqioKGbOnElBgW5PCo4fP87Vq1fR19cnKCgIT09PunfvXuYI+JQpU5g4cSKHDx/Gz8+PGTNmsHz5cmbPns2BAwcICQkhJCSEnTt3ApCTk0Pv3r3x9PRkz549TJs2jcmTJ1fYHl37Ze3atchkMmJiYvjqq69YuHChVkAZEhKCvb19hV8pKSkA3Lt3jzfeeAMDAwO2bt3Krl27sLGxoVu3bty7d0+nfixx+fJl1q1bxw8//EB8fDwGBga89957ZGZmsnnzZn777TfS09N57733UKvVmvOuXLnC6tWrWblyJb/++itJSUl8+umnmuM//vgj06dPZ/z48Rw8eJAZM2Ywb948li5dWmmb1Go1PXv2ZN++fSxYsICDBw8SERGheYLx999/8/bbb9OpUyfi4+NZvnw5p06d4rPPPtO5z1esWIG9vT1jxowhMTGRxMREzXn5+fnMnj2br7/+moMHD+Lo6KjZyHD79u3s3r0bb29vevbsWepDh66kUimRkZHs37+fJUuWkJCQwJgxYzTHZ8yYwT///MPq1as5dOgQUVFRFe7+Wdn1ajKdUlC6du3KF198Qe3atXnnnXeQy+UUFRXx66+/EhkZSZ8+fZ50OwVBEARBJ6ampvj4+BAXF0fz5s2Jj49n0KBBfPPNN6Snp2Nubs7Ro0eZOnUqy5Ytw8bGhjlz5iCVSvHy8uLzzz8nJCSECRMmaPJRnZyciIiIKLfOPXv2cPbsWU6cOIGjoyNQPKLaqVMnndp86dIlACIiIoiIiMDZ2ZklS5bQtWtXDh06RL169TRlx44dq9kLIzc3lwULFrBhwwZatWoFgIuLCwkJCSxdupTg4GDWrl2LUqlk/vz5GBkZ0bBhQ8LCwhg0aFC57dG1X7y8vJgwYQIA7u7u/Pjjj8TGxmrSRsePH19pLnLJva1fvx61Wk10dLQmXeSbb77B3d2dnTt30r17d536EorThBYvXoy1tTVQnFt8+vRpjh07hrOzMwBLly7lpZdeIjY2VpPCmpeXx6JFizQ/w6+//ppOnTpx8eJF3Nzc+Oqrr5g6dapms0AXFxeSk5NZtmwZgwcPrrBNe/bs4dChQxw4cAAvLy/N+SW+/fZbunfvrtVfc+bMISgoiMzMTM1CExX1ea1atZBKpZiZmZVKKVIqlXz55Zf4+vpqXnv11Ve1ynz55Zds3ryZ33//nd69e1fazw/65JNPNP92dnZm2rRp9O3bl0WLFiGVSklJSaFp06Y0a9ZMU+ZRrleT6RSAT548mdOnTzN06FA+++wzatWqxe3bt1EqlbRs2bLST9KCIAiCUJ0CAwOJj48nNDSUffv2MWTIEPbu3asZDZfL5TRr1oyoqCiaN2+u9cc8ICAAhUJBUlISTZo0AdAKWsqSmJiInZ2dJnAD8PPz0zlIKEkhGDVqlCa4mzdvHrGxsaxevZqRI0dqyt6/mEFiYiL5+fn06NFDK8e5sLAQJycnAM6dO0fDhg0xMjLSaltl96NLvzRu3FjrPFtbWzIzMzXfW1lZ6bxC2YkTJ7h8+XKpJ9r37t0jOTlZp2uUsLOz0wTfJfdTr149rYDPxcWFevXqcfbsWU0AXt7PMDExEQsLC65evUpISAhhYWGaMkVFRVqj6OU5efIktra2muD7QSdOnCApKYmNGzdqXiu5bnJysqYfK+vz8ujp6eHt7a31WmZmJhEREcTFxZGZmYlSqSQvL4+rV69Wer2yxMbG8vXXX3Pu3Dnu3LmDUqlEoVCQkZFBvXr1GDhwIP379+fEiRO0bduWjh07VrjXTGXXq8l0CsDNzMzYtm0bO3fu5K+//iIrK4tatWrxyiuv0KFDBzGxQRAEQXimBAYGsnTpUs6ePUtOTg6+vr4EBgYSFxdH3bp18ff3Ry6XV7iHxP2vm5iYVFifLgFYRUpGK+8PzvT09HB1dS0VDN3flpLA/ZdfftEKHEvOL2lbVf9O69ovD04AlUgkWn0REhLCmjVrKqzrwIEDODo6olKp8Pb25vvvvy9VpmTPEalUWqqvS3L97/fgz0vX+6lISV/PnTv3oVZdq+w9olKp+OCDD7RGfUvcH2xW1uflMTAwKDVXbujQoVy/fp0vvvgCJycnDAwMePPNN7Vy/XV15coVevfuzQcffMD48eOpXbs2J06cYODAgZrrdejQgVOnTrFr1y5iY2Pp3bs33bp108oDr8r1ajKdN+KRSCR07NiRjh07Psn2CIIgCMIjCwgIoKCggHnz5tGyZUtkMhmBgYGMHDkSKysrOnToAECDBg3YuHEjKpVKM9q7f/9+9PX1qV+/vs71NWjQgLS0NK5evaoZwU1ISNB5cp6vry8GBgacP39eM8lQpVKRnJxM+/btyz3Py8sLAwMDUlJSSqUT3F9m1apV5OXlaUbBExISKr2fx9EvVUlB8fHxYd26ddSuXbvUimkl6taty/Xr17UC6lOnTlXajpKfz+XLlzWj4JcuXeLatWs0aNBAU668n6GXlxfW1tbY2dmRnJzMu+++W2mdD/Lx8SE9PZ3ExMQyR8F9fHw4c+YMrq6uVb72/fT19VEqlTqVPXDgADNnztRMLL5+/bpmV/KqOnbsGAqFgsjISE2gX9ZE5Dp16tCnTx/69OlDhw4dGDhwIF9//TUGBgYPdb2aqkoJNHv37mXOnDmMGjWKOXPmaE1oEQRBEIRnRUke+Jo1a2jdujUA/v7+pKamcuTIEc1j74EDB5Kenk5YWBiJiYns3LmTqVOnMmjQoCqtR9ymTRs8PT0ZMmQIJ0+e5NChQ4wfP14zCl0Zc3NzBgwYwMyZM9m9ezfnz59n7NixZGdna62E8iAzMzOGDRvGpEmTWL58OUlJSZw8eZLvv/+eH374AYCePXsik8kYMWIEZ8+eZc+ePcydOxcof/T3cfWLlZUVrq6uFX6V9FHPnj2xtramb9++xMfHc+nSJfbt28eECRM0K6EEBgZy+/Zt5syZQ3JyMj/99BObNm2qtB1t2rShSZMmDB48mOPHj3Ps2DEGDRqEj48PQUFBmnJGRkYMHTpU8zMMDQ0lODgYNzc3AMaNG8e3337LggULOH/+PP/88w+//PKLpj8r8uqrr+Ln58cHH3zA7t27uXTpEn/++SdbtmwBileBO3r0KCEhIZp0lB07dmilH+nCycmJ/fv3k5aWVulkSjc3N9asWcPZs2c5evQoH3300UMvsenm5oZKpSI6OppLly6xbt26UhOWIyIi2LJlCxcvXiQxMZHffvsNFxeXUsG3rteryXQKwG/fvs2bb75Jt27d+OKLL9i4cSNffPEF3bp148033+T27dtPup2CIAiCUCWtW7dGqVRqgm1DQ0P8/PwwMDDQTAKzs7Nj7dq1nDx5ktatW/PZZ5/xzjvvVHluk1QqZcWKFahUKl577TWGDBnCqFGjygwsyjN9+nR69OjB0KFDadeuHf/88w+bN2+uNNd1woQJjBs3jqioKFq2bEn37t3ZvHmzZqTX1NSUVatWcebMGYKCgpg0aRJjx47V9ElZHle/VIWxsTHbtm3DxcWFDz/8EH9/f4YOHUpWVpZmRNzLy4u5c+fyww8/8Morr7Bnzx6t5SXLI5FIWLlyJXXq1KFr16688cYbWFtbs3LlSq0PIU5OTrzzzju8++67vPnmmzg7O7NgwQLN8Q8++ICoqChWr15NYGAgnTp14scff6x0MiEUv0fWrl1LixYtGDx4MC1atGDcuHEUFhYC0KRJE7Zt28aVK1fo2rUrgYGBTJs2rcq7fI8fP56rV6/y0ksvaT44lCcqKorc3FzatGnDRx99RL9+/TRzB6qqSZMmzJw5k+joaFq2bMlPP/3E9OnTtcoYGBgwY8YMAgMDCQ4OJicnh1WrVj309WoySVZWVqWJQ4MHD2b79u3MnTuXt956C7lcTmFhIRs3bmTUqFF07NiR7777rjraK1TB+fPn8fDweNrNeCpe1Ht/Ue8bXux7f1Kys7OxsLAo9brYCbPm27p1K/369ePChQti98t/RUZGsnnzZvbv3/+0myI8J8r7HQo65oDv2LGDyZMna7Z+h+JJAL169eL27dsVLs0kCIIgPF9EMFzz/Pzzz7i4uGBvb8+ZM2cIDw+nY8eOIvgWhKdEpwBcKpWW+xjDw8Ojxq/FKAiCIAhP0pw5c8rNEw4ICGDdunVPtP7MzEwiIyPJyMjA2tqa4OBgpkyZ8kTrfNGsWbOGkJCQMo85Ojpy4MCBam7R4/W831910ykF5ZNPPkEqlRIVFVXqWMkOUffnSAnPhhf5kfyLeu817b7VShVKhQKpnh5Suc6LMpWppt17TVDR41Oham7fvl3ufClDQ8MKdwMUaoa7d++Wux63np7eQ+dWPyue9/t7Eh4qBSU2Nlbz744dOzJ+/Hh69epFt27dsLa25vr16/z666+cOXOGmTNnPv5WC4Lw3MrLvEHarj3kJF9BVVSIRCLBwNoK28AWWDZuKPYWEJ47tWrV0qxlLTyfzMzMMDMze9rNeGKe9/urbuUG4G+99ZZmcfeS/5+amsquXbtKlf3ggw+4devWE22oIAjPh9t/n+HSut9Qq1RIpFJAgloNeenXSVq1kTovXcT57a4iCBcEQRCeW+UG4L/99lt1tkMQhBeAIiubS+uKf7dIHpg7IpFIkMjl3DpxCkOrOtgGtXoaTRQEQRCEJ67cALxk3VRBEITHJfX3PaiVSiQPbId8P4lMjxtHjmPTOkCMgguCIAjPJbF8iSAI1SYn+XKFwXeJ/Ju3uJeWXg0tEgRBEITqJwJwQRCqjbJAx81bVCoUWdlPtjGCIAiC8JSIAFwQXiDXb9xi2+6/WLflD9b+tpuN22M58c95lEpltdQvlct1KyiRoGdq8mQbIwiPyNvbm/nz51dYxt7enpUrV1ZTix7e5cuXsbS05NixY0+7KVW2cuVK7O3tKywzf/58vL29KywzevRounTpovl+6NCh9O7d+7G0USimy8/qUd27d48PPvgAJycnLC0tuXz5crllLS0t2bRp0xNtT3kebeFdQRBqhHMXr3D4xD/cvH0HqVSK9L7c6iup6Rw69g/1HevxaquXkes9uV8Lxg523Dl3sdQEzAfpW1pg6vBkf0kLD2/q2uFcyrxYbfW5WLnxec9vq62+p2n37t3MnDmT06dPI5fL8fX1ZfPmzU+8XgcHBxITE2vkzphvv/02r7/++tNuxlMXGRnJ5s2b2b9//9NuClD8AXXw4MEMGzasWutdsWIFf/31F9u3b6du3brUrVu33LKJiYlYWlpWX+PuIwJwQXjO/XXkFEdPnkUqlaJXRv61XE+PwsIi/rlwiWuZN+nZtR2GBgZPpC127YPITrxARVMrVcoi6no3QiITD+ieVZcyL5KQtO9pN+OpUSgU6OvrP/brbtmyhU8//ZRJkyYRHR2NSqXixIkTFZ5TWFiIXNcnSxWQyWTY2Ng88nWeBiMjI4yMjJ52M4R/Pan/PnSVlJSEp6cnjRs3LrdMSRuf5nte/IUThOfYsVOJJJwoDr4royeVkZ2dw/qteygqejIpKca2Nti/3ga1SolaXXoTXlVREWYuTji83u6J1C+8GHbt2oWDgwNFRUUAXLx4EUtLS0JDQzVlpk+fzltvvQXAvn37aN++PTY2Nnh4eBAeHo5C8d98hS5duhAaGsrEiRNxc3MjODi4zHqTkpLo0qULNjY2+Pn5sWPHDp3brFQqGTduHNOmTePjjz/Gw8MDLy8vevXqpSkTFxeHpaUlMTExtGvXDisrK3bv3o1arWbevHn4+vpia2tLq1atWL16tdb1jxw5QlBQEDY2NrRu3ZqYmBgsLS2Ji4sDyk5B0aVfwsLCmDZtGq6urri7uzNx4kRUKpXO932/kjasX7+ezp07Y2trS+vWrTl9+jT//PMPr7/+OnZ2dnTs2JFLly5pzisrrWHevHl4enpib2/P//73P3Jyckr198SJE3F2dsbZ2Zlx48ZVmoqnSz9XJC0tjY8++khTZ69evbh48b8nScnJybz77rt4enpiZ2dHUFBQqffQ5s2badWqFba2tri4uNC5c2euX7/OypUrmTVrFmfOnMHS0hJLS0udUp8sLS354Ycf6N+/P3Z2dvj4+JS6p7///ptu3bpp6hw6dCjZ2f/N0SlJ1fnmm29o1KgRjRo1okuXLqSkpDBp0iRNe+4XGxtLQEAAdnZ2dO3aVevnWZHK+qhLly4sWrSIv/76C0tLS01Kkbe3N5GRkXz66ac4OTkxaNAgzf3fn4Jy7do1Bg0aRP369alXrx6BgYHs3btXp7qrqsK/ynl5eURHR9O1a1c8PDywsrLCysoKDw8PunbtSnR0NPfu3XvoygVBeHIUikIOHPsbWRVGkqVSKTduZXHk5Jkn1i7bwADc3u2Bsa01arUKZUEBqqIi9ExNqPfqK3h82FeMfguPJCAggPz8fE0wGR8fT506dTTBZslrgYGBpKWl0bNnT5o2bcrevXuZP38+69evZ+rUqVrXXLNmDWq1mu3bt7No0aJSdapUKvr164dKpSImJoaoqChmzpxJQUGBTm0+fvw4V69eRV9fn6CgIDw9PenevXuZI+BTpkxh4sSJHD58GD8/P2bMmMHy5cuZPXs2Bw4cICQkhJCQEHbu3AlATk4OvXv3xtPTkz179jBt2jQmT55cYXt07Ze1a9cik8mIiYnhq6++YuHChWzYsEFzPCQkBHt7+wq/UlJStK4ZGRnJyJEj2bt3LxYWFgwaNIgxY8YwceJEdu/eTX5+PmPHji237Rs3bmTGjBmEh4cTGxuLh4cH0dHRWmWioqL46aef+Oabb9i1axdKpZK1a9dW2CeV9XNF7t27xxtvvIGBgQFbt25l165d2NjY0K1bN00clZOTQ4cOHdi4cSPx8fG8+eabvP/++5w7dw6AjIwMBg4cyLvvvsvBgwfZtm0bffr0AYrTcD777DM8PDxITEwkMTGRt99+u9J2AXz55Zd07tyZ+Ph4zXWuXLmiaXePHj0wMTFh9+7drFixgkOHDvHZZ59pXWPfvn38/fffrFu3jk2bNrFixQrs7e0ZM2aMpj0lCgoKmDt3LlFRUcTExJCdna314bgilfXRihUreO+99/D39ycxMZEVK1Zozo2Ojtb8N1DW+z83N5cuXbpw5coVTRrLmDFjdK67qspNQbl69SpvvvkmV65coUWLFnTr1k3zCSYrK4uzZ8/y+eefs3TpUjZt2oSjo+NDNUAQhCfj6KlEFIrCKud0y/X0SLxwmRYvNX5i63BbNPDAooEHhXdzUNy5i8xAH4M6tcW638JjYWpqio+PD3FxcTRv3pz4+HgGDRrEN998Q3p6Oubm5hw9epSpU6eybNkybGxsmDNnDlKpFC8vLz7//HNCQkKYMGECxsbGADg5OREREVFunXv27OHs2bOcOHFC8/cwMjKSTp066dTmkhHAiIgIIiIicHZ2ZsmSJXTt2pVDhw5Rr149TdmxY8fSrl3xU6Lc3FwWLFjAhg0baNWqePMqFxcXEhISWLp0KcHBwaxduxalUsn8+fMxMjKiYcOGhIWFaUYBy6Jrv3h5eTFhwgQA3N3d+fHHH4mNjaVHjx4AjB8/vtIc4PvvDeDTTz/V5HR/9tln9OnTh59++omgoCAATUBenoULF/Luu+8yYMAAAEaNGkVcXBxJSUlaZYYPH0737t0BmDVrFn/88Ue519Slnyuyfv161Go10dHRmt9z33zzDe7u7uzcuZPu3bvj7e2tNVF01KhR7Nixg02bNjF69GiuXbtGYWEh3bp1w8nJCYBGjRppypuYmKCnp1fltIrevXtrJptOmDCBRYsWsX//fpycnFi7di25ubksXrxYsw39N998wxtvvEFSUhKurq4AGBgYEBUVhcF96YtSqRQzM7NS7SkqKmL27Nl4eHgAMGzYMD799FNUKlWlT2sr66NatWphbGyMXC4vVW+rVq0YMWJEuddet24d169fZ9euXZq5EPXr19e57qoq9y9zeHg4hoaGJCQk4OzsXGaZy5cv89577zF+/HiWL19e5coFQXgy1Go1iRcvP/SEyqy7OaSkXcfJ/snmx8nNTJGbmT7ROoQXU2BgIPHx8YSGhrJv3z6GDBnC3r17NaPhcrmcZs2aERUVRfPmzbX+8AcEBKBQKEhKSqJJkyYA+Pr6VlhfYmIidnZ2WoNRfn5+OqV/AZq0jVGjRtGtWzegOI0iNjaW1atXM3LkSE3Zl156Save/Px8evToofUBtrCwUBOknTt3joYNG2rlSfv5+VV6P7r0y4N5tra2tmRmZmq+L3lyXhX3X9Pa2rrM13Jzc7l3757mg8CDbX///fe1XmvevLkmAM/OziY9PZ3mzZtrjkulUpo1a0ZqamqZbdKlnyty4sQJLl++jIODg9br9+7dIzk5GSgO8mfNmsXOnTtJT0+nqKiI/Px8zb17e3vTpk0bWrVqRdu2bWnTpg3dunWrcJKhLu7vWz09PerUqaP5GSYmJtK4cWNN8A3QokULpFIpZ8+e1QTgDRs21Aq+K2JgYKAJvqH4PVNYWEh2dja1atWq8NzK+qgi9/93U5aTJ0/SuHHjciciP0rdZSn3r3NsbCyLFy8uN/gGcHZ2Zvz48QwZMuShKhcE4clQFBaScy8PSYXTHcsnk8i4cCnliQfggvCkBAYGsnTpUs6ePUtOTg6+vr4EBgYSFxdH3bp18ff3Ry6Xo1ary33ycv/rJiYVL4tZ1pyGqigZrfPy8tK8pqenh6urK1evXtUqe39bSgL3X375pdSTaL1/P4BXdI/l0bVfHpwAKpFItPoiJCSENWvWVFjXgQMHtNp+/zVL6tK7bzCh5LWHzTV/GLr0c2Xne3t78/3335c6VhJ0Tpo0id9//53p06fj5uaGsbExQ4YM0eTdy2QyNm7cyOHDh/njjz9Yvnw5U6dOZevWrZUusViRin6GFb2vq/Lfx/0e7K+q/Dwr66OKPOp/w49Sd1nEKijC80NdBGoFqFVI1QWgVsMLmtJQWFiEWqVGIn24+5dIoKCgsNzjarWav1OOcSRpH4qiAkwNzGjn3RVbS7F0oPBsCAgIoKCggHnz5tGyZUtkMhmBgYGMHDkSKysrOnToAECDBg3YuHGj1uPv/fv3o6+vr/X4uTINGjQgLS2Nq1evakY5ExISdA4SfX19MTAw4Pz58wQEBADFAUlycjLt27cv9zwvLy8MDAxISUnh1VdfLbfMqlWryMvL04yCJyQkVHo/j6NfHiYF5VF5eXlx5MgRrVHwI0eOaP5tYWGBra0tR44c0fSZWq3m6NGj5aZv6NLPFfHx8WHdunXUrl273GXvDhw4QJ8+fTRPQPLz80lOTsbNzU1TRiKR4O/vj7+/P2PHjqVly5Zs3LgRb29v9PX1H/ueDg0aNGDlypXcvXtXMwp+8OBBVCqV1ofFsjyJ9ujSRw/Lx8eHNWvWcPPmzTJHwR933eUG4G3atGH69Ok0bNgQFxeXMstcvnyZiIgI2rZt+1CVC8IjUSnQyzmALP8skqJbSJTZSNRFgBpXZR5GqXVQ6dVGrVeXIrNAVAYuT7vF1UZPT/bI+dRyeelfD2q1ml0nN7H3zE4y76SjJ9VDIpGiVCnZezYGh9ouvNPyAxra+zxS3YLwqErywNesWcOUKVMA8Pf3JzU1lcuXL2smEw4cOJCFCxcSFhbGkCFDuHTpElOnTmXQoEFlpjeUp02bNnh6ejJkyBC++OIL8vPzGT9+vE6jowDm5uYMGDCAmTNnYm9vj5OTE9999x3Z2dlaK6E8yMzMjGHDhjFp0iTUajWvvPIKOTk5HDlyBKlUyocffkjPnj2ZMWMGI0aMIDQ0lPT0dObOnQtQ7u+Jx9UvD5OC8qiGDBnCkCFDePnllwkMDGTTpk0kJCRoBb5Dhgxh7ty5uLu706hRI5YuXUpGRka5Abgu/VyRnj17Mn/+fPr27cv48eNxcHAgNTWVbdu28dFHH+Hm5oabmxtbtmyhc+fOyOVyZs2apTWJ9/Dhw+zZs4f27dtjZWXFyZMnSU1N1QTCTk5OpKSkcPz4cRwdHTE1NdU5LaSidkdGRjJkyBDGjx9PVlYWISEhvPHGG5r0k/I4OTmxf/9+evXqhYGBwWNZY76yPnoUPXr04Ouvv+a9995j8uTJ2NnZ8c8//2BqakpQUNBjr7vc3wyRkZG88cYb+Pn50bx5cxo2bIilpSUSiYTbt29z5swZjhw5gpOTE1988cVDN0AQqkpSeAt51hZk+eeQqO6CRP+/kW6JBJAU/0+dj6wwDRRX0cs9ikrfmiKTlhSZtQZJ6fWwnycG+voYGuhToCh/FLsihUVK7Gy08wrVajU/xUZx4PweZFI95LL/1nmVSYv789rtFBbsiKBv4BBaeYmlBIWnq3Xr1iQkJBAYGAiAoaEhfn5+HDt2jGbNmgFgZ2fH2rVrmTx5Mq1bt8bCwoIePXpUukrIg6RSKStWrGD48OG89tprODg4MGPGjAonOj5o+vTp6OvrM3ToUPLy8mjatCmbN2+udIR4woQJWFlZERUVRVhYGGZmZnh7e2smnJmamrJq1SpCQ0MJCgrCy8uLsWPH0r9/fwwNDcu85uPql6fh7bff5tKlS0yfPp28vDw6derEJ598ws8//6wp89lnn5GRkaEZne/duzc9e/bUWq3jQZX1c0WMjY3Ztm0bU6ZM4cMPP+TOnTuaZRZLPhhEREQwbNgwOnfujKWlJUOHDtUK8MzNzTl48KDmg5m9vT2jR4/WTKB88803+e233+jWrRvZ2dksWLCA995772G6UKvd69evJzw8nPbt22NgYEDnzp2ZOXNmpeeOHz+ekSNH8tJLL1FQUEBWVtYjtQUq76NHYWJiwtatW5k4cSJ9+vShsLAQd3d3TYz7uOuWZGVllZv0kpeXxw8//MCOHTs4e/Yst2/fBorXTWzQoAGdOnWif//+Vfo0LFSf8+fPa010qPHUavSyd6F/9w9QF1YYROfm5pad76VSoJbbkF+3P2p9uyfY2Kfj/p/57rjD/HPuUpWWISyhry9nQO+uWuduO7aO3478gkxa+YieGjVj3ozE2erRHwvq6rl7vz8DsrOzsbCwKPW62Amz5tu6dSv9+vXjwoULNXL3S0GoCcr7HQqV5IAbGRkxdOhQhg4d+kQaJgg6U+ZgeH0x0sKrIJE//Ai2VB9J0S2M0r9BYd6WIkvdlgh7VuVlXCdt914UWcWbIuSoleRZ1MLIui4tXm7M2QuXq3xNpVJFfSc7reBbpVKx958dOgXfAKjVbDy0nJFdplS5fuHZJ4Lhmufnn3/GxcUFe3t7zpw5Q3h4OB07dhTBtyA8JWISpvDMkxRlY5jxDRLlneLg+5EvWJyuon9nF1LlXRS1e9a4yZoqpZKkX9ZzJ/ECSKVI/p0klX/3Lv9EfYdlA0/q9+6Oh6sjZy9cLnML+rKo1WoMDfVp5ac9oz4haR83czIx0Cv7cfWDJBIpFzMSycm/g6mhedVuThCeQ3PmzNHkXT8oICCAdevWPdH6MzMziYyMJCMjA2tra4KDgzW58cKje9o/37KsWbOGkJCQMo85Ojpy4MCBam5R5Vq2bFlqY6YSX3/9dYXzIWqaClNQALZs2cK2bdtITEzUpKDUqlULLy8vOnfuTNeuXauloULVPReP5FX3MLo2B4kyGyS6p1KUm4JS6vpFFJq/SmGtbo/QyOp3YcUass9eQPrARMmS+1YVFWLZwIv6777D5pg4rqSmVxqEq9Vq9PRkvN25LVZ1LAFQqpQkZSTyw55vuZx5EWMDE/T1dJvUk6fIZejr4fi5vfJQ91hVz8X7/RlT0eNToWpu376t+Rv6IENDQ+zsnr+UuBfJs/jzvXv3rtaa7PfT09PTaf3y6nblyhWKiorKPGZlZaW1HnlN8FApKFlZWfTp04eDBw/i4OBAw4YNNUutZGVlER8fzy+//ELz5s1Zs2ZNucvqCMKjMLjxExJl1pObNCnVQ353L0rDhqiMPJ9MHY/ZvbR0shNLB9/3k+rJyT57joIbN+kW3JrY/UdJvHiF/AJFqc15VCo1arWKurUt6fJaK8zNTMnJv8PmI79w4tIhbuRc5+qNZO4pcpFKZBjpG1HXzBZLk9oVtlMqkZGTf+ex3LMg1HS1atWqdJMRoeZ6Fn++ZmZmNS5gfRY/FDwp5f4FnzBhAlevXmXr1q2abVcftH//fgYPHszEiROJiop6Yo0UXkyynCPI8s+B5ElnSkkxuPULefXCQapfefGn7NqfcZqUkwpJpaT9vge3vj1o06oZrzT34fg/5zh3MYWCAgUqtQo9PT2salvSslkT6tQq/pR+9eZlvtn6OTn5d9CTyTGSG6OvZ0h+YT4SiYR8RR5XbiaRfe8Wzlbu5VavUisxN7J8THctCIIgCM+PciOb7du3M2fOnHKDbyjOa5o6dSphYWEiABceL3Uh+lmbqiH4BiQSJMps9G//iqLOs59fVnA7S6cAXCKVUnA7S/O9XK5Hc59GNPdpVO45t3JuMHfLRAoKC9CT/ZdvX8ukDtn3bhevGSyRIEXCnbwsrty4iFPdslc6MTO0pKGDWA9cEARBEB5U7l9xhUKhU1qJhYUFhYUPt9awIJRH7+5+JMqc6qtQoocs71TxbprPukfc8roiv8Qv1ox038/MyKJU7rdEIiX73m3yFPdKXUelVuFh1wgjfbFEqSAIgiA8qNwAvHnz5syePZu7d++We/Ldu3eZO3cu/v7+T6RxwotLL/cASB/DiidVIFHeRS/n2ZsV/iB9SwvUqsqDcLVKhYGl7hPo7hXkci79H6RlTHaVSCRYmdugLrWttoSM7NRS5fWkct7x769z3YIgCILwIqlwJ8yuXbvi7e3N66+/TqNGjUrthBkTE4NMJuO3336rzjYLzzlJ4Q2kinTQdc3px0Wqj17uEYrMAqu33iqybdua7MQLSCr7gKJWUa9dkM7Xjf1nB/fyczGQl73KSR0zawqLFFy/m44ECRJJ8VduQQ5q1EiQoFarkUllDHotDNta9hU3T60mJe06R0+dJb9AgZ5MRiPP+jRwd0aqS467IAiCINRQ5UY4DRo0ID4+nnnz5rFjxw7WrVuH+t9H3xKJBCcnJ/r06cPw4cMr3SZXEKpCmn8OUPI0lqmXFN0sTvF4htcFN3Www9y9PncuXkKqV3YfqYqKsPBwxbiejc7XTbt1GX29iieh2tZywFDfmMw76cWpJxJApeZefi6mRma42TSgZ8BHONRxrvA6SqWSX3fu5WradfRkMiSS4uA9NT2TIyfO0KNrO4yNdFtzXBAEQRBqmgojHFtbWyIjI4mMjCQ/P5+srCzUajWWlpYYGRlVVxuFF4xe/nmQPJ3VSCTKe0iUWaj1nq3lpB7k9l4vLq5Yw52kZCQyPU3OtlqtRlVUhLl7fVz79ngidVua1MbSpDb5ijyy72WhVCno3qIfbRt3xsxIt5SXmNhDpF67rrUkokQiQa6nx527uWzcHkvf7q+XykUXng3/zP+O3NRr1VafiX09Gg0bXG316crb25vBgwczbNiwcsvY29vz5Zdf8t5771Vjy6ru8uXL+Pj48Oeff/LSSy897eZUuy5dutCoUSO++uqrF7J+ofrpPMRoaGiIra3tk2yLIBRTZj3FEWgF0oIUlM94AC6V6+ExoC85Kamk/xmHIqt4ve1CSzO83umGqUPVN32wr+PCgfN7y01BeZChvhGG+kboyeR0fqknejLdfp3kFxRwKeVaueWlUik3bmVz9VomjnbWOrdfqD65qdfIOn3maTfjubR7925mzpzJ6dOnkcvl+Pr6snnz5ider4ODA4mJic/91vRxcXG88cYbXLx48Zm61xUrVqBXzhNN4flU6U/75MmT5e6E2alTJ3x8xDJjwuMleaorkUhBVXpVj2eVqaM97h/00Xx//vz5hwq+AYIaBrP92HqUKt37X6VW4W7bQOfgGyDxwhUUikLkFWwkpCeTcvKf8yIAF55JCoUCff3H/5Ruy5YtfPrpp0yaNIno6GhUKhUnTpyo8JzCwkLk8kefsC6TybCx0T1lTXi8nrVNfIQnr9yZTvn5+QwcOJA2bdrw9ddfc+bMGQoKCsjPz+fMmTN88803tG3blo8++oj8/PzqbLMgPFkvaNaDsYEJnvUaoSq10kn5lKoi3mj2bpXqyS9QIJFW3MkSiQSlUvd2CML9du3ahYODg2ZL64sXL2JpaUloaKimzPTp03nrrbcA2LdvH+3bt8fGxgYPDw/Cw8NRKBSasl26dCE0NJSJEyfi5uZGcHBwmfUmJSXRpUsXbGxs8PPzY8eOHTq3WalUMm7cOKZNm8bHH3+Mh4cHXl5e9Or1394EcXFxWFpaEhMTQ7t27bCysmL37t2o1WrmzZuHr68vtra2tGrVitWrV2td/8iRIwQFBWFjY0Pr1q2JiYnB0tKSuLg4oDgFxdLSkmPHjmnO0aVfwsLCmDZtGq6urri7uzNx4sQq/Q550KxZs2jSpAnW1tZ4enryv//9T3OsoKCAcePG4eHhgY2NDa+99hr79+8v1T83b97UvHb/fV2+fJk33ngDADc3NywtLRk6dKimrEqleuh7Wb16NW3btsXBwQF3d3f69+9PWlqa5nhhYSFjxoyhQYMGWFtb07hxY6ZMmaI53qVLF0aPHq3z9YSar9wAfPr06ezevZvo6GiuXLnCgQMH2L59Ozt27ODAgQNcvnyZhQsX8ueffzJ9+nSdKluyZAmtWrXC0dERR0dHOnTowM6dOzXH1Wo1kZGRNGjQAFtbW7p06cKZM9qPOQsKChg9ejSurq7Y2dnRp08fUlNLL4Mm1Fzq6th8p1wqkJo+xfqfrr6BQzDUN9ZMuK5IkbIQP9dXcLYqeyOe8tSzqVvp9YuKlNSprfsSioJwv4CAAPLz8zXBZHx8PHXq1NEEmyWvBQYGkpaWRs+ePWnatCl79+5l/vz5rF+/nqlTp2pdc82aNajVarZv386iRYtK1alSqejXrx8qlYqYmBiioqKYOXMmBQUFOrX5+PHjXL16FX19fYKCgvD09KR79+5ljoBPmTKFiRMncvjwYfz8/JgxYwbLly9n9uzZHDhwgJCQEEJCQjR/X3Nycujduzeenp7s2bOHadOmMXny5Arbo2u/rF27FplMRkxMDF999RULFy5kw4YNmuMhISHY29tX+JWSkgLApk2biIqKYs6cOSQkJLB69WqaNWumudbkyZPZuHEjUVFR7N27l0aNGtGjRw/S09N16mMHBwd++uknAA4cOEBiYiIzZ87U+V4qolAoCA8PJz4+ntWrV3Pz5k0GDhyoOb5o0SK2bt3KsmXLSEhI4Pvvv8fdvfydhCu7nlDzlRvprFu3junTp9OnT58yjxsYGNC7d28KCgqIiIggIiKi0srs7OyYOnUqbm5uqFQqfvnlF9577z327NlDkyZNmDdvHgsWLGDBggV4eHjw5Zdf0r17dw4fPoyZmRkA4eHhbNu2jWXLllGrVi0mTJhA7969iY2NRSaTPWQ3CM8StawWKK4+nTxwiT4qfYfqr/cZUcu0DmFdp/P1ts+5m5eNXFb60bZaraZQqeCl+i0Z2C60jKtUzNHOGnMzE+7dK73hTwm5XI9mTb2qfG1BADA1NcXHx4e4uDiaN29OfHw8gwYN4ptvviE9PR1zc3OOHj3K1KlTWbZsGTY2NsyZMwepVIqXlxeff/45ISEhTJgwAWPj4s2knJycKvw7t2fPHs6ePcuJEydwdHQEipfz7dSpk05tvnTpEoDm76mzszNLliyha9euHDp0SGu1sbFjx9KuXTsAcnNzWbBgARs2bNDsXO3i4kJCQgJLly4lODiYtWvXolQqmT9/PkZGRjRs2JCwsDAGDRpUbnt07RcvLy8mTJgAgLu7Oz/++COxsbH06FE8CXz8+PEVTlIFNPeWkpKCjY0N7dq1Qy6X4+joqJkQmpuby/fff8+3336reQLx9ddfs3fvXpYuXcrEiRMr7WOZTKZJ9bCysiqVA17ZvVTk/fff1/zbxcVFs0dKamqq5kOGm5sbrVq1QiKR4OjoSIsWLR76ekLNV+4I+J07d3B2rngpMQBnZ2fu3LmjU2VdunShQ4cOmsc7kyZNwtTUlMOHD6NWq1m4cCEjR46kW7duNGrUiIULF5KTk8O6desAyM7OZvny5UybNo22bdvi6+vL4sWL+fvvv9mzZ49udyw885RGXqDWbdTocVPLTFHLXuyRV/s6Tkzt+S1tG3fC1NCMPMU98hT3uFeQi1KlxKGOM4PahzGkw9iHWq9bIpHQttXLqKHMkXClSkmzpg0wNNBtMqgglCUwMJD4+HigOJWiQ4cOvPzyy8THx3Pw4EHkcjnNmjUjMTGR5s2ba72XAwICUCgUJCUlaV7z9fWtsL7ExETs7Ow0wTeAn5+fzv+NlKQ6jBo1im7duuHr68u8efOwsLAolU5y/yoliYmJ5Ofn06NHD61R5e+//57k5GQAzp07R8OGDbVWL/Pz86v0fnTpl8aNG2udZ2trS2ZmpuZ7KysrXF1dK/wqmXz41ltvkZ+fj4+PD5999hm//vqr5glCcnIyhYWFtGzZUnNtmUyGv78/Z8+erfBedFXZvVTk+PHjvPvuuzRp0gQHBwfatm0LwNWrVwHo27cvp06dolmzZowaNYqdO3dWmN5S2fWEmq/cEfCmTZuyZMkSXnnllXJHllUqFUuXLqVp06ZVrlipVPLrr7+Sm5uLv78/ly9fJiMjQ/OpHsDIyIhWrVpx8OBBBgwYwPHjxyksLNQq4+DggJeXFwcPHqR9+/ZVbofw7FEZeoKkenfBBECtLh59F0vfYWJoRp9XBtErYCDJ189x8+51DOVG2Ndxpo7Zo0+MdHG0o1twa+IOnuDmrSwKi4qQSmXUsjDlZW8vvBuW/2hWEHQRGBjI0qVLOXv2LDk5Ofj6+hIYGEhcXBx169bF398fuVyOWq0u90nM/a+bmJhUWJ8uaVsVKZkA6eX135MfPT09XF1dSwVd97elJIj75ZdftIL/kvNL2lbVJT117ZcHJ4CWrOlfIiQkhDVr1lRY14EDB3B0dMTBwYEjR44QGxvLnj17mDhxIrNmzeL333/X2oekvPaUfFi4v/6SeQC6qOxeypObm8s777xDmzZtWLx4MVZWVty8eZNOnTppcuZ9fX05efIku3fvZu/evQwdOpQmTZrw66+/lvqQpsv1hJqv3AB8ypQpvP3227Ro0YLu3bvTsGHDUjth/vrrr6SmprJ+/XqdK/z77795/fXXyc/Px8TEhBUrVtC4cWMOHjwIFH9avp+VlRXXrhWvN3v9+nVkMlmpx0ZWVlZcv369wnrPnz+vcxufJzX1vp2Uxuhz65GukZubW6XyEnUhGXktuXO3ZvZZicf/M5dRi3pQCLfSs7mVnv3Yrty8SX1y7uVzLy8ffbkcCzNjJBL1Q99DTX2/PwoPD4+n3YRnUkBAAAUFBcybN4+WLVsik8kIDAxk5MiRWFlZ0aFDB6B407mNGzeiUqk0gdD+/fvR19enfv36OtfXoEED0tLSuHr1Kg4OxWlsCQkJOk/i8/X1xcDAgPPnzxMQEAAUB9fJyckVDi55eXlhYGBASkoKr776arllVq1aRV5enmYUPCEhodL7eRz9UpUUFChe8jg4OJjg4GBCQkLw9PTk4MGDtGjRAn19ffbv34+LiwtQPJB36NAhTYpI3bp1AUhPT9f8+9SpU1p1laxeo1Qqdb6Hypw/f56bN28yadIkTdvKWjrSzMyMt956i7feeou+ffvy2muvkZSUVCoXXNfrCTVbuQF4QEAAu3btIjIykqioqFIrnRgYGNC+fXu+//57vL29da7Qw8ODuLg4srOz2bx5M0OHDmXLli2a4w9+utXlk7suZV7EP1Lnz5+vsfcty+mMwc3VIH24pb5yc3MrHbF6kFpiiI19N2ye6iTQR1OTf+aP6kW+d6G0kjzwNWvWaFabKMmhvXz5smYy4cCBA1m4cCFhYWEMGTKES5cuMXXqVAYNGqTJc9ZFmzZt8PT0ZMiQIXzxxRfk5+czfvx4ndd2Njc3Z8CAAcycORN7e3ucnJz47rvvyM7O1loJ5UFmZmYMGzaMSZMmoVareeWVV8jJyeHIkSNIpVI+/PBDevbsyYwZMxgxYgShoaGkp6czd+5coOwR5cfZL1ZWVqUG1sqzcuVKlEolzZo1w8TEhI0bNyKXy3F1dcXExISPPvqIqVOnUqdOHZydnYmOjiYzM5OPP/4YAFdXVxwcHJg5cyZTpkzhypUrpTa2cXR0RCKRsHPnTjp16oShoSGmpo828d7BwQEDAwOWLFnCoEGDSExM5IsvvtAqExUVha2tLd7e3sjlctauXYu5uTl2dqWXjdXlekLNV+FvhiZNmrBy5UqKiopITk7m9u3bqNVqatWqRf369R9q7VF9fX1cXV2B4jy2o0ePEh0dzahRo4DiUe6S0QOAGzduaP7jtba2RqlUcvPmTc2n25IyJZNPhOeD0qQ56qydSFS51ZMSoipEaR4ANTj4FoTqYmJfr/JCz0B9rVu3JiEhgcDAQKB4dNXPz49jx45pVtews7Nj7dq1TJ48mdatW2NhYUGPHj0qXSXkQVKplBUrVjB8+HBee+01HBwcmDFjRoUTHR80ffp09PX1GTp0KHl5eTRt2pTNmzdrjRCXZcKECVhZWREVFUVYWBhmZmZ4e3szYsQIoPjDyKpVqwgNDSUoKAgvLy/Gjh1L//79MTQ0LPOaj6tfqsLCwoJ58+YxceJEioqK8PLyYvny5ZpR4JIPTZ9++inZ2dk0bdqUdevWaTYJlMvlLFu2jLCwMAIDA/H29mby5Mn07t1b677Cw8OZMWMGw4cPp0+fPixcuPCR2l23bl0WLlzItGnTWLp0KY0bNyYiIoJ33nlHU8bMzIxvv/2WpKQkJBIJ3t7erF27tswPM7pcT6j5JFlZWY+WuPaI3njjDerVq8fixYtp0KABgwcPJiwsDChei9zDw4Np06YxYMAAsrOzcXd3Jzo6mp49ewKQmppKkyZNWLduncgBf0BNHxGU3juF4Y0fQFL11W2qNAKuVqPSsyC/3rgaH4DX9J/5o3iR7/1Jyc7OxsLixZ6U/LzaunUr/fr148KFC8/UjpCC8Dyp6HfoI0cbKSkpxMfH8+67lW/GMWXKFF5//XXs7e01q5vEx8ezZs0aJBIJQ4cOZc6cOXh4eODu7s7s2bMxMTHR5HdZWFjw/vvvM3nyZKysrDTLEDZu3Jg2bdo86q0IzxiVsTdKo8bI8k4/8cBYUadfjQ++BUEQyvPzzz/j4uKCvb09Z86cITw8nI4dO4rgWxCekkeOOI4ePcqnn36qUwCekZHB4MGDuX79Oubm5jRu3Fhr5HrEiBHk5eUxevRosrKyaNasGRs2bNCsAQ7wxRdfIJPJGDBgAPn5+QQFBbFo0SKxBvhzqqDOexilz0VSdOOhRsIrpVaiMO+AysDl8V/7OVVYWMS5pCtkZd9FT0+GQz1r7GytqrzKgiC8SObMmaPJu35QQECAZrndJyUzM5PIyEgyMjKwtrYmODhYaydGoXx//fWX5ql7WcRmgMLDeOQUlE2bNjFgwABu3Xq0FSuEx++5eSSvzMUoYx6Sops6B+E6paColRSavUphrTcfQyOfDU/yZ557L589fyVw9dp18vILkCDhTu498vMLMDLUx9PNmbc6BqH/EHNDHofn5v3+DBEpKI/P7du3uX37dpnHDA0Ny5yMJzwb8vLyNKuxlaVkXpsgPOihUlDeeOMNnS5+8+bNh2uVIOhKZkKebQgGmUuRFSQ/eqqIWgUSGQrLrhSZt308bXyKbt7OZn/CabKy75KVlUXCP5do4O5CEy9X9PQez1ODW1l3WL/1TwoKFEilUvILFNzKulO8RJlESmFhEQePnuafc8n06NKWJg2qtj29IDzvatWqpdmFUahZjIyMRJAtPHblRjL79u3D3t5ea0WSsjzOtTQFoVxSIwqsP0MvZx/yrG1I1PlVD8TValAXotJ3pKDuANTy2k+mrdWkqEjJ1t37uHI1HYlEilQqIS9fwa3bd4jdf5RDx/7m9Vdb4OL4aCtWKBSFbNi+B4WiEKlUSk7uPW7ezkaCBKnkvw0kZFIZubl5rN/6J/r6cjxdnR71FgVBEAThuVRuBOPq6krz5s0rXZ6nJAVFEJ44iYQis0CKjH3Rz96B7N5pJMqs4l0zK8o/Vhd/SFTJ7Sg0a4PS5OUav9ulSqXm1x2xpGXcQK+M+Q9yPT0KC4vY8vs+ur3eGkd7m4euK+FUIrm5ecj19FCr1dzOvouE8nfIy83LZ9/hk3jUdxR54YIgCIJQhnID8Jdeeonjx4/rdJFH3YJXEKpEZoqidg+o1R3ZvZPI7p1EqryFpOg2qAuQqEGtlqCWmqPSq4VaXo9C00DU+o++hfqz4nRiEqnXMpHLy38KIJFIQK1md/wR+vfq/FDBsFqtJvHiZeT/biZSoCiksEiJtIJrqVVqrlzNICPzNrbWNfspgyAIgiA8CeX+9X7nnXfKXaD/fi+//DILFix4rI0SBJ1IZChNXkJp8tJ/r6nVgJKL55PwsPd8ak170k6dvVBh8F1CIpGQfTeHK2kZONvbVrmeO3dzuXv3HjJZcaqJorCwuI8rCMAlEgl5BQXcvJ0lAnBBEARBKEO5f8E7duxIx44dK72Ao6Mjffv2fayNEoSHJpEAejU+xaQiefkF3M66W+Eo9P30ZDJO/XPhoQLw7IxMcjMykKlUABSq1KhVKpBKKzxPrVJjoK9f5foEQRAE4UUgdh4RhBomv0BRvPqIjmvfSyQSCouKqlTHrVP/kLF3P5kZ1ykqlKL+N9iXqtWo1VCkKEQqlyMtZ8lBuVyGs0PVA36hZlixfgfXb1Tf0rPWdWvT753KB4Sqm7e3N4MHD2bYsGHllrG3t+fLL7/kvffeq8aWVd3ly5fx8fHhzz//5KWXXqr8hGdUly5daNSoEV999dVTqV+X90RN98MPPzB79mxSU1MZM2YM4eHhZZYbOnQot27dYvXq1dXcwppBBOCCUMPoy/WQSnUf4Ver1VobVd0qULI1JZeMPCVymYQG5nLa1jNGXyZBrVaTsjWGG4cSQCrDRCrDUAqF/07zkEok6KuhQA1KhQKVUoneA6lqKrWaetZ1dUqREWqm6zducT756tNuxnNp9+7dzJw5k9OnTyOXy/H19WXz5s1PvF4HBwcSExPFzphChbKyshg1ahQRERF069YNU1PTcsvOnDlTzBGsgPgLKQg1jLGRIeZmpuRm30WqUCBRqVBLpSgNDMosX6RU0tDDmfPZCn64cIfzdwopUoPevzH8n9fu8UvyXV6qbUDnlGPcPZSARFb8q0EC2EjgigpKYn5zCdxWQxES1EolRfn5miBcpVZhoK/Pe+8EP+luEISnRqFQoP8EUqy2bNnCp59+yqRJk4iOjkalUnHixIkKzyksLET+GDa/kslk2Ng8/GpJwpOjUqlKDaQ8LVeuXKGoqIjg4GBsbct+yllUVIRMJhObeFWi4kROQRCeGWqVitun/+H8D7/gdOI4Nvv/wubIYawTjmBz5DD19u/H4dRJap8+jTwr698JqWBmakyGUV0mHb3F+TuFSCQS5FIJEknxl4FMSp4S/rxyh/DzRdy4eYfcq6nkXk3lXlo6boV56Ek0l0MigVoSMAZk/wbhysJCZDIp5mam+L/UGEtzs6fWT4Kwa9cuHBwcKPo39erixYtYWloSGhqqKTN9+nTeeustoHjfi/bt22NjY4OHhwfh4eEoFApN2S5duhAaGsrEiRNxc3MjOLjsD5hJSUl06dIFGxsb/Pz82LFjh85tViqVjBs3jmnTpvHxxx/j4eGBl5cXvXr10pSJi4vD0tKSmJgY2rVrh5WVFbt370atVjNv3jx8fX2xtbWlVatWpR77HzlyhKCgIGxsbGjdujUxMTFYWloSFxcHFKegWFpacuzYMc05uvRLWFgY06ZNw9XVFXd3dyZOnIjq3zkjD2PWrFk0adIEa2trPD09+d///qdV3+jRo7XKDx06lN69e2u9VlRUxNixY3F2dsbZ2ZlJkybp3KbNmzfTqlUrbG1tcXFxoXPnzly/fh2A5ORk3n33XTw9PbGzsyMoKKjMn3F+fj4jR47E0dGRRo0a8e2332odj4qKolWrVtjZ2dGwYUOGDRtGVlaW5vjKlSuxt7cnJiaGgIAArKysSExM5OjRo3Tv3h1XV1ccHR3p2LEjhw4d0rq2paUlP/zwA/3798fOzg4fH58qpYBMmTIFPz8/bG1t8fb2ZvLkyeTn52vaFRQUBICvry+WlpZcvnyZyMhIAgICWLlyJb6+vlhbW5Obm1vqZ6NWq5k/fz4vv/wy1tbWNGrUiKlTp+pU9/NIjIALwjNOrVJx7Y84bh47iSIrG4lcjrlMyl25HkWFRfdNiFQjL1AgK7qN4a2bFBkZc8euHrZd3mD+mTsgodz1uxXZd8i7mkphISx28OeTv3ciU6tRq9VI7t7lZbk+500tyDKzQCKVIJGAqQRM1AASJBIVxta1sbGqQ5f2raqrawShTAEBAeTn53Ps2DGaN29OfHw8derU0QSbAPHx8XTo0IG0tDR69uxJ7969iY6OJjk5meHDhyOVSomIiNCUX7NmDf3792f79u1lPlZXqVT069cPCwsLYmJiyMvLY9y4cRQUFOjU5uPHj3P16lX09fUJCgoiPT2dxo0bM2XKFHx8fLTKTpkyhRkzZuDq6oqpqSkzZsxg06ZNzJ49G3d3dw4fPsyIESOwtLQkODiYnJwcevfuTdu2bVm8eDHp6enl5u2W0LVf1q5dy//+9z9iYmI4deoUH3/8Mb6+vvTo0QOAkJAQ1qxZU2FdBw4cwNHRkU2bNhEVFcXSpUtp1KgRN27c4PDhwzr13/3Wrl3Lu+++y65du/j7778ZMWIENjY2fPbZZxWel5GRwcCBA5k8eTJvvvkmubm5HDlyRHM8JyeHDh06MHHiRIyMjNiwYQPvv/8++/btw9Pzv1W3oqOjCQ8PZ/jw4ezatYuxY8fSsmVL/P39AZBKpURGRuLi4kJKSgpjxoxhzJgxfPfdd5pr5OfnM3v2bL7++mvq1q2LjY0NR48epXfv3sycOROJRMKSJUvo2bMnR48e1Uod+vLLL/n888/5/PPPWb58OZ999hkBAQE4OVW+OZqxsTFRUVHUq1ePxMREQkND0dfXZ+LEibz99tvY2tryzjvv8Mcff2Bvb0/dunWB4g9w69at44cffkBfX7/MVfSmTZvGsmXLiIiI4JVXXuHGjRucPHlSp7qfR5UG4AqFgmXLlvHqq6/SqFGj6miTIAj/ysvIJGnVBvIzbyKV6yG977G3nXVdrl2/iUJRPKqtia0lEtRSKbKCAlxvZrLqeCoqe5eyJ0yq1eRlZKLIykalKEQK3DCy4Fjd+vhlJmnWDpcXFeJ5K5PMgjySrWxRI0EqKR4NV6pBX1GIh21dgju10yxZKAhPi6mpKT4+PsTFxWkC8EGDBvHNN9+Qnp6Oubk5R48eZerUqSxbtgwbGxvmzJmDVCrFy8uLzz//nJCQECZMmICxsTEATk5OWoHng/bs2cPZs2c5ceIEjo6OAERGRtKpUyed2nzp0iUAIiIiiIiIwNnZmSVLltC1a1cOHTpEvXr/7Wg7duxY2rVrB0Bubi4LFixgw4YNtGpV/OHXxcWFhIQEli5dSnBwMGvXrkWpVDJ//nyMjIxo2LAhYWFhDBo0qNz26NovXl5eTJgwAQB3d3d+/PFHYmNjNQH4+PHjK52QWHJvKSkp2NjY0K5dO+RyOY6Ojg81IdTGxoYvv/wSiUSCp6cnFy5cIDo6utIA/Nq1axQWFtKtWzdNsHp/3OPt7Y23t7fm+1GjRrFjxw42bdqkNTLfrl07Bg8eDMD//vc/Fi9eTGxsrCYA/+STTzRlnZ2dmTZtGn379mXRokVI/x1QUSqVfPnll/j6+mrKvvrqq1rt/fLLL9m8eTO///671khz7969Nd9PmDCBRYsWsX//fp0C8DFjxmi1LTQ0lPnz52s+dNSuXby0bJ06dbRSlhQKBYsXL8bauuz9NnJycoiOjiYyMpL3338fKN7wsaRPKqv7eVRpAK6vr8/UqVNZv359dbRHEIR/3TzxN1c2bkENSMuY0CiVSrG3teJeXh5Zd3IoKlKikoBMJsXY0BBLc1Ny5EYkFUiQXbqCiYMdMiMjrWvkZ95AkZ0NatW/o3oS5Colh6098MtM0iqrJ5VQLzeHenoZpNS1pYDimL+2BBwkYF1UIIJv4ZkRGBhIfHw8oaGh7Nu3jyFDhrB3717NaLhcLqdZs2ZERUXRvHlzTeADxSPoCoWCpKQkmjRpAqAVCJUlMTEROzs7TfAN4Ofnp3XdipSkSIwaNYpu3boBMG/ePGJjY1m9ejUjR47UlL0/KE1MTCQ/P58ePXpobbZVWFioCbjOnTtHw4YNMbrvv38/P79K70eXfmncuLHWeba2tmRmZmq+t7KywsrKSqc+eOutt1i0aBE+Pj60a9eO1157jU6dOmFQzvyW8vj5+Wn1hb+/PxEREdy5cwdzc/Nyz/P29qZNmza0atWKtm3b0qZNG7p166YZ5c3NzWXWrFns3LmT9PR0ioqKyM/PL9UHlfVJbGwsX3/9NefOnePOnTsolUoUCgUZGRmaDyN6enpawT5AZmYmERERxMXFkZmZiVKpJC8vj6tXtSdE31+/np4ederU0aq/Ips2bWLhwoUkJSWRm5uLUqlEqVRWep6dnV25wTcUv58KCgpKfYh4HHXXVDr9ZvD09NR8OhcE4cm7eeI0lzf8Bv/maVfE2MgIOxsrnOxtsa9nhrubGfXs9NGTS4g1tUctkaBWqclNSUWZ918+nUqhoOB2FpJ/j98v08icO3KjB6sqnol55y4NivJoJoeX5eCiB3oyKUV5z2+unlDzBAYGcvDgQc6ePUtOTg6+vr4EBgYSFxdHfHw8/v7+yOXy4jSrcv4bu/91ExOTCut71NUeSkYTvby8NK/p6enh6upaKsC6vy0lgfsvv/xCXFyc5uvAgQNs2LBB07aq7oSra788OAFUIpFo9UVISAj29vYVfqWkpADFK7EcOXKEr7/+GjMzMyZOnEibNm3Izc0FigcdHuznoiousVoRmUzGxo0b2bBhA40bN2b58uW8/PLLnDp1CoBJkybx66+/Mn78eLZu3UpcXBzNmjXTyouvrE+uXLlC79698fT05IcffmDPnj1ERUUBaF3HwMCg1KTLoUOHcvToUb744gt27txJXFwcdnZ2Vaq/IocPH+ajjz6iXbt2rFq1ir179zJhwgQKCwsrPfdR//t4lLprKp1ywMePH8+4cePw9fUt9clOEITHKy89kysbtyLRceQM1Fha3aSuQxpyg7vI9Yv/OBYVytl00xr93CJUKhlqNeReTcPM1RmJTEb+jZto8lYe+DtbKJWSKzfAvDCvjNqg4OYt9Bzs/3tNrdZ5pE8QqkNAQAAFBQXMmzePli1bIpPJCAwMZOTIkVhZWdGhQwcAGjRowMaNG4vX1v/3Pbx//3709fWpX7++zvU1aNCAtLQ0rl69ioODAwAJCQk6T/7z9fXFwMCA8+fPExAQABQH18nJybRv377c87y8vDAwMCAlJaXc0UUvLy9WrVpFXl6eZhQ8ISGh0vt5HP1SlRQUAENDQ4KDgwkODiYkJARPT08OHjxIu3btqFu3Lunp6Vrnnj59ulRqRUJCgtYHiMOHD1OvXr0KR79LSCQS/P398ff31+Rub9y4EW9vbw4cOECfPn00Tyjy8/NJTk7Gzc1Np74AOHbsGAqFgsjISE2Aretk3QMHDjBz5kzNJODr16+TkZGhc926XL9evXpaqSAlH44eVcn7NDY2tsz+epJ1P6t0CsDnzZtHbm4uQUFBODk5lVp6RiKRsG3btifSQEF4kaiVKpJWb6A4GaRyEqmS+t5nMLW4g0olRVkkQaUq/qUulakwNr6Hsd4dCvKMKcw3QK1Sci8tHRP7ehTdy9NsGPpgsC9Vq5GWM2IhkUhQ5uWjUio1mwGpi5QY1BXrBwvPjpI88DVr1jBlyhSgOBUhNTWVy5cva1ZfGDhwIAsXLiQsLIwhQ4Zw6dIlpk6dyqBBgzR5zrpo06YNnp6eDBkyhC+++IL8/HzGjx+Pnp5uax2Ym5szYMAAZs6cib29PU5OTnz33XdkZ2drrYTyIDMzM4YNG8akSZNQq9W88sor5OTkcOTIEaRSKR9++CE9e/ZkxowZjBgxgtDQUNLT05k7dy5AuaPcj6tfqpKCsnLlSpRKJc2aNcPExISNGzcil8txdXUFICgoiPDwcLZt24aHhwf/93//R2pqaqkAPD09nXHjxvHxxx/zzz//8O2335ZaPaUshw8fZs+ePbRv3x4rKytOnjxJamqq5qmEm5sbW7ZsoXPnzsjlcmbNmqXzJNsSbm5uqFQqoqOjeeONNzhy5AiLFi3S+dw1a9bg5+fHvXv3mDx58mNdDtPd3Z1r166xZs0a/P392b1792NLPzYzM2PIkCFMnToVfX19XnnlFW7dusXx48cZOHDgE637WaXTb4aSCRiCIDxZ1/7cS/6Nm0h1+qOtpn6Ts5iY39UE3Q9y17tOnMIdQ+N7oIbCAgOK7t2j4NZt1IVFSP7N2ZZIpUikUk0qir6yCAvFvXJrVhUVobyXh9SseBMGqYEc64DmVbtZocayrlu7RtTXunVrEhISCAwMBIpHV/38/Dh27BjNmjUDinNX165dy+TJk2ndujUWFhb06NGDyZMnV6kuqVTKihUrGD58OK+99hoODg7MmDGjwomOD5o+fTr6+voMHTqUvLw8mjZtyubNm7VGiMsyYcIErKysiIqKIiwsDDMzM7y9vRkxYgRQ/GFk1apVhIaGEhQUhJeXF2PHjqV///5lrlYBj69fqsLCwoJ58+YxceJEioqK8PLyYvny5bi4uADQr18//v77b81kyoEDB9KlSxdu3dLelbVnz56oVCrat2+PRCLh/fff15r4WB5zc3MOHjyo+eBjb2/P6NGjNRMaIyIiGDZsGJ07d8bS0pKhQ4dWOQBv0qQJM2fOZN68eURERODv78/06dMZMGBApedGRUUxcuRI2rRpg62tLePGjePmzZtVqr8inTp1Yvjw4YSHh5Ofn0/btm0ZP348YWFhj+X6n3/+OZaWlnz11VeEhIRgbW1Nnz59qqXuZ5EkKytLbFP0nDp//jweHh5PuxlPRU28d7VKxek5URTd0y2X2rzuDVwandMKvpVFSmR6/31foJYxJKsvCvRQqyTkZFmgVhcH3Oqi/wJwAKWiEJVCgRoJzncz+eBc7H/HkHDVyITrBoYopVKkKhV1DfVpaGaMAWrMXBzx+LDvQ913yo1LbDm6mux7t5BKpDjXdafzyz0wM6raJg418Wf+rMvOzhabaTyntm7dSr9+/bhw4YLY/VIQnpCKfoeKdcAF4Rlx6/QZFNl3kMp1e6Ro7ZCGSlVx3rWBRIm3PJWDChfkUhVyAwWFBfqoCguheDFBTVmpXI66sJBCiZRX0/7WvJ6lJ+dvi9oUSmTIKP68rpZISZXpk14AXnpqOnZoW2b9iqICDpzfQ0ZWGg51XGju1hq9f3fZzFPcI2pHBBfS/0Em1UMqKW7LxYyzxCfuonWD1+kZMKDKk8cEQSjt559/xsXFBXt7e86cOUN4eDgdO3YUwbcgPCU6B+BpaWlERUXx119/cevWLVatWkWjRo2Ijo7G39+/0iWNBEGo2M2E40j0dNtSWqZXhKFpHrpkig82jud8kTVZKiPkBgUUFugjkUpRKRRwX6qLRAIqIyOapp3DOecGAPekMk5Z1EEtkWiC75KyMqkECWou1apLSp6CBg/Uu/P4Rnae2MCdvGzkMjlKVRHrD/5E9+b98PcIYvbmCaTeuoJcpv2BQy7TR61Ws/v0bwD0avWRTn0iCM+yOXPmaPKuHxQQEMC6deueaP2ZmZlERkaSkZGBtbU1wcHBmtz4F8Vff/1Fz549yz2emppaja2pfk/7PSho0ykF5cyZM3Tq1AmZTEbz5s2JiYnhjz/+wNfXl/DwcDIzM1m6dGl1tFeoghf5kXxNvPfTXy+k8M5dncoaGOXh6XcctVp7BPzBFJQSt5RGTL77BmmFtSi6UzyBSqkoRCqXI5EUr2xSKJHx8r3r9Ew/QV7qNdRFRZyyqM1tfcPSYb5Egp6xMUY2dZGamZCVn4Gi1llyCu4gk8ooKMznVk4mtU1LT75SqVW85NKCwxfj0dereH1ftVrNF30XY2Fcq9I+qYk/82edSEF5fG7fvs3t27fLPGZoaIidnV01t+jFk5eXx7Vr18o9XjLZ83kl3oPV75FTUCZOnIiXlxfr16/H0NBQa0ZzixYt+Pzzzx9PSwXhBaXML9A5+AZQqaqWllFblsdci/Vszfbh16IWXNczpkiuj0QiwVCtwrnwLq/duYxb4R0khobIXV24l5XNHeRI1Goo/t+/q6ZI0Le0wNTRnpzCXK6knkSpVCMlB6lBIYVFChLTTqFQFnArJxNXGy+kkv8+FEiQsOXoGhzrVL6UmVKl5LeEVfRrPbRK9ysIz5patWpRq1blHySFJ8fIyOi5D7IrIt6DzxadAvADBw6wdOlSTE1NS+1KZGVlxfXr159I4wThRVF49y6qwsKyt4svQ5FCH2WhHKme7ruE6UuKaK9MwiNTzi2ZAXelehibm2OcmY6J9IEHYRIJKgtL1IUgU6vgviUJZfr6mDo7UlCUz+XMC8Xr7UolUGAEBgUUFOWjKCpAKpWRp8gjKeMc7rYNNeerUZOVe4t6lg7oySq+Xz2ZHlce2JFTEARBEGo6nXbOqGiDjZs3b5a7jJEgCLpRKZXl7BSmBor+/frvuFot5W6WBUh0X8RIIlGTcal4m+zaygKcC3Np80E3LC2MUZW13W/JGuESKRKpDIlUilSuh4mTAxKJhLTbKcVtlmiXV6lUmpZKJBLyFLnk5Gff13Y1qNWo1LptUKJSP79bEdcEj7rDoyAIwouost+dOgXgL7/8MitXrizz2K+//kqLFi2q3jJBEDSkMlnxKDIAKiRFN5AVXECWdxZZ3rnir/yzyAouIlFmA2rSkx3vj8kroSbvrgkFefdtoCGVIDcxpeEnAzFzcUStVKG+LxA3Bgz+PVetViMzMMDUxRmpnh5FqiLuFeT8F3yrAYPi7aIN5AboSe+b3ImE69n/7V4nk8rQlxsgr2T0G4p/gZkYVr57nfBkmJiYkJWVJYJwQRCEKrp3716FA9Q6paCMHj2at956i+7du9OjRw8kEgmxsbEsWrSILVu2iF0wBeER6VtaINWXIy24Vhxgq5XFCddaqd5qUBUgVVwFiZyiotqkXaiPnUcyqCvKCVejLNTj0t8NtV7VMzZCIpMikxni+VE/Cm5nkbZ7LzmXLqMsUCBTq7GWSEnXk2NsVRfZfTuu5RfmUaQsQiaVocgHhSqfvIwC6tpK0JPrYWxgSk7+neIlBCUSFEX/bVZRpCzEw7YRKrUaWSWp7EUqBcE+b+ncj8Ljpaenh5mZGXfu3HnaTREEQahR9PT0MDAof6EBnQLwwMBAVq5cSXh4uGYHqilTpuDk5MTKlSvFEoSC8IikemAov0phbva/gXc5kamk5P8UIS3MICvFEqXSDTvXK8gNClBqDYmrkUjU3LtryqW/G6As1B5x1rfUnpltUMuS+j3eLD7z3xFPrwIFK9fvoEBRqN0OtZp7OVBYoEZVBEkZ6eTkK5HrS6htBV4vuZBcdBZFYYFWCltBUT4udd35qN1IvtgwGnUFQ/gqlZJ6tZxpaO9TUdcJT5ienp5YCUUQBOEx03kd8ODgYIKDg0lKSiIzM5PatWuLJb8E4XFQqzG4vgSj/2/vvsOjKtPGj3/POVPSM0mYhEACCERCb0oXEKzLqtjFzlrR/b2yCiK2taAUy6q7rLqWd/dlsa24LjZQF1xAFNQVEBEMUkNJSK/Tznl+fwyMDGkTJAkk9+e6uCBnTrlPhmTueeZ+7ie2Cl9JJJ29D9I0tEAJ5XuT+eHAIBLdhSS0y8UZpYMCnzeK/Tsy8B1ednLokqZJdGpqPacORhEd5eSy88fzzyUrKCktx2YYoGnk7i3BV21gWSa7i/bhMT3Y7BpKwYH9ior/aJwypieF1fspryrBYXPiTmjP0KwxjO97HnbDzg3jfsfLy57Gsqwa80z8AR/J8W7unPCwLMQjhBCi1ZGl6FuxttwX+US6d1vJUhylH1G8S/HDv0rRI2uE8jOlsJxdUHoslZWVxMbGRnCIRZ+pU2qMgte9v2Jn7n7Wff8jm7fu4vucXewpziW/5AB2u43UhBRshg3TsjhQVkiV10NKmsaA4TZ8AS9Xj57C6J5n1zjv/uI9/POrv5OzbyMeXzVoGq6YJAZ3HcmvBl1KtKPmm4e6nEjPuRBCiLYt4hHwn376iSeeeIKvvvqKffv2kZ6ezpAhQ5g+fXqb7qspxC+iFLbKr0B34OqscCYa+Ksa2/VDQwscQDkaTryDl1TEpLePOPmG4Ih4l8x0Ome0599f/BmfqRFlj6eT205cdFxYm8LEmHiqfR52FuzG5zFJdrkZcfL4Ws/bPqkjU86agd/0U+Epw9AM4qMTZdRbCCFEqxZRF5SVK1cyatQoli5dyimnnMINN9zAKaecwpIlSxgxYgSrVq1q6jiFaJV0zxZ0sxAIJrnp/aKxAo38UEoDzaom2KowApZJhzPHNO4aBxUWl7EvvwiA1IQkUuJTwpJvCCb4UXYnnVM6UbjXye8mPIzNqP+9vt2wkxSbQkKMS5JvIYQQrV7EK2H269ePRYsWERcXF9peXl7ORRddxP33389nn33WVDEK0Wo5ypZx+I9h+sBoCn70UFngP6wtYQSUhe4vAOLr3c0KBEjqk01C14ZXoaxNZbWXgGlitxkYhoaBM7T0vGmZKBQawd7h8dFxDOz8a9JcsryxEEIIcbiIRsC3bNnCHXfcEZZ8A8THx3PHHXewefPmJglOiFbPLA/reKJpGidPSEA3tMb1XtY0UN56d1FKYY+Po/OFvz7aaEmIi8ZuM3DYfo7Z0INtB+OiEohzxhMblUBcVAJ2mxPLlCkmQgghxJEiSsA7dOiA3++v9TG/3096evoxDUqItkKrJWmOireRfV6wFKNxC6DUvbKkUgrdYefkG64O6+fdWEmJ8WR2SK21VYumaei6ga4Ff63YDQN3kiyiI4QQQhwpogR86tSpzJ49m71794Zt37t3L3PnzuXOO+9skuCEaPW02qvAEjMc9DzfhW7oKCvSJLz2khUrEMAWE032LdcTlZJ8lIH+7PwzhqEaGNlWSpGYEIvT0diWLkIIIUTrF1EN+KpVq6ioqGDgwIGccsoppKamkp+fz9dff43b7WbVqlWhiZiapvHCCy80adBCtBZKj0Kro+lJYoaDQdemsOXDUsr2+tHr+2lVAEb4JqVAWST1zqbzRb8+6pFvfyDA91u2sz+/EKfDTr9e3enXsxubftxWa526ZSliY6LIaN+Ozpntj+qaQgghRGsWUQL+5Zdfous6aWlp7N69m927dwOQlpYGwBdffBHaVzoYCBG5QHQ/HN5doNeeHNtjdHpf7OLAZg97/1tFVaGJpqtaEl+FsqWAX6HM4DL2MR3TST/9NBKzjr5N6Nfrf+C/322h2uPFZhgopdi4+Scy05Op9lSxN68Qr9ePqSx0TcPhsJOcGE/HtBRsNoPB/Xoe9bWFEEKI1iqiBHzDhg1NHYcQbVIg/jTsZcvQ6mkhqGkaqT2jSe0ZTeUBP3v+W4WnxMRbbmH6rODot+7AiEvBHmeRcvLJpI8Z0ag+37X5ev0PrP7mO2y6gd1mC8UCcKCwhNR2LlLbuSgtr0RZYBg60VEOLNPCZjP49RmjiHIefb25EEII0VpFvBCPEKIJ6E6sqCyM6u9Ba3hKRqzbzslnBxNrpRTKBMvvJZByPlbKGeTk5ND5GKwG6Q8E+O93W7DpRq2P67qO1+NjQJ+Tsdls/LQjF5/Pj81mkNkxjaED+xAbE/WL4xBCCCFaI0nAhWhhvqSLiPL+hGZ5w1oSNkTTNDTDBGdHrOSjW1inLpu2bKe62ovdXvevCJvNxo7d+7j20l8x4pS+x/T6QgghRGsWURcUIUTTUbZEPKm3ojR7jVUl6z/QRBmJeNJ+C9qx7Tay/0ARNlvto9+Hq/LU33tcCCGEEDXJCLgQxwHlyMDTfipR+S+gmUWAve7RcKWAAJY9A0/aFNBjjnk8DrsNpVSDk6oNvWXew5dVVPLlNxvZl1eAZSmcTjuJsU5OOqlrRG8chBBCiJbUrK+eTz/9NKeffjqZmZl069aNyy+/nE2bNoXto5Ri9uzZZGdn0759eyZMmMAPP/wQto/X62X69Ol07dqVDh06cMUVV7Bnz57mvBUhjjllT6W6w714k6/EsrcHKwCWD5QZ/GN5QSksZxc87lvxtL+zSZJvgH69uje4CJBSCneKq0muX58Nm7byf299xI8/7aKyykO1x0tJaQUbNm/n/97+kLLyimaPSQghhGiMZk3AV61axQ033MDSpUtZvHgxNpuNiRMnUlxcHNrn2WefZf78+cydO5dly5bhdru58MILKS8vD+0zc+ZM3nvvPV555RU+/PBDysvLufzyyzHNOhoqC3Gi0GyYcUPwpN9FdfoMfEkX4I8/DX/8GHxJF1Pd8QE8abdjRfeIqF7c5/dTUVmF1+drVBgpSYmkuZOxrLpX17SUxbBBfRp13l9qZ+4+Vnz5LbquoR8x+m4zDKqrvSz64DNMs+64hRBCiJamlZSUNFh0unXrVkpLSxk8eDAA1dXVzJs3j02bNjF+/Hhuvvnmo7p4RUUFnTp1YuHChZx77rkopcjOzuamm25i2rRpoWtlZWXx6KOPMnnyZEpLS+nevTvz58/nsssuAyA3N5e+ffvy9ttvM378+KOKpTXKyckh6xh0xDgRtdV7z8nJoVu37vy4bSffbsyhqKQUZSlMy8QyPHTMSGTMqcNIc6U3eK5qj5c3F39KWVkFNtvP1WpKKSxlMfKU/gzq16Mpb6eGN//1KQVFJbWWxlRWVhIbG4vfH2D86FPp0+Po+58LIYQQTSmiGvDp06fTt2/fUAL+6KOP8tJLL9GrVy/uvfdeNE3jpptuavTFKyoqsCwLl8sFwM6dO8nLy2PcuHGhfaKjoxkxYgRr1qxh8uTJrFu3Dr/fH7ZPRkYGPXr0YM2aNZKAizYtYJos+mAZe/YXYLcZmFaAXYXbqPJWYloBNu/QWb5mNRk9dK4bdxsZKZ3rPFd0lJOrLjybr9b/QM723Xg8XnRdJzUliaGD+tA+9Zcva98Y1R4vBcW1J9+Hs9ttfL95myTgQgghjlsRJeDff/89N954IwCWZfHGG2/w0EMPcfvttzNnzhz++te/HlUCfs8999C3b1+GDBkCQF5eHgButztsP7fbzb59+wDIz8/HMAxSUlJq7JOfn1/ntXJychodX2vQVu8b2t69K6VY9fUmCovKMAydak+AXUVbMa0AcChptTB9Ojs2+fj9vv/H9SOm0j4xs97zuhOjcA8I/zShvLSQ8tLCprmROpSWV1JWVo7NqHuSZWVlJQCW6W8zz39b/KRHCCFOdBEl4KWlpSQnB0e7NmzYQElJCRdccAEAo0aN4k9/+lOjL3zvvffy5ZdfsmTJEowjXlCPHOGKpBtDQ/u0xReptlqGAW3z3nfm7qOgqJTEhAQAtuX/CJrCsNXyY27FgNmeZdv/xe8vfbaZIz06ZRWVrP72xzoT8EMlKACuxLg29/wLIYQ4cUQ0CdPtdrNt2zYAli1bxkknnURGRgYQfNE7MoFuyMyZM1m0aBGLFy+mS5cuoe1paWkANUayCwoKQqPiqampmKZJYWFhnfsI0RZ9vX5zqC1gwApQ5a2oe6KmrqA6kb1Fu9h54KdmjPLoxcfG4EqMb3C/QCBA54yGa9yFEEKIlhJRAn7uuefyyCOPcP/99/OnP/2JiRMnhh7btGlTWBLdkBkzZvD222+zePFiTj755LDHOnfuTFpaGsuXLw9t83g8fPHFFwwdOhSAAQMGYLfbw/bZs2cPW7ZsCe0jRFt0+OTEal8lATNQ/wEBO5plY/3ONc0Q3S+naRp9s7sRaKDbkcNhZ3C/7GaKSgghhGi8iEpQHnroIbxeL8uWLePcc8/lrrvuCj320UcfhU2IrM+0adN48803+fvf/47L5QrVfMfGxhIXF4emaUyZMoWnnnqKrKwsunfvzpNPPklsbCyXXHIJAImJiVxzzTU8+OCDuN1ukpKSuO++++jduzdjx45t5O0L0TpYlsK0DmtoFMmCmkoDpWOpE6dl34DeWeQdKGLLTzuxH1Fao5QCDc4eO5Qop6OFIhRCCCEaFlECHhsby3PPPVfrYx9//HHEF3v55ZcBQvXjh8yYMYOZM2cCcMcdd1BdXc306dMpKSlh8ODBvPPOO8TH//zR8+OPP45hGEyePBmPx8Po0aN54YUXGl0KI0Rroeta2KqU0c4YbIYNVV8mrimUbtEnc3AzRHhsaJrG2WOHkpGeyvpNORSXlgMKm2HDnZLIeWeNpV0LLA4khBBCNEZEfcDFiaktTkQ8pC3e+zsffsbWbTuJi4sDYFveFiq9wVafh37IdU1D0w/WhRs+3N2qefiyP9U5gbmisorC4mBXlbR2ydjtEb1nbzYerxe/3yQ6ysn27dva3HMuhBDixBTxq+lrr73GokWLyM3NxePxhD2maRrr1q071rEJIRphyIBebNm6HQiugGl5YyivOIClggn4oRTb0HXsNjtOdynXjP5drcl3fkERn33xLfkFxfh8fgBiY6LI7JDGGaedisNhb6a7ql+U00mUs6WjEEIIIRonogR83rx5zJ49m549e9K3b18cDqmvFOJ40zHdTWpKIhtzcikrr0KhcGjt8GnFWPg5VBhuWgqPp5zyXYns2FpN1hENQ/bsP8C/lq5AWQpd00L11KZp8dOOPRwoLGbSxLOOmyRcCCGEONFElIAvWLCAW2+9ldmzZzd1PEKIo+QPBPhy/VY8Xj8Ou4GGBhg4VTsUAUzNCwqUMjC9waT6xdc/pLi0gst+PQYITmT8+LM1KKv2vvqGoVNWXsWyz7/mnNOHN+ftCSGEEK1GRG0Ii4uLOeecc5o6FiHEUVJKMeuPr7F7XyE+U6PaZ2Eeam6iwNSjKI/KYEdiL7a4euG1Bes2DN3grQ9X8O/PvwVgx+59lFVU1ruolWHo7Mzdj9/fQJtDIYQQQtQqohHwkSNHsnHjRsaMGdPU8QghjsJ/N25lw+bt2A625jMtqPZZeGwOtmX2ocoRh4ZCAxQahUnpxFeW0D33ewwdFv5rGWOH9WPz1p31LvV+SGWVh4KiEtLT2jXxnQkhhBCtT50j4JZlhf7Mnj2bhQsX8vrrr1NYWBj22KE/QoiWs+ijVTjs4TXZfsPO5pMGU+2IRT+YfAPBRFxBWWwSmzsPCCbkJeWs/Op7lKq99ORICoUpP/dCCCHEUalzBDwlJSXshVgpxe23317rvpqm1VgaXgjRPAqLy9i6cw+aFv5+enf77pi6Ha2OXuC6UlRGJ1CQmEa7kn289+mXXDNxLDnbd9dY5OZIUU4nSYkJx+wehBBCiLakzlfZu+++O6KRMCFEy/r082/xB0wc9p8TcEvTKYtJqjP5PkS3TA4kdcBdup/c/Qfo2iWDtes2EQjUvdy7Uor2qSnExkQds3sQQggh2pI6E/BDK1MKIY5vB4pKQ7Xfh3jtUQRsdvQGykQ0wGcPJtIB08Lr9XFK/56sWru+1lpwpRS6rjNm+KBjFr8QQgjR1kTUBeX2229nx44dtT62a9euOktThBBNzzRNavusqrFL3CoVrOse1LcHo4b0x2634Q8EUEqhlMJvBoiNjebiCWNpl5x4LEIXQggh2qSIEvDXXnutzhrvoqIiXn/99WMalBAickmJ8QTM8JIRp78ae8DX4LEKcPiDK9sahk5sTDQAg/r2YPLlv2bsiEF07dyR7idlcuE5Y7nu0l+R2i75mN+DEEII0ZZEvBR9XfXgeXl5REdHH7OAhBCNM2ZIX979+POwbbpSJFQWUxyfWm8duKXrpBXmApCa4iLusLpum82gf68soqOieeuDFSxZ+S2BgInDbqdbl3Su+PVYkl3xTXNTQgghRCtWZwL+3nvv8f7774e+nj17NsnJ4SNfHo+HL774gv79+zddhEKIenXOSKNzxzT25hWFbe+0fyvlMUkEDFutJSqWphNfVUpyeT5en4/Th/cPe6O9ccsO/vL6B+zeV4DNZkM/7LEduXn858sN9OiawV03XUJifGxT3Z4QQgjR6tSZgOfm5vLFF18AwdHv7777DofDEbaP0+lkyJAh/P73v2/aKIUQ9TpnzKk8//f3wralOCo5o2gF37gHUWi4sMzgpEtL09CVIqn8ACft/QENiIuJ5tfjhoaOXfXVRv74t3+hFDX6i0NwdBxgU85ufvfoi8y75wapCxdCCCEipJWUlDQ4V6tfv34sXLiQvn37NkdM4hjJyckhKyurpcNoEW3t3gMBkzseeZ5du3IZ1dPDiK75pMZVYTcsNA22e9uxuGwwWwqTKS3WaF+4G7vpB8Dv9zPxrBFce/GZAGzduYf7n/wbKsJZnJZlkZKUwHMPTak1WW8ube05F0IIceKKqAZ8w4YNTR2HEOIXsNkMHr9zEuuW3k4HVxUB04aldLyB4DzrdL2EW1yf4kixyDmQyIKCkwmg4/P7GTm4N9dcdEboXH97+1MsK7IVMQF0XWdffhEfLl/LxLNGNsn9CSGEEK1JxJMwAUpKSvjpp5/weDw1Hhs5Ul54hWgxyk9a1SuM6B3P7v0WvoDvYM324Um0hs806NaujGuGbOalVVmcfdpgbrlqQijZLi4tZ8u23EYvwhXldPDvz9dJAi6EEEJEIKIE3OPx8Nvf/pZ//vOfqDo+ly4qKqp1uxCi6dlLl6D792GzOeh9chdKyirYf6CYymoPylIcyqctpdB1G4O7WgwbMxxX5llh5/nn0s8JmGaDS9HXZve+A+zck0/njqnH4paEEEKIViuiV9knnniCVatW8fzzz3PLLbfw5JNP4nQ6ee2118jLy2POnDlNHacQoi5KYav8FnQ74EPTICkxjqTEOLw+P2XlVfj8AXRdw+mw40qIQ9fAsm3AQ3gCnldQclTJNwRX0tyTVyAJuBBCCNGAiBbiWbx4MXfffTcXX3wxAIMHD+bqq6/mww8/pE+fPnz66adNGqQQom569Wa0QO0LZTkddtwpiXRsn0J6ajLJrnh0XQNNQ/ftRfMXhO1vmvUvXV8fDQ2fz3/UxwshhBBtRUQJeG5uLtnZ2RiGgd1up6qqKvTY1VdfzT//+c8mC1AIUT/dtwu0iH6Uj+BHC+wP2xIbG4VVR5lZZbWH7bv3kbNjDz/t3EtxaTmHL3ivsHAnu44iDiGEEKJtiehVOzk5mcrKSgA6duzIxo0bQ48VFhbWOilTCNE8NEyodamdCI61AmFf/2rsEAKB8G2V1dV8/+MOfti6i6KScsorqigpr+SnnXvZsHk7BUWlAKQmu+jRNeOo4hBCCCHakoiKPU855RQ2bNjAmWeeyfnnn89jjz1GRUUFNpuNP/3pTwwbNqyp4xRC1MGyuUEFQGts7baGsoWvbtujawYZ7duRXxhMqisqq/hx+x4UhK2EqQGarhMImOzck4fX52fS+WNDC/QIIYQQom4RvWJPnTqV3bt3AzBt2jS2bdvG448/jmmanHrqqTz11FNNGqQQom5mTD9UcTwajau/VrZ2WI7MGtt/PX4Yf3ntAwxDZ+vOfSjqH1/XNI39B4o4bYgs1CWEEEJEIqIEfODAgQwcOBCA+Ph4FixYgNfrxev1kpCQ0KQBCiEaoDuxorIwqjc2vO8hyk8gdiDU0u/77NGD+XF7Lv/4cAWBQABdr79STSlFl45pfPTZV/TLPqmx0QshhBBtztHM3ALA6XRK8i3EccLnOh90BxGtH68UykjEn3BGnbv89trziY+JRtP0OidlmqaFpml07ZxOSnIi3/+4A9M0j/YWhBBCiDYj4gR8/fr1XH311XTt2pWUlBTWrVsHwCOPPCJtCIVoYcqejMd9M0qzgaqnlaAyUXo0ntTbQY+uczdN08jskErf7JNol5SAYegoggv5KAUOu42MdDf9e3YlKSEegGqPl4oqmZAthBBCNCSiEpQvvviCiRMn0qVLFy655BJeeuml0GO6rvPqq69yxhl1j6YJIZqe5ezCTu1qsqPWoXu3o1nVoNmDDyo/So/Fiu6NN/liMOIaPJ+uazjsNrpktEcphWlaWJaFbugYul5juXpN1zGMo/5QTQghhGgzIkrAH374YcaNG8drr72GaZphCXi/fv144403mixAIUTkAnoS3tSbwarCVr4a3Z8PGlj2DAJxQ0F3RnyulKQECorK0DQNTdMOdjipu8tJQlwMsdFRx+AuhBBCiNYtogR8/fr1LFiwIPRCfLiUlBQKCgrqOFII0SL0GAKJv+xTqUvOHcXvn1mA0+5ocF+fP8DwgT1r/H4QQgghRE0RfV7sdDrDVr88XF5enkzGFKIV6pfdlc4d0jCt+penV0oRG+3kkl+d1kyRCSGEECe2iBLwYcOG8fzzz4d1ODg00rVgwQJGjx7dNNEJIVqMpmk8/LtrSU6MJxCovbuJpRQ2m849Uy4nMT62mSMUQgghTkwRlaDcd999nHPOOYwaNYrzzz8fTdN4/fXXue+++1i/fj3Lli1r6jiFEA1RimhrJ1F5H6MFCg+ujunAdGTiTzwX5Uht9CldCbH84YFbePnNj/h241YKS8vRNR3TsoiPjaZXt07ccNnZZKS7m+CGhBBCiNZJKykpiaBxMKxbt44HH3yQ1atXY5omuq4zfPhwHnvsMfr379/UcYqjkJOTQ1ZWVkuH0SLa2r1r/iKiDrxAdelOYmITwhfYURagMKOy8Lpv+LkzSiP5/QHW/fATBUWlxMXEMKB3N+Jj625l2Nza2nMuhBDixBXRCDjAgAEDWLx4MR6Ph+LiYhITE4mJiWnK2IQQEdD8RUTtfwpN+YJ9wI+cCKkFK80Mz49E7X8OT/s7QIv4Rz/Ebrdxar8exyJkIYQQok1rdNPeqKgo0tPTJfkW4jjhLHgJTflqXVY+jGZD9+/BUfR28wQmhBBCiFrVOQw2d+7ciE+iaRp33333MQlICBE53bsD3bcf9AjLSjQbRvVGUP6jLkVpkFLo3hwMz49olhfLlkwg9tSIFv8RQggh2oI6E/A5c+aEfa1pGkrVLBc/1A1FEnAhmp+99OPGlZMohebPw5H3IlZUFsqWjBnTp95l6SM/t4W99GOMyq/RzUJAA3RQARylSzAdXfAlnYdyZPzyawkhhBAnsDpfuYuLi0P/3rx5M5MmTeL666/noosuIjU1lfz8fBYtWsTf/vY33nzzzWYJVggRTgsUNlx6AqAstEABmlmKprzo5aVYvp9AWajiGCxnN3yuCShH+tEFogI481/A8PwUHI0/fHRdcwAKw7uN6Lzn8CRfiRU74OiuI4QQQrQCEQ2dTZ8+nWuvvZY77rgjtC0zM5OpU6diWRbTpk1j8eLFTRakEKJ2mqq9P3cYFUD37kCzvAcnZBrBvzU7aKBhYng2E533I96kSzDjhjQ6DmfB//6cfNcZbPCNQlTRa3hsLixnl0ZfRwghhGgNIpqE+c033zBw4MBaHxs0aBBff/31MQ1KCBEZpTWwTLyyDibfvlA3lKAjfvQPPuYsegu96rtGxaB592BU/xB5HbpSOIrfbdQ1hBBCiNYkogQ8ISGB5cuX1/rYsmXLZCl6IVqIFZUVnFBZB82ff3DkO7wvuLIl13GAjrP4nYO9wyPjKP2IRjVU0jR03260QHHD+wohhBCtUESvmldffTV//OMfmTZtGitXrmTLli2sXLmSu+66i/nz53PNNddEfMHPP/+cK664gp49e+JyuVi4cGHY40opZs+eTXZ2Nu3bt2fChAn88MMPYft4vV6mT59O165d6dChA1dccQV79uyJOAYhWgtf4pkHa6xroRS6WXbEyDco3YnS624jqgWKMao2RByD7ttZ4xqRsJfV/qZeCCGEaO0ietW89957ufPOO3njjTe44IILGD58OOeffz5vvvkmd955JzNnzoz4gpWVlfTq1Ys5c+YQHV2z88Kzzz7L/PnzmTt3LsuWLcPtdnPhhRdSXl4e2mfmzJm89957vPLKK3z44YeUl5dz+eWXY5oR1MMK0ZoYcQSiB4AVqPmYWQ7Kd8RGhbK1CzYoqYtmx17+WWTXV4FgeUtjaQaaWdr444QQQohWIKJJmLquc//99/Pb3/6WTZs2kZeXR1paGr179yYxMbFRFzzrrLM466yzALjtttvCHlNK8fzzzzN16lQuuOACAJ5//nmysrJ4++23mTx5MqWlpSxYsID58+dz+umnA/Diiy/St29fPvvsM8aPH9+oeIQ40flSLkezyjA8W8K2a1Yl4e+xFZbNjbK5Dn5pogcOgFkJKNAMlOFCGS40s5zI6ChNQ6Nmi9J6KYVq/DpgQgghRKvQqFdAl8vFiBEjuPDCCxkxYkSjk++G7Ny5k7y8PMaNGxfaFh0dzYgRI1izZg0A69atw+/3h+2TkZFBjx49QvsI0aZoOl73zfgTziBADFg+UAqwAAUolObAsmeg7O7gIYHS4EI5gUI05UNTfjTLg+7bi+HdCpYn4mujxzY+ZuXHcnZu/HFCCCFEK9CIFTyaXl5eHgButztsu9vtZt++fQDk5+djGAYpKSk19snPz6/z3Dk5Occ42hNDW71vaIv3ngV6d2I9OcSpHGKVl2i8+HFhaU4wAW8luvIQzV7MUB3KEaVblgezYhM5P24GzWjwqu2s9iRZuahGLAhkYWO7NxWVd2yfo7b3nENWVlZLhyCEEKKRjqsE/BDtiIVFlFI1th2poX3a4otUTk5Om7xvaLv3npOTQ4eTJwCgBYqw7X0c2xETJHXvATSrnh99pdAMB9lpxZjxwxu+qNmR6L1bIy9DUSaB6P50d/eKbP8ItdXnXAghxInnuCrCTEtLA6gxkl1QUBAaFU9NTcU0TQoLC+vcRwgBypaM5cg4WI5yaKOJZlXXfxyg7OnYK76M7EJGDH7XryGiRYEslOHCl3JpZOcWQgghWqHjKgHv3LkzaWlpYT3HPR4PX3zxBUOHDgVgwIAB2O32sH327NnDli1bQvsIIYJ8CWcSrAU/SAXq7/GtFOgxoDvQVP2J+uEC8afhc50PqNoTcaXA8qFsKVS3/x3oNTsgCSGEEG1Fs5egVFRUsG3bNgAsyyI3N5cNGzaQlJREZmYmU6ZM4amnniIrK4vu3bvz5JNPEhsbyyWXXAJAYmIi11xzDQ8++CBut5ukpCTuu+8+evfuzdixY5v7doQ4rlkxvfEnjMde9u9gPbemhy/KczilULody5kZ/LKR788DCWMwY/pjL12CUb0JzariUHcVy56OP34MZuyAiOrKhRBCiNaszgR89+7djTpRZmZmRPt9++23nHfeeaGvZ8+ezezZs5k0aRLPP/88d9xxB9XV1UyfPp2SkhIGDx7MO++8Q3x8fOiYxx9/HMMwmDx5Mh6Ph9GjR/PCCy9gGPLCLsSR/K5foTQn9rJ/oykfSrOjqcP6hh8sUVF6NKYjkx92BXhrRRGlfgM97q+MOrUP40cMxGZr+OdL2Vz4Uq44WOpSCSqA0qNlxFsIIYQ4jFZSUlLrzKmkpKQGJz4erqio6JgFJY6Ntjwpra3ee733bXmxlf0HR+n7GN7tBFfj0VF6FJYtlUq/gwf+WsjmXB82A4g5GYUdr8+HKyGOGbdeRs/unZrxbhqnrT7nQgghTjx1joD/6U9/CiXgPp+PJ598kvj4eCZOnEhqaip5eXm8++67VFRUMH369GYLWJwYikrKeeP9z/hu83Y8Hh+GoeNOcTHxrBEM6d+jUW/uxDGiOwm4ziKQeCbOglcxqjeCZgfAshQzXjnAjv1+HDYN5UjHIviY0+GgqtrLo88tZO7MG8hMT23JuxBCCCFOeHUm4FdddVXo3/fccw/9+vVj4cKFYYnTjBkzuPLKK9m8eXPTRilOGEopXnlzCR+v/AbTVGFlC2UV+5j95zdIT03mkd9dizvF1XKBtmWahrfdb7CV/Rtb5Vr0QAGrv69k6x4/UdExWLZU1BGL62iaht+0+Os/PuGB/7mqjhMLIYQQIhIRzbJatGgRkydPrjFqqWkav/nNb3j77bebJDhx4nlx4Qd8+NlXaJpeo2ZY0zScDgcFRWVMm/0yxaWRLncujjlNI5B4Bp70mVSn38vbG/pgSzgZ03FSjeT7EF3T2PzTbqo93mYOVgghhGhdIuqCUllZSUFBQa2PHThwgKqqqmMalGhZJV6TjSU+1hd58ZiKKEOjf7KTPi4HLmfdE/G2bMtl6cpvcNiDpQsK8NmcmIYdTVk4/B4MZaHrOlVVHp56aRGzpl3fPDclaqdpKHs7SipBO1iOUp+qag+FJeVktHc2Q3BCCCFE6xRRAj5q1CgeffRRevTowaBBg0Lbv/nmG2bNmsWoUaOaLEDRfL4q8PCPHRVsL/fjCSiibBq6pmEpxZI9VUQbGp3j7FzaJY4h7qgax7/x3mfYbDZMTSc/OYPCxPZ4HFEoTUdDYZgB4qtK6HBgBzHeSn7cvofi0nKSEuNrBiOaVaQdhDRdxx5BNxQhhBBC1C2iBHzevHlMnDiRM844g44dO5Kamkp+fj579uyhc+fOzJs3r6njFE2oMmDxh40l/LfQi00PlhrE2H8uN9I1jRhb8OudFX7mbChmUIqT3/VxEWsLVjF5fX5+3JaLxxlLTuf++AxHcLRb/bwwi9J0SmOTKYlvh7toD+l7NrPoo1XceMW5zX/TIkzXTu3Zm1eIrYFE3J2cSKrU7gshhBC/SEQJeJcuXfjqq6947bXX+Oqrr8jLy6Nnz54MGTKESZMmYbc3/NG1OD6V+S3u/qqAAx4Tu9FwZxJN07Ab8G2Rl7vWFjDv1HYk2HVKyyspUQY5XQZiaTpGHastaoBmWRxI7gBAXkHJMbwbcbSuumAcq7/eVO8+Pr+fUaf2lg42QgghxC8U8UqYdrud6667juuuu64p4xHNyLQUD/y3kAKviU1vXFJl0zUKvCYP/LeQp09thwbs6NQHS9OJ5Ey6pTiQ1JFiW/5RxS6OrdQUF5f/egxvvPdZreUoPr+f7K4ZTDrv9OYPTgghhGhlmn0penH8+L+t5eyu8GM3IltyXClFgdekwGMRsILrN20q9nGHdYDbs2LxxSSgmbWPfNd6Pstkd3Lno4pdHHuX/Oo0kl3xvLPkc/bsP4DftABFu6RExg7ry01X/Cqi1TCFEEIIUb86E/B+/fpF/FGzpmmsW7fuWMUkmkGF3+LTfVXYdI19VX4OeCwspUADh6aR6NRpH23DOPh/4EB1gL1VJn5LoR+Rr3+0p5I1B6pRcYlQWhzRCDgER9FVShqVAStUSy5a1rgRAzh9eH927slnX34R8bFR9Oiaid0u79WFEEKIY6XOV9WRI0dKrWcr9o/t5awv8lDotQhYoBQcerp1DQq9JvurTJIcBk4D9lebaBo1ku9DCrwWRMXg9fqJ8VQ0mIQrpUiIj8WjNPZXmXRLkAT8eKFpGl0y0uiSkdbSoQghhBCtUp0J+PPPP9+ccYhmtKPMxyPriqgIKDSN0J9DFOBXUOq3qPRbWEC8XYM60mpd0/AELGLsOv7YOLxmgCi/p87rKxQOh52TMtOptsB3sJxFCCGEEKItkGHHNmZ7uY8rVuwPJd91OZRuey3wW1DhVyhVd6JsERzVjnbasSW60HUN64hOKIpg8h0XE02vrE4Yho5D14i1ySctQgghhGg76hwBf/311zn77LNJTk7m9ddfb/BEkyZNOqaBiWPPY1o88N8iCjxWvcn3IergHwgm4X5L4aijVaFN0zAV2DTQ7XY6d++Cr6ycotJyTNNC1zWcDjsd27cjyukIHeeO0smMlfpiIYQQQrQddWY+t912G59++inJycncdttt9Z5E0zRJwI83ZhkOVYDui0HpUSgjkQ9zPWwu9WEphaJmQcmR2w6vDLEIjoY76miC4TQ0tIPpugYUei26u5NIcyfVGaLPVAzvGCNzDYQQQgjRptSZgK9fv5727duH/i1OAMqPrXw1tsov0f0H6GyWEbUvGjQDpcUQU9ARf2A8uuZAI5iEWyo4AfPw4hINah0hD1hgKYVey4O6puGy6xT6LHQtPHmvNVSliLNpXNIl7pfcsRBCCCHECafOBLxTp061/lsch5TCXvoRtorVaGYF6A7QdJRmB90JQHXASzpbyDS6U61HscGXTkDVPgVAEZ6UH0q3LRVcvEevpQzFoUOXeDu+Mj/lfqveLihKKQxNY2a/ZOLtMg1BCCGEEG2LZD8nOqVwFP4f9tJP0ZQvmHzXwmMqqi0bJjp2PKTbitCpf9GcQ0m0Ouzv2o6wlCLOrqNpGicn2Em068TZNbymqrGfz1SkRhvMGpRMr6TaYxVCCCGEaM0imv3m8/l4+umnWbRoEbm5uXi93rDHNU2jsLCwSQIU9XMUvYmtaj3o9T+VllI4dfNgZxINt72cUjOGcisaFcHSOYfqw2t7x6ah0SEmeH1N0+jpcvDM0HYs3VPNt4UevKbC0DXaOXUuOymeHokNJ96WZfHlt5tZufY78gpLKCuvxFIKh91Ou6QEOmekceFZI2iXnNjguYQQQgghjicRJeAPPPAAL7/8MmeccQbnnXceDoeMXB4P9OofsFWsAd3e4L52XcO0TBKNakrNGGyaItGoIoBOlRUV8TUNPTxZtxSkOA3sB7cHLEX/FCfuKBtXd4vn6m7xjbonpRTvLFnFkv98TX5hCU6HI2ySZiVeiksr+GHrbj5e8Q1ZJ3Xgt9deQIe0lEZdRwghhBCipUSUgC9evJiZM2cybdq0po5HNIKj7FPQImvhF2MLtgk8JWYHH5b2walbpNnLqLKcVONA1VGNpHHkBM2fk2GlFA5dp3NcMAZLKZIcOv+vl+uo7qegqJTZz7/Jtl37cNjtRDmdde5rswXbseTs2Meds17kgjOHc8V5Y6WjihBCCCGOexHVgFdWVnLqqac2dSyiETSzDN27q/Z2JbUo9ga7kwyL/YlYwwcEl5zv7CggRvfVf63D/j60aqVSCpuu0yPBHlwJ07RIcRrMGZxyVBMr9+UXctdjf2HXnnwc9oZH9EOUwuv189q/lvPMq/+sd7EgIYQQQojjQUTDp+eccw6rV69mzJgxTR2PiJC95GPAJMKnkAKvSbShYSqLcxM28m7JAAwNbLqiuzOfDdWdqCt1VYBdgxibjt+y8FvBVoQJmmJHhZ+eLge/6R7PuRlxdS7UU5/KKg/3Pfk3qjw+dD2y5L28sop9eYVUVnuxrODU0C3bclm3aStP339ro2MQQgghhGgudWZvO3bsCP375ptv5tZbb0XXdc466yySkmourtKlS5emiE/UQQvkR1x+AmCqYP22XYdTYnbisewsLeuNBjh1P1G6iU8Zwb7ghx13aPKlpQi1F4yzQ7ShkeQ0aOfU8JiKJXuq8VhwWZe4RpeBPPfXdykpq8Bui+R+FDv35HOgqBRN0w72LA9eTynFqq+/Z/L0p7jmglFkZWU1Kg4hhBBCiOZQZ8YzcODAsERKKcWcOXOYO3durfsXFRUd++hE3VT9ZSM1dj+YVccYGlUKRsVvpYO9hE/Ke7HX50LHQteM0CI6SgVbDmr8XAduaMGyFYehE1CK/dUmRV6N1GiFw9B5c3s5P5T4uL9/MjY9siT8h5xdrF2/JeKyk937CjhQVFrrYkAQrFHftmsf//fOcvr07EHP7tLDXgghhBDHlzoT8Pnz5zdnHKKxGjH6DcHE+dBwdoxNw2tB96gCukatoMK0c3vuDVhmMAlWWnBygEXwb5/1c6l5qB5c0zA0MFHsqTLxmNAlzsb6Ih9zvyvm3n5JEY2Ev/H+fyIc+QbTNDlQVFJn8n0ormqPj8pqH6++tZQn7r0ponMLIYQQQjSXOjOfK6+8sjnjEI2lOYLD1BGWezj0gwvjHBzSdhoaTl0joBQGARLsDuw2A0MLnrLMFxz/LvdboUsoqGMZeij0mtg0yIyz81WBhzUHPAxLja43Jo/XR86OPRGXrOw7UIR1sP68PpoGBSVlbN+9n335RaSnJkd0fiGEEEKI5lDnjDelFB999BGbNm2q8+Dvv/+ejz76qEkCE/Xzxw0D5Y94//QYA3XkNEsNbDpUGGl0dcXTO8nJyYkOqgPBevFQwn4YZx2TLHUNDnhM/JbCoWv8c1dlgzH9tHMv5RXVEd9DeUVVg8k3BEfBfb4ASsHHK7+J+PxCCCGEEM2hzgT8jTfe4MYbbyQmJqbOg+Pi4rjxxht5++23myQ4UTcrui/KFvnIbrxNx2nUfLrtBFhZPSz0daE3mEQrBX4VvkamQTBhrzMmFHsrA2iaxrYyPwc8Zr0xfbNxK3a7EfE9WFbkLQZ9gQC6rlFa3vAbASGEEEKI5lRnOvXWW29x5ZVX1tvdpHPnzlx99dW8/vrrTRGbqI+mEYjpH/kouAZpUUaNPtmlVgKbAj1DXx+oNjH0YNeUw3dV0GCLQV3TKPFbKKXwKcWafE+9+xeVlGEzIk/AtQgndgIoCwIBk4S4ut9ACiGEEEK0hDoT8PXr1zNu3LgGTzB27Fi+/fbbYxqUiIw/8SyUnhCeKdcjNdogxflzEm4okxWeEaFVMJVSeGsZZVYEa8jrKj8Ji8lS+CwwDibj9Ym05/chCXExWJEutKMpNE3jrNMGN+oaQgghhBBNrc4MqKKiApfL1eAJXC4XFRUVxzImESk9Gk/qbcGOKBEmpifF2WkXZaCrAF94T+FL35DQYxY1T3Mo+Y6JcIEdBQSUwlIQ08Dgdma6G58/ENF5AdLdyegRjoLrms5JndrTIS0l4vMLIYQQQjSHOhPwlJQUdu/e3eAJcnNzSUmRJKelKEca1e1/h9JjwYqkN7hFlxiNqJSz+N72a0xLYR4c9T6U2ioVnFRp6BBr6MTYtBqTMeuiqYP/qZSiW7yj3n0H9cmK+I0DgGEYuJMTIxoFd9ht/ObSsyI+txBCCCFEc6mzDeGwYcN4/fXXueyyy+o9wWuvvcawYcPq3Uc0LWVPpbrDPdjLlmNUfoNuFlLjqbV8KD0aKyoLX+I5dHZmMq8T7K/y848dlRR6TbymYmdFAA3oEGNjW7mfykD9ZSRH0nWw6xruKIN+yfUn4BntU0h2xVNZ7Y34/JnpbkzToqC4LLQS5uGUCk4gHTeqD71P7tKo2IUQQgghmkOdCfiUKVM455xzmDlzJg8//DAOR3gy5ff7uf/++1mxYgVLlixp8kBFA/Qo/K5z8Seeg+7Zgr1iNdVV+4lyJIDmxHJk4E8YC3p4b+72MXb+Xy9X6Ov5P5SwbF81Nl2jfbTB1nIr0sFvlFLE2QxMBaPSohvs720YBgN6d+M/a75rxGRMjS4Z7UlxxbM3v4jKag+WFezWYrMZJMTHkpGWwo2XjI/wfEIIIYQQzavOBHzIkCHMmjWL+++/n3/84x+MGzeOzMxMAHbv3s3y5cspKipi1qxZnHrqqc0WsGiApmFFZ+ONzmZPSQ4xaVmNOvyKk+L5z/5gb26XQyfG0Kg2VUTr/VhotI/WSXbqXNg5NqLrXXXBOFZ/80ON7iwNiY+LpUdcLKZlEQgEWx/abTZM02JI/5OJi61/ESAhhBBCiJZS7xrgt912G/379+eZZ57h/fffp7o6mJhFR0czatQopk6dyogRI5olUNE8UqIM+iU7+W+hF7uu0SPRwaYSHz6r/iRcKUW0odPOafDwgGRi62sYfvj1khK48OwRvPHeZzjs9kbHa+g6xmGfzsTHRfPb6y5g756G5y8IIYQQQrSEehNwgJEjRzJy5Egsy6KwsBCA5ORkjEb0bxYnlul9kpj+1QFyq0zsukavJAdby/xUHGwreGQiblkKQ9M4LS2aRwYmkxrd4H+rMJdNGM13m7ezaetO7LbGJ+E/U9x2zXnExkT9gnMIIYQQQjStiBsx67qO2+3G7XZL8t3KOQ2Nuae0o0eCHZ9poQM9Eh30SXKQ5DQwDk5+VEqBgvbRNv4+pj0vjEhtdPINwaXjH7zjKnp264TPH+HCQocJTry0uP3a8xnSv0ejjxdCCCGEaE6Nz5ZEmxBt03l8cArfFnlZtKOCnDI/fgvSow3SogwcBnSOtXNep1hGp0Vja8QqlbVx2O08etd1LPjnv/lg2VqUUhEt1OPz++mQmsJdN11M107pvygGIYQQQojmIAm4qJOmaQxKiWJQShTFXpNt5X6KfRYJdp1OcTbaH8Vod310Xee6i89k/IgB/N87n7IpZxel5ZU4nQ4M/efVOn3+ABqK9LQUTh/enwvPGonNJp/KCCGEEOLEIAm4iEiS02Cws3mS3Ix0N/fePomqai8bf9zBN9/9yIGiMpRSOOw2srtlMqhPFp06uBtsdSiEEEIIcbw5oRPwl19+meeee468vDyys7OZPXu2dGVpRWKinQzp30PquoUQQgjRqkQ8CfN4884773DPPfdw1113sWLFCoYMGcKll17K7t3Sfk4IIYQQQhy/TtgEfP78+Vx55ZVcd9119OjRgyeeeIK0tDReffXVlg5NCCGEEEKIOp2QCbjP52PdunWMGzcubPu4ceNYs2ZNC0UlhBBCCCFEw07IGvDCwkJM08Ttdodtd7vd5Ofn13pMTk5Oc4R23Gmr9w1t997b6n1D27z3rKyslg5BCCFEI52QCfghR3bAUErV2RWjLb5I5eTktMn7hrZ77231vqFt37sQQogTywlZgpKSkoJhGDVGuwsKCmqMigshhBBCCHE8OSETcIfDwYABA1i+fHnY9uXLlzN06NAWikoIIYQQQoiGnbAlKLfffju33HILgwcPZujQobz66qvs37+fyZMnt3RoQgghhBBC1OmETcAvuugiioqKeOKJJ8jLy6Nnz5689dZbdOrUqaVDE0IIIYQQok4nbAIOcOONN3LjjTe2dBhCCCGEEEJE7ISsARdCCCGEEOJEJQm4EEIIIYQQzUgScCGEEEIIIZqRJOBCCCGEEEI0I0nAhRBCCCGEaEaSgAshhBBCCNGMJAEXQgghhBCiGUkCLoQQQgghRDOSBFwIIYQQQohmJAm4EEIIIYQQzUgScCGEEEIIIZqRJOBCCCGEEEI0I0nAhRBCCCGEaEaSgAshhBBCCNGMJAEXQgghhBCiGUkCLoQQQgghRDOSBFwIIYQQQohmJAm4EEIIIYQQzUgrKSlRLR2EEEIIIYQQbYWMgAshhBBCCNGMJAEXQgghhBCiGUkCLoQQQgghRDOSBFwIIYQQQohmJAm4EEIIIYQQzahVJ+Avv/wy/fr1Iy0tjTFjxrB69eqWDqnJPf3005x++ulkZmbSrVs3Lr/8cjZt2tTSYTW7p556CpfLxfTp01s6lGaxf/9+br31Vrp160ZaWhpDhw5l1apVLR1WkzJNk1mzZoV+xvv168esWbMIBAItHdox9/nnn3PFFVfQs2dPXC4XCxcuDHtcKcXs2bPJzs6mffv2TJgwgR9++KGFohVCCNGQVpuAv/POO9xzzz3cddddrFixgiFDhnDppZeye/fulg6tSa1atYobbriBpUuXsnjxYmw2GxMnTqS4uLilQ2s2X331FX/729/o3bt3S4fSLEpKSjj77LNRSvHWW2+xZs0a5s2bh9vtbunQmtQzzzzDyy+/zNy5c1m7di1z5szhpZde4umnn27p0I65yspKevXqxZw5c4iOjq7x+LPPPsv8+fOZO3cuy5Ytw+12c+GFF1JeXt4C0QohhGhIq+0DPn78eHr37s1zzz0X2jZo0CAuuOACfv/737dgZM2roqKCTp06sXDhQs4999yWDqfJlZaWMmbMGJ599lnmzZtHr169eOKJJ1o6rCb1yCOP8Pnnn7N06dKWDqVZXX755SQlJfHCCy+Ett16660UFxfz5ptvtmBkTatjx47MmzePq666CgiOfmdnZ3PTTTcxbdo0AKqrq8nKyuLRRx9l8uTJLRmuEEKIWrTKEXCfz8e6desYN25c2PZx48axZs2aFoqqZVRUVGBZFi6Xq6VDaRZTp07lggsuYMyYMS0dSrP54IMPGDx4MJMnT6Z79+6MGjWKv/zlLyjVKt9bhwwbNoxVq1bx448/ArB582ZWrlzJmWee2cKRNa+dO3eSl5cX9vsuOjqaESNGtLnfd0IIcaKwtXQATaGwsBDTNGt8BO92u8nPz2+hqFrGPffcQ9++fRkyZEhLh9Lk/va3v7Ft2zZefPHFlg6lWe3YsYNXXnmF2267jalTp/Ldd98xY8YMAG6++eYWjq7pTJ06lYqKCoYOHYphGAQCAaZNm8aNN97Y0qE1q7y8PIBaf9/t27evJUISQgjRgFaZgB+iaVrY10qpGttas3vvvZcvv/ySJUuWYBhGS4fTpHJycnjkkUf46KOPcDgcLR1Os7Isi4EDB4ZKq/r378+2bdt4+eWXW3UC/s477/DGG2/w8ssvk52dzXfffcc999xDp06duPbaa1s6vGbX1n/fCSHEiaRVJuApKSkYhlFjtLugoKDVT0w7ZObMmbzzzju89957dOnSpaXDaXJr166lsLCQ4cOHh7aZpsnq1at59dVX2bt3L06nswUjbDppaWn06NEjbNvJJ59Mbm5uC0XUPB588EF++9vfcvHFFwPQu3dvdu/ezR/+8Ic2lYCnpaUBkJ+fT0ZGRmh7W/p9J4QQJ5pWWQPucDgYMGAAy5cvD9u+fPlyhg4d2kJRNZ8ZM2bw9ttvs3jxYk4++eSWDqdZTJgwgdWrV7Ny5crQn4EDB3LxxRezcuXKVj0qPmzYMLZu3Rq2bevWrWRmZrZQRM2jqqqqxic7hmFgWVYLRdQyOnfuTFpaWtjvO4/HwxdffNEmft8JIcSJqFWOgAPcfvvt3HLLLQwePJihQ4fy6quvsn///lbfEWDatGm8+eab/P3vf8flcoXqQ2NjY4mLi2vh6JqOy+WqMdE0JiaGpKQkevXq1TJBNZPbbruNs846iyeffJKLLrqIDRs28Je//IUHHnigpUNrUueccw7PPPMMnTt3Jjs7mw0bNjB//nyuuOKKlg7tmKuoqGDbtm1AsOQoNzeXDRs2kJSURGZmJlOmTOGpp54iKyuL7t278+STTxIbG8sll1zSwpELIYSoTattQwjBhXieffZZ8vLy6NmzJ48//jgjR45s6bCaVF3dTmbMmMHMmTObN5gWNmHChDbRhhBg6dKlPPLII2zdupWMjAxuuukmbrnlllZdA1xeXs5jjz3G+++/T0FBAWlpaVx88cXcfffdREVFtXR4x9TKlSs577zzamyfNGkSzz//PEop5syZw1//+ldKSkoYPHgwTz75ZKt/8ymEECeqVp2ACyGEEEIIcbxplTXgQgghhBBCHK8kARdCCCGEEKIZSQIuhBBCCCFEM5IEXAghhBBCiGYkCbgQQgghhBDNSBJwIYQQQgghmpEk4KJWa9eu5frrryc7Oxu3281JJ53ExIkTee211zBNE4CFCxficrlCC4TUZefOnbhcLhYuXBjaNmXKFPr27dtgHIeusXPnzl92Q0IIIYQQx4lWuxKmOHp//vOfue+++xg9ejQPPfQQmZmZlJSUsHz5cu666y4SExOZMGFCxOdr3749n3zyCSeddFITRi2EEEIIcWKQBFyE+fzzz7nvvvu46aabmDdvXthjEyZM4Pbbb6eysrJR53Q6nZx66qnHMswwSin8fj8Oh6PJrtGc/H4/NputVa9iKYQQQrRlUoIiwjzzzDMkJSXxyCOP1Pr4SSedRJ8+fcK2FRYWctNNN5GZmUl2djZ33303Ho8n9HhtJSi12bFjB5dddhnp6el069aNGTNm4PP5auzXt29fbr75ZhYsWMCpp56K2+1m6dKlAHz33XdcccUVdO7cmfbt23P22WezevXqsOOnTJlCr169WL9+Peeeey7p6ekMGjSIV199tcHvz8qVK3G5XPzrX/9iypQpdO7cmczMTG666SaKiorC9g0EAjz99NOceuqppKamkp2dzX333Vfr9+bll1/mwQcfJDs7m9TUVEpLS2tc2zRNOnXqxBNPPBHa9v333+NyuTjnnHPC9u3VqxcPPvhg6Ov9+/dzyy230LVrV1JTUxkxYgRvvvlm2DGHyn3WrFnD9ddfT0ZGBllZWTz99NMAfPrpp5x22ml06NCB008/nXXr1oUdv2zZMi699FJ69OhBeno6w4cP549//GOoZOmQQ8/fokWLGDJkCB06dGDs2LF88cUXDX7/hRBCiNZARsBFiGmarFq1igkTJhAVFRXxcbfccgsXX3wxCxYsYO3atcyZMweXy8W9994b8Tl8Ph8TJ07E4/HwxBNP4Ha7+d///V/ef//9WvdfuXIl3333HTNmzMDtdtOpUyfWrVvHr371K/r168dzzz1HdHQ0r776KhMnTuTjjz9mwIABoePLy8u56aabmDJlCnfffTcLFy7kzjvvpHv37owePbrBeO+9917GjBnDK6+8wk8//cSjjz7Kvn37wuK9+eabWbJkCXfccQdDhw5ly5YtPPbYY+zatYsFCxaEne+pp55i4MCBPPPMM5imidPprHFNwzAYMWIEK1asYPr06QCsWLGC6OhovvnmGyorK4mNjSUnJ4e9e/dy2mmnAVBZWcmECRMoKSnhwQcfpGPHjrz11lvccsstVFdXc/3114ddZ8qUKVxxxRVcf/31vPvuuzzyyCOUlpbyySefcNdddxEbG8vvf/97rrrqKr799tvQJw87duxg9OjR3HzzzTidTtatW8fcuXMpLCzkoYceCrvG6tWrycnJ4b777sPpdPLYY49x+eWXs2HDBlwuV4PffyGEEOJEJgm4CCksLKS6uprMzMxGHXfJJZeEku2xY8fyzTffsGjRokYl4K+//jo7duzgk08+CZWrnHnmmYwYMaLW/UtKSvjss89IS0sLbTv//PPJyMhg8eLFoaRw/PjxDB8+nHnz5vHaa6+F9i0vL2fhwoWhZHvEiBEsW7aMRYsWRZSAZ2dn8+c//xmAM844g6SkJG6++Wb+85//MGbMGFavXs0777zD888/z6RJk0Lfm0P7bdiwgX79+oXO53a7WbhwYYNlJ6eddhqPPvooXq8Xp9PJypUrmTRpEm+++SZffvkl48ePZ+XKldhsNoYPHw4ER7Z/+ukn3nvvvVBSfuaZZ5Kfn8+sWbO45pprMAwjdI3LL7+cu+++G4BRo0bx/vvvM3/+fL7++mu6dOkCgGVZXHnllaxdu5ZRo0YB8Jvf/CZ0DqUUI0aMwOfz8cc//pEHH3wQXf/5A7fy8nJWrVoVSrbT0tI4/fTT+eSTT7j00ksb/P4LIYQQJzIpQRG/2Nlnnx32da9evcjNzW3UOdauXUtGRkZYrbiu60ycOLHW/U855ZSw5Lu6uprPP/+cCy64AF3XCQQCBAIBlFKhhPhwMTExYYm20+mkW7duEcd9ZFwTJ05E13XWrl0LwL///W8cDgfnn39+KJZAIMC4ceMAasQzYcKEiGq+TzvtNDweD2vWrMGyLD7//HPGjRvH0KFDWbFiBRAcFR80aBBxcXGha3Xo0CGUfB9y2WWXUVBQwObNm8O2n3nmmaF/22w2unbtSvfu3UPJN8DJJ58MwJ49e0Lb9u/fz9SpU+nTpw9ut5t27doxa9YsSktLOXDgQNg1hgwZEjbS3atXL4BG/78RQgghTkQyAi5CkpOTiY6OZvfu3Y06LikpKexrh8OB1+tt1Dny8vJwu901tqempta6f/v27cO+Li4uxjRNnnjiibAa6cNZlhUaha2tzMHhcITVZ9fnyLgcDgcul4t9+/YBcODAAXw+Hx07dqz1+CPrxY+8n7r07duX5ORkVq5cSUJCAuXl5YwaNYqcnBzee+89lFKsWrWK6667LnRMcXFx2JuVQw5tKy4uDtt+5PfGbrfXug0IPc+WZTFp0iT279/PPffcQ1ZWFtHR0XzwwQc8+eSTNb6vR/6fOVRyE+n3XwghhDiRSQIuQmw2G6NGjWL58uWhEofmkpaWVmMkFiA/P7/W/Y8cLU5MTETXdW688cZQyceRDi+B+KWOjMvn81FSUkJ6ejoQfDMTFRXFRx99VOvxRybckXY80TSNkSNHsnLlSuLj4+nbty8ul4vRo0cza9YsvvzySwoKCsJGu5OSkti6dWuNc+Xl5YVi/aW2b9/Ot99+y4svvsjll18e2l7X/QshhBBtmZSgiDBTp06lqKiIBx54oNbHd+zYwcaNG4/5dYcMGUJubi5fffVVaJtlWbz77rsRHR8bG8vw4cPZuHEj/fv3Z+DAgTX+HEtHxvXuu+9iWRZDhgwBgrXnHo+HsrKyWmM5lKgfjdNOO41vvvmGJUuWhMpoBgwYQGxsLHPmzMHhcDB06NDQ/iNHjmTPnj18+eWXYed5++23cbvd9OjR46hjOaSqqgr4eWQcgu0U//GPf/zicwshhBCtjYyAizAjR47kscce47777uPHH3/kyiuvJCMjg5KSEv7zn/+wYMECXnrppRqtCH+pSZMm8Yc//IFrrrmGBx54ALfbzauvvkp5eXnE53jssceYMGECF110Eddccw1paWkUFhayYcMGTNOs0Ynjl9i8eTO33XYbF198MVu3bmXWrFmMHDmSMWPGAMEk+ZJLLuHaa6/l9ttvZ/Dgwei6zq5du/j44495+OGH6d69+1Fde/To0fj9flavXs3UqVOBYIeU4cOHs3TpUkaMGEF0dHRo/yuvvJIXXngh9L3t0KEDb731FsuXL+eZZ54Jm4B5tHr06EFmZiaPPvoohmFgs9lCk1SFEEIIEU4ScFHDbbfdxuDBg/nzn//MAw88QGFhIXFxcQwcOJA//OEPnHvuucf8mg6Hg3fffZfp06czbdo0YmJiuOSSSzj77LP53e9+F9E5BgwYwLJly5g7dy4zZsygrKyMdu3a0a9fv7AOHcfC7Nmz+eijj5g8eTKWZXHOOecwd+7csH3+8pe/8OKLL/L3v/+dp556CqfTSWZmJuPHj6+13j1Sh3qFFxUVhTqdQDAxX7p0aY3JlrGxsXzwwQc8+OCDPPTQQ1RUVNC9e/ca5SK/hMPhYOHChdx9993ceuutJCUlcdVVV5GZmcn//M//HJNrCCGEEK2FVlJSolo6CCFOFCtXruS8887j3XffZezYsS0djhBCCCFOQFIDLoQQQgghRDOSBFwIIYQQQohmJCUoQgghhBBCNCMZARdCCCGEEKIZSQIuhBBCCCFEM5IEXAghhBBCiGYkCbgQQgghhBDNSBJwIYQQQgghmpEk4EIIIYQQQjSj/w8LYngquWYtiAAAAABJRU5ErkJggg==\n",
          "text/plain": "<Figure size 360x360 with 1 Axes>"
         },
         "metadata": {},
         "output_type": "display_data"
        }
       ]
      }
     },
     "2e52c64a5d7c4414accea616fc31f27f": {
      "model_module": "@jupyter-widgets/controls",
      "model_module_version": "1.5.0",
      "model_name": "HBoxModel",
      "state": {
       "_dom_classes": [],
       "_model_module": "@jupyter-widgets/controls",
       "_model_module_version": "1.5.0",
       "_model_name": "HBoxModel",
       "_view_count": null,
       "_view_module": "@jupyter-widgets/controls",
       "_view_module_version": "1.5.0",
       "_view_name": "HBoxView",
       "box_style": "",
       "children": [
        "IPY_MODEL_3ccd8cf554d044e6ad69f3e60452f128",
        "IPY_MODEL_303f92ab1a9d4bb28dac6ed3eccffe2e"
       ],
       "layout": "IPY_MODEL_9db641128a1a4bf28025d9eaaccc87b0"
      }
     },
     "303f92ab1a9d4bb28dac6ed3eccffe2e": {
      "model_module": "@jupyter-widgets/controls",
      "model_module_version": "1.5.0",
      "model_name": "ButtonModel",
      "state": {
       "_dom_classes": [],
       "_model_module": "@jupyter-widgets/controls",
       "_model_module_version": "1.5.0",
       "_model_name": "ButtonModel",
       "_view_count": null,
       "_view_module": "@jupyter-widgets/controls",
       "_view_module_version": "1.5.0",
       "_view_name": "ButtonView",
       "button_style": "",
       "description": "Submit",
       "disabled": false,
       "icon": "",
       "layout": "IPY_MODEL_e475aa99c943404e9ef9278402f9efdb",
       "style": "IPY_MODEL_822e6ca70b634d24b1e3bd4c13b63ba0",
       "tooltip": ""
      }
     },
     "306a6db53a4b4bfc8ac79a40f7503cce": {
      "model_module": "@jupyter-widgets/controls",
      "model_module_version": "1.5.0",
      "model_name": "ButtonModel",
      "state": {
       "_dom_classes": [],
       "_model_module": "@jupyter-widgets/controls",
       "_model_module_version": "1.5.0",
       "_model_name": "ButtonModel",
       "_view_count": null,
       "_view_module": "@jupyter-widgets/controls",
       "_view_module_version": "1.5.0",
       "_view_name": "ButtonView",
       "button_style": "",
       "description": "Submit",
       "disabled": false,
       "icon": "",
       "layout": "IPY_MODEL_09a0598bb65647dd8d5b6704f8b996d4",
       "style": "IPY_MODEL_0f35c3d063004d7c886b70781f83cb94",
       "tooltip": ""
      }
     },
     "3085bf17899f46b4b913cec058eadeb7": {
      "model_module": "@jupyter-widgets/controls",
      "model_module_version": "1.5.0",
      "model_name": "AccordionModel",
      "state": {
       "_dom_classes": [],
       "_model_module": "@jupyter-widgets/controls",
       "_model_module_version": "1.5.0",
       "_model_name": "AccordionModel",
       "_titles": {
        "0": "  Feedback Form"
       },
       "_view_count": null,
       "_view_module": "@jupyter-widgets/controls",
       "_view_module_version": "1.5.0",
       "_view_name": "AccordionView",
       "box_style": "",
       "children": [
        "IPY_MODEL_7885ca2910fb4bf09176f4a412aca4b0"
       ],
       "layout": "IPY_MODEL_19516d97eba942748c4500eef17272ec",
       "selected_index": 0
      }
     },
     "31ce3def9529490ebcc5c854d93f7532": {
      "model_module": "@jupyter-widgets/base",
      "model_module_version": "1.2.0",
      "model_name": "LayoutModel",
      "state": {
       "_model_module": "@jupyter-widgets/base",
       "_model_module_version": "1.2.0",
       "_model_name": "LayoutModel",
       "_view_count": null,
       "_view_module": "@jupyter-widgets/base",
       "_view_module_version": "1.2.0",
       "_view_name": "LayoutView",
       "align_content": null,
       "align_items": null,
       "align_self": null,
       "border": null,
       "bottom": null,
       "display": null,
       "flex": null,
       "flex_flow": null,
       "grid_area": null,
       "grid_auto_columns": null,
       "grid_auto_flow": null,
       "grid_auto_rows": null,
       "grid_column": null,
       "grid_gap": null,
       "grid_row": null,
       "grid_template_areas": null,
       "grid_template_columns": null,
       "grid_template_rows": null,
       "height": null,
       "justify_content": null,
       "justify_items": null,
       "left": null,
       "margin": null,
       "max_height": null,
       "max_width": null,
       "min_height": null,
       "min_width": null,
       "object_fit": null,
       "object_position": null,
       "order": null,
       "overflow": null,
       "overflow_x": null,
       "overflow_y": null,
       "padding": null,
       "right": null,
       "top": null,
       "visibility": null,
       "width": null
      }
     },
     "39b2424ce98b4137a73e03aacdfceb08": {
      "model_module": "@jupyter-widgets/base",
      "model_module_version": "1.2.0",
      "model_name": "LayoutModel",
      "state": {
       "_model_module": "@jupyter-widgets/base",
       "_model_module_version": "1.2.0",
       "_model_name": "LayoutModel",
       "_view_count": null,
       "_view_module": "@jupyter-widgets/base",
       "_view_module_version": "1.2.0",
       "_view_name": "LayoutView",
       "align_content": null,
       "align_items": null,
       "align_self": null,
       "border": null,
       "bottom": null,
       "display": null,
       "flex": null,
       "flex_flow": null,
       "grid_area": null,
       "grid_auto_columns": null,
       "grid_auto_flow": null,
       "grid_auto_rows": null,
       "grid_column": null,
       "grid_gap": null,
       "grid_row": null,
       "grid_template_areas": null,
       "grid_template_columns": null,
       "grid_template_rows": null,
       "height": null,
       "justify_content": null,
       "justify_items": null,
       "left": null,
       "margin": null,
       "max_height": null,
       "max_width": null,
       "min_height": null,
       "min_width": null,
       "object_fit": null,
       "object_position": null,
       "order": null,
       "overflow": null,
       "overflow_x": null,
       "overflow_y": null,
       "padding": null,
       "right": null,
       "top": null,
       "visibility": null,
       "width": null
      }
     },
     "3b999c1881c546479b0739a95b1fbaa2": {
      "model_module": "@jupyter-widgets/controls",
      "model_module_version": "1.5.0",
      "model_name": "SliderStyleModel",
      "state": {
       "_model_module": "@jupyter-widgets/controls",
       "_model_module_version": "1.5.0",
       "_model_name": "SliderStyleModel",
       "_view_count": null,
       "_view_module": "@jupyter-widgets/base",
       "_view_module_version": "1.2.0",
       "_view_name": "StyleView",
       "description_width": "",
       "handle_color": null
      }
     },
     "3ccd8cf554d044e6ad69f3e60452f128": {
      "model_module": "@jupyter-widgets/controls",
      "model_module_version": "1.5.0",
      "model_name": "TextModel",
      "state": {
       "_dom_classes": [],
       "_model_module": "@jupyter-widgets/controls",
       "_model_module_version": "1.5.0",
       "_model_name": "TextModel",
       "_view_count": null,
       "_view_module": "@jupyter-widgets/controls",
       "_view_module_version": "1.5.0",
       "_view_name": "TextView",
       "continuous_update": true,
       "description": "",
       "description_tooltip": null,
       "disabled": false,
       "layout": "IPY_MODEL_7f5fca72d8284c669caf6b6443921b25",
       "placeholder": "Press enter to submit.",
       "style": "IPY_MODEL_2aac6ceb5e8d4305ac83b26171399d4d",
       "value": ""
      }
     },
     "44502fdf6c824c0daed65c0fcb541bad": {
      "model_module": "@jupyter-widgets/base",
      "model_module_version": "1.2.0",
      "model_name": "LayoutModel",
      "state": {
       "_model_module": "@jupyter-widgets/base",
       "_model_module_version": "1.2.0",
       "_model_name": "LayoutModel",
       "_view_count": null,
       "_view_module": "@jupyter-widgets/base",
       "_view_module_version": "1.2.0",
       "_view_name": "LayoutView",
       "align_content": null,
       "align_items": null,
       "align_self": null,
       "border": null,
       "bottom": null,
       "display": null,
       "flex": null,
       "flex_flow": null,
       "grid_area": null,
       "grid_auto_columns": null,
       "grid_auto_flow": null,
       "grid_auto_rows": null,
       "grid_column": null,
       "grid_gap": null,
       "grid_row": null,
       "grid_template_areas": null,
       "grid_template_columns": null,
       "grid_template_rows": null,
       "height": null,
       "justify_content": null,
       "justify_items": null,
       "left": null,
       "margin": null,
       "max_height": null,
       "max_width": null,
       "min_height": null,
       "min_width": null,
       "object_fit": null,
       "object_position": null,
       "order": null,
       "overflow": null,
       "overflow_x": null,
       "overflow_y": null,
       "padding": null,
       "right": null,
       "top": null,
       "visibility": null,
       "width": null
      }
     },
     "4a9fa6a831424ce7b8ac514e1806955c": {
      "model_module": "@jupyter-widgets/base",
      "model_module_version": "1.2.0",
      "model_name": "LayoutModel",
      "state": {
       "_model_module": "@jupyter-widgets/base",
       "_model_module_version": "1.2.0",
       "_model_name": "LayoutModel",
       "_view_count": null,
       "_view_module": "@jupyter-widgets/base",
       "_view_module_version": "1.2.0",
       "_view_name": "LayoutView",
       "align_content": null,
       "align_items": null,
       "align_self": null,
       "border": null,
       "bottom": null,
       "display": null,
       "flex": null,
       "flex_flow": null,
       "grid_area": null,
       "grid_auto_columns": null,
       "grid_auto_flow": null,
       "grid_auto_rows": null,
       "grid_column": null,
       "grid_gap": null,
       "grid_row": null,
       "grid_template_areas": null,
       "grid_template_columns": null,
       "grid_template_rows": null,
       "height": null,
       "justify_content": null,
       "justify_items": null,
       "left": null,
       "margin": null,
       "max_height": null,
       "max_width": null,
       "min_height": null,
       "min_width": null,
       "object_fit": null,
       "object_position": null,
       "order": null,
       "overflow": null,
       "overflow_x": null,
       "overflow_y": null,
       "padding": null,
       "right": null,
       "top": null,
       "visibility": null,
       "width": null
      }
     },
     "4fd4a20f645a41a5b0d5d6266ecd7cc5": {
      "model_module": "@jupyter-widgets/base",
      "model_module_version": "1.2.0",
      "model_name": "LayoutModel",
      "state": {
       "_model_module": "@jupyter-widgets/base",
       "_model_module_version": "1.2.0",
       "_model_name": "LayoutModel",
       "_view_count": null,
       "_view_module": "@jupyter-widgets/base",
       "_view_module_version": "1.2.0",
       "_view_name": "LayoutView",
       "align_content": null,
       "align_items": null,
       "align_self": null,
       "border": null,
       "bottom": null,
       "display": null,
       "flex": null,
       "flex_flow": null,
       "grid_area": null,
       "grid_auto_columns": null,
       "grid_auto_flow": null,
       "grid_auto_rows": null,
       "grid_column": null,
       "grid_gap": null,
       "grid_row": null,
       "grid_template_areas": null,
       "grid_template_columns": null,
       "grid_template_rows": null,
       "height": null,
       "justify_content": null,
       "justify_items": null,
       "left": null,
       "margin": null,
       "max_height": null,
       "max_width": null,
       "min_height": null,
       "min_width": null,
       "object_fit": null,
       "object_position": null,
       "order": null,
       "overflow": null,
       "overflow_x": null,
       "overflow_y": null,
       "padding": null,
       "right": null,
       "top": null,
       "visibility": null,
       "width": null
      }
     },
     "5118292e0a434cb790782fb6eaae46a4": {
      "model_module": "@jupyter-widgets/controls",
      "model_module_version": "1.5.0",
      "model_name": "DescriptionStyleModel",
      "state": {
       "_model_module": "@jupyter-widgets/controls",
       "_model_module_version": "1.5.0",
       "_model_name": "DescriptionStyleModel",
       "_view_count": null,
       "_view_module": "@jupyter-widgets/base",
       "_view_module_version": "1.2.0",
       "_view_name": "StyleView",
       "description_width": ""
      }
     },
     "57f01798611a407baebb105f8fc818b0": {
      "model_module": "@jupyter-widgets/controls",
      "model_module_version": "1.5.0",
      "model_name": "DescriptionStyleModel",
      "state": {
       "_model_module": "@jupyter-widgets/controls",
       "_model_module_version": "1.5.0",
       "_model_name": "DescriptionStyleModel",
       "_view_count": null,
       "_view_module": "@jupyter-widgets/base",
       "_view_module_version": "1.2.0",
       "_view_name": "StyleView",
       "description_width": ""
      }
     },
     "59860e72ca09425da4073f2ef8dae851": {
      "model_module": "@jupyter-widgets/controls",
      "model_module_version": "1.5.0",
      "model_name": "DescriptionStyleModel",
      "state": {
       "_model_module": "@jupyter-widgets/controls",
       "_model_module_version": "1.5.0",
       "_model_name": "DescriptionStyleModel",
       "_view_count": null,
       "_view_module": "@jupyter-widgets/base",
       "_view_module_version": "1.2.0",
       "_view_name": "StyleView",
       "description_width": ""
      }
     },
     "5f7cd1b69b7e4456a65a0bb728830af0": {
      "model_module": "@jupyter-widgets/base",
      "model_module_version": "1.2.0",
      "model_name": "LayoutModel",
      "state": {
       "_model_module": "@jupyter-widgets/base",
       "_model_module_version": "1.2.0",
       "_model_name": "LayoutModel",
       "_view_count": null,
       "_view_module": "@jupyter-widgets/base",
       "_view_module_version": "1.2.0",
       "_view_name": "LayoutView",
       "align_content": null,
       "align_items": null,
       "align_self": null,
       "border": null,
       "bottom": null,
       "display": null,
       "flex": null,
       "flex_flow": null,
       "grid_area": null,
       "grid_auto_columns": null,
       "grid_auto_flow": null,
       "grid_auto_rows": null,
       "grid_column": null,
       "grid_gap": null,
       "grid_row": null,
       "grid_template_areas": null,
       "grid_template_columns": null,
       "grid_template_rows": null,
       "height": null,
       "justify_content": null,
       "justify_items": null,
       "left": null,
       "margin": null,
       "max_height": null,
       "max_width": null,
       "min_height": null,
       "min_width": null,
       "object_fit": null,
       "object_position": null,
       "order": null,
       "overflow": null,
       "overflow_x": null,
       "overflow_y": null,
       "padding": null,
       "right": null,
       "top": null,
       "visibility": null,
       "width": null
      }
     },
     "61ca82267a8c4013847be671f6f526ff": {
      "model_module": "@jupyter-widgets/base",
      "model_module_version": "1.2.0",
      "model_name": "LayoutModel",
      "state": {
       "_model_module": "@jupyter-widgets/base",
       "_model_module_version": "1.2.0",
       "_model_name": "LayoutModel",
       "_view_count": null,
       "_view_module": "@jupyter-widgets/base",
       "_view_module_version": "1.2.0",
       "_view_name": "LayoutView",
       "align_content": null,
       "align_items": null,
       "align_self": null,
       "border": null,
       "bottom": null,
       "display": null,
       "flex": null,
       "flex_flow": null,
       "grid_area": null,
       "grid_auto_columns": null,
       "grid_auto_flow": null,
       "grid_auto_rows": null,
       "grid_column": null,
       "grid_gap": null,
       "grid_row": null,
       "grid_template_areas": null,
       "grid_template_columns": null,
       "grid_template_rows": null,
       "height": null,
       "justify_content": null,
       "justify_items": null,
       "left": null,
       "margin": null,
       "max_height": null,
       "max_width": null,
       "min_height": null,
       "min_width": null,
       "object_fit": null,
       "object_position": null,
       "order": null,
       "overflow": null,
       "overflow_x": null,
       "overflow_y": null,
       "padding": null,
       "right": null,
       "top": null,
       "visibility": null,
       "width": null
      }
     },
     "663fa25a32c6448a904aecd43f0d1ea0": {
      "model_module": "@jupyter-widgets/controls",
      "model_module_version": "1.5.0",
      "model_name": "LabelModel",
      "state": {
       "_dom_classes": [],
       "_model_module": "@jupyter-widgets/controls",
       "_model_module_version": "1.5.0",
       "_model_name": "LabelModel",
       "_view_count": null,
       "_view_module": "@jupyter-widgets/controls",
       "_view_module_version": "1.5.0",
       "_view_name": "LabelView",
       "description": "",
       "description_tooltip": null,
       "layout": "IPY_MODEL_a505cb23f7f042b895a71882ec95398a",
       "placeholder": "​",
       "style": "IPY_MODEL_f4853a1c95f44f2a89570d92d67ccd12",
       "value": "Was the message you saw useful?"
      }
     },
     "6aecee72cba84b6e8acc2272b3daee06": {
      "model_module": "@jupyter-widgets/controls",
      "model_module_version": "1.5.0",
      "model_name": "DescriptionStyleModel",
      "state": {
       "_model_module": "@jupyter-widgets/controls",
       "_model_module_version": "1.5.0",
       "_model_name": "DescriptionStyleModel",
       "_view_count": null,
       "_view_module": "@jupyter-widgets/base",
       "_view_module_version": "1.2.0",
       "_view_name": "StyleView",
       "description_width": ""
      }
     },
     "6b57fd995dbd48a491d50509018c27ca": {
      "model_module": "@jupyter-widgets/base",
      "model_module_version": "1.2.0",
      "model_name": "LayoutModel",
      "state": {
       "_model_module": "@jupyter-widgets/base",
       "_model_module_version": "1.2.0",
       "_model_name": "LayoutModel",
       "_view_count": null,
       "_view_module": "@jupyter-widgets/base",
       "_view_module_version": "1.2.0",
       "_view_name": "LayoutView",
       "align_content": null,
       "align_items": null,
       "align_self": null,
       "border": null,
       "bottom": null,
       "display": null,
       "flex": null,
       "flex_flow": null,
       "grid_area": null,
       "grid_auto_columns": null,
       "grid_auto_flow": null,
       "grid_auto_rows": null,
       "grid_column": null,
       "grid_gap": null,
       "grid_row": null,
       "grid_template_areas": null,
       "grid_template_columns": null,
       "grid_template_rows": null,
       "height": null,
       "justify_content": null,
       "justify_items": null,
       "left": null,
       "margin": null,
       "max_height": null,
       "max_width": null,
       "min_height": null,
       "min_width": null,
       "object_fit": null,
       "object_position": null,
       "order": null,
       "overflow": null,
       "overflow_x": null,
       "overflow_y": null,
       "padding": null,
       "right": null,
       "top": null,
       "visibility": null,
       "width": null
      }
     },
     "6f802dbcbe3b45ca8598729a226d169d": {
      "model_module": "@jupyter-widgets/base",
      "model_module_version": "1.2.0",
      "model_name": "LayoutModel",
      "state": {
       "_model_module": "@jupyter-widgets/base",
       "_model_module_version": "1.2.0",
       "_model_name": "LayoutModel",
       "_view_count": null,
       "_view_module": "@jupyter-widgets/base",
       "_view_module_version": "1.2.0",
       "_view_name": "LayoutView",
       "align_content": null,
       "align_items": null,
       "align_self": null,
       "border": null,
       "bottom": null,
       "display": null,
       "flex": null,
       "flex_flow": null,
       "grid_area": null,
       "grid_auto_columns": null,
       "grid_auto_flow": null,
       "grid_auto_rows": null,
       "grid_column": null,
       "grid_gap": null,
       "grid_row": null,
       "grid_template_areas": null,
       "grid_template_columns": null,
       "grid_template_rows": null,
       "height": null,
       "justify_content": null,
       "justify_items": null,
       "left": null,
       "margin": null,
       "max_height": null,
       "max_width": null,
       "min_height": null,
       "min_width": null,
       "object_fit": null,
       "object_position": null,
       "order": null,
       "overflow": null,
       "overflow_x": null,
       "overflow_y": null,
       "padding": null,
       "right": null,
       "top": null,
       "visibility": null,
       "width": null
      }
     },
     "74a29c920469447b91873186a253b138": {
      "model_module": "@jupyter-widgets/base",
      "model_module_version": "1.2.0",
      "model_name": "LayoutModel",
      "state": {
       "_model_module": "@jupyter-widgets/base",
       "_model_module_version": "1.2.0",
       "_model_name": "LayoutModel",
       "_view_count": null,
       "_view_module": "@jupyter-widgets/base",
       "_view_module_version": "1.2.0",
       "_view_name": "LayoutView",
       "align_content": null,
       "align_items": null,
       "align_self": null,
       "border": null,
       "bottom": null,
       "display": null,
       "flex": null,
       "flex_flow": null,
       "grid_area": null,
       "grid_auto_columns": null,
       "grid_auto_flow": null,
       "grid_auto_rows": null,
       "grid_column": null,
       "grid_gap": null,
       "grid_row": null,
       "grid_template_areas": null,
       "grid_template_columns": null,
       "grid_template_rows": null,
       "height": null,
       "justify_content": null,
       "justify_items": null,
       "left": null,
       "margin": null,
       "max_height": null,
       "max_width": null,
       "min_height": null,
       "min_width": null,
       "object_fit": null,
       "object_position": null,
       "order": null,
       "overflow": null,
       "overflow_x": null,
       "overflow_y": null,
       "padding": null,
       "right": null,
       "top": null,
       "visibility": null,
       "width": null
      }
     },
     "7885ca2910fb4bf09176f4a412aca4b0": {
      "model_module": "@jupyter-widgets/controls",
      "model_module_version": "1.5.0",
      "model_name": "VBoxModel",
      "state": {
       "_dom_classes": [],
       "_model_module": "@jupyter-widgets/controls",
       "_model_module_version": "1.5.0",
       "_model_name": "VBoxModel",
       "_view_count": null,
       "_view_module": "@jupyter-widgets/controls",
       "_view_module_version": "1.5.0",
       "_view_name": "VBoxView",
       "box_style": "",
       "children": [
        "IPY_MODEL_03390fad248b4ef4b61f534efa2324ab",
        "IPY_MODEL_f95e39426e034538ba56bf6a8449545b"
       ],
       "layout": "IPY_MODEL_7f05896538264de4a1c637f270e7cc3b"
      }
     },
     "7baefa02843d49e0827b0d7aee149810": {
      "model_module": "@jupyter-widgets/controls",
      "model_module_version": "1.5.0",
      "model_name": "VBoxModel",
      "state": {
       "_dom_classes": [
        "widget-interact"
       ],
       "_model_module": "@jupyter-widgets/controls",
       "_model_module_version": "1.5.0",
       "_model_name": "VBoxModel",
       "_view_count": null,
       "_view_module": "@jupyter-widgets/controls",
       "_view_module_version": "1.5.0",
       "_view_name": "VBoxView",
       "box_style": "",
       "children": [
        "IPY_MODEL_85a725b640484581a1bf4224ce3fc3e8",
        "IPY_MODEL_0cc57303821b454d9444cd015154e209"
       ],
       "layout": "IPY_MODEL_31ce3def9529490ebcc5c854d93f7532"
      }
     },
     "7f05896538264de4a1c637f270e7cc3b": {
      "model_module": "@jupyter-widgets/base",
      "model_module_version": "1.2.0",
      "model_name": "LayoutModel",
      "state": {
       "_model_module": "@jupyter-widgets/base",
       "_model_module_version": "1.2.0",
       "_model_name": "LayoutModel",
       "_view_count": null,
       "_view_module": "@jupyter-widgets/base",
       "_view_module_version": "1.2.0",
       "_view_name": "LayoutView",
       "align_content": null,
       "align_items": null,
       "align_self": null,
       "border": null,
       "bottom": null,
       "display": null,
       "flex": null,
       "flex_flow": null,
       "grid_area": null,
       "grid_auto_columns": null,
       "grid_auto_flow": null,
       "grid_auto_rows": null,
       "grid_column": null,
       "grid_gap": null,
       "grid_row": null,
       "grid_template_areas": null,
       "grid_template_columns": null,
       "grid_template_rows": null,
       "height": null,
       "justify_content": null,
       "justify_items": null,
       "left": null,
       "margin": null,
       "max_height": null,
       "max_width": null,
       "min_height": null,
       "min_width": null,
       "object_fit": null,
       "object_position": null,
       "order": null,
       "overflow": null,
       "overflow_x": null,
       "overflow_y": null,
       "padding": null,
       "right": null,
       "top": null,
       "visibility": null,
       "width": null
      }
     },
     "7f5fca72d8284c669caf6b6443921b25": {
      "model_module": "@jupyter-widgets/base",
      "model_module_version": "1.2.0",
      "model_name": "LayoutModel",
      "state": {
       "_model_module": "@jupyter-widgets/base",
       "_model_module_version": "1.2.0",
       "_model_name": "LayoutModel",
       "_view_count": null,
       "_view_module": "@jupyter-widgets/base",
       "_view_module_version": "1.2.0",
       "_view_name": "LayoutView",
       "align_content": null,
       "align_items": null,
       "align_self": null,
       "border": null,
       "bottom": null,
       "display": null,
       "flex": null,
       "flex_flow": null,
       "grid_area": null,
       "grid_auto_columns": null,
       "grid_auto_flow": null,
       "grid_auto_rows": null,
       "grid_column": null,
       "grid_gap": null,
       "grid_row": null,
       "grid_template_areas": null,
       "grid_template_columns": null,
       "grid_template_rows": null,
       "height": null,
       "justify_content": null,
       "justify_items": null,
       "left": null,
       "margin": "0px 8px 0px 0px",
       "max_height": null,
       "max_width": null,
       "min_height": null,
       "min_width": null,
       "object_fit": null,
       "object_position": null,
       "order": null,
       "overflow": null,
       "overflow_x": null,
       "overflow_y": null,
       "padding": "0px",
       "right": null,
       "top": null,
       "visibility": null,
       "width": "50%"
      }
     },
     "822e6ca70b634d24b1e3bd4c13b63ba0": {
      "model_module": "@jupyter-widgets/controls",
      "model_module_version": "1.5.0",
      "model_name": "ButtonStyleModel",
      "state": {
       "_model_module": "@jupyter-widgets/controls",
       "_model_module_version": "1.5.0",
       "_model_name": "ButtonStyleModel",
       "_view_count": null,
       "_view_module": "@jupyter-widgets/base",
       "_view_module_version": "1.2.0",
       "_view_name": "StyleView",
       "button_color": null,
       "font_weight": ""
      }
     },
     "85a725b640484581a1bf4224ce3fc3e8": {
      "model_module": "@jupyter-widgets/controls",
      "model_module_version": "1.5.0",
      "model_name": "DropdownModel",
      "state": {
       "_dom_classes": [],
       "_model_module": "@jupyter-widgets/controls",
       "_model_module_version": "1.5.0",
       "_model_name": "DropdownModel",
       "_options_labels": [
        "Angola",
        "Albania",
        "Argentina",
        "Armenia",
        "Australia",
        "Austria",
        "Azerbaijan",
        "Burundi",
        "Belgium",
        "Benin",
        "Burkina Faso",
        "Bangladesh",
        "Bulgaria",
        "Bosnia and Herzegovina",
        "Belarus",
        "Belize",
        "Bolivia",
        "Brazil",
        "Bhutan",
        "Botswana",
        "Central African Republic",
        "Canada",
        "Switzerland",
        "Chile",
        "China",
        "Cote d'Ivoire",
        "Cameroon",
        "Congo, Dem. Rep.",
        "Congo, Rep.",
        "Colombia",
        "Comoros",
        "Cape Verde",
        "Costa Rica",
        "Czech Republic",
        "Germany",
        "Djibouti",
        "Denmark",
        "Dominican Republic",
        "Algeria",
        "Ecuador",
        "Egypt",
        "Spain",
        "Estonia",
        "Ethiopia",
        "Finland",
        "Fiji",
        "France",
        "Micronesia, Fed. Sts.",
        "Gabon",
        "United Kingdom",
        "Georgia",
        "Ghana",
        "Guinea",
        "Gambia",
        "Guinea-Bissau",
        "Greece",
        "Guatemala",
        "Guyana",
        "Honduras",
        "Croatia",
        "Haiti",
        "Hungary",
        "Indonesia",
        "India",
        "Ireland",
        "Iran",
        "Iraq",
        "Israel",
        "Italy",
        "Jamaica",
        "Jordan",
        "Japan",
        "Kazakhstan",
        "Kenya",
        "Kyrgyz Republic",
        "Cambodia",
        "Lao",
        "Liberia",
        "St. Lucia",
        "Sri Lanka",
        "Lesotho",
        "Lithuania",
        "Latvia",
        "Morocco",
        "Moldova",
        "Madagascar",
        "Maldives",
        "Mexico",
        "North Macedonia",
        "Mali",
        "Montenegro",
        "Mozambique",
        "Mauritania",
        "Malawi",
        "Malaysia",
        "Namibia",
        "Niger",
        "Nigeria",
        "Nicaragua",
        "Netherlands",
        "Norway",
        "Nepal",
        "Pakistan",
        "Panama",
        "Peru",
        "Philippines",
        "Papua New Guinea",
        "Poland",
        "Paraguay",
        "Palestine",
        "Romania",
        "Russia",
        "Rwanda",
        "Sudan",
        "Senegal",
        "Sierra Leone",
        "El Salvador",
        "Serbia",
        "Sao Tome and Principe",
        "Suriname",
        "Slovak Republic",
        "Slovenia",
        "Sweden",
        "Swaziland",
        "Seychelles",
        "Syria",
        "Chad",
        "Togo",
        "Thailand",
        "Tajikistan",
        "Turkmenistan",
        "Timor-Leste",
        "Trinidad and Tobago",
        "Tunisia",
        "Turkey",
        "Tanzania",
        "Uganda",
        "Ukraine",
        "Uruguay",
        "United States",
        "Venezuela",
        "Vietnam",
        "Yemen",
        "South Africa",
        "Zambia"
       ],
       "_view_count": null,
       "_view_module": "@jupyter-widgets/controls",
       "_view_module_version": "1.5.0",
       "_view_name": "DropdownView",
       "description": "country",
       "description_tooltip": null,
       "disabled": false,
       "index": 0,
       "layout": "IPY_MODEL_c66ba742a2ff4033b130bc9f079ba6df",
       "style": "IPY_MODEL_59860e72ca09425da4073f2ef8dae851"
      }
     },
     "89bc4d54f5ed49118013c44d42214b18": {
      "model_module": "@jupyter-widgets/controls",
      "model_module_version": "1.5.0",
      "model_name": "VBoxModel",
      "state": {
       "_dom_classes": [
        "widget-interact"
       ],
       "_model_module": "@jupyter-widgets/controls",
       "_model_module_version": "1.5.0",
       "_model_name": "VBoxModel",
       "_view_count": null,
       "_view_module": "@jupyter-widgets/controls",
       "_view_module_version": "1.5.0",
       "_view_name": "VBoxView",
       "box_style": "",
       "children": [
        "IPY_MODEL_c3c86fd612194e38b3e359722a904ae5",
        "IPY_MODEL_2d1f0145407546bf9bad973cdb5cea06"
       ],
       "layout": "IPY_MODEL_4fd4a20f645a41a5b0d5d6266ecd7cc5"
      }
     },
     "8c6716a2da274a46828ec4ce8074621e": {
      "model_module": "@jupyter-widgets/controls",
      "model_module_version": "1.5.0",
      "model_name": "DescriptionStyleModel",
      "state": {
       "_model_module": "@jupyter-widgets/controls",
       "_model_module_version": "1.5.0",
       "_model_name": "DescriptionStyleModel",
       "_view_count": null,
       "_view_module": "@jupyter-widgets/base",
       "_view_module_version": "1.2.0",
       "_view_name": "StyleView",
       "description_width": ""
      }
     },
     "8d3ff0526a9a4838b778861e7dd57c5a": {
      "model_module": "@jupyter-widgets/controls",
      "model_module_version": "1.5.0",
      "model_name": "AccordionModel",
      "state": {
       "_dom_classes": [],
       "_model_module": "@jupyter-widgets/controls",
       "_model_module_version": "1.5.0",
       "_model_name": "AccordionModel",
       "_titles": {
        "0": "  Feedback Form"
       },
       "_view_count": null,
       "_view_module": "@jupyter-widgets/controls",
       "_view_module_version": "1.5.0",
       "_view_name": "AccordionView",
       "box_style": "",
       "children": [
        "IPY_MODEL_15630bd17c694354939cf2091cc738d1"
       ],
       "layout": "IPY_MODEL_1784f10bf94049deb1f0f9daefa297e5",
       "selected_index": 0
      }
     },
     "90d66effe534422a8c23973676d0bc66": {
      "model_module": "@jupyter-widgets/controls",
      "model_module_version": "1.5.0",
      "model_name": "DropdownModel",
      "state": {
       "_dom_classes": [],
       "_model_module": "@jupyter-widgets/controls",
       "_model_module_version": "1.5.0",
       "_model_name": "DropdownModel",
       "_options_labels": [
        "",
        "Extremely useful",
        "Very useful",
        "Somewhat useful",
        "Slightly useful",
        "Not at all useful"
       ],
       "_view_count": null,
       "_view_module": "@jupyter-widgets/controls",
       "_view_module_version": "1.5.0",
       "_view_name": "DropdownView",
       "description": "",
       "description_tooltip": null,
       "disabled": false,
       "index": 0,
       "layout": "IPY_MODEL_5f7cd1b69b7e4456a65a0bb728830af0",
       "style": "IPY_MODEL_8c6716a2da274a46828ec4ce8074621e"
      }
     },
     "952d8f5ff699490183e4771b935bae86": {
      "model_module": "@jupyter-widgets/base",
      "model_module_version": "1.2.0",
      "model_name": "LayoutModel",
      "state": {
       "_model_module": "@jupyter-widgets/base",
       "_model_module_version": "1.2.0",
       "_model_name": "LayoutModel",
       "_view_count": null,
       "_view_module": "@jupyter-widgets/base",
       "_view_module_version": "1.2.0",
       "_view_name": "LayoutView",
       "align_content": null,
       "align_items": "center",
       "align_self": null,
       "border": null,
       "bottom": null,
       "display": null,
       "flex": null,
       "flex_flow": null,
       "grid_area": null,
       "grid_auto_columns": null,
       "grid_auto_flow": null,
       "grid_auto_rows": null,
       "grid_column": null,
       "grid_gap": null,
       "grid_row": null,
       "grid_template_areas": null,
       "grid_template_columns": null,
       "grid_template_rows": null,
       "height": null,
       "justify_content": null,
       "justify_items": null,
       "left": null,
       "margin": null,
       "max_height": null,
       "max_width": null,
       "min_height": null,
       "min_width": null,
       "object_fit": null,
       "object_position": null,
       "order": null,
       "overflow": null,
       "overflow_x": null,
       "overflow_y": null,
       "padding": null,
       "right": null,
       "top": null,
       "visibility": null,
       "width": null
      }
     },
     "9db641128a1a4bf28025d9eaaccc87b0": {
      "model_module": "@jupyter-widgets/base",
      "model_module_version": "1.2.0",
      "model_name": "LayoutModel",
      "state": {
       "_model_module": "@jupyter-widgets/base",
       "_model_module_version": "1.2.0",
       "_model_name": "LayoutModel",
       "_view_count": null,
       "_view_module": "@jupyter-widgets/base",
       "_view_module_version": "1.2.0",
       "_view_name": "LayoutView",
       "align_content": null,
       "align_items": "center",
       "align_self": null,
       "border": null,
       "bottom": null,
       "display": null,
       "flex": null,
       "flex_flow": null,
       "grid_area": null,
       "grid_auto_columns": null,
       "grid_auto_flow": null,
       "grid_auto_rows": null,
       "grid_column": null,
       "grid_gap": null,
       "grid_row": null,
       "grid_template_areas": null,
       "grid_template_columns": null,
       "grid_template_rows": null,
       "height": null,
       "justify_content": null,
       "justify_items": null,
       "left": null,
       "margin": null,
       "max_height": null,
       "max_width": null,
       "min_height": null,
       "min_width": null,
       "object_fit": null,
       "object_position": null,
       "order": null,
       "overflow": null,
       "overflow_x": null,
       "overflow_y": null,
       "padding": null,
       "right": null,
       "top": null,
       "visibility": null,
       "width": null
      }
     },
     "9ffa3e5747544a3c80300071703f2cc0": {
      "model_module": "@jupyter-widgets/base",
      "model_module_version": "1.2.0",
      "model_name": "LayoutModel",
      "state": {
       "_model_module": "@jupyter-widgets/base",
       "_model_module_version": "1.2.0",
       "_model_name": "LayoutModel",
       "_view_count": null,
       "_view_module": "@jupyter-widgets/base",
       "_view_module_version": "1.2.0",
       "_view_name": "LayoutView",
       "align_content": null,
       "align_items": null,
       "align_self": null,
       "border": null,
       "bottom": null,
       "display": null,
       "flex": null,
       "flex_flow": null,
       "grid_area": null,
       "grid_auto_columns": null,
       "grid_auto_flow": null,
       "grid_auto_rows": null,
       "grid_column": null,
       "grid_gap": null,
       "grid_row": null,
       "grid_template_areas": null,
       "grid_template_columns": null,
       "grid_template_rows": null,
       "height": null,
       "justify_content": null,
       "justify_items": null,
       "left": null,
       "margin": null,
       "max_height": null,
       "max_width": null,
       "min_height": null,
       "min_width": null,
       "object_fit": null,
       "object_position": null,
       "order": null,
       "overflow": null,
       "overflow_x": null,
       "overflow_y": null,
       "padding": null,
       "right": null,
       "top": null,
       "visibility": null,
       "width": null
      }
     },
     "a505cb23f7f042b895a71882ec95398a": {
      "model_module": "@jupyter-widgets/base",
      "model_module_version": "1.2.0",
      "model_name": "LayoutModel",
      "state": {
       "_model_module": "@jupyter-widgets/base",
       "_model_module_version": "1.2.0",
       "_model_name": "LayoutModel",
       "_view_count": null,
       "_view_module": "@jupyter-widgets/base",
       "_view_module_version": "1.2.0",
       "_view_name": "LayoutView",
       "align_content": null,
       "align_items": null,
       "align_self": null,
       "border": null,
       "bottom": null,
       "display": null,
       "flex": null,
       "flex_flow": null,
       "grid_area": null,
       "grid_auto_columns": null,
       "grid_auto_flow": null,
       "grid_auto_rows": null,
       "grid_column": null,
       "grid_gap": null,
       "grid_row": null,
       "grid_template_areas": null,
       "grid_template_columns": null,
       "grid_template_rows": null,
       "height": null,
       "justify_content": null,
       "justify_items": null,
       "left": null,
       "margin": null,
       "max_height": null,
       "max_width": null,
       "min_height": null,
       "min_width": null,
       "object_fit": null,
       "object_position": null,
       "order": null,
       "overflow": null,
       "overflow_x": null,
       "overflow_y": null,
       "padding": null,
       "right": null,
       "top": null,
       "visibility": null,
       "width": null
      }
     },
     "a527ce47f7844749926a3dd0f7bf3a5c": {
      "model_module": "@jupyter-widgets/controls",
      "model_module_version": "1.5.0",
      "model_name": "DropdownModel",
      "state": {
       "_dom_classes": [],
       "_model_module": "@jupyter-widgets/controls",
       "_model_module_version": "1.5.0",
       "_model_name": "DropdownModel",
       "_options_labels": [
        "",
        "Extremely useful",
        "Very useful",
        "Somewhat useful",
        "Slightly useful",
        "Not at all useful"
       ],
       "_view_count": null,
       "_view_module": "@jupyter-widgets/controls",
       "_view_module_version": "1.5.0",
       "_view_name": "DropdownView",
       "description": "",
       "description_tooltip": null,
       "disabled": false,
       "index": 0,
       "layout": "IPY_MODEL_6b57fd995dbd48a491d50509018c27ca",
       "style": "IPY_MODEL_5118292e0a434cb790782fb6eaae46a4"
      }
     },
     "a5608bbbcdad491d8a776a008f2f71d4": {
      "model_module": "@jupyter-widgets/controls",
      "model_module_version": "1.5.0",
      "model_name": "LabelModel",
      "state": {
       "_dom_classes": [],
       "_model_module": "@jupyter-widgets/controls",
       "_model_module_version": "1.5.0",
       "_model_name": "LabelModel",
       "_view_count": null,
       "_view_module": "@jupyter-widgets/controls",
       "_view_module_version": "1.5.0",
       "_view_name": "LabelView",
       "description": "",
       "description_tooltip": null,
       "layout": "IPY_MODEL_9ffa3e5747544a3c80300071703f2cc0",
       "placeholder": "​",
       "style": "IPY_MODEL_57f01798611a407baebb105f8fc818b0",
       "value": "Any other feedback?"
      }
     },
     "aa21d0e079004413ae44f949dc9c7445": {
      "model_module": "@jupyter-widgets/controls",
      "model_module_version": "1.5.0",
      "model_name": "DescriptionStyleModel",
      "state": {
       "_model_module": "@jupyter-widgets/controls",
       "_model_module_version": "1.5.0",
       "_model_name": "DescriptionStyleModel",
       "_view_count": null,
       "_view_module": "@jupyter-widgets/base",
       "_view_module_version": "1.2.0",
       "_view_name": "StyleView",
       "description_width": ""
      }
     },
     "aa47081eb30744f18d783f70714c12a0": {
      "model_module": "@jupyter-widgets/controls",
      "model_module_version": "1.5.0",
      "model_name": "DescriptionStyleModel",
      "state": {
       "_model_module": "@jupyter-widgets/controls",
       "_model_module_version": "1.5.0",
       "_model_name": "DescriptionStyleModel",
       "_view_count": null,
       "_view_module": "@jupyter-widgets/base",
       "_view_module_version": "1.2.0",
       "_view_name": "StyleView",
       "description_width": ""
      }
     },
     "ac313afe9bae4874b6c4a2d971c0aefd": {
      "model_module": "@jupyter-widgets/controls",
      "model_module_version": "1.5.0",
      "model_name": "TextModel",
      "state": {
       "_dom_classes": [],
       "_model_module": "@jupyter-widgets/controls",
       "_model_module_version": "1.5.0",
       "_model_name": "TextModel",
       "_view_count": null,
       "_view_module": "@jupyter-widgets/controls",
       "_view_module_version": "1.5.0",
       "_view_name": "TextView",
       "continuous_update": true,
       "description": "",
       "description_tooltip": null,
       "disabled": false,
       "layout": "IPY_MODEL_1e7fd1e07a4e4315a9013db1783829fb",
       "placeholder": "Press enter to submit.",
       "style": "IPY_MODEL_aa47081eb30744f18d783f70714c12a0",
       "value": ""
      }
     },
     "c134ba7d8da644fbaf786d9e7dfabbb7": {
      "model_module": "@jupyter-widgets/base",
      "model_module_version": "1.2.0",
      "model_name": "LayoutModel",
      "state": {
       "_model_module": "@jupyter-widgets/base",
       "_model_module_version": "1.2.0",
       "_model_name": "LayoutModel",
       "_view_count": null,
       "_view_module": "@jupyter-widgets/base",
       "_view_module_version": "1.2.0",
       "_view_name": "LayoutView",
       "align_content": null,
       "align_items": null,
       "align_self": null,
       "border": null,
       "bottom": null,
       "display": null,
       "flex": null,
       "flex_flow": null,
       "grid_area": null,
       "grid_auto_columns": null,
       "grid_auto_flow": null,
       "grid_auto_rows": null,
       "grid_column": null,
       "grid_gap": null,
       "grid_row": null,
       "grid_template_areas": null,
       "grid_template_columns": null,
       "grid_template_rows": null,
       "height": null,
       "justify_content": null,
       "justify_items": null,
       "left": null,
       "margin": null,
       "max_height": null,
       "max_width": null,
       "min_height": null,
       "min_width": null,
       "object_fit": null,
       "object_position": null,
       "order": null,
       "overflow": null,
       "overflow_x": null,
       "overflow_y": null,
       "padding": null,
       "right": null,
       "top": null,
       "visibility": null,
       "width": null
      }
     },
     "c1f2554aba8d4303ae635651236542d5": {
      "model_module": "@jupyter-widgets/base",
      "model_module_version": "1.2.0",
      "model_name": "LayoutModel",
      "state": {
       "_model_module": "@jupyter-widgets/base",
       "_model_module_version": "1.2.0",
       "_model_name": "LayoutModel",
       "_view_count": null,
       "_view_module": "@jupyter-widgets/base",
       "_view_module_version": "1.2.0",
       "_view_name": "LayoutView",
       "align_content": null,
       "align_items": null,
       "align_self": null,
       "border": null,
       "bottom": null,
       "display": null,
       "flex": null,
       "flex_flow": null,
       "grid_area": null,
       "grid_auto_columns": null,
       "grid_auto_flow": null,
       "grid_auto_rows": null,
       "grid_column": null,
       "grid_gap": null,
       "grid_row": null,
       "grid_template_areas": null,
       "grid_template_columns": null,
       "grid_template_rows": null,
       "height": null,
       "justify_content": null,
       "justify_items": null,
       "left": null,
       "margin": null,
       "max_height": null,
       "max_width": null,
       "min_height": null,
       "min_width": null,
       "object_fit": null,
       "object_position": null,
       "order": null,
       "overflow": null,
       "overflow_x": null,
       "overflow_y": null,
       "padding": null,
       "right": null,
       "top": null,
       "visibility": null,
       "width": null
      }
     },
     "c3c86fd612194e38b3e359722a904ae5": {
      "model_module": "@jupyter-widgets/controls",
      "model_module_version": "1.5.0",
      "model_name": "IntSliderModel",
      "state": {
       "_dom_classes": [],
       "_model_module": "@jupyter-widgets/controls",
       "_model_module_version": "1.5.0",
       "_model_name": "IntSliderModel",
       "_view_count": null,
       "_view_module": "@jupyter-widgets/controls",
       "_view_module_version": "1.5.0",
       "_view_name": "IntSliderView",
       "continuous_update": true,
       "description": "year",
       "description_tooltip": null,
       "disabled": false,
       "layout": "IPY_MODEL_6f802dbcbe3b45ca8598729a226d169d",
       "max": 2020,
       "min": 1960,
       "orientation": "horizontal",
       "readout": true,
       "readout_format": "d",
       "step": 1,
       "style": "IPY_MODEL_3b999c1881c546479b0739a95b1fbaa2",
       "value": 1960
      }
     },
     "c66ba742a2ff4033b130bc9f079ba6df": {
      "model_module": "@jupyter-widgets/base",
      "model_module_version": "1.2.0",
      "model_name": "LayoutModel",
      "state": {
       "_model_module": "@jupyter-widgets/base",
       "_model_module_version": "1.2.0",
       "_model_name": "LayoutModel",
       "_view_count": null,
       "_view_module": "@jupyter-widgets/base",
       "_view_module_version": "1.2.0",
       "_view_name": "LayoutView",
       "align_content": null,
       "align_items": null,
       "align_self": null,
       "border": null,
       "bottom": null,
       "display": null,
       "flex": null,
       "flex_flow": null,
       "grid_area": null,
       "grid_auto_columns": null,
       "grid_auto_flow": null,
       "grid_auto_rows": null,
       "grid_column": null,
       "grid_gap": null,
       "grid_row": null,
       "grid_template_areas": null,
       "grid_template_columns": null,
       "grid_template_rows": null,
       "height": null,
       "justify_content": null,
       "justify_items": null,
       "left": null,
       "margin": null,
       "max_height": null,
       "max_width": null,
       "min_height": null,
       "min_width": null,
       "object_fit": null,
       "object_position": null,
       "order": null,
       "overflow": null,
       "overflow_x": null,
       "overflow_y": null,
       "padding": null,
       "right": null,
       "top": null,
       "visibility": null,
       "width": null
      }
     },
     "ccef468e90f94143bb1880224ca9fd0b": {
      "model_module": "@jupyter-widgets/base",
      "model_module_version": "1.2.0",
      "model_name": "LayoutModel",
      "state": {
       "_model_module": "@jupyter-widgets/base",
       "_model_module_version": "1.2.0",
       "_model_name": "LayoutModel",
       "_view_count": null,
       "_view_module": "@jupyter-widgets/base",
       "_view_module_version": "1.2.0",
       "_view_name": "LayoutView",
       "align_content": null,
       "align_items": null,
       "align_self": null,
       "border": null,
       "bottom": null,
       "display": null,
       "flex": null,
       "flex_flow": null,
       "grid_area": null,
       "grid_auto_columns": null,
       "grid_auto_flow": null,
       "grid_auto_rows": null,
       "grid_column": null,
       "grid_gap": null,
       "grid_row": null,
       "grid_template_areas": null,
       "grid_template_columns": null,
       "grid_template_rows": null,
       "height": null,
       "justify_content": null,
       "justify_items": null,
       "left": null,
       "margin": null,
       "max_height": null,
       "max_width": null,
       "min_height": null,
       "min_width": null,
       "object_fit": null,
       "object_position": null,
       "order": null,
       "overflow": null,
       "overflow_x": null,
       "overflow_y": null,
       "padding": null,
       "right": null,
       "top": null,
       "visibility": null,
       "width": null
      }
     },
     "cf9e4c65171b40099d6d13f781b11c3f": {
      "model_module": "@jupyter-widgets/base",
      "model_module_version": "1.2.0",
      "model_name": "LayoutModel",
      "state": {
       "_model_module": "@jupyter-widgets/base",
       "_model_module_version": "1.2.0",
       "_model_name": "LayoutModel",
       "_view_count": null,
       "_view_module": "@jupyter-widgets/base",
       "_view_module_version": "1.2.0",
       "_view_name": "LayoutView",
       "align_content": null,
       "align_items": null,
       "align_self": null,
       "border": null,
       "bottom": null,
       "display": null,
       "flex": null,
       "flex_flow": null,
       "grid_area": null,
       "grid_auto_columns": null,
       "grid_auto_flow": null,
       "grid_auto_rows": null,
       "grid_column": null,
       "grid_gap": null,
       "grid_row": null,
       "grid_template_areas": null,
       "grid_template_columns": null,
       "grid_template_rows": null,
       "height": null,
       "justify_content": null,
       "justify_items": null,
       "left": null,
       "margin": null,
       "max_height": null,
       "max_width": null,
       "min_height": null,
       "min_width": null,
       "object_fit": null,
       "object_position": null,
       "order": null,
       "overflow": null,
       "overflow_x": null,
       "overflow_y": null,
       "padding": null,
       "right": null,
       "top": null,
       "visibility": null,
       "width": null
      }
     },
     "d964ba3b989b4951bbb9bb546978b84a": {
      "model_module": "@jupyter-widgets/controls",
      "model_module_version": "1.5.0",
      "model_name": "VBoxModel",
      "state": {
       "_dom_classes": [],
       "_model_module": "@jupyter-widgets/controls",
       "_model_module_version": "1.5.0",
       "_model_name": "VBoxModel",
       "_view_count": null,
       "_view_module": "@jupyter-widgets/controls",
       "_view_module_version": "1.5.0",
       "_view_name": "VBoxView",
       "box_style": "",
       "children": [
        "IPY_MODEL_663fa25a32c6448a904aecd43f0d1ea0",
        "IPY_MODEL_a527ce47f7844749926a3dd0f7bf3a5c"
       ],
       "layout": "IPY_MODEL_c134ba7d8da644fbaf786d9e7dfabbb7"
      }
     },
     "dc6a63fbd52e449a9b081502f5170e0b": {
      "model_module": "@jupyter-widgets/controls",
      "model_module_version": "1.5.0",
      "model_name": "LabelModel",
      "state": {
       "_dom_classes": [],
       "_model_module": "@jupyter-widgets/controls",
       "_model_module_version": "1.5.0",
       "_model_name": "LabelModel",
       "_view_count": null,
       "_view_module": "@jupyter-widgets/controls",
       "_view_module_version": "1.5.0",
       "_view_name": "LabelView",
       "description": "",
       "description_tooltip": null,
       "layout": "IPY_MODEL_44502fdf6c824c0daed65c0fcb541bad",
       "placeholder": "​",
       "style": "IPY_MODEL_aa21d0e079004413ae44f949dc9c7445",
       "value": "Any other feedback?"
      }
     },
     "e475aa99c943404e9ef9278402f9efdb": {
      "model_module": "@jupyter-widgets/base",
      "model_module_version": "1.2.0",
      "model_name": "LayoutModel",
      "state": {
       "_model_module": "@jupyter-widgets/base",
       "_model_module_version": "1.2.0",
       "_model_name": "LayoutModel",
       "_view_count": null,
       "_view_module": "@jupyter-widgets/base",
       "_view_module_version": "1.2.0",
       "_view_name": "LayoutView",
       "align_content": null,
       "align_items": null,
       "align_self": null,
       "border": null,
       "bottom": null,
       "display": null,
       "flex": null,
       "flex_flow": null,
       "grid_area": null,
       "grid_auto_columns": null,
       "grid_auto_flow": null,
       "grid_auto_rows": null,
       "grid_column": null,
       "grid_gap": null,
       "grid_row": null,
       "grid_template_areas": null,
       "grid_template_columns": null,
       "grid_template_rows": null,
       "height": null,
       "justify_content": null,
       "justify_items": null,
       "left": null,
       "margin": null,
       "max_height": null,
       "max_width": null,
       "min_height": null,
       "min_width": "80px",
       "object_fit": null,
       "object_position": null,
       "order": null,
       "overflow": null,
       "overflow_x": null,
       "overflow_y": null,
       "padding": null,
       "right": null,
       "top": null,
       "visibility": null,
       "width": "10%"
      }
     },
     "ec7f0623795b4164ba4f57c4a40440fd": {
      "model_module": "@jupyter-widgets/controls",
      "model_module_version": "1.5.0",
      "model_name": "LabelModel",
      "state": {
       "_dom_classes": [],
       "_model_module": "@jupyter-widgets/controls",
       "_model_module_version": "1.5.0",
       "_model_name": "LabelModel",
       "_view_count": null,
       "_view_module": "@jupyter-widgets/controls",
       "_view_module_version": "1.5.0",
       "_view_name": "LabelView",
       "description": "",
       "description_tooltip": null,
       "layout": "IPY_MODEL_39b2424ce98b4137a73e03aacdfceb08",
       "placeholder": "​",
       "style": "IPY_MODEL_6aecee72cba84b6e8acc2272b3daee06",
       "value": "Was the message you saw useful?"
      }
     },
     "f4853a1c95f44f2a89570d92d67ccd12": {
      "model_module": "@jupyter-widgets/controls",
      "model_module_version": "1.5.0",
      "model_name": "DescriptionStyleModel",
      "state": {
       "_model_module": "@jupyter-widgets/controls",
       "_model_module_version": "1.5.0",
       "_model_name": "DescriptionStyleModel",
       "_view_count": null,
       "_view_module": "@jupyter-widgets/base",
       "_view_module_version": "1.2.0",
       "_view_name": "StyleView",
       "description_width": ""
      }
     },
     "f95e39426e034538ba56bf6a8449545b": {
      "model_module": "@jupyter-widgets/controls",
      "model_module_version": "1.5.0",
      "model_name": "VBoxModel",
      "state": {
       "_dom_classes": [],
       "_model_module": "@jupyter-widgets/controls",
       "_model_module_version": "1.5.0",
       "_model_name": "VBoxModel",
       "_view_count": null,
       "_view_module": "@jupyter-widgets/controls",
       "_view_module_version": "1.5.0",
       "_view_name": "VBoxView",
       "box_style": "",
       "children": [
        "IPY_MODEL_dc6a63fbd52e449a9b081502f5170e0b",
        "IPY_MODEL_f9b4258d034449f6b3514826c77a854d"
       ],
       "layout": "IPY_MODEL_74a29c920469447b91873186a253b138"
      }
     },
     "f9b4258d034449f6b3514826c77a854d": {
      "model_module": "@jupyter-widgets/controls",
      "model_module_version": "1.5.0",
      "model_name": "HBoxModel",
      "state": {
       "_dom_classes": [],
       "_model_module": "@jupyter-widgets/controls",
       "_model_module_version": "1.5.0",
       "_model_name": "HBoxModel",
       "_view_count": null,
       "_view_module": "@jupyter-widgets/controls",
       "_view_module_version": "1.5.0",
       "_view_name": "HBoxView",
       "box_style": "",
       "children": [
        "IPY_MODEL_ac313afe9bae4874b6c4a2d971c0aefd",
        "IPY_MODEL_306a6db53a4b4bfc8ac79a40f7503cce"
       ],
       "layout": "IPY_MODEL_952d8f5ff699490183e4771b935bae86"
      }
     },
     "fbdeb5f60d9642a6aa6377a02c4d2f78": {
      "model_module": "@jupyter-widgets/controls",
      "model_module_version": "1.5.0",
      "model_name": "VBoxModel",
      "state": {
       "_dom_classes": [],
       "_model_module": "@jupyter-widgets/controls",
       "_model_module_version": "1.5.0",
       "_model_name": "VBoxModel",
       "_view_count": null,
       "_view_module": "@jupyter-widgets/controls",
       "_view_module_version": "1.5.0",
       "_view_name": "VBoxView",
       "box_style": "",
       "children": [
        "IPY_MODEL_a5608bbbcdad491d8a776a008f2f71d4",
        "IPY_MODEL_2e52c64a5d7c4414accea616fc31f27f"
       ],
       "layout": "IPY_MODEL_c1f2554aba8d4303ae635651236542d5"
      }
     }
    },
    "version_major": 2,
    "version_minor": 0
   }
  }
 },
 "nbformat": 4,
 "nbformat_minor": 5
}
